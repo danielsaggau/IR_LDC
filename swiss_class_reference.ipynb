{
  "nbformat": 4,
  "nbformat_minor": 0,
  "metadata": {
    "colab": {
      "provenance": [],
      "machine_shape": "hm",
      "authorship_tag": "ABX9TyOqadGwXsB2ZvK3VQaoC7ai",
      "include_colab_link": true
    },
    "kernelspec": {
      "name": "python3",
      "display_name": "Python 3"
    },
    "language_info": {
      "name": "python"
    },
    "accelerator": "GPU",
    "gpuClass": "premium"
  },
  "cells": [
    {
      "cell_type": "markdown",
      "metadata": {
        "id": "view-in-github",
        "colab_type": "text"
      },
      "source": [
        "<a href=\"https://colab.research.google.com/github/danielsaggau/IR_LDC/blob/main/swiss_class_reference.ipynb\" target=\"_parent\"><img src=\"https://colab.research.google.com/assets/colab-badge.svg\" alt=\"Open In Colab\"/></a>"
      ]
    },
    {
      "cell_type": "code",
      "source": [
        "!pip install transformers datasets"
      ],
      "metadata": {
        "id": "p157A74oqB2P"
      },
      "execution_count": null,
      "outputs": []
    },
    {
      "cell_type": "code",
      "execution_count": null,
      "metadata": {
        "id": "b3ZGEepcklrb"
      },
      "outputs": [],
      "source": [
        "from datasets import load_dataset\n",
        "from transformers import AutoTokenizer\n",
        "from transformers import DataCollatorWithPadding\n",
        "from transformers import AutoModelForSequenceClassification\n",
        "import numpy as np\n",
        "from datasets import load_metric\n",
        "from transformers import set_seed\n",
        "set_seed(42)\n",
        "dataset = load_dataset(\"swiss_judgment_prediction\", \"de\")\n",
        "tokenizer = AutoTokenizer.from_pretrained(\"nlpaueb/legal-bert-base-uncased\")\n",
        "\n",
        "def tokenize_function(examples):\n",
        "    return tokenizer(examples[\"text\"], truncation=True)\n",
        "\n",
        "tokenized_datasets = dataset.map(tokenize_function, batched=True)\n",
        "train_dataset = tokenized_datasets[\"train\"].shuffle(seed=42)\n",
        "eval_dataset = tokenized_datasets[\"validation\"].shuffle(seed=42)\n",
        "data_collator = DataCollatorWithPadding(tokenizer=tokenizer)\n",
        "model = AutoModelForSequenceClassification.from_pretrained(\"nlpaueb/legal-bert-base-uncased\", num_labels=2)"
      ]
    },
    {
      "cell_type": "code",
      "source": [
        "#metric with huggingface\n",
        "#def compute_metrics(eval_pred):\n",
        "#    load_f1 = load_metric(\"f1\") # use evaluate.load(\"f1\")\n",
        "#    logits, labels = eval_pred\n",
        "#    predictions = np.argmax(logits, axis=-1)\n",
        "#    f1 = load_f1.compute(predictions=predictions, references=labels)[\"f1\"]\n",
        "#    return { \"f1\": f1}\n",
        "#\n",
        "#from transformers import TrainingArguments, Trainer, EarlyStoppingCallback\n",
        "#repo_name = \"Direct_v1\""
      ],
      "metadata": {
        "id": "47cB4w8oIrtY"
      },
      "execution_count": null,
      "outputs": []
    },
    {
      "cell_type": "code",
      "source": [
        "  # sklearn implementation \n",
        "from sklearn.metrics import f1_score\n",
        "from transformers import EvalPrediction \n",
        "def compute_metrics(p: EvalPrediction):\n",
        "        logits = p.predictions[0] if isinstance(p.predictions, tuple) else p.predictions\n",
        "        preds = np.argmax(logits, axis=1)\n",
        "        macro_f1 = f1_score(y_true=p.label_ids, y_pred=preds, average='macro', zero_division=0)\n",
        "        micro_f1 = f1_score(y_true=p.label_ids, y_pred=preds, average='micro', zero_division=0)\n",
        "        return {'macro-f1': macro_f1, 'micro-f1': micro_f1}"
      ],
      "metadata": {
        "id": "A6mfToxiIS9n"
      },
      "execution_count": 11,
      "outputs": []
    },
    {
      "cell_type": "code",
      "source": [
        "training_args = TrainingArguments(\n",
        "    output_dir=repo_name,\n",
        "    learning_rate=3e-5,\n",
        "    per_device_train_batch_size=6,\n",
        "    per_device_eval_batch_size=6,\n",
        "    num_train_epochs=20,\n",
        "    weight_decay=0.01,\n",
        "    save_strategy=\"epoch\",\n",
        "    evaluation_strategy ='epoch',\n",
        "    push_to_hub=False,\n",
        "    save_total_limit = 5,\n",
        "    metric_for_best_model=\"f1\",    \n",
        "    greater_is_better = 1\n",
        ")\n",
        "# reference hyperparameters \n",
        "#        --metric_for_best_model micro-f1 \\\n",
        "#        --greater_is_better 1 \\\n",
        "#        --evaluation_strategy  epoch \\\n",
        "#        --save_strategy epoch \\\n",
        "#        --save_total_limit  5 \\\n",
        "#        --num_train_epochs  20 \\\n",
        "#        --learning_rate 3e-5 \\\n",
        "#        --per_device_train_batch_size 6 \\\n",
        "#        --per_device_eval_batch_size  6 \\\n",
        "#        --fp16 \\\n",
        "#        --fp16_full_eval \\\n",
        "#        --max_seq_length  4096"
      ],
      "metadata": {
        "id": "TGK4ClwIxIkV",
        "colab": {
          "base_uri": "https://localhost:8080/"
        },
        "outputId": "7885a9e1-7bc8-4ff3-f6ff-13ef87cffc10"
      },
      "execution_count": 5,
      "outputs": [
        {
          "output_type": "stream",
          "name": "stderr",
          "text": [
            "PyTorch: setting up devices\n",
            "The default value for the training argument `--report_to` will change in v5 (from all installed integrations to none). In v5, you will need to use `--report_to all` to get the same behavior as now. You should start updating your code and make this info disappear :-).\n"
          ]
        }
      ]
    },
    {
      "cell_type": "code",
      "source": [
        "trainer = Trainer(\n",
        "    model=model,\n",
        "    args=training_args,\n",
        "    train_dataset=train_dataset,\n",
        "    eval_dataset=eval_dataset,\n",
        "    tokenizer=tokenizer,\n",
        "    data_collator=data_collator,\n",
        "    compute_metrics=compute_metrics,)\n",
        "\n",
        "trainer.train()"
      ],
      "metadata": {
        "id": "6Ce2-95zrlD-"
      },
      "execution_count": null,
      "outputs": []
    },
    {
      "cell_type": "code",
      "source": [],
      "metadata": {
        "id": "Ugv3sRfFtmUQ"
      },
      "execution_count": null,
      "outputs": []
    }
  ]
}