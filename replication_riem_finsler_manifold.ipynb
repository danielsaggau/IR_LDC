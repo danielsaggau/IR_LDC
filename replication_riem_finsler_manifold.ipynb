{
  "nbformat": 4,
  "nbformat_minor": 0,
  "metadata": {
    "colab": {
      "name": "Untitled42.ipynb",
      "provenance": [],
      "collapsed_sections": [],
      "mount_file_id": "14K07IKV_q--RDcLKP-ddMJ5s7R2AVVU2",
      "authorship_tag": "ABX9TyNvjVxvzF07shwjO6zAMdMW",
      "include_colab_link": true
    },
    "kernelspec": {
      "name": "python3",
      "display_name": "Python 3"
    },
    "language_info": {
      "name": "python"
    },
    "accelerator": "GPU",
    "gpuClass": "standard"
  },
  "cells": [
    {
      "cell_type": "markdown",
      "metadata": {
        "id": "view-in-github",
        "colab_type": "text"
      },
      "source": [
        "<a href=\"https://colab.research.google.com/github/danielsaggau/IR_LDC/blob/main/replication_riem_finsler_manifold.ipynb\" target=\"_parent\"><img src=\"https://colab.research.google.com/assets/colab-badge.svg\" alt=\"Open In Colab\"/></a>"
      ]
    },
    {
      "cell_type": "code",
      "execution_count": 1,
      "metadata": {
        "colab": {
          "base_uri": "https://localhost:8080/"
        },
        "id": "P0hy0xGAPS5v",
        "outputId": "eb6b2609-2625-47fc-b8be-bd510b43b579"
      },
      "outputs": [
        {
          "output_type": "stream",
          "name": "stdout",
          "text": [
            "Cloning into 'sympa'...\n",
            "remote: Enumerating objects: 1069, done.\u001b[K\n",
            "remote: Counting objects: 100% (247/247), done.\u001b[K\n",
            "remote: Compressing objects: 100% (48/48), done.\u001b[K\n",
            "remote: Total 1069 (delta 220), reused 199 (delta 199), pack-reused 822\u001b[K\n",
            "Receiving objects: 100% (1069/1069), 6.78 MiB | 5.33 MiB/s, done.\n",
            "Resolving deltas: 100% (725/725), done.\n"
          ]
        }
      ],
      "source": [
        "!git clone https://github.com/fedelopez77/sympa.git"
      ]
    },
    {
      "cell_type": "code",
      "source": [
        "!pip install networkx"
      ],
      "metadata": {
        "colab": {
          "base_uri": "https://localhost:8080/"
        },
        "id": "9ZeNpCa1SM0u",
        "outputId": "b56ed49b-ff37-4f0a-f3be-8f9491a983ab"
      },
      "execution_count": 3,
      "outputs": [
        {
          "output_type": "stream",
          "name": "stdout",
          "text": [
            "Looking in indexes: https://pypi.org/simple, https://us-python.pkg.dev/colab-wheels/public/simple/\n",
            "Requirement already satisfied: networkx in /usr/local/lib/python3.7/dist-packages (2.6.3)\n"
          ]
        }
      ]
    },
    {
      "cell_type": "code",
      "source": [
        "!pip install git+https://github.com/geoopt/geoopt.git"
      ],
      "metadata": {
        "id": "tq4qYzQ7Se7R"
      },
      "execution_count": null,
      "outputs": []
    },
    {
      "cell_type": "code",
      "source": [
        "!pip install git+https://github.com/networkit/networkit.git"
      ],
      "metadata": {
        "colab": {
          "base_uri": "https://localhost:8080/"
        },
        "id": "SA4II0KRPsx4",
        "outputId": "bdb080ff-f405-4dd3-9bda-f9bd76472bd7"
      },
      "execution_count": 6,
      "outputs": [
        {
          "output_type": "stream",
          "name": "stdout",
          "text": [
            "Looking in indexes: https://pypi.org/simple, https://us-python.pkg.dev/colab-wheels/public/simple/\n",
            "Collecting git+https://github.com/networkit/networkit.git\n",
            "  Cloning https://github.com/networkit/networkit.git to /tmp/pip-req-build-3pdnx5bd\n",
            "  Running command git clone -q https://github.com/networkit/networkit.git /tmp/pip-req-build-3pdnx5bd\n",
            "  Running command git submodule update --init --recursive -q\n",
            "Requirement already satisfied: scipy in /usr/local/lib/python3.7/dist-packages (from networkit==10.0) (1.7.3)\n",
            "Requirement already satisfied: numpy in /usr/local/lib/python3.7/dist-packages (from networkit==10.0) (1.21.6)\n",
            "Building wheels for collected packages: networkit\n",
            "  Building wheel for networkit (setup.py) ... \u001b[?25l\u001b[?25hdone\n",
            "  Created wheel for networkit: filename=networkit-10.0-cp37-cp37m-linux_x86_64.whl size=8188778 sha256=9801cfb63f2096185b7357513c97eabb28333b59a036324b28e47f319684763f\n",
            "  Stored in directory: /tmp/pip-ephem-wheel-cache-0mp5nzuo/wheels/0f/9e/6a/7bbe7af76ad74c4202f7f790295f53807bff20ae76cb0d16c1\n",
            "Successfully built networkit\n",
            "Installing collected packages: networkit\n",
            "Successfully installed networkit-10.0\n"
          ]
        }
      ]
    },
    {
      "cell_type": "code",
      "source": [
        "!pip install XiTorch"
      ],
      "metadata": {
        "colab": {
          "base_uri": "https://localhost:8080/"
        },
        "id": "EZOa_kMfbFKG",
        "outputId": "a69edbc7-19b1-4340-e434-eeb95e4a3538"
      },
      "execution_count": 56,
      "outputs": [
        {
          "output_type": "stream",
          "name": "stdout",
          "text": [
            "Looking in indexes: https://pypi.org/simple, https://us-python.pkg.dev/colab-wheels/public/simple/\n",
            "Collecting XiTorch\n",
            "  Downloading xitorch-0.3.0-py3-none-any.whl (117 kB)\n",
            "\u001b[K     |████████████████████████████████| 117 kB 35.7 MB/s \n",
            "\u001b[?25hRequirement already satisfied: scipy>=1.1.0 in /usr/local/lib/python3.7/dist-packages (from XiTorch) (1.7.3)\n",
            "Requirement already satisfied: numpy>=1.8.2 in /usr/local/lib/python3.7/dist-packages (from XiTorch) (1.21.6)\n",
            "Requirement already satisfied: torch>=1.8 in /usr/local/lib/python3.7/dist-packages (from XiTorch) (1.12.1+cu113)\n",
            "Requirement already satisfied: typing-extensions in /usr/local/lib/python3.7/dist-packages (from torch>=1.8->XiTorch) (4.1.1)\n",
            "Installing collected packages: XiTorch\n",
            "Successfully installed XiTorch-0.3.0\n"
          ]
        }
      ]
    },
    {
      "cell_type": "code",
      "source": [
        "%cd /content/sympa"
      ],
      "metadata": {
        "colab": {
          "base_uri": "https://localhost:8080/"
        },
        "id": "3Y9d6rhpPYU7",
        "outputId": "7e1c9159-5eb7-462a-98f1-d1cb2da26791"
      },
      "execution_count": 8,
      "outputs": [
        {
          "output_type": "stream",
          "name": "stdout",
          "text": [
            "/content/sympa\n"
          ]
        }
      ]
    },
    {
      "cell_type": "code",
      "source": [
        "!python preprocess.py --graph=grid --grid_dims=3 --nodes=27  --run_id=1 --plot_graph"
      ],
      "metadata": {
        "colab": {
          "base_uri": "https://localhost:8080/"
        },
        "id": "NZZAaTC0PeR4",
        "outputId": "fbf4cdd5-06a5-4324-b61b-3a78b47cb05d"
      },
      "execution_count": 27,
      "outputs": [
        {
          "output_type": "stream",
          "name": "stdout",
          "text": [
            "08/25/2022 14:18:13 Building graph: grid\n",
            "08/25/2022 14:18:13 Graph named 'grid3d_27' with 27 nodes and 54 edges\n",
            "08/25/2022 14:18:13 Plotting graph\n",
            "08/25/2022 14:18:13 Saving graph plot to data/1/grid3d_27.png\n",
            "08/25/2022 14:18:13 Building triplets for 27 nodes\n",
            "08/25/2022 14:18:13 Total triplets: 351\n",
            "08/25/2022 14:18:13 Saving to data/1/preprocessed-data.pt\n"
          ]
        }
      ]
    },
    {
      "cell_type": "code",
      "source": [
        "!python preprocess.py --graph=tree --tree_branching=2 --tree_height=2 --run_id=12 --plot_graph"
      ],
      "metadata": {
        "colab": {
          "base_uri": "https://localhost:8080/"
        },
        "id": "lCn5k_tuRv-Z",
        "outputId": "768e261f-0ea4-4c42-a6ea-4f184723e6dd"
      },
      "execution_count": 29,
      "outputs": [
        {
          "output_type": "stream",
          "name": "stdout",
          "text": [
            "08/25/2022 14:19:09 Building graph: tree\n",
            "08/25/2022 14:19:09 Graph named 'tree_branch2_height2' with 7 nodes and 6 edges\n",
            "08/25/2022 14:19:09 Plotting graph\n",
            "08/25/2022 14:19:09 Saving graph plot to data/12/tree_branch2_height2.png\n",
            "08/25/2022 14:19:09 Building triplets for 7 nodes\n",
            "08/25/2022 14:19:09 Total triplets: 21\n",
            "08/25/2022 14:19:09 Saving to data/12/preprocessed-data.pt\n"
          ]
        }
      ]
    },
    {
      "cell_type": "code",
      "source": [
        "!python preprocess.py --graph=product-cartesian --grid_dims=3 --nodes=127 --tree_branching=28 --tree_height=8 --run_id=r23 --plot_graph"
      ],
      "metadata": {
        "colab": {
          "base_uri": "https://localhost:8080/"
        },
        "id": "WqJwclk2R10q",
        "outputId": "f5f96cfb-a253-463e-85b0-a562d9be1f9c"
      },
      "execution_count": 43,
      "outputs": [
        {
          "output_type": "stream",
          "name": "stdout",
          "text": [
            "08/25/2022 14:28:20 Building graph: product-cartesian\n",
            "tcmalloc: large alloc 3526151987200 bytes == 0x7c1750f6a000 @  0x7f4d064141e7 0x4a3940 0x5a732d 0x5a9cf4 0x594a96 0x515600 0x549576 0x593fce 0x5118f8 0x549576 0x593fce 0x5118f8 0x549576 0x593fce 0x548ae9 0x5127f1 0x549576 0x593fce 0x548ae9 0x51566f 0x593dd7 0x5118f8 0x593dd7 0x5118f8 0x549576 0x604173 0x5f5506 0x5f8c6c 0x5f9206 0x64faf2 0x64fc4e\n",
            "^C\n"
          ]
        }
      ]
    },
    {
      "cell_type": "code",
      "source": [
        "!pip install tensorboardX"
      ],
      "metadata": {
        "colab": {
          "base_uri": "https://localhost:8080/"
        },
        "id": "un2B0Z5jWhuI",
        "outputId": "4d88d110-883c-4026-bd14-4aa6fb9a25af"
      },
      "execution_count": 21,
      "outputs": [
        {
          "output_type": "stream",
          "name": "stdout",
          "text": [
            "Looking in indexes: https://pypi.org/simple, https://us-python.pkg.dev/colab-wheels/public/simple/\n",
            "Collecting tensorboardX\n",
            "  Downloading tensorboardX-2.5.1-py2.py3-none-any.whl (125 kB)\n",
            "\u001b[K     |████████████████████████████████| 125 kB 17.0 MB/s \n",
            "\u001b[?25hRequirement already satisfied: protobuf<=3.20.1,>=3.8.0 in /usr/local/lib/python3.7/dist-packages (from tensorboardX) (3.17.3)\n",
            "Requirement already satisfied: numpy in /usr/local/lib/python3.7/dist-packages (from tensorboardX) (1.21.6)\n",
            "Requirement already satisfied: six>=1.9 in /usr/local/lib/python3.7/dist-packages (from protobuf<=3.20.1,>=3.8.0->tensorboardX) (1.15.0)\n",
            "Installing collected packages: tensorboardX\n",
            "Successfully installed tensorboardX-2.5.1\n"
          ]
        }
      ]
    },
    {
      "cell_type": "code",
      "source": [
        "!pip install tqdm"
      ],
      "metadata": {
        "colab": {
          "base_uri": "https://localhost:8080/"
        },
        "id": "9QmnSooRaIFu",
        "outputId": "592024e8-90e9-49ca-8540-432d1eb85217"
      },
      "execution_count": 45,
      "outputs": [
        {
          "output_type": "stream",
          "name": "stdout",
          "text": [
            "Looking in indexes: https://pypi.org/simple, https://us-python.pkg.dev/colab-wheels/public/simple/\n",
            "Requirement already satisfied: tqdm in /usr/local/lib/python3.7/dist-packages (4.64.0)\n"
          ]
        }
      ]
    },
    {
      "cell_type": "code",
      "source": [
        "import torch"
      ],
      "metadata": {
        "id": "Tn1NSf1DaUmb"
      },
      "execution_count": 54,
      "outputs": []
    },
    {
      "cell_type": "code",
      "source": [
        "!python -m torch.distributed.launch --nproc_per_node=1 --master_port=2055 train.py \\\\\n",
        "            --n_procs=1 \\\\\n",
        "            --data=data/r23 \\\\\n",
        "            --run_id=1234\\\\\n",
        "            --results_file=out/results.csv \\\\\n",
        "            --metric=riem \\\\\n",
        "            --dims=4 \\\\\n",
        "            --learning_rate=1e-2 \\\\\n",
        "            --val_every=25 \\\\\n",
        "            --patience=50 \\\\\n",
        "            --max_grad_norm=100 \\\\\n",
        "            --batch_size=2048 \\\\\n",
        "            --epochs=10 \\\\"
      ],
      "metadata": {
        "colab": {
          "base_uri": "https://localhost:8080/"
        },
        "id": "JC0FQmyEWE_x",
        "outputId": "33d3ca5f-092b-4d84-f0f1-0b7f775ffda2"
      },
      "execution_count": 74,
      "outputs": [
        {
          "output_type": "stream",
          "name": "stdout",
          "text": [
            "/usr/local/lib/python3.7/dist-packages/torch/distributed/launch.py:186: FutureWarning: The module torch.distributed.launch is deprecated\n",
            "and will be removed in future. Use torchrun.\n",
            "Note that --use_env is set by default in torchrun.\n",
            "If your script expects `--local_rank` argument to be set, please\n",
            "change it to read from `os.environ['LOCAL_RANK']` instead. See \n",
            "https://pytorch.org/docs/stable/distributed.html#launch-utility for \n",
            "further instructions\n",
            "\n",
            "  FutureWarning,\n",
            "usage: train.py [-h] --data DATA --run_id RUN_ID [--manifold MANIFOLD]\n",
            "                [--metric METRIC] [--dims DIMS] [--scale_init SCALE_INIT]\n",
            "                [--scale_coef SCALE_COEF] [--train_scale] [--optim OPTIM]\n",
            "                [--learning_rate LEARNING_RATE]\n",
            "                [--reduce_factor REDUCE_FACTOR] [--weight_decay WEIGHT_DECAY]\n",
            "                [--val_every VAL_EVERY] [--patience PATIENCE]\n",
            "                [--max_grad_norm MAX_GRAD_NORM] [--batch_size BATCH_SIZE]\n",
            "                [--epochs EPOCHS] [--burnin BURNIN]\n",
            "                [--grad_accum_steps GRAD_ACCUM_STEPS] [--scale_triplets]\n",
            "                [--subsample SUBSAMPLE] [--local_rank LOCAL_RANK]\n",
            "                [--job_id JOB_ID] [--n_procs N_PROCS]\n",
            "                [--load_model LOAD_MODEL] [--results_file RESULTS_FILE]\n",
            "                [--save_epochs SAVE_EPOCHS] [--seed SEED] [--debug]\n",
            "train.py: error: unrecognized arguments:                       \\\n",
            "ERROR:torch.distributed.elastic.multiprocessing.api:failed (exitcode: 2) local_rank: 0 (pid: 6628) of binary: /usr/bin/python3\n",
            "Traceback (most recent call last):\n",
            "  File \"/usr/lib/python3.7/runpy.py\", line 193, in _run_module_as_main\n",
            "    \"__main__\", mod_spec)\n",
            "  File \"/usr/lib/python3.7/runpy.py\", line 85, in _run_code\n",
            "    exec(code, run_globals)\n",
            "  File \"/usr/local/lib/python3.7/dist-packages/torch/distributed/launch.py\", line 193, in <module>\n",
            "    main()\n",
            "  File \"/usr/local/lib/python3.7/dist-packages/torch/distributed/launch.py\", line 189, in main\n",
            "    launch(args)\n",
            "  File \"/usr/local/lib/python3.7/dist-packages/torch/distributed/launch.py\", line 174, in launch\n",
            "    run(args)\n",
            "  File \"/usr/local/lib/python3.7/dist-packages/torch/distributed/run.py\", line 755, in run\n",
            "    )(*cmd_args)\n",
            "  File \"/usr/local/lib/python3.7/dist-packages/torch/distributed/launcher/api.py\", line 131, in __call__\n",
            "    return launch_agent(self._config, self._entrypoint, list(args))\n",
            "  File \"/usr/local/lib/python3.7/dist-packages/torch/distributed/launcher/api.py\", line 247, in launch_agent\n",
            "    failures=result.failures,\n",
            "torch.distributed.elastic.multiprocessing.errors.ChildFailedError: \n",
            "============================================================\n",
            "train.py FAILED\n",
            "------------------------------------------------------------\n",
            "Failures:\n",
            "  <NO_OTHER_FAILURES>\n",
            "------------------------------------------------------------\n",
            "Root Cause (first observed failure):\n",
            "[0]:\n",
            "  time      : 2022-08-25_14:47:57\n",
            "  host      : 0026eae7a44e\n",
            "  rank      : 0 (local_rank: 0)\n",
            "  exitcode  : 2 (pid: 6628)\n",
            "  error_file: <N/A>\n",
            "  traceback : To enable traceback see: https://pytorch.org/docs/stable/elastic/errors.html\n",
            "============================================================\n"
          ]
        }
      ]
    },
    {
      "cell_type": "code",
      "source": [
        "!python preprocess.py --graph=social-karate --run_id=1244 --plot_graph"
      ],
      "metadata": {
        "colab": {
          "base_uri": "https://localhost:8080/"
        },
        "id": "G9ij7Z1tW7ev",
        "outputId": "4e9a5501-2333-48c8-a710-c43198386ac8"
      },
      "execution_count": 59,
      "outputs": [
        {
          "output_type": "stream",
          "name": "stdout",
          "text": [
            "08/25/2022 14:36:16 Building graph: social-karate\n",
            "08/25/2022 14:36:16 Graph named 'social-karate' with 34 nodes and 78 edges\n",
            "08/25/2022 14:36:16 Plotting graph\n",
            "08/25/2022 14:36:16 Saving graph plot to data/1244/social-karate.png\n",
            "08/25/2022 14:36:17 Building triplets for 34 nodes\n",
            "08/25/2022 14:36:17 Total triplets: 561\n",
            "08/25/2022 14:36:17 Saving to data/1244/preprocessed-data.pt\n"
          ]
        }
      ]
    },
    {
      "cell_type": "code",
      "source": [
        "!python preprocess.py --graph=expander-margulis --nodes=9 --run_id=1D --plot_graph"
      ],
      "metadata": {
        "colab": {
          "base_uri": "https://localhost:8080/"
        },
        "id": "YCNpwTMPcLmQ",
        "outputId": "cf83d1d4-e3a7-4a58-8a23-c7d6cd248e80"
      },
      "execution_count": 72,
      "outputs": [
        {
          "output_type": "stream",
          "name": "stdout",
          "text": [
            "08/25/2022 14:44:52 Building graph: expander-margulis\n",
            "08/25/2022 14:44:52 MultiGraph named 'expander-margulis-9' with 81 nodes and 324 edges\n",
            "08/25/2022 14:44:52 Plotting graph\n",
            "08/25/2022 14:44:52 Saving graph plot to data/1D/expander-margulis-9.png\n",
            "08/25/2022 14:44:53 Building triplets for 81 nodes\n",
            "08/25/2022 14:44:53 Total triplets: 3240\n",
            "08/25/2022 14:44:53 Saving to data/1D/preprocessed-data.pt\n"
          ]
        }
      ]
    }
  ]
}