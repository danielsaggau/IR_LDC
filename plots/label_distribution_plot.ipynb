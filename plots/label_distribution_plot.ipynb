{
  "nbformat": 4,
  "nbformat_minor": 0,
  "metadata": {
    "colab": {
      "provenance": [],
      "authorship_tag": "ABX9TyMUBrK1STGwyStia4bW2mEZ",
      "include_colab_link": true
    },
    "kernelspec": {
      "name": "python3",
      "display_name": "Python 3"
    },
    "language_info": {
      "name": "python"
    }
  },
  "cells": [
    {
      "cell_type": "markdown",
      "metadata": {
        "id": "view-in-github",
        "colab_type": "text"
      },
      "source": [
        "<a href=\"https://colab.research.google.com/github/danielsaggau/IR_LDC/blob/main/plots/label_distribution_plot.ipynb\" target=\"_parent\"><img src=\"https://colab.research.google.com/assets/colab-badge.svg\" alt=\"Open In Colab\"/></a>"
      ]
    },
    {
      "cell_type": "code",
      "execution_count": null,
      "metadata": {
        "id": "Tr4179ICBir9"
      },
      "outputs": [],
      "source": [
        "!pip install datasets\n",
        "from datasets import load_dataset\n",
        "scotus=load_dataset(\"lex_glue\",'scotus')"
      ]
    },
    {
      "cell_type": "code",
      "source": [
        "ecthr=load_dataset(\"lex_glue\",'ecthr_b')"
      ],
      "metadata": {
        "id": "HoaQEZjeS0ae"
      },
      "execution_count": null,
      "outputs": []
    },
    {
      "cell_type": "code",
      "source": [
        "import matplotlib.pyplot as plt\n",
        "import pandas as pd\n",
        "import seaborn as sns"
      ],
      "metadata": {
        "id": "_up8TtegEsOx"
      },
      "execution_count": null,
      "outputs": []
    },
    {
      "cell_type": "code",
      "source": [
        "ecthr_train=pd.DataFrame(ecthr['train'])\n",
        "text = ecthr_train['text']\n",
        "ecthr_train['length'] = text.str.len()"
      ],
      "metadata": {
        "id": "7CxL2dXxXk03"
      },
      "execution_count": null,
      "outputs": []
    },
    {
      "cell_type": "code",
      "source": [
        "ecthr_train['text']"
      ],
      "metadata": {
        "id": "JidYYPNEX4SP",
        "outputId": "f0ecd2de-a463-4d1a-a586-f72b872a4ba6",
        "colab": {
          "base_uri": "https://localhost:8080/"
        }
      },
      "execution_count": 23,
      "outputs": [
        {
          "output_type": "execute_result",
          "data": {
            "text/plain": [
              "0       [11.  At the beginning of the events relevant ...\n",
              "1       [9.  The applicant is the monarch of Liechtens...\n",
              "2       [9.  In June 1949 plots of agricultural land o...\n",
              "3       [8.  In 1991 Mr Dušan Slobodník, a research wo...\n",
              "4       [9.  The applicant is an Italian citizen, born...\n",
              "                              ...                        \n",
              "8995    [5.  The applicant was born in 1960 and lives ...\n",
              "8996    [5.  The applicant was born in 1946 and is cur...\n",
              "8997    [5.  The applicants are Russian nationals who,...\n",
              "8998    [8.  In all cases the applicants brought civil...\n",
              "8999    [4.  The applicant was born in 1971 and lives ...\n",
              "Name: text, Length: 9000, dtype: object"
            ]
          },
          "metadata": {},
          "execution_count": 23
        }
      ]
    },
    {
      "cell_type": "code",
      "source": [
        "ecthr_train['text_convert'] = pd.Series(ecthr_train['text'], dtype=\"string\")"
      ],
      "metadata": {
        "id": "CyqajSZ_asb5"
      },
      "execution_count": 25,
      "outputs": []
    },
    {
      "cell_type": "code",
      "source": [
        "ecthr_train['text_convert'].str.len()"
      ],
      "metadata": {
        "colab": {
          "base_uri": "https://localhost:8080/"
        },
        "id": "oFYFWr34azi6",
        "outputId": "ffcb9576-2bfa-4f90-cb48-24cf1cdcaf6b"
      },
      "execution_count": 27,
      "outputs": [
        {
          "output_type": "execute_result",
          "data": {
            "text/plain": [
              "0       40363\n",
              "1       17642\n",
              "2        8338\n",
              "3       23146\n",
              "4        3433\n",
              "        ...  \n",
              "8995    13344\n",
              "8996     4360\n",
              "8997    23529\n",
              "8998     2329\n",
              "8999     1464\n",
              "Name: text_convert, Length: 9000, dtype: Int64"
            ]
          },
          "metadata": {},
          "execution_count": 27
        }
      ]
    },
    {
      "cell_type": "code",
      "source": [
        "text = scotus_train['text']\n",
        "scotus_train['length'] = text.str.len()"
      ],
      "metadata": {
        "id": "EiqaOOwzEyRY"
      },
      "execution_count": null,
      "outputs": []
    },
    {
      "cell_type": "code",
      "source": [
        "scotus_train"
      ],
      "metadata": {
        "colab": {
          "base_uri": "https://localhost:8080/",
          "height": 424
        },
        "id": "SeMBeA2lB9Ls",
        "outputId": "fbc74019-3022-45e9-c54b-4a99cc2d0c68"
      },
      "execution_count": null,
      "outputs": [
        {
          "output_type": "execute_result",
          "data": {
            "text/plain": [
              "                                                   text  label  \\\n",
              "0     329 U.S. 29\\n67 S.Ct. 1\\n91 L.Ed. 22\\nCHAMPLIN...      7   \n",
              "1     329 U.S. 1\\n67 S.Ct. 6\\n91 L.Ed. 3\\nHALLIBURTO...      7   \n",
              "2     329 U.S. 14\\n67 S.Ct. 13\\n91 L.Ed. 12\\nCLEVELA...      0   \n",
              "3     329 U.S. 40\\n67 S.Ct. 167\\n91 L.Ed. 29\\nUNITED...      1   \n",
              "4     329 U.S. 90\\n67 S.Ct. 133\\n91 L.Ed. 103\\nAMERI...      7   \n",
              "...                                                 ...    ...   \n",
              "4995  459 U.S. 176\\n103 S.Ct. 539\\n74 L.Ed.2d 348\\nS...     10   \n",
              "4996  459 U.S. 212\\n103 S.Ct. 588\\n74 L.Ed.2d 402\\nC...      6   \n",
              "4997  459 U.S. 297\\n103 S.Ct. 634\\n74 L.Ed.2d 465\\nD...      7   \n",
              "4998  459 U.S. 248\\n103 S.Ct. 608\\n74 L.Ed.2d 430\\nT...      0   \n",
              "4999  459 U.S. 344\\n103 S.Ct. 665\\n74 L.Ed.2d 523\\nL...      6   \n",
              "\n",
              "                                                 string  length  \\\n",
              "0     329 U.S. 29\n",
              "67 S.Ct. 1\n",
              "91 L.Ed. 22\n",
              "CHAMPLIN RE...   19208   \n",
              "1     329 U.S. 1\n",
              "67 S.Ct. 6\n",
              "91 L.Ed. 3\n",
              "HALLIBURTON O...   24739   \n",
              "2     329 U.S. 14\n",
              "67 S.Ct. 13\n",
              "91 L.Ed. 12\n",
              "CLEVELAND ...   27913   \n",
              "3     329 U.S. 40\n",
              "67 S.Ct. 167\n",
              "91 L.Ed. 29\n",
              "UNITED ST...   48792   \n",
              "4     329 U.S. 90\n",
              "67 S.Ct. 133\n",
              "91 L.Ed. 103\n",
              "AMERICAN...   68994   \n",
              "...                                                 ...     ...   \n",
              "4995  459 U.S. 176\n",
              "103 S.Ct. 539\n",
              "74 L.Ed.2d 348\n",
              "Stat...   45996   \n",
              "4996  459 U.S. 212\n",
              "103 S.Ct. 588\n",
              "74 L.Ed.2d 402\n",
              "Char...   82070   \n",
              "4997  459 U.S. 297\n",
              "103 S.Ct. 634\n",
              "74 L.Ed.2d 465\n",
              "DIRE...  109365   \n",
              "4998  459 U.S. 248\n",
              "103 S.Ct. 608\n",
              "74 L.Ed.2d 430\n",
              "The ...  109330   \n",
              "4999  459 U.S. 344\n",
              "103 S.Ct. 665\n",
              "74 L.Ed.2d 523\n",
              "Larr...   29220   \n",
              "\n",
              "                                                  clean  \n",
              "0      U.S. \\n S.Ct. \\n L.Ed. \\nCHAMPLIN REFINING CO...  \n",
              "1      U.S. \\n S.Ct. \\n L.Ed. \\nHALLIBURTON OIL WELL...  \n",
              "2      U.S. \\n S.Ct. \\n L.Ed. \\nCLEVELAND et al.v.UN...  \n",
              "3      U.S. \\n S.Ct. \\n L.Ed. \\nUNITED STATESv.ALCEA...  \n",
              "4      U.S. \\n S.Ct. \\n L.Ed. \\nAMERICAN POWER & LIG...  \n",
              "...                                                 ...  \n",
              "4995   U.S. \\n S.Ct. \\n L.Ed.d \\nState of COLORADO, ...  \n",
              "4996   U.S. \\n S.Ct. \\n L.Ed.d \\nCharles V. BOWEN, P...  \n",
              "4997   U.S. \\n S.Ct. \\n L.Ed.d \\nDIRECTOR, OFFICE OF...  \n",
              "4998   U.S. \\n S.Ct. \\n L.Ed.d \\nThe PILLSBURY COMPA...  \n",
              "4999   U.S. \\n S.Ct. \\n L.Ed.d \\nLarry SHEPARD, Peti...  \n",
              "\n",
              "[5000 rows x 5 columns]"
            ],
            "text/html": [
              "\n",
              "  <div id=\"df-b51b0da1-b03c-4c8e-9c17-b0eaea0d60e0\">\n",
              "    <div class=\"colab-df-container\">\n",
              "      <div>\n",
              "<style scoped>\n",
              "    .dataframe tbody tr th:only-of-type {\n",
              "        vertical-align: middle;\n",
              "    }\n",
              "\n",
              "    .dataframe tbody tr th {\n",
              "        vertical-align: top;\n",
              "    }\n",
              "\n",
              "    .dataframe thead th {\n",
              "        text-align: right;\n",
              "    }\n",
              "</style>\n",
              "<table border=\"1\" class=\"dataframe\">\n",
              "  <thead>\n",
              "    <tr style=\"text-align: right;\">\n",
              "      <th></th>\n",
              "      <th>text</th>\n",
              "      <th>label</th>\n",
              "      <th>string</th>\n",
              "      <th>length</th>\n",
              "      <th>clean</th>\n",
              "    </tr>\n",
              "  </thead>\n",
              "  <tbody>\n",
              "    <tr>\n",
              "      <th>0</th>\n",
              "      <td>329 U.S. 29\\n67 S.Ct. 1\\n91 L.Ed. 22\\nCHAMPLIN...</td>\n",
              "      <td>7</td>\n",
              "      <td>329 U.S. 29\n",
              "67 S.Ct. 1\n",
              "91 L.Ed. 22\n",
              "CHAMPLIN RE...</td>\n",
              "      <td>19208</td>\n",
              "      <td>U.S. \\n S.Ct. \\n L.Ed. \\nCHAMPLIN REFINING CO...</td>\n",
              "    </tr>\n",
              "    <tr>\n",
              "      <th>1</th>\n",
              "      <td>329 U.S. 1\\n67 S.Ct. 6\\n91 L.Ed. 3\\nHALLIBURTO...</td>\n",
              "      <td>7</td>\n",
              "      <td>329 U.S. 1\n",
              "67 S.Ct. 6\n",
              "91 L.Ed. 3\n",
              "HALLIBURTON O...</td>\n",
              "      <td>24739</td>\n",
              "      <td>U.S. \\n S.Ct. \\n L.Ed. \\nHALLIBURTON OIL WELL...</td>\n",
              "    </tr>\n",
              "    <tr>\n",
              "      <th>2</th>\n",
              "      <td>329 U.S. 14\\n67 S.Ct. 13\\n91 L.Ed. 12\\nCLEVELA...</td>\n",
              "      <td>0</td>\n",
              "      <td>329 U.S. 14\n",
              "67 S.Ct. 13\n",
              "91 L.Ed. 12\n",
              "CLEVELAND ...</td>\n",
              "      <td>27913</td>\n",
              "      <td>U.S. \\n S.Ct. \\n L.Ed. \\nCLEVELAND et al.v.UN...</td>\n",
              "    </tr>\n",
              "    <tr>\n",
              "      <th>3</th>\n",
              "      <td>329 U.S. 40\\n67 S.Ct. 167\\n91 L.Ed. 29\\nUNITED...</td>\n",
              "      <td>1</td>\n",
              "      <td>329 U.S. 40\n",
              "67 S.Ct. 167\n",
              "91 L.Ed. 29\n",
              "UNITED ST...</td>\n",
              "      <td>48792</td>\n",
              "      <td>U.S. \\n S.Ct. \\n L.Ed. \\nUNITED STATESv.ALCEA...</td>\n",
              "    </tr>\n",
              "    <tr>\n",
              "      <th>4</th>\n",
              "      <td>329 U.S. 90\\n67 S.Ct. 133\\n91 L.Ed. 103\\nAMERI...</td>\n",
              "      <td>7</td>\n",
              "      <td>329 U.S. 90\n",
              "67 S.Ct. 133\n",
              "91 L.Ed. 103\n",
              "AMERICAN...</td>\n",
              "      <td>68994</td>\n",
              "      <td>U.S. \\n S.Ct. \\n L.Ed. \\nAMERICAN POWER &amp; LIG...</td>\n",
              "    </tr>\n",
              "    <tr>\n",
              "      <th>...</th>\n",
              "      <td>...</td>\n",
              "      <td>...</td>\n",
              "      <td>...</td>\n",
              "      <td>...</td>\n",
              "      <td>...</td>\n",
              "    </tr>\n",
              "    <tr>\n",
              "      <th>4995</th>\n",
              "      <td>459 U.S. 176\\n103 S.Ct. 539\\n74 L.Ed.2d 348\\nS...</td>\n",
              "      <td>10</td>\n",
              "      <td>459 U.S. 176\n",
              "103 S.Ct. 539\n",
              "74 L.Ed.2d 348\n",
              "Stat...</td>\n",
              "      <td>45996</td>\n",
              "      <td>U.S. \\n S.Ct. \\n L.Ed.d \\nState of COLORADO, ...</td>\n",
              "    </tr>\n",
              "    <tr>\n",
              "      <th>4996</th>\n",
              "      <td>459 U.S. 212\\n103 S.Ct. 588\\n74 L.Ed.2d 402\\nC...</td>\n",
              "      <td>6</td>\n",
              "      <td>459 U.S. 212\n",
              "103 S.Ct. 588\n",
              "74 L.Ed.2d 402\n",
              "Char...</td>\n",
              "      <td>82070</td>\n",
              "      <td>U.S. \\n S.Ct. \\n L.Ed.d \\nCharles V. BOWEN, P...</td>\n",
              "    </tr>\n",
              "    <tr>\n",
              "      <th>4997</th>\n",
              "      <td>459 U.S. 297\\n103 S.Ct. 634\\n74 L.Ed.2d 465\\nD...</td>\n",
              "      <td>7</td>\n",
              "      <td>459 U.S. 297\n",
              "103 S.Ct. 634\n",
              "74 L.Ed.2d 465\n",
              "DIRE...</td>\n",
              "      <td>109365</td>\n",
              "      <td>U.S. \\n S.Ct. \\n L.Ed.d \\nDIRECTOR, OFFICE OF...</td>\n",
              "    </tr>\n",
              "    <tr>\n",
              "      <th>4998</th>\n",
              "      <td>459 U.S. 248\\n103 S.Ct. 608\\n74 L.Ed.2d 430\\nT...</td>\n",
              "      <td>0</td>\n",
              "      <td>459 U.S. 248\n",
              "103 S.Ct. 608\n",
              "74 L.Ed.2d 430\n",
              "The ...</td>\n",
              "      <td>109330</td>\n",
              "      <td>U.S. \\n S.Ct. \\n L.Ed.d \\nThe PILLSBURY COMPA...</td>\n",
              "    </tr>\n",
              "    <tr>\n",
              "      <th>4999</th>\n",
              "      <td>459 U.S. 344\\n103 S.Ct. 665\\n74 L.Ed.2d 523\\nL...</td>\n",
              "      <td>6</td>\n",
              "      <td>459 U.S. 344\n",
              "103 S.Ct. 665\n",
              "74 L.Ed.2d 523\n",
              "Larr...</td>\n",
              "      <td>29220</td>\n",
              "      <td>U.S. \\n S.Ct. \\n L.Ed.d \\nLarry SHEPARD, Peti...</td>\n",
              "    </tr>\n",
              "  </tbody>\n",
              "</table>\n",
              "<p>5000 rows × 5 columns</p>\n",
              "</div>\n",
              "      <button class=\"colab-df-convert\" onclick=\"convertToInteractive('df-b51b0da1-b03c-4c8e-9c17-b0eaea0d60e0')\"\n",
              "              title=\"Convert this dataframe to an interactive table.\"\n",
              "              style=\"display:none;\">\n",
              "        \n",
              "  <svg xmlns=\"http://www.w3.org/2000/svg\" height=\"24px\"viewBox=\"0 0 24 24\"\n",
              "       width=\"24px\">\n",
              "    <path d=\"M0 0h24v24H0V0z\" fill=\"none\"/>\n",
              "    <path d=\"M18.56 5.44l.94 2.06.94-2.06 2.06-.94-2.06-.94-.94-2.06-.94 2.06-2.06.94zm-11 1L8.5 8.5l.94-2.06 2.06-.94-2.06-.94L8.5 2.5l-.94 2.06-2.06.94zm10 10l.94 2.06.94-2.06 2.06-.94-2.06-.94-.94-2.06-.94 2.06-2.06.94z\"/><path d=\"M17.41 7.96l-1.37-1.37c-.4-.4-.92-.59-1.43-.59-.52 0-1.04.2-1.43.59L10.3 9.45l-7.72 7.72c-.78.78-.78 2.05 0 2.83L4 21.41c.39.39.9.59 1.41.59.51 0 1.02-.2 1.41-.59l7.78-7.78 2.81-2.81c.8-.78.8-2.07 0-2.86zM5.41 20L4 18.59l7.72-7.72 1.47 1.35L5.41 20z\"/>\n",
              "  </svg>\n",
              "      </button>\n",
              "      \n",
              "  <style>\n",
              "    .colab-df-container {\n",
              "      display:flex;\n",
              "      flex-wrap:wrap;\n",
              "      gap: 12px;\n",
              "    }\n",
              "\n",
              "    .colab-df-convert {\n",
              "      background-color: #E8F0FE;\n",
              "      border: none;\n",
              "      border-radius: 50%;\n",
              "      cursor: pointer;\n",
              "      display: none;\n",
              "      fill: #1967D2;\n",
              "      height: 32px;\n",
              "      padding: 0 0 0 0;\n",
              "      width: 32px;\n",
              "    }\n",
              "\n",
              "    .colab-df-convert:hover {\n",
              "      background-color: #E2EBFA;\n",
              "      box-shadow: 0px 1px 2px rgba(60, 64, 67, 0.3), 0px 1px 3px 1px rgba(60, 64, 67, 0.15);\n",
              "      fill: #174EA6;\n",
              "    }\n",
              "\n",
              "    [theme=dark] .colab-df-convert {\n",
              "      background-color: #3B4455;\n",
              "      fill: #D2E3FC;\n",
              "    }\n",
              "\n",
              "    [theme=dark] .colab-df-convert:hover {\n",
              "      background-color: #434B5C;\n",
              "      box-shadow: 0px 1px 3px 1px rgba(0, 0, 0, 0.15);\n",
              "      filter: drop-shadow(0px 1px 2px rgba(0, 0, 0, 0.3));\n",
              "      fill: #FFFFFF;\n",
              "    }\n",
              "  </style>\n",
              "\n",
              "      <script>\n",
              "        const buttonEl =\n",
              "          document.querySelector('#df-b51b0da1-b03c-4c8e-9c17-b0eaea0d60e0 button.colab-df-convert');\n",
              "        buttonEl.style.display =\n",
              "          google.colab.kernel.accessAllowed ? 'block' : 'none';\n",
              "\n",
              "        async function convertToInteractive(key) {\n",
              "          const element = document.querySelector('#df-b51b0da1-b03c-4c8e-9c17-b0eaea0d60e0');\n",
              "          const dataTable =\n",
              "            await google.colab.kernel.invokeFunction('convertToInteractive',\n",
              "                                                     [key], {});\n",
              "          if (!dataTable) return;\n",
              "\n",
              "          const docLinkHtml = 'Like what you see? Visit the ' +\n",
              "            '<a target=\"_blank\" href=https://colab.research.google.com/notebooks/data_table.ipynb>data table notebook</a>'\n",
              "            + ' to learn more about interactive tables.';\n",
              "          element.innerHTML = '';\n",
              "          dataTable['output_type'] = 'display_data';\n",
              "          await google.colab.output.renderOutput(dataTable, element);\n",
              "          const docLink = document.createElement('div');\n",
              "          docLink.innerHTML = docLinkHtml;\n",
              "          element.appendChild(docLink);\n",
              "        }\n",
              "      </script>\n",
              "    </div>\n",
              "  </div>\n",
              "  "
            ]
          },
          "metadata": {},
          "execution_count": 13
        }
      ]
    },
    {
      "cell_type": "code",
      "source": [
        "scotus_train = pd.DataFrame(scotus['train'])\n",
        "#scotus_train.fillna('').astype(str).apply(lambda x:x.str.len()).mean()"
      ],
      "metadata": {
        "id": "WkuMb9xdS9MH"
      },
      "execution_count": null,
      "outputs": []
    },
    {
      "cell_type": "code",
      "source": [
        "scotus_train['clean'] = scotus_train['text'].str.replace('\\d+', '')"
      ],
      "metadata": {
        "id": "FsQxEIIvL5vI"
      },
      "execution_count": null,
      "outputs": []
    },
    {
      "cell_type": "code",
      "source": [
        "ecthr_train['text'].str.len()"
      ],
      "metadata": {
        "colab": {
          "base_uri": "https://localhost:8080/"
        },
        "id": "UThwUu57ZWk8",
        "outputId": "15dd85bd-345a-412d-b92b-19a244e041dc"
      },
      "execution_count": 21,
      "outputs": [
        {
          "output_type": "execute_result",
          "data": {
            "text/plain": [
              "0        83\n",
              "1        13\n",
              "2        12\n",
              "3        34\n",
              "4         5\n",
              "       ... \n",
              "8995     33\n",
              "8996     10\n",
              "8997    102\n",
              "8998      7\n",
              "8999      9\n",
              "Name: text, Length: 9000, dtype: int64"
            ]
          },
          "metadata": {},
          "execution_count": 21
        }
      ]
    },
    {
      "cell_type": "code",
      "source": [
        "#scotus_train.fillna('').astype(str).apply(lambda x:x.str.len()).mean()"
      ],
      "metadata": {
        "id": "4xOJAw7zMBuZ"
      },
      "execution_count": null,
      "outputs": []
    },
    {
      "cell_type": "code",
      "source": [
        "import numpy as np\n",
        "scotus_train['log_length'] = np.log10(scotus_train['length'])\n",
        "ecthr_train['log_length'] = np.log10(ecthr_train['length'])"
      ],
      "metadata": {
        "id": "BFj-SDZXOoH3"
      },
      "execution_count": null,
      "outputs": []
    },
    {
      "cell_type": "code",
      "source": [
        "plt.figure(figsize=(8,6))\n",
        "sns.histplot(x= \"log_length\",data = ecthr_train).set(title='Distribution of Scotus Dataset')\n",
        "sns.histplot(x= \"log_length\",data = scotus_train)\n",
        "plt.savefig(\"scotus_length.jpg\")"
      ],
      "metadata": {
        "colab": {
          "base_uri": "https://localhost:8080/",
          "height": 404
        },
        "id": "jmZDpav5O5YG",
        "outputId": "9f93f0d0-c764-4763-9c84-5a2b71bb2282"
      },
      "execution_count": null,
      "outputs": [
        {
          "output_type": "display_data",
          "data": {
            "text/plain": [
              "<Figure size 576x432 with 1 Axes>"
            ],
            "image/png": "[encoded data removed]"
          },
          "metadata": {
            "needs_background": "light"
          }
        }
      ]
    },
    {
      "cell_type": "markdown",
      "source": [],
      "metadata": {
        "id": "tw4FpyyHLbI4"
      }
    }
  ]
}