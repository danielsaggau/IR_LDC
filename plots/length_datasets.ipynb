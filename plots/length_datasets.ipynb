{
  "nbformat": 4,
  "nbformat_minor": 0,
  "metadata": {
    "colab": {
      "provenance": [],
      "authorship_tag": "ABX9TyNm8yzGhCR5qexoWjnunQqu",
      "include_colab_link": true
    },
    "kernelspec": {
      "name": "python3",
      "display_name": "Python 3"
    },
    "language_info": {
      "name": "python"
    },
    "widgets": {
      "application/vnd.jupyter.widget-state+json": {
        "7a4ead1e487940f2902db44550bbe10b": {
          "model_module": "@jupyter-widgets/controls",
          "model_name": "HBoxModel",
          "model_module_version": "1.5.0",
          "state": {
            "_dom_classes": [],
            "_model_module": "@jupyter-widgets/controls",
            "_model_module_version": "1.5.0",
            "_model_name": "HBoxModel",
            "_view_count": null,
            "_view_module": "@jupyter-widgets/controls",
            "_view_module_version": "1.5.0",
            "_view_name": "HBoxView",
            "box_style": "",
            "children": [
              "IPY_MODEL_bc0c6a7bfa3b4c6fa2889902bbc3acc8",
              "IPY_MODEL_c94c96c5e00a484ab2d5e298c6329003",
              "IPY_MODEL_e12b0e23925341f29f6d28a0dceea663"
            ],
            "layout": "IPY_MODEL_341b3c95bdaa471ca036d02e7dfba90b"
          }
        },
        "bc0c6a7bfa3b4c6fa2889902bbc3acc8": {
          "model_module": "@jupyter-widgets/controls",
          "model_name": "HTMLModel",
          "model_module_version": "1.5.0",
          "state": {
            "_dom_classes": [],
            "_model_module": "@jupyter-widgets/controls",
            "_model_module_version": "1.5.0",
            "_model_name": "HTMLModel",
            "_view_count": null,
            "_view_module": "@jupyter-widgets/controls",
            "_view_module_version": "1.5.0",
            "_view_name": "HTMLView",
            "description": "",
            "description_tooltip": null,
            "layout": "IPY_MODEL_10d0d8e49db148939d43df4a052692ae",
            "placeholder": "​",
            "style": "IPY_MODEL_e3788a6cb81949bea882988ed72077b1",
            "value": "Downloading data files: 100%"
          }
        },
        "c94c96c5e00a484ab2d5e298c6329003": {
          "model_module": "@jupyter-widgets/controls",
          "model_name": "FloatProgressModel",
          "model_module_version": "1.5.0",
          "state": {
            "_dom_classes": [],
            "_model_module": "@jupyter-widgets/controls",
            "_model_module_version": "1.5.0",
            "_model_name": "FloatProgressModel",
            "_view_count": null,
            "_view_module": "@jupyter-widgets/controls",
            "_view_module_version": "1.5.0",
            "_view_name": "ProgressView",
            "bar_style": "success",
            "description": "",
            "description_tooltip": null,
            "layout": "IPY_MODEL_8e2cead17a6441358e701c657ca413ac",
            "max": 4,
            "min": 0,
            "orientation": "horizontal",
            "style": "IPY_MODEL_f8de30eee0b04c8f82b7354f207ecd10",
            "value": 4
          }
        },
        "e12b0e23925341f29f6d28a0dceea663": {
          "model_module": "@jupyter-widgets/controls",
          "model_name": "HTMLModel",
          "model_module_version": "1.5.0",
          "state": {
            "_dom_classes": [],
            "_model_module": "@jupyter-widgets/controls",
            "_model_module_version": "1.5.0",
            "_model_name": "HTMLModel",
            "_view_count": null,
            "_view_module": "@jupyter-widgets/controls",
            "_view_module_version": "1.5.0",
            "_view_name": "HTMLView",
            "description": "",
            "description_tooltip": null,
            "layout": "IPY_MODEL_6954f2eaec904c2db138909e6343234e",
            "placeholder": "​",
            "style": "IPY_MODEL_84f80c9002574d81961386b35a4952c7",
            "value": " 4/4 [00:00&lt;00:00, 92.28it/s]"
          }
        },
        "341b3c95bdaa471ca036d02e7dfba90b": {
          "model_module": "@jupyter-widgets/base",
          "model_name": "LayoutModel",
          "model_module_version": "1.2.0",
          "state": {
            "_model_module": "@jupyter-widgets/base",
            "_model_module_version": "1.2.0",
            "_model_name": "LayoutModel",
            "_view_count": null,
            "_view_module": "@jupyter-widgets/base",
            "_view_module_version": "1.2.0",
            "_view_name": "LayoutView",
            "align_content": null,
            "align_items": null,
            "align_self": null,
            "border": null,
            "bottom": null,
            "display": null,
            "flex": null,
            "flex_flow": null,
            "grid_area": null,
            "grid_auto_columns": null,
            "grid_auto_flow": null,
            "grid_auto_rows": null,
            "grid_column": null,
            "grid_gap": null,
            "grid_row": null,
            "grid_template_areas": null,
            "grid_template_columns": null,
            "grid_template_rows": null,
            "height": null,
            "justify_content": null,
            "justify_items": null,
            "left": null,
            "margin": null,
            "max_height": null,
            "max_width": null,
            "min_height": null,
            "min_width": null,
            "object_fit": null,
            "object_position": null,
            "order": null,
            "overflow": null,
            "overflow_x": null,
            "overflow_y": null,
            "padding": null,
            "right": null,
            "top": null,
            "visibility": null,
            "width": null
          }
        },
        "10d0d8e49db148939d43df4a052692ae": {
          "model_module": "@jupyter-widgets/base",
          "model_name": "LayoutModel",
          "model_module_version": "1.2.0",
          "state": {
            "_model_module": "@jupyter-widgets/base",
            "_model_module_version": "1.2.0",
            "_model_name": "LayoutModel",
            "_view_count": null,
            "_view_module": "@jupyter-widgets/base",
            "_view_module_version": "1.2.0",
            "_view_name": "LayoutView",
            "align_content": null,
            "align_items": null,
            "align_self": null,
            "border": null,
            "bottom": null,
            "display": null,
            "flex": null,
            "flex_flow": null,
            "grid_area": null,
            "grid_auto_columns": null,
            "grid_auto_flow": null,
            "grid_auto_rows": null,
            "grid_column": null,
            "grid_gap": null,
            "grid_row": null,
            "grid_template_areas": null,
            "grid_template_columns": null,
            "grid_template_rows": null,
            "height": null,
            "justify_content": null,
            "justify_items": null,
            "left": null,
            "margin": null,
            "max_height": null,
            "max_width": null,
            "min_height": null,
            "min_width": null,
            "object_fit": null,
            "object_position": null,
            "order": null,
            "overflow": null,
            "overflow_x": null,
            "overflow_y": null,
            "padding": null,
            "right": null,
            "top": null,
            "visibility": null,
            "width": null
          }
        },
        "e3788a6cb81949bea882988ed72077b1": {
          "model_module": "@jupyter-widgets/controls",
          "model_name": "DescriptionStyleModel",
          "model_module_version": "1.5.0",
          "state": {
            "_model_module": "@jupyter-widgets/controls",
            "_model_module_version": "1.5.0",
            "_model_name": "DescriptionStyleModel",
            "_view_count": null,
            "_view_module": "@jupyter-widgets/base",
            "_view_module_version": "1.2.0",
            "_view_name": "StyleView",
            "description_width": ""
          }
        },
        "8e2cead17a6441358e701c657ca413ac": {
          "model_module": "@jupyter-widgets/base",
          "model_name": "LayoutModel",
          "model_module_version": "1.2.0",
          "state": {
            "_model_module": "@jupyter-widgets/base",
            "_model_module_version": "1.2.0",
            "_model_name": "LayoutModel",
            "_view_count": null,
            "_view_module": "@jupyter-widgets/base",
            "_view_module_version": "1.2.0",
            "_view_name": "LayoutView",
            "align_content": null,
            "align_items": null,
            "align_self": null,
            "border": null,
            "bottom": null,
            "display": null,
            "flex": null,
            "flex_flow": null,
            "grid_area": null,
            "grid_auto_columns": null,
            "grid_auto_flow": null,
            "grid_auto_rows": null,
            "grid_column": null,
            "grid_gap": null,
            "grid_row": null,
            "grid_template_areas": null,
            "grid_template_columns": null,
            "grid_template_rows": null,
            "height": null,
            "justify_content": null,
            "justify_items": null,
            "left": null,
            "margin": null,
            "max_height": null,
            "max_width": null,
            "min_height": null,
            "min_width": null,
            "object_fit": null,
            "object_position": null,
            "order": null,
            "overflow": null,
            "overflow_x": null,
            "overflow_y": null,
            "padding": null,
            "right": null,
            "top": null,
            "visibility": null,
            "width": null
          }
        },
        "f8de30eee0b04c8f82b7354f207ecd10": {
          "model_module": "@jupyter-widgets/controls",
          "model_name": "ProgressStyleModel",
          "model_module_version": "1.5.0",
          "state": {
            "_model_module": "@jupyter-widgets/controls",
            "_model_module_version": "1.5.0",
            "_model_name": "ProgressStyleModel",
            "_view_count": null,
            "_view_module": "@jupyter-widgets/base",
            "_view_module_version": "1.2.0",
            "_view_name": "StyleView",
            "bar_color": null,
            "description_width": ""
          }
        },
        "6954f2eaec904c2db138909e6343234e": {
          "model_module": "@jupyter-widgets/base",
          "model_name": "LayoutModel",
          "model_module_version": "1.2.0",
          "state": {
            "_model_module": "@jupyter-widgets/base",
            "_model_module_version": "1.2.0",
            "_model_name": "LayoutModel",
            "_view_count": null,
            "_view_module": "@jupyter-widgets/base",
            "_view_module_version": "1.2.0",
            "_view_name": "LayoutView",
            "align_content": null,
            "align_items": null,
            "align_self": null,
            "border": null,
            "bottom": null,
            "display": null,
            "flex": null,
            "flex_flow": null,
            "grid_area": null,
            "grid_auto_columns": null,
            "grid_auto_flow": null,
            "grid_auto_rows": null,
            "grid_column": null,
            "grid_gap": null,
            "grid_row": null,
            "grid_template_areas": null,
            "grid_template_columns": null,
            "grid_template_rows": null,
            "height": null,
            "justify_content": null,
            "justify_items": null,
            "left": null,
            "margin": null,
            "max_height": null,
            "max_width": null,
            "min_height": null,
            "min_width": null,
            "object_fit": null,
            "object_position": null,
            "order": null,
            "overflow": null,
            "overflow_x": null,
            "overflow_y": null,
            "padding": null,
            "right": null,
            "top": null,
            "visibility": null,
            "width": null
          }
        },
        "84f80c9002574d81961386b35a4952c7": {
          "model_module": "@jupyter-widgets/controls",
          "model_name": "DescriptionStyleModel",
          "model_module_version": "1.5.0",
          "state": {
            "_model_module": "@jupyter-widgets/controls",
            "_model_module_version": "1.5.0",
            "_model_name": "DescriptionStyleModel",
            "_view_count": null,
            "_view_module": "@jupyter-widgets/base",
            "_view_module_version": "1.2.0",
            "_view_name": "StyleView",
            "description_width": ""
          }
        },
        "1299defdccea448aae61efc4eeafed56": {
          "model_module": "@jupyter-widgets/controls",
          "model_name": "HBoxModel",
          "model_module_version": "1.5.0",
          "state": {
            "_dom_classes": [],
            "_model_module": "@jupyter-widgets/controls",
            "_model_module_version": "1.5.0",
            "_model_name": "HBoxModel",
            "_view_count": null,
            "_view_module": "@jupyter-widgets/controls",
            "_view_module_version": "1.5.0",
            "_view_name": "HBoxView",
            "box_style": "",
            "children": [
              "IPY_MODEL_8928a6df18b647fc9228e0da32b0a6b4",
              "IPY_MODEL_a79d48257eef474199595921e8f67642",
              "IPY_MODEL_f6866b84ba8f457cbb4174fdbf76c925"
            ],
            "layout": "IPY_MODEL_580a99cc3d9b4af4a0066821ec8a2044"
          }
        },
        "8928a6df18b647fc9228e0da32b0a6b4": {
          "model_module": "@jupyter-widgets/controls",
          "model_name": "HTMLModel",
          "model_module_version": "1.5.0",
          "state": {
            "_dom_classes": [],
            "_model_module": "@jupyter-widgets/controls",
            "_model_module_version": "1.5.0",
            "_model_name": "HTMLModel",
            "_view_count": null,
            "_view_module": "@jupyter-widgets/controls",
            "_view_module_version": "1.5.0",
            "_view_name": "HTMLView",
            "description": "",
            "description_tooltip": null,
            "layout": "IPY_MODEL_cbe17ec04e9d41d29b3804683f4fc2a3",
            "placeholder": "​",
            "style": "IPY_MODEL_5381740a5a0b4576b1c982e45dc6c742",
            "value": "Generating train split: "
          }
        },
        "a79d48257eef474199595921e8f67642": {
          "model_module": "@jupyter-widgets/controls",
          "model_name": "FloatProgressModel",
          "model_module_version": "1.5.0",
          "state": {
            "_dom_classes": [],
            "_model_module": "@jupyter-widgets/controls",
            "_model_module_version": "1.5.0",
            "_model_name": "FloatProgressModel",
            "_view_count": null,
            "_view_module": "@jupyter-widgets/controls",
            "_view_module_version": "1.5.0",
            "_view_name": "ProgressView",
            "bar_style": "info",
            "description": "",
            "description_tooltip": null,
            "layout": "IPY_MODEL_87b288d2a15043fb91cb76539a50229c",
            "max": 1,
            "min": 0,
            "orientation": "horizontal",
            "style": "IPY_MODEL_5459bdb8a92e4d45b0101212da947d5a",
            "value": 1
          }
        },
        "f6866b84ba8f457cbb4174fdbf76c925": {
          "model_module": "@jupyter-widgets/controls",
          "model_name": "HTMLModel",
          "model_module_version": "1.5.0",
          "state": {
            "_dom_classes": [],
            "_model_module": "@jupyter-widgets/controls",
            "_model_module_version": "1.5.0",
            "_model_name": "HTMLModel",
            "_view_count": null,
            "_view_module": "@jupyter-widgets/controls",
            "_view_module_version": "1.5.0",
            "_view_name": "HTMLView",
            "description": "",
            "description_tooltip": null,
            "layout": "IPY_MODEL_4e2dd083a4524491b90d567edb530b0d",
            "placeholder": "​",
            "style": "IPY_MODEL_c4b74a65d11442028d600f39429725a3",
            "value": " 35025/0 [00:06&lt;00:00, 3110.71 examples/s]"
          }
        },
        "580a99cc3d9b4af4a0066821ec8a2044": {
          "model_module": "@jupyter-widgets/base",
          "model_name": "LayoutModel",
          "model_module_version": "1.2.0",
          "state": {
            "_model_module": "@jupyter-widgets/base",
            "_model_module_version": "1.2.0",
            "_model_name": "LayoutModel",
            "_view_count": null,
            "_view_module": "@jupyter-widgets/base",
            "_view_module_version": "1.2.0",
            "_view_name": "LayoutView",
            "align_content": null,
            "align_items": null,
            "align_self": null,
            "border": null,
            "bottom": null,
            "display": null,
            "flex": null,
            "flex_flow": null,
            "grid_area": null,
            "grid_auto_columns": null,
            "grid_auto_flow": null,
            "grid_auto_rows": null,
            "grid_column": null,
            "grid_gap": null,
            "grid_row": null,
            "grid_template_areas": null,
            "grid_template_columns": null,
            "grid_template_rows": null,
            "height": null,
            "justify_content": null,
            "justify_items": null,
            "left": null,
            "margin": null,
            "max_height": null,
            "max_width": null,
            "min_height": null,
            "min_width": null,
            "object_fit": null,
            "object_position": null,
            "order": null,
            "overflow": null,
            "overflow_x": null,
            "overflow_y": null,
            "padding": null,
            "right": null,
            "top": null,
            "visibility": "hidden",
            "width": null
          }
        },
        "cbe17ec04e9d41d29b3804683f4fc2a3": {
          "model_module": "@jupyter-widgets/base",
          "model_name": "LayoutModel",
          "model_module_version": "1.2.0",
          "state": {
            "_model_module": "@jupyter-widgets/base",
            "_model_module_version": "1.2.0",
            "_model_name": "LayoutModel",
            "_view_count": null,
            "_view_module": "@jupyter-widgets/base",
            "_view_module_version": "1.2.0",
            "_view_name": "LayoutView",
            "align_content": null,
            "align_items": null,
            "align_self": null,
            "border": null,
            "bottom": null,
            "display": null,
            "flex": null,
            "flex_flow": null,
            "grid_area": null,
            "grid_auto_columns": null,
            "grid_auto_flow": null,
            "grid_auto_rows": null,
            "grid_column": null,
            "grid_gap": null,
            "grid_row": null,
            "grid_template_areas": null,
            "grid_template_columns": null,
            "grid_template_rows": null,
            "height": null,
            "justify_content": null,
            "justify_items": null,
            "left": null,
            "margin": null,
            "max_height": null,
            "max_width": null,
            "min_height": null,
            "min_width": null,
            "object_fit": null,
            "object_position": null,
            "order": null,
            "overflow": null,
            "overflow_x": null,
            "overflow_y": null,
            "padding": null,
            "right": null,
            "top": null,
            "visibility": null,
            "width": null
          }
        },
        "5381740a5a0b4576b1c982e45dc6c742": {
          "model_module": "@jupyter-widgets/controls",
          "model_name": "DescriptionStyleModel",
          "model_module_version": "1.5.0",
          "state": {
            "_model_module": "@jupyter-widgets/controls",
            "_model_module_version": "1.5.0",
            "_model_name": "DescriptionStyleModel",
            "_view_count": null,
            "_view_module": "@jupyter-widgets/base",
            "_view_module_version": "1.2.0",
            "_view_name": "StyleView",
            "description_width": ""
          }
        },
        "87b288d2a15043fb91cb76539a50229c": {
          "model_module": "@jupyter-widgets/base",
          "model_name": "LayoutModel",
          "model_module_version": "1.2.0",
          "state": {
            "_model_module": "@jupyter-widgets/base",
            "_model_module_version": "1.2.0",
            "_model_name": "LayoutModel",
            "_view_count": null,
            "_view_module": "@jupyter-widgets/base",
            "_view_module_version": "1.2.0",
            "_view_name": "LayoutView",
            "align_content": null,
            "align_items": null,
            "align_self": null,
            "border": null,
            "bottom": null,
            "display": null,
            "flex": null,
            "flex_flow": null,
            "grid_area": null,
            "grid_auto_columns": null,
            "grid_auto_flow": null,
            "grid_auto_rows": null,
            "grid_column": null,
            "grid_gap": null,
            "grid_row": null,
            "grid_template_areas": null,
            "grid_template_columns": null,
            "grid_template_rows": null,
            "height": null,
            "justify_content": null,
            "justify_items": null,
            "left": null,
            "margin": null,
            "max_height": null,
            "max_width": null,
            "min_height": null,
            "min_width": null,
            "object_fit": null,
            "object_position": null,
            "order": null,
            "overflow": null,
            "overflow_x": null,
            "overflow_y": null,
            "padding": null,
            "right": null,
            "top": null,
            "visibility": null,
            "width": "20px"
          }
        },
        "5459bdb8a92e4d45b0101212da947d5a": {
          "model_module": "@jupyter-widgets/controls",
          "model_name": "ProgressStyleModel",
          "model_module_version": "1.5.0",
          "state": {
            "_model_module": "@jupyter-widgets/controls",
            "_model_module_version": "1.5.0",
            "_model_name": "ProgressStyleModel",
            "_view_count": null,
            "_view_module": "@jupyter-widgets/base",
            "_view_module_version": "1.2.0",
            "_view_name": "StyleView",
            "bar_color": null,
            "description_width": ""
          }
        },
        "4e2dd083a4524491b90d567edb530b0d": {
          "model_module": "@jupyter-widgets/base",
          "model_name": "LayoutModel",
          "model_module_version": "1.2.0",
          "state": {
            "_model_module": "@jupyter-widgets/base",
            "_model_module_version": "1.2.0",
            "_model_name": "LayoutModel",
            "_view_count": null,
            "_view_module": "@jupyter-widgets/base",
            "_view_module_version": "1.2.0",
            "_view_name": "LayoutView",
            "align_content": null,
            "align_items": null,
            "align_self": null,
            "border": null,
            "bottom": null,
            "display": null,
            "flex": null,
            "flex_flow": null,
            "grid_area": null,
            "grid_auto_columns": null,
            "grid_auto_flow": null,
            "grid_auto_rows": null,
            "grid_column": null,
            "grid_gap": null,
            "grid_row": null,
            "grid_template_areas": null,
            "grid_template_columns": null,
            "grid_template_rows": null,
            "height": null,
            "justify_content": null,
            "justify_items": null,
            "left": null,
            "margin": null,
            "max_height": null,
            "max_width": null,
            "min_height": null,
            "min_width": null,
            "object_fit": null,
            "object_position": null,
            "order": null,
            "overflow": null,
            "overflow_x": null,
            "overflow_y": null,
            "padding": null,
            "right": null,
            "top": null,
            "visibility": null,
            "width": null
          }
        },
        "c4b74a65d11442028d600f39429725a3": {
          "model_module": "@jupyter-widgets/controls",
          "model_name": "DescriptionStyleModel",
          "model_module_version": "1.5.0",
          "state": {
            "_model_module": "@jupyter-widgets/controls",
            "_model_module_version": "1.5.0",
            "_model_name": "DescriptionStyleModel",
            "_view_count": null,
            "_view_module": "@jupyter-widgets/base",
            "_view_module_version": "1.2.0",
            "_view_name": "StyleView",
            "description_width": ""
          }
        },
        "e9487f87a2004e4297c0def24a126ea6": {
          "model_module": "@jupyter-widgets/controls",
          "model_name": "HBoxModel",
          "model_module_version": "1.5.0",
          "state": {
            "_dom_classes": [],
            "_model_module": "@jupyter-widgets/controls",
            "_model_module_version": "1.5.0",
            "_model_name": "HBoxModel",
            "_view_count": null,
            "_view_module": "@jupyter-widgets/controls",
            "_view_module_version": "1.5.0",
            "_view_name": "HBoxView",
            "box_style": "",
            "children": [
              "IPY_MODEL_fca74d9ba0ce4ac0ae028d76d92396bd",
              "IPY_MODEL_14e6f7e7bc3a4cd786e95e582de2b157",
              "IPY_MODEL_8ecbf9d92e0d4b21a6eb958551328a57"
            ],
            "layout": "IPY_MODEL_bdcc3250845941b2833de02c7061cc63"
          }
        },
        "fca74d9ba0ce4ac0ae028d76d92396bd": {
          "model_module": "@jupyter-widgets/controls",
          "model_name": "HTMLModel",
          "model_module_version": "1.5.0",
          "state": {
            "_dom_classes": [],
            "_model_module": "@jupyter-widgets/controls",
            "_model_module_version": "1.5.0",
            "_model_name": "HTMLModel",
            "_view_count": null,
            "_view_module": "@jupyter-widgets/controls",
            "_view_module_version": "1.5.0",
            "_view_name": "HTMLView",
            "description": "",
            "description_tooltip": null,
            "layout": "IPY_MODEL_83e140b710a34d94bd14d14e33d95a0e",
            "placeholder": "​",
            "style": "IPY_MODEL_cb2f4eee0bd8492b87086d9f7d3fcfe9",
            "value": "Generating validation split: "
          }
        },
        "14e6f7e7bc3a4cd786e95e582de2b157": {
          "model_module": "@jupyter-widgets/controls",
          "model_name": "FloatProgressModel",
          "model_module_version": "1.5.0",
          "state": {
            "_dom_classes": [],
            "_model_module": "@jupyter-widgets/controls",
            "_model_module_version": "1.5.0",
            "_model_name": "FloatProgressModel",
            "_view_count": null,
            "_view_module": "@jupyter-widgets/controls",
            "_view_module_version": "1.5.0",
            "_view_name": "ProgressView",
            "bar_style": "info",
            "description": "",
            "description_tooltip": null,
            "layout": "IPY_MODEL_0ebce73fec0045cd8163ef564c115d46",
            "max": 1,
            "min": 0,
            "orientation": "horizontal",
            "style": "IPY_MODEL_01edd09d45644717987f474bf339c646",
            "value": 1
          }
        },
        "8ecbf9d92e0d4b21a6eb958551328a57": {
          "model_module": "@jupyter-widgets/controls",
          "model_name": "HTMLModel",
          "model_module_version": "1.5.0",
          "state": {
            "_dom_classes": [],
            "_model_module": "@jupyter-widgets/controls",
            "_model_module_version": "1.5.0",
            "_model_name": "HTMLModel",
            "_view_count": null,
            "_view_module": "@jupyter-widgets/controls",
            "_view_module_version": "1.5.0",
            "_view_name": "HTMLView",
            "description": "",
            "description_tooltip": null,
            "layout": "IPY_MODEL_d569e3e50a854dd39c7bfb8709799d8e",
            "placeholder": "​",
            "style": "IPY_MODEL_a0f5717ca4904c13b7cfc3302e5f1908",
            "value": " 4345/0 [00:00&lt;00:00, 8049.82 examples/s]"
          }
        },
        "bdcc3250845941b2833de02c7061cc63": {
          "model_module": "@jupyter-widgets/base",
          "model_name": "LayoutModel",
          "model_module_version": "1.2.0",
          "state": {
            "_model_module": "@jupyter-widgets/base",
            "_model_module_version": "1.2.0",
            "_model_name": "LayoutModel",
            "_view_count": null,
            "_view_module": "@jupyter-widgets/base",
            "_view_module_version": "1.2.0",
            "_view_name": "LayoutView",
            "align_content": null,
            "align_items": null,
            "align_self": null,
            "border": null,
            "bottom": null,
            "display": null,
            "flex": null,
            "flex_flow": null,
            "grid_area": null,
            "grid_auto_columns": null,
            "grid_auto_flow": null,
            "grid_auto_rows": null,
            "grid_column": null,
            "grid_gap": null,
            "grid_row": null,
            "grid_template_areas": null,
            "grid_template_columns": null,
            "grid_template_rows": null,
            "height": null,
            "justify_content": null,
            "justify_items": null,
            "left": null,
            "margin": null,
            "max_height": null,
            "max_width": null,
            "min_height": null,
            "min_width": null,
            "object_fit": null,
            "object_position": null,
            "order": null,
            "overflow": null,
            "overflow_x": null,
            "overflow_y": null,
            "padding": null,
            "right": null,
            "top": null,
            "visibility": "hidden",
            "width": null
          }
        },
        "83e140b710a34d94bd14d14e33d95a0e": {
          "model_module": "@jupyter-widgets/base",
          "model_name": "LayoutModel",
          "model_module_version": "1.2.0",
          "state": {
            "_model_module": "@jupyter-widgets/base",
            "_model_module_version": "1.2.0",
            "_model_name": "LayoutModel",
            "_view_count": null,
            "_view_module": "@jupyter-widgets/base",
            "_view_module_version": "1.2.0",
            "_view_name": "LayoutView",
            "align_content": null,
            "align_items": null,
            "align_self": null,
            "border": null,
            "bottom": null,
            "display": null,
            "flex": null,
            "flex_flow": null,
            "grid_area": null,
            "grid_auto_columns": null,
            "grid_auto_flow": null,
            "grid_auto_rows": null,
            "grid_column": null,
            "grid_gap": null,
            "grid_row": null,
            "grid_template_areas": null,
            "grid_template_columns": null,
            "grid_template_rows": null,
            "height": null,
            "justify_content": null,
            "justify_items": null,
            "left": null,
            "margin": null,
            "max_height": null,
            "max_width": null,
            "min_height": null,
            "min_width": null,
            "object_fit": null,
            "object_position": null,
            "order": null,
            "overflow": null,
            "overflow_x": null,
            "overflow_y": null,
            "padding": null,
            "right": null,
            "top": null,
            "visibility": null,
            "width": null
          }
        },
        "cb2f4eee0bd8492b87086d9f7d3fcfe9": {
          "model_module": "@jupyter-widgets/controls",
          "model_name": "DescriptionStyleModel",
          "model_module_version": "1.5.0",
          "state": {
            "_model_module": "@jupyter-widgets/controls",
            "_model_module_version": "1.5.0",
            "_model_name": "DescriptionStyleModel",
            "_view_count": null,
            "_view_module": "@jupyter-widgets/base",
            "_view_module_version": "1.2.0",
            "_view_name": "StyleView",
            "description_width": ""
          }
        },
        "0ebce73fec0045cd8163ef564c115d46": {
          "model_module": "@jupyter-widgets/base",
          "model_name": "LayoutModel",
          "model_module_version": "1.2.0",
          "state": {
            "_model_module": "@jupyter-widgets/base",
            "_model_module_version": "1.2.0",
            "_model_name": "LayoutModel",
            "_view_count": null,
            "_view_module": "@jupyter-widgets/base",
            "_view_module_version": "1.2.0",
            "_view_name": "LayoutView",
            "align_content": null,
            "align_items": null,
            "align_self": null,
            "border": null,
            "bottom": null,
            "display": null,
            "flex": null,
            "flex_flow": null,
            "grid_area": null,
            "grid_auto_columns": null,
            "grid_auto_flow": null,
            "grid_auto_rows": null,
            "grid_column": null,
            "grid_gap": null,
            "grid_row": null,
            "grid_template_areas": null,
            "grid_template_columns": null,
            "grid_template_rows": null,
            "height": null,
            "justify_content": null,
            "justify_items": null,
            "left": null,
            "margin": null,
            "max_height": null,
            "max_width": null,
            "min_height": null,
            "min_width": null,
            "object_fit": null,
            "object_position": null,
            "order": null,
            "overflow": null,
            "overflow_x": null,
            "overflow_y": null,
            "padding": null,
            "right": null,
            "top": null,
            "visibility": null,
            "width": "20px"
          }
        },
        "01edd09d45644717987f474bf339c646": {
          "model_module": "@jupyter-widgets/controls",
          "model_name": "ProgressStyleModel",
          "model_module_version": "1.5.0",
          "state": {
            "_model_module": "@jupyter-widgets/controls",
            "_model_module_version": "1.5.0",
            "_model_name": "ProgressStyleModel",
            "_view_count": null,
            "_view_module": "@jupyter-widgets/base",
            "_view_module_version": "1.2.0",
            "_view_name": "StyleView",
            "bar_color": null,
            "description_width": ""
          }
        },
        "d569e3e50a854dd39c7bfb8709799d8e": {
          "model_module": "@jupyter-widgets/base",
          "model_name": "LayoutModel",
          "model_module_version": "1.2.0",
          "state": {
            "_model_module": "@jupyter-widgets/base",
            "_model_module_version": "1.2.0",
            "_model_name": "LayoutModel",
            "_view_count": null,
            "_view_module": "@jupyter-widgets/base",
            "_view_module_version": "1.2.0",
            "_view_name": "LayoutView",
            "align_content": null,
            "align_items": null,
            "align_self": null,
            "border": null,
            "bottom": null,
            "display": null,
            "flex": null,
            "flex_flow": null,
            "grid_area": null,
            "grid_auto_columns": null,
            "grid_auto_flow": null,
            "grid_auto_rows": null,
            "grid_column": null,
            "grid_gap": null,
            "grid_row": null,
            "grid_template_areas": null,
            "grid_template_columns": null,
            "grid_template_rows": null,
            "height": null,
            "justify_content": null,
            "justify_items": null,
            "left": null,
            "margin": null,
            "max_height": null,
            "max_width": null,
            "min_height": null,
            "min_width": null,
            "object_fit": null,
            "object_position": null,
            "order": null,
            "overflow": null,
            "overflow_x": null,
            "overflow_y": null,
            "padding": null,
            "right": null,
            "top": null,
            "visibility": null,
            "width": null
          }
        },
        "a0f5717ca4904c13b7cfc3302e5f1908": {
          "model_module": "@jupyter-widgets/controls",
          "model_name": "DescriptionStyleModel",
          "model_module_version": "1.5.0",
          "state": {
            "_model_module": "@jupyter-widgets/controls",
            "_model_module_version": "1.5.0",
            "_model_name": "DescriptionStyleModel",
            "_view_count": null,
            "_view_module": "@jupyter-widgets/base",
            "_view_module_version": "1.2.0",
            "_view_name": "StyleView",
            "description_width": ""
          }
        },
        "6b03d69522954a69853dfe04b55a24ca": {
          "model_module": "@jupyter-widgets/controls",
          "model_name": "HBoxModel",
          "model_module_version": "1.5.0",
          "state": {
            "_dom_classes": [],
            "_model_module": "@jupyter-widgets/controls",
            "_model_module_version": "1.5.0",
            "_model_name": "HBoxModel",
            "_view_count": null,
            "_view_module": "@jupyter-widgets/controls",
            "_view_module_version": "1.5.0",
            "_view_name": "HBoxView",
            "box_style": "",
            "children": [
              "IPY_MODEL_33126d14bd6b47a4bb037d313af45103",
              "IPY_MODEL_a169db6530b64cbfa6be24242bacc0b7",
              "IPY_MODEL_a46729d3d7194e3f8285bfdb3c4b5abf"
            ],
            "layout": "IPY_MODEL_36d2029873564de088680c11cedaf7ef"
          }
        },
        "33126d14bd6b47a4bb037d313af45103": {
          "model_module": "@jupyter-widgets/controls",
          "model_name": "HTMLModel",
          "model_module_version": "1.5.0",
          "state": {
            "_dom_classes": [],
            "_model_module": "@jupyter-widgets/controls",
            "_model_module_version": "1.5.0",
            "_model_name": "HTMLModel",
            "_view_count": null,
            "_view_module": "@jupyter-widgets/controls",
            "_view_module_version": "1.5.0",
            "_view_name": "HTMLView",
            "description": "",
            "description_tooltip": null,
            "layout": "IPY_MODEL_4632494128be4ddfab10c4d22d152827",
            "placeholder": "​",
            "style": "IPY_MODEL_b2cde5d560134755892ac354186bb181",
            "value": "Generating test split: "
          }
        },
        "a169db6530b64cbfa6be24242bacc0b7": {
          "model_module": "@jupyter-widgets/controls",
          "model_name": "FloatProgressModel",
          "model_module_version": "1.5.0",
          "state": {
            "_dom_classes": [],
            "_model_module": "@jupyter-widgets/controls",
            "_model_module_version": "1.5.0",
            "_model_name": "FloatProgressModel",
            "_view_count": null,
            "_view_module": "@jupyter-widgets/controls",
            "_view_module_version": "1.5.0",
            "_view_name": "ProgressView",
            "bar_style": "info",
            "description": "",
            "description_tooltip": null,
            "layout": "IPY_MODEL_91604e3117324f2ea5ed381b68d57efc",
            "max": 1,
            "min": 0,
            "orientation": "horizontal",
            "style": "IPY_MODEL_f8f2caf3b2024234ac98a978f58fd9e8",
            "value": 1
          }
        },
        "a46729d3d7194e3f8285bfdb3c4b5abf": {
          "model_module": "@jupyter-widgets/controls",
          "model_name": "HTMLModel",
          "model_module_version": "1.5.0",
          "state": {
            "_dom_classes": [],
            "_model_module": "@jupyter-widgets/controls",
            "_model_module_version": "1.5.0",
            "_model_name": "HTMLModel",
            "_view_count": null,
            "_view_module": "@jupyter-widgets/controls",
            "_view_module_version": "1.5.0",
            "_view_name": "HTMLView",
            "description": "",
            "description_tooltip": null,
            "layout": "IPY_MODEL_ac522c8bf5d3484ca13514d732a43c55",
            "placeholder": "​",
            "style": "IPY_MODEL_956742e16d9d405cb7ca0a2bbb274251",
            "value": " 9577/0 [00:01&lt;00:00, 8135.96 examples/s]"
          }
        },
        "36d2029873564de088680c11cedaf7ef": {
          "model_module": "@jupyter-widgets/base",
          "model_name": "LayoutModel",
          "model_module_version": "1.2.0",
          "state": {
            "_model_module": "@jupyter-widgets/base",
            "_model_module_version": "1.2.0",
            "_model_name": "LayoutModel",
            "_view_count": null,
            "_view_module": "@jupyter-widgets/base",
            "_view_module_version": "1.2.0",
            "_view_name": "LayoutView",
            "align_content": null,
            "align_items": null,
            "align_self": null,
            "border": null,
            "bottom": null,
            "display": null,
            "flex": null,
            "flex_flow": null,
            "grid_area": null,
            "grid_auto_columns": null,
            "grid_auto_flow": null,
            "grid_auto_rows": null,
            "grid_column": null,
            "grid_gap": null,
            "grid_row": null,
            "grid_template_areas": null,
            "grid_template_columns": null,
            "grid_template_rows": null,
            "height": null,
            "justify_content": null,
            "justify_items": null,
            "left": null,
            "margin": null,
            "max_height": null,
            "max_width": null,
            "min_height": null,
            "min_width": null,
            "object_fit": null,
            "object_position": null,
            "order": null,
            "overflow": null,
            "overflow_x": null,
            "overflow_y": null,
            "padding": null,
            "right": null,
            "top": null,
            "visibility": "hidden",
            "width": null
          }
        },
        "4632494128be4ddfab10c4d22d152827": {
          "model_module": "@jupyter-widgets/base",
          "model_name": "LayoutModel",
          "model_module_version": "1.2.0",
          "state": {
            "_model_module": "@jupyter-widgets/base",
            "_model_module_version": "1.2.0",
            "_model_name": "LayoutModel",
            "_view_count": null,
            "_view_module": "@jupyter-widgets/base",
            "_view_module_version": "1.2.0",
            "_view_name": "LayoutView",
            "align_content": null,
            "align_items": null,
            "align_self": null,
            "border": null,
            "bottom": null,
            "display": null,
            "flex": null,
            "flex_flow": null,
            "grid_area": null,
            "grid_auto_columns": null,
            "grid_auto_flow": null,
            "grid_auto_rows": null,
            "grid_column": null,
            "grid_gap": null,
            "grid_row": null,
            "grid_template_areas": null,
            "grid_template_columns": null,
            "grid_template_rows": null,
            "height": null,
            "justify_content": null,
            "justify_items": null,
            "left": null,
            "margin": null,
            "max_height": null,
            "max_width": null,
            "min_height": null,
            "min_width": null,
            "object_fit": null,
            "object_position": null,
            "order": null,
            "overflow": null,
            "overflow_x": null,
            "overflow_y": null,
            "padding": null,
            "right": null,
            "top": null,
            "visibility": null,
            "width": null
          }
        },
        "b2cde5d560134755892ac354186bb181": {
          "model_module": "@jupyter-widgets/controls",
          "model_name": "DescriptionStyleModel",
          "model_module_version": "1.5.0",
          "state": {
            "_model_module": "@jupyter-widgets/controls",
            "_model_module_version": "1.5.0",
            "_model_name": "DescriptionStyleModel",
            "_view_count": null,
            "_view_module": "@jupyter-widgets/base",
            "_view_module_version": "1.2.0",
            "_view_name": "StyleView",
            "description_width": ""
          }
        },
        "91604e3117324f2ea5ed381b68d57efc": {
          "model_module": "@jupyter-widgets/base",
          "model_name": "LayoutModel",
          "model_module_version": "1.2.0",
          "state": {
            "_model_module": "@jupyter-widgets/base",
            "_model_module_version": "1.2.0",
            "_model_name": "LayoutModel",
            "_view_count": null,
            "_view_module": "@jupyter-widgets/base",
            "_view_module_version": "1.2.0",
            "_view_name": "LayoutView",
            "align_content": null,
            "align_items": null,
            "align_self": null,
            "border": null,
            "bottom": null,
            "display": null,
            "flex": null,
            "flex_flow": null,
            "grid_area": null,
            "grid_auto_columns": null,
            "grid_auto_flow": null,
            "grid_auto_rows": null,
            "grid_column": null,
            "grid_gap": null,
            "grid_row": null,
            "grid_template_areas": null,
            "grid_template_columns": null,
            "grid_template_rows": null,
            "height": null,
            "justify_content": null,
            "justify_items": null,
            "left": null,
            "margin": null,
            "max_height": null,
            "max_width": null,
            "min_height": null,
            "min_width": null,
            "object_fit": null,
            "object_position": null,
            "order": null,
            "overflow": null,
            "overflow_x": null,
            "overflow_y": null,
            "padding": null,
            "right": null,
            "top": null,
            "visibility": null,
            "width": "20px"
          }
        },
        "f8f2caf3b2024234ac98a978f58fd9e8": {
          "model_module": "@jupyter-widgets/controls",
          "model_name": "ProgressStyleModel",
          "model_module_version": "1.5.0",
          "state": {
            "_model_module": "@jupyter-widgets/controls",
            "_model_module_version": "1.5.0",
            "_model_name": "ProgressStyleModel",
            "_view_count": null,
            "_view_module": "@jupyter-widgets/base",
            "_view_module_version": "1.2.0",
            "_view_name": "StyleView",
            "bar_color": null,
            "description_width": ""
          }
        },
        "ac522c8bf5d3484ca13514d732a43c55": {
          "model_module": "@jupyter-widgets/base",
          "model_name": "LayoutModel",
          "model_module_version": "1.2.0",
          "state": {
            "_model_module": "@jupyter-widgets/base",
            "_model_module_version": "1.2.0",
            "_model_name": "LayoutModel",
            "_view_count": null,
            "_view_module": "@jupyter-widgets/base",
            "_view_module_version": "1.2.0",
            "_view_name": "LayoutView",
            "align_content": null,
            "align_items": null,
            "align_self": null,
            "border": null,
            "bottom": null,
            "display": null,
            "flex": null,
            "flex_flow": null,
            "grid_area": null,
            "grid_auto_columns": null,
            "grid_auto_flow": null,
            "grid_auto_rows": null,
            "grid_column": null,
            "grid_gap": null,
            "grid_row": null,
            "grid_template_areas": null,
            "grid_template_columns": null,
            "grid_template_rows": null,
            "height": null,
            "justify_content": null,
            "justify_items": null,
            "left": null,
            "margin": null,
            "max_height": null,
            "max_width": null,
            "min_height": null,
            "min_width": null,
            "object_fit": null,
            "object_position": null,
            "order": null,
            "overflow": null,
            "overflow_x": null,
            "overflow_y": null,
            "padding": null,
            "right": null,
            "top": null,
            "visibility": null,
            "width": null
          }
        },
        "956742e16d9d405cb7ca0a2bbb274251": {
          "model_module": "@jupyter-widgets/controls",
          "model_name": "DescriptionStyleModel",
          "model_module_version": "1.5.0",
          "state": {
            "_model_module": "@jupyter-widgets/controls",
            "_model_module_version": "1.5.0",
            "_model_name": "DescriptionStyleModel",
            "_view_count": null,
            "_view_module": "@jupyter-widgets/base",
            "_view_module_version": "1.2.0",
            "_view_name": "StyleView",
            "description_width": ""
          }
        },
        "11dfbfcda4a546e390fa1000dfaadbb2": {
          "model_module": "@jupyter-widgets/controls",
          "model_name": "HBoxModel",
          "model_module_version": "1.5.0",
          "state": {
            "_dom_classes": [],
            "_model_module": "@jupyter-widgets/controls",
            "_model_module_version": "1.5.0",
            "_model_name": "HBoxModel",
            "_view_count": null,
            "_view_module": "@jupyter-widgets/controls",
            "_view_module_version": "1.5.0",
            "_view_name": "HBoxView",
            "box_style": "",
            "children": [
              "IPY_MODEL_bc1d9de021cc42f38a2e99b3e2385f02",
              "IPY_MODEL_5374a937b7344df78d94572eeff5d9f3",
              "IPY_MODEL_0f3b7f5e67714e34b6c402264d2c83b3"
            ],
            "layout": "IPY_MODEL_149d78bd9bcd40f7a88248d15f6c534b"
          }
        },
        "bc1d9de021cc42f38a2e99b3e2385f02": {
          "model_module": "@jupyter-widgets/controls",
          "model_name": "HTMLModel",
          "model_module_version": "1.5.0",
          "state": {
            "_dom_classes": [],
            "_model_module": "@jupyter-widgets/controls",
            "_model_module_version": "1.5.0",
            "_model_name": "HTMLModel",
            "_view_count": null,
            "_view_module": "@jupyter-widgets/controls",
            "_view_module_version": "1.5.0",
            "_view_name": "HTMLView",
            "description": "",
            "description_tooltip": null,
            "layout": "IPY_MODEL_a08033a03a294e7f8a2d73e7d2da66d8",
            "placeholder": "​",
            "style": "IPY_MODEL_332a1ec17a3442d4b251760816e87ffb",
            "value": "100%"
          }
        },
        "5374a937b7344df78d94572eeff5d9f3": {
          "model_module": "@jupyter-widgets/controls",
          "model_name": "FloatProgressModel",
          "model_module_version": "1.5.0",
          "state": {
            "_dom_classes": [],
            "_model_module": "@jupyter-widgets/controls",
            "_model_module_version": "1.5.0",
            "_model_name": "FloatProgressModel",
            "_view_count": null,
            "_view_module": "@jupyter-widgets/controls",
            "_view_module_version": "1.5.0",
            "_view_name": "ProgressView",
            "bar_style": "success",
            "description": "",
            "description_tooltip": null,
            "layout": "IPY_MODEL_405949a565024d27bd96b3bc0b6b3514",
            "max": 3,
            "min": 0,
            "orientation": "horizontal",
            "style": "IPY_MODEL_77d24ae896354fa28345bb5dc20f653c",
            "value": 3
          }
        },
        "0f3b7f5e67714e34b6c402264d2c83b3": {
          "model_module": "@jupyter-widgets/controls",
          "model_name": "HTMLModel",
          "model_module_version": "1.5.0",
          "state": {
            "_dom_classes": [],
            "_model_module": "@jupyter-widgets/controls",
            "_model_module_version": "1.5.0",
            "_model_name": "HTMLModel",
            "_view_count": null,
            "_view_module": "@jupyter-widgets/controls",
            "_view_module_version": "1.5.0",
            "_view_name": "HTMLView",
            "description": "",
            "description_tooltip": null,
            "layout": "IPY_MODEL_d0247b3dd4f44cc1b07f73e2a898068e",
            "placeholder": "​",
            "style": "IPY_MODEL_e664b8d2058046468b5b7dc76a6d53c7",
            "value": " 3/3 [00:00&lt;00:00,  6.61it/s]"
          }
        },
        "149d78bd9bcd40f7a88248d15f6c534b": {
          "model_module": "@jupyter-widgets/base",
          "model_name": "LayoutModel",
          "model_module_version": "1.2.0",
          "state": {
            "_model_module": "@jupyter-widgets/base",
            "_model_module_version": "1.2.0",
            "_model_name": "LayoutModel",
            "_view_count": null,
            "_view_module": "@jupyter-widgets/base",
            "_view_module_version": "1.2.0",
            "_view_name": "LayoutView",
            "align_content": null,
            "align_items": null,
            "align_self": null,
            "border": null,
            "bottom": null,
            "display": null,
            "flex": null,
            "flex_flow": null,
            "grid_area": null,
            "grid_auto_columns": null,
            "grid_auto_flow": null,
            "grid_auto_rows": null,
            "grid_column": null,
            "grid_gap": null,
            "grid_row": null,
            "grid_template_areas": null,
            "grid_template_columns": null,
            "grid_template_rows": null,
            "height": null,
            "justify_content": null,
            "justify_items": null,
            "left": null,
            "margin": null,
            "max_height": null,
            "max_width": null,
            "min_height": null,
            "min_width": null,
            "object_fit": null,
            "object_position": null,
            "order": null,
            "overflow": null,
            "overflow_x": null,
            "overflow_y": null,
            "padding": null,
            "right": null,
            "top": null,
            "visibility": null,
            "width": null
          }
        },
        "a08033a03a294e7f8a2d73e7d2da66d8": {
          "model_module": "@jupyter-widgets/base",
          "model_name": "LayoutModel",
          "model_module_version": "1.2.0",
          "state": {
            "_model_module": "@jupyter-widgets/base",
            "_model_module_version": "1.2.0",
            "_model_name": "LayoutModel",
            "_view_count": null,
            "_view_module": "@jupyter-widgets/base",
            "_view_module_version": "1.2.0",
            "_view_name": "LayoutView",
            "align_content": null,
            "align_items": null,
            "align_self": null,
            "border": null,
            "bottom": null,
            "display": null,
            "flex": null,
            "flex_flow": null,
            "grid_area": null,
            "grid_auto_columns": null,
            "grid_auto_flow": null,
            "grid_auto_rows": null,
            "grid_column": null,
            "grid_gap": null,
            "grid_row": null,
            "grid_template_areas": null,
            "grid_template_columns": null,
            "grid_template_rows": null,
            "height": null,
            "justify_content": null,
            "justify_items": null,
            "left": null,
            "margin": null,
            "max_height": null,
            "max_width": null,
            "min_height": null,
            "min_width": null,
            "object_fit": null,
            "object_position": null,
            "order": null,
            "overflow": null,
            "overflow_x": null,
            "overflow_y": null,
            "padding": null,
            "right": null,
            "top": null,
            "visibility": null,
            "width": null
          }
        },
        "332a1ec17a3442d4b251760816e87ffb": {
          "model_module": "@jupyter-widgets/controls",
          "model_name": "DescriptionStyleModel",
          "model_module_version": "1.5.0",
          "state": {
            "_model_module": "@jupyter-widgets/controls",
            "_model_module_version": "1.5.0",
            "_model_name": "DescriptionStyleModel",
            "_view_count": null,
            "_view_module": "@jupyter-widgets/base",
            "_view_module_version": "1.2.0",
            "_view_name": "StyleView",
            "description_width": ""
          }
        },
        "405949a565024d27bd96b3bc0b6b3514": {
          "model_module": "@jupyter-widgets/base",
          "model_name": "LayoutModel",
          "model_module_version": "1.2.0",
          "state": {
            "_model_module": "@jupyter-widgets/base",
            "_model_module_version": "1.2.0",
            "_model_name": "LayoutModel",
            "_view_count": null,
            "_view_module": "@jupyter-widgets/base",
            "_view_module_version": "1.2.0",
            "_view_name": "LayoutView",
            "align_content": null,
            "align_items": null,
            "align_self": null,
            "border": null,
            "bottom": null,
            "display": null,
            "flex": null,
            "flex_flow": null,
            "grid_area": null,
            "grid_auto_columns": null,
            "grid_auto_flow": null,
            "grid_auto_rows": null,
            "grid_column": null,
            "grid_gap": null,
            "grid_row": null,
            "grid_template_areas": null,
            "grid_template_columns": null,
            "grid_template_rows": null,
            "height": null,
            "justify_content": null,
            "justify_items": null,
            "left": null,
            "margin": null,
            "max_height": null,
            "max_width": null,
            "min_height": null,
            "min_width": null,
            "object_fit": null,
            "object_position": null,
            "order": null,
            "overflow": null,
            "overflow_x": null,
            "overflow_y": null,
            "padding": null,
            "right": null,
            "top": null,
            "visibility": null,
            "width": null
          }
        },
        "77d24ae896354fa28345bb5dc20f653c": {
          "model_module": "@jupyter-widgets/controls",
          "model_name": "ProgressStyleModel",
          "model_module_version": "1.5.0",
          "state": {
            "_model_module": "@jupyter-widgets/controls",
            "_model_module_version": "1.5.0",
            "_model_name": "ProgressStyleModel",
            "_view_count": null,
            "_view_module": "@jupyter-widgets/base",
            "_view_module_version": "1.2.0",
            "_view_name": "StyleView",
            "bar_color": null,
            "description_width": ""
          }
        },
        "d0247b3dd4f44cc1b07f73e2a898068e": {
          "model_module": "@jupyter-widgets/base",
          "model_name": "LayoutModel",
          "model_module_version": "1.2.0",
          "state": {
            "_model_module": "@jupyter-widgets/base",
            "_model_module_version": "1.2.0",
            "_model_name": "LayoutModel",
            "_view_count": null,
            "_view_module": "@jupyter-widgets/base",
            "_view_module_version": "1.2.0",
            "_view_name": "LayoutView",
            "align_content": null,
            "align_items": null,
            "align_self": null,
            "border": null,
            "bottom": null,
            "display": null,
            "flex": null,
            "flex_flow": null,
            "grid_area": null,
            "grid_auto_columns": null,
            "grid_auto_flow": null,
            "grid_auto_rows": null,
            "grid_column": null,
            "grid_gap": null,
            "grid_row": null,
            "grid_template_areas": null,
            "grid_template_columns": null,
            "grid_template_rows": null,
            "height": null,
            "justify_content": null,
            "justify_items": null,
            "left": null,
            "margin": null,
            "max_height": null,
            "max_width": null,
            "min_height": null,
            "min_width": null,
            "object_fit": null,
            "object_position": null,
            "order": null,
            "overflow": null,
            "overflow_x": null,
            "overflow_y": null,
            "padding": null,
            "right": null,
            "top": null,
            "visibility": null,
            "width": null
          }
        },
        "e664b8d2058046468b5b7dc76a6d53c7": {
          "model_module": "@jupyter-widgets/controls",
          "model_name": "DescriptionStyleModel",
          "model_module_version": "1.5.0",
          "state": {
            "_model_module": "@jupyter-widgets/controls",
            "_model_module_version": "1.5.0",
            "_model_name": "DescriptionStyleModel",
            "_view_count": null,
            "_view_module": "@jupyter-widgets/base",
            "_view_module_version": "1.2.0",
            "_view_name": "StyleView",
            "description_width": ""
          }
        },
        "c9601ec6e55d4496b749cbca805d3de6": {
          "model_module": "@jupyter-widgets/controls",
          "model_name": "HBoxModel",
          "model_module_version": "1.5.0",
          "state": {
            "_dom_classes": [],
            "_model_module": "@jupyter-widgets/controls",
            "_model_module_version": "1.5.0",
            "_model_name": "HBoxModel",
            "_view_count": null,
            "_view_module": "@jupyter-widgets/controls",
            "_view_module_version": "1.5.0",
            "_view_name": "HBoxView",
            "box_style": "",
            "children": [
              "IPY_MODEL_52dd033d24714543817fd4dd69ac89a2",
              "IPY_MODEL_f01f2bfd17af4fcab511f1595f835202",
              "IPY_MODEL_bf0b986c563d4ed1b80c2a532f9cacdd"
            ],
            "layout": "IPY_MODEL_08d8f61c829f4c9990e32e3b750afcb2"
          }
        },
        "52dd033d24714543817fd4dd69ac89a2": {
          "model_module": "@jupyter-widgets/controls",
          "model_name": "HTMLModel",
          "model_module_version": "1.5.0",
          "state": {
            "_dom_classes": [],
            "_model_module": "@jupyter-widgets/controls",
            "_model_module_version": "1.5.0",
            "_model_name": "HTMLModel",
            "_view_count": null,
            "_view_module": "@jupyter-widgets/controls",
            "_view_module_version": "1.5.0",
            "_view_name": "HTMLView",
            "description": "",
            "description_tooltip": null,
            "layout": "IPY_MODEL_4b216f3b0d1c43f5b58a4c4e61666021",
            "placeholder": "​",
            "style": "IPY_MODEL_b3342019a92b4e1ab31a1fa2ca0dac34",
            "value": "100%"
          }
        },
        "f01f2bfd17af4fcab511f1595f835202": {
          "model_module": "@jupyter-widgets/controls",
          "model_name": "FloatProgressModel",
          "model_module_version": "1.5.0",
          "state": {
            "_dom_classes": [],
            "_model_module": "@jupyter-widgets/controls",
            "_model_module_version": "1.5.0",
            "_model_name": "FloatProgressModel",
            "_view_count": null,
            "_view_module": "@jupyter-widgets/controls",
            "_view_module_version": "1.5.0",
            "_view_name": "ProgressView",
            "bar_style": "success",
            "description": "",
            "description_tooltip": null,
            "layout": "IPY_MODEL_9d4f2092da92447e85cfc5c1b0753a8a",
            "max": 3,
            "min": 0,
            "orientation": "horizontal",
            "style": "IPY_MODEL_ac8813bb4f7547f5962b6a8848dd0477",
            "value": 3
          }
        },
        "bf0b986c563d4ed1b80c2a532f9cacdd": {
          "model_module": "@jupyter-widgets/controls",
          "model_name": "HTMLModel",
          "model_module_version": "1.5.0",
          "state": {
            "_dom_classes": [],
            "_model_module": "@jupyter-widgets/controls",
            "_model_module_version": "1.5.0",
            "_model_name": "HTMLModel",
            "_view_count": null,
            "_view_module": "@jupyter-widgets/controls",
            "_view_module_version": "1.5.0",
            "_view_name": "HTMLView",
            "description": "",
            "description_tooltip": null,
            "layout": "IPY_MODEL_d4e5e023670c4c47ac90cfb789ba5872",
            "placeholder": "​",
            "style": "IPY_MODEL_88cd5583e87e4844b677dd4cf0d06c75",
            "value": " 3/3 [00:00&lt;00:00, 37.02it/s]"
          }
        },
        "08d8f61c829f4c9990e32e3b750afcb2": {
          "model_module": "@jupyter-widgets/base",
          "model_name": "LayoutModel",
          "model_module_version": "1.2.0",
          "state": {
            "_model_module": "@jupyter-widgets/base",
            "_model_module_version": "1.2.0",
            "_model_name": "LayoutModel",
            "_view_count": null,
            "_view_module": "@jupyter-widgets/base",
            "_view_module_version": "1.2.0",
            "_view_name": "LayoutView",
            "align_content": null,
            "align_items": null,
            "align_self": null,
            "border": null,
            "bottom": null,
            "display": null,
            "flex": null,
            "flex_flow": null,
            "grid_area": null,
            "grid_auto_columns": null,
            "grid_auto_flow": null,
            "grid_auto_rows": null,
            "grid_column": null,
            "grid_gap": null,
            "grid_row": null,
            "grid_template_areas": null,
            "grid_template_columns": null,
            "grid_template_rows": null,
            "height": null,
            "justify_content": null,
            "justify_items": null,
            "left": null,
            "margin": null,
            "max_height": null,
            "max_width": null,
            "min_height": null,
            "min_width": null,
            "object_fit": null,
            "object_position": null,
            "order": null,
            "overflow": null,
            "overflow_x": null,
            "overflow_y": null,
            "padding": null,
            "right": null,
            "top": null,
            "visibility": null,
            "width": null
          }
        },
        "4b216f3b0d1c43f5b58a4c4e61666021": {
          "model_module": "@jupyter-widgets/base",
          "model_name": "LayoutModel",
          "model_module_version": "1.2.0",
          "state": {
            "_model_module": "@jupyter-widgets/base",
            "_model_module_version": "1.2.0",
            "_model_name": "LayoutModel",
            "_view_count": null,
            "_view_module": "@jupyter-widgets/base",
            "_view_module_version": "1.2.0",
            "_view_name": "LayoutView",
            "align_content": null,
            "align_items": null,
            "align_self": null,
            "border": null,
            "bottom": null,
            "display": null,
            "flex": null,
            "flex_flow": null,
            "grid_area": null,
            "grid_auto_columns": null,
            "grid_auto_flow": null,
            "grid_auto_rows": null,
            "grid_column": null,
            "grid_gap": null,
            "grid_row": null,
            "grid_template_areas": null,
            "grid_template_columns": null,
            "grid_template_rows": null,
            "height": null,
            "justify_content": null,
            "justify_items": null,
            "left": null,
            "margin": null,
            "max_height": null,
            "max_width": null,
            "min_height": null,
            "min_width": null,
            "object_fit": null,
            "object_position": null,
            "order": null,
            "overflow": null,
            "overflow_x": null,
            "overflow_y": null,
            "padding": null,
            "right": null,
            "top": null,
            "visibility": null,
            "width": null
          }
        },
        "b3342019a92b4e1ab31a1fa2ca0dac34": {
          "model_module": "@jupyter-widgets/controls",
          "model_name": "DescriptionStyleModel",
          "model_module_version": "1.5.0",
          "state": {
            "_model_module": "@jupyter-widgets/controls",
            "_model_module_version": "1.5.0",
            "_model_name": "DescriptionStyleModel",
            "_view_count": null,
            "_view_module": "@jupyter-widgets/base",
            "_view_module_version": "1.2.0",
            "_view_name": "StyleView",
            "description_width": ""
          }
        },
        "9d4f2092da92447e85cfc5c1b0753a8a": {
          "model_module": "@jupyter-widgets/base",
          "model_name": "LayoutModel",
          "model_module_version": "1.2.0",
          "state": {
            "_model_module": "@jupyter-widgets/base",
            "_model_module_version": "1.2.0",
            "_model_name": "LayoutModel",
            "_view_count": null,
            "_view_module": "@jupyter-widgets/base",
            "_view_module_version": "1.2.0",
            "_view_name": "LayoutView",
            "align_content": null,
            "align_items": null,
            "align_self": null,
            "border": null,
            "bottom": null,
            "display": null,
            "flex": null,
            "flex_flow": null,
            "grid_area": null,
            "grid_auto_columns": null,
            "grid_auto_flow": null,
            "grid_auto_rows": null,
            "grid_column": null,
            "grid_gap": null,
            "grid_row": null,
            "grid_template_areas": null,
            "grid_template_columns": null,
            "grid_template_rows": null,
            "height": null,
            "justify_content": null,
            "justify_items": null,
            "left": null,
            "margin": null,
            "max_height": null,
            "max_width": null,
            "min_height": null,
            "min_width": null,
            "object_fit": null,
            "object_position": null,
            "order": null,
            "overflow": null,
            "overflow_x": null,
            "overflow_y": null,
            "padding": null,
            "right": null,
            "top": null,
            "visibility": null,
            "width": null
          }
        },
        "ac8813bb4f7547f5962b6a8848dd0477": {
          "model_module": "@jupyter-widgets/controls",
          "model_name": "ProgressStyleModel",
          "model_module_version": "1.5.0",
          "state": {
            "_model_module": "@jupyter-widgets/controls",
            "_model_module_version": "1.5.0",
            "_model_name": "ProgressStyleModel",
            "_view_count": null,
            "_view_module": "@jupyter-widgets/base",
            "_view_module_version": "1.2.0",
            "_view_name": "StyleView",
            "bar_color": null,
            "description_width": ""
          }
        },
        "d4e5e023670c4c47ac90cfb789ba5872": {
          "model_module": "@jupyter-widgets/base",
          "model_name": "LayoutModel",
          "model_module_version": "1.2.0",
          "state": {
            "_model_module": "@jupyter-widgets/base",
            "_model_module_version": "1.2.0",
            "_model_name": "LayoutModel",
            "_view_count": null,
            "_view_module": "@jupyter-widgets/base",
            "_view_module_version": "1.2.0",
            "_view_name": "LayoutView",
            "align_content": null,
            "align_items": null,
            "align_self": null,
            "border": null,
            "bottom": null,
            "display": null,
            "flex": null,
            "flex_flow": null,
            "grid_area": null,
            "grid_auto_columns": null,
            "grid_auto_flow": null,
            "grid_auto_rows": null,
            "grid_column": null,
            "grid_gap": null,
            "grid_row": null,
            "grid_template_areas": null,
            "grid_template_columns": null,
            "grid_template_rows": null,
            "height": null,
            "justify_content": null,
            "justify_items": null,
            "left": null,
            "margin": null,
            "max_height": null,
            "max_width": null,
            "min_height": null,
            "min_width": null,
            "object_fit": null,
            "object_position": null,
            "order": null,
            "overflow": null,
            "overflow_x": null,
            "overflow_y": null,
            "padding": null,
            "right": null,
            "top": null,
            "visibility": null,
            "width": null
          }
        },
        "88cd5583e87e4844b677dd4cf0d06c75": {
          "model_module": "@jupyter-widgets/controls",
          "model_name": "DescriptionStyleModel",
          "model_module_version": "1.5.0",
          "state": {
            "_model_module": "@jupyter-widgets/controls",
            "_model_module_version": "1.5.0",
            "_model_name": "DescriptionStyleModel",
            "_view_count": null,
            "_view_module": "@jupyter-widgets/base",
            "_view_module_version": "1.2.0",
            "_view_name": "StyleView",
            "description_width": ""
          }
        },
        "8849d0a83ea444bf883c8569d4b0ec65": {
          "model_module": "@jupyter-widgets/controls",
          "model_name": "HBoxModel",
          "model_module_version": "1.5.0",
          "state": {
            "_dom_classes": [],
            "_model_module": "@jupyter-widgets/controls",
            "_model_module_version": "1.5.0",
            "_model_name": "HBoxModel",
            "_view_count": null,
            "_view_module": "@jupyter-widgets/controls",
            "_view_module_version": "1.5.0",
            "_view_name": "HBoxView",
            "box_style": "",
            "children": [
              "IPY_MODEL_50699946607c45c5af9866874407438b",
              "IPY_MODEL_028e116adb8348e8839c12f7d5e817d5",
              "IPY_MODEL_62bcf7daf3e84cd2b34767e12f7468ff"
            ],
            "layout": "IPY_MODEL_a3006c37e0f84dce82c57a6e6b722377"
          }
        },
        "50699946607c45c5af9866874407438b": {
          "model_module": "@jupyter-widgets/controls",
          "model_name": "HTMLModel",
          "model_module_version": "1.5.0",
          "state": {
            "_dom_classes": [],
            "_model_module": "@jupyter-widgets/controls",
            "_model_module_version": "1.5.0",
            "_model_name": "HTMLModel",
            "_view_count": null,
            "_view_module": "@jupyter-widgets/controls",
            "_view_module_version": "1.5.0",
            "_view_name": "HTMLView",
            "description": "",
            "description_tooltip": null,
            "layout": "IPY_MODEL_5c58bdb247c54f54a1508239017a9f92",
            "placeholder": "​",
            "style": "IPY_MODEL_23f46e5facbf4b06a2e3e4eb132c61b6",
            "value": "100%"
          }
        },
        "028e116adb8348e8839c12f7d5e817d5": {
          "model_module": "@jupyter-widgets/controls",
          "model_name": "FloatProgressModel",
          "model_module_version": "1.5.0",
          "state": {
            "_dom_classes": [],
            "_model_module": "@jupyter-widgets/controls",
            "_model_module_version": "1.5.0",
            "_model_name": "FloatProgressModel",
            "_view_count": null,
            "_view_module": "@jupyter-widgets/controls",
            "_view_module_version": "1.5.0",
            "_view_name": "ProgressView",
            "bar_style": "success",
            "description": "",
            "description_tooltip": null,
            "layout": "IPY_MODEL_5cfc4773cbc54906977e308a1a8f573b",
            "max": 3,
            "min": 0,
            "orientation": "horizontal",
            "style": "IPY_MODEL_f1169a88946a4ba1af50cc2945583ff7",
            "value": 3
          }
        },
        "62bcf7daf3e84cd2b34767e12f7468ff": {
          "model_module": "@jupyter-widgets/controls",
          "model_name": "HTMLModel",
          "model_module_version": "1.5.0",
          "state": {
            "_dom_classes": [],
            "_model_module": "@jupyter-widgets/controls",
            "_model_module_version": "1.5.0",
            "_model_name": "HTMLModel",
            "_view_count": null,
            "_view_module": "@jupyter-widgets/controls",
            "_view_module_version": "1.5.0",
            "_view_name": "HTMLView",
            "description": "",
            "description_tooltip": null,
            "layout": "IPY_MODEL_c0eeff9a81e649a4ba5b57c8c7253787",
            "placeholder": "​",
            "style": "IPY_MODEL_dfc8d8a6adff4a80bc15566c4c0eab8f",
            "value": " 3/3 [00:00&lt;00:00, 38.43it/s]"
          }
        },
        "a3006c37e0f84dce82c57a6e6b722377": {
          "model_module": "@jupyter-widgets/base",
          "model_name": "LayoutModel",
          "model_module_version": "1.2.0",
          "state": {
            "_model_module": "@jupyter-widgets/base",
            "_model_module_version": "1.2.0",
            "_model_name": "LayoutModel",
            "_view_count": null,
            "_view_module": "@jupyter-widgets/base",
            "_view_module_version": "1.2.0",
            "_view_name": "LayoutView",
            "align_content": null,
            "align_items": null,
            "align_self": null,
            "border": null,
            "bottom": null,
            "display": null,
            "flex": null,
            "flex_flow": null,
            "grid_area": null,
            "grid_auto_columns": null,
            "grid_auto_flow": null,
            "grid_auto_rows": null,
            "grid_column": null,
            "grid_gap": null,
            "grid_row": null,
            "grid_template_areas": null,
            "grid_template_columns": null,
            "grid_template_rows": null,
            "height": null,
            "justify_content": null,
            "justify_items": null,
            "left": null,
            "margin": null,
            "max_height": null,
            "max_width": null,
            "min_height": null,
            "min_width": null,
            "object_fit": null,
            "object_position": null,
            "order": null,
            "overflow": null,
            "overflow_x": null,
            "overflow_y": null,
            "padding": null,
            "right": null,
            "top": null,
            "visibility": null,
            "width": null
          }
        },
        "5c58bdb247c54f54a1508239017a9f92": {
          "model_module": "@jupyter-widgets/base",
          "model_name": "LayoutModel",
          "model_module_version": "1.2.0",
          "state": {
            "_model_module": "@jupyter-widgets/base",
            "_model_module_version": "1.2.0",
            "_model_name": "LayoutModel",
            "_view_count": null,
            "_view_module": "@jupyter-widgets/base",
            "_view_module_version": "1.2.0",
            "_view_name": "LayoutView",
            "align_content": null,
            "align_items": null,
            "align_self": null,
            "border": null,
            "bottom": null,
            "display": null,
            "flex": null,
            "flex_flow": null,
            "grid_area": null,
            "grid_auto_columns": null,
            "grid_auto_flow": null,
            "grid_auto_rows": null,
            "grid_column": null,
            "grid_gap": null,
            "grid_row": null,
            "grid_template_areas": null,
            "grid_template_columns": null,
            "grid_template_rows": null,
            "height": null,
            "justify_content": null,
            "justify_items": null,
            "left": null,
            "margin": null,
            "max_height": null,
            "max_width": null,
            "min_height": null,
            "min_width": null,
            "object_fit": null,
            "object_position": null,
            "order": null,
            "overflow": null,
            "overflow_x": null,
            "overflow_y": null,
            "padding": null,
            "right": null,
            "top": null,
            "visibility": null,
            "width": null
          }
        },
        "23f46e5facbf4b06a2e3e4eb132c61b6": {
          "model_module": "@jupyter-widgets/controls",
          "model_name": "DescriptionStyleModel",
          "model_module_version": "1.5.0",
          "state": {
            "_model_module": "@jupyter-widgets/controls",
            "_model_module_version": "1.5.0",
            "_model_name": "DescriptionStyleModel",
            "_view_count": null,
            "_view_module": "@jupyter-widgets/base",
            "_view_module_version": "1.2.0",
            "_view_name": "StyleView",
            "description_width": ""
          }
        },
        "5cfc4773cbc54906977e308a1a8f573b": {
          "model_module": "@jupyter-widgets/base",
          "model_name": "LayoutModel",
          "model_module_version": "1.2.0",
          "state": {
            "_model_module": "@jupyter-widgets/base",
            "_model_module_version": "1.2.0",
            "_model_name": "LayoutModel",
            "_view_count": null,
            "_view_module": "@jupyter-widgets/base",
            "_view_module_version": "1.2.0",
            "_view_name": "LayoutView",
            "align_content": null,
            "align_items": null,
            "align_self": null,
            "border": null,
            "bottom": null,
            "display": null,
            "flex": null,
            "flex_flow": null,
            "grid_area": null,
            "grid_auto_columns": null,
            "grid_auto_flow": null,
            "grid_auto_rows": null,
            "grid_column": null,
            "grid_gap": null,
            "grid_row": null,
            "grid_template_areas": null,
            "grid_template_columns": null,
            "grid_template_rows": null,
            "height": null,
            "justify_content": null,
            "justify_items": null,
            "left": null,
            "margin": null,
            "max_height": null,
            "max_width": null,
            "min_height": null,
            "min_width": null,
            "object_fit": null,
            "object_position": null,
            "order": null,
            "overflow": null,
            "overflow_x": null,
            "overflow_y": null,
            "padding": null,
            "right": null,
            "top": null,
            "visibility": null,
            "width": null
          }
        },
        "f1169a88946a4ba1af50cc2945583ff7": {
          "model_module": "@jupyter-widgets/controls",
          "model_name": "ProgressStyleModel",
          "model_module_version": "1.5.0",
          "state": {
            "_model_module": "@jupyter-widgets/controls",
            "_model_module_version": "1.5.0",
            "_model_name": "ProgressStyleModel",
            "_view_count": null,
            "_view_module": "@jupyter-widgets/base",
            "_view_module_version": "1.2.0",
            "_view_name": "StyleView",
            "bar_color": null,
            "description_width": ""
          }
        },
        "c0eeff9a81e649a4ba5b57c8c7253787": {
          "model_module": "@jupyter-widgets/base",
          "model_name": "LayoutModel",
          "model_module_version": "1.2.0",
          "state": {
            "_model_module": "@jupyter-widgets/base",
            "_model_module_version": "1.2.0",
            "_model_name": "LayoutModel",
            "_view_count": null,
            "_view_module": "@jupyter-widgets/base",
            "_view_module_version": "1.2.0",
            "_view_name": "LayoutView",
            "align_content": null,
            "align_items": null,
            "align_self": null,
            "border": null,
            "bottom": null,
            "display": null,
            "flex": null,
            "flex_flow": null,
            "grid_area": null,
            "grid_auto_columns": null,
            "grid_auto_flow": null,
            "grid_auto_rows": null,
            "grid_column": null,
            "grid_gap": null,
            "grid_row": null,
            "grid_template_areas": null,
            "grid_template_columns": null,
            "grid_template_rows": null,
            "height": null,
            "justify_content": null,
            "justify_items": null,
            "left": null,
            "margin": null,
            "max_height": null,
            "max_width": null,
            "min_height": null,
            "min_width": null,
            "object_fit": null,
            "object_position": null,
            "order": null,
            "overflow": null,
            "overflow_x": null,
            "overflow_y": null,
            "padding": null,
            "right": null,
            "top": null,
            "visibility": null,
            "width": null
          }
        },
        "dfc8d8a6adff4a80bc15566c4c0eab8f": {
          "model_module": "@jupyter-widgets/controls",
          "model_name": "DescriptionStyleModel",
          "model_module_version": "1.5.0",
          "state": {
            "_model_module": "@jupyter-widgets/controls",
            "_model_module_version": "1.5.0",
            "_model_name": "DescriptionStyleModel",
            "_view_count": null,
            "_view_module": "@jupyter-widgets/base",
            "_view_module_version": "1.2.0",
            "_view_name": "StyleView",
            "description_width": ""
          }
        }
      }
    }
  },
  "cells": [
    {
      "cell_type": "markdown",
      "metadata": {
        "id": "view-in-github",
        "colab_type": "text"
      },
      "source": [
        "<a href=\"https://colab.research.google.com/github/danielsaggau/IR_LDC/blob/main/plots/length_datasets.ipynb\" target=\"_parent\"><img src=\"https://colab.research.google.com/assets/colab-badge.svg\" alt=\"Open In Colab\"/></a>"
      ]
    },
    {
      "cell_type": "code",
      "execution_count": null,
      "metadata": {
        "id": "fvwW_GKO_Li1"
      },
      "outputs": [],
      "source": [
        "!pip install datasets\n",
        "from datasets import load_dataset\n",
        "import matplotlib.pyplot as plt\n",
        "import pandas as pd\n",
        "dataset_de = load_dataset(\"swiss_judgment_prediction\", language= \"de\")\n",
        "dataset_it = load_dataset(\"swiss_judgment_prediction\", language= \"it\")\n",
        "dataset_fr = load_dataset(\"swiss_judgment_prediction\", language= \"fr\")"
      ]
    },
    {
      "cell_type": "code",
      "source": [
        "import matplotlib.pyplot as plt\n",
        "import pandas as pd\n",
        "import seaborn as sns"
      ],
      "metadata": {
        "id": "b8kI_e6Mrddz"
      },
      "execution_count": null,
      "outputs": []
    },
    {
      "cell_type": "code",
      "source": [
        "dataset_it = load_dataset(\"swiss_judgment_prediction\", language= \"it\")\n",
        "italy_train = pd.DataFrame(dataset_it['train'])\n",
        "#de_train = pd.DataFrame(dataset_de['train'])\n",
        "#dataset_fr = load_dataset(\"swiss_judgment_prediction\", language= \"fr\")\n",
        "#fr_train = pd.DataFrame(dataset_fr['train'])\n",
        "it_train = pd.DataFrame(dataset_it['train'])"
      ],
      "metadata": {
        "id": "wzy1xvzrt49J"
      },
      "execution_count": null,
      "outputs": []
    },
    {
      "cell_type": "code",
      "source": [
        "#de_test['type'] = \"test\"\n",
        "text = de_train['text']\n",
        "de_train['length'] = text.str.len()\n",
        "#text_test = de_test['text']\n",
        "#de_test['length'] = text_test.str.len()\n",
        "#text_validation = de_validation['text']\n",
        "#de_validation['length'] = text_validation.str.len()"
      ],
      "metadata": {
        "id": "9MFelTuTuE9S"
      },
      "execution_count": null,
      "outputs": []
    },
    {
      "cell_type": "code",
      "source": [
        "#dataset_fr = load_dataset(\"swiss_judgment_prediction\", language= \"fr\")\n",
        "#fr_train = pd.DataFrame(dataset_fr['train'])\n",
        "#fr_text = fr_train['text']\n",
        "#fr_train['length'] = fr_text.str.len()\n",
        "it_text = it_train['text']\n",
        "it_train['length'] = it_text.str.len()"
      ],
      "metadata": {
        "id": "-RqvJRfyvpku"
      },
      "execution_count": 34,
      "outputs": []
    },
    {
      "cell_type": "code",
      "source": [
        "import numpy as np\n",
        "#de_train['log_length'] = np.log10(de_train['length'])\n",
        "#fr_train['log_length'] = np.log10(fr_train['length'])\n",
        "it_train['log_length'] = np.log10(it_train['length'])"
      ],
      "metadata": {
        "id": "sWhSnh1l0jHc"
      },
      "execution_count": 35,
      "outputs": []
    },
    {
      "cell_type": "code",
      "source": [
        "data = pd.concat([de_train, it_train])\n",
        "data = pd.concat([data, fr_train])"
      ],
      "metadata": {
        "id": "iMtFpMhb2ETP"
      },
      "execution_count": null,
      "outputs": []
    },
    {
      "cell_type": "code",
      "source": [
        "x= pd.merge(de_train, it_train,how=\"left\")\n",
        "y = pd.merge(x, fr_train, how =\"left\")\n",
        "y"
      ],
      "metadata": {
        "id": "mll4Wb8N4jPK"
      },
      "execution_count": null,
      "outputs": []
    },
    {
      "cell_type": "code",
      "source": [
        "plt.figure(figsize=(8,6))\n",
        "sns.histplot(x= \"log_length\",data = de_train).set(title='Distribution of Swiss Legal Judgement Dataset: German language')\n",
        "sns.histplot(x= \"log_length\",data = fr_train, color = \"green\")\n",
        "sns.histplot(x= \"log_length\",data = it_train, color = \"yellow\")\n",
        "plt.savefig(\"swiss_de_histplot.jpg\")"
      ],
      "metadata": {
        "id": "XAhWSqfnvfHs"
      },
      "execution_count": null,
      "outputs": []
    },
    {
      "cell_type": "code",
      "source": [
        "plt.figure(figsize=(8,6))\n",
        "sns.histplot(x= \"log_length\", data = de_train, hue = \"year\").set(title='Distribution of Swiss Legal Judgement Dataset: German language')\n",
        "plt.savefig(\"swiss_de_histplot.jpg\")"
      ],
      "metadata": {
        "id": "ABF2YQ6p2i5H"
      },
      "execution_count": null,
      "outputs": []
    },
    {
      "cell_type": "code",
      "source": [
        "plt.figure(figsize=(8,6))\n",
        "sns.histplot(x= \"length\",data = de_train).set(title='Distribution of Swiss Legal Judgement Dataset: German language')\n",
        "sns.histplot(x= \"length\", data = fr_train, color = \"green\")\n",
        "sns.histplot(x= \"length\" ,data = it_train, color = \"yellow\")\n",
        "plt.savefig(\"swiss_de_histplot.jpg\")"
      ],
      "metadata": {
        "id": "Cdq1Li1k1ZT-"
      },
      "execution_count": null,
      "outputs": []
    },
    {
      "cell_type": "code",
      "source": [
        "dataset_fr = load_dataset(\"swiss_judgment_prediction\", language= \"fr\")\n",
        "fr_train = pd.DataFrame(dataset_fr['train'])\n",
        "fr_text = fr_train['text']\n",
        "fr_train['length'] = fr_text.str.len()"
      ],
      "metadata": {
        "id": "xGRZDRg3cR7t"
      },
      "execution_count": null,
      "outputs": []
    },
    {
      "cell_type": "code",
      "source": [
        "dataset_de = load_dataset(\"swiss_judgment_prediction\", language= \"de\")\n",
        "de_train = pd.DataFrame(dataset_de['train'])\n",
        "de_text = de_train['text']\n",
        "de_train['length'] = de_text.str.len()"
      ],
      "metadata": {
        "colab": {
          "base_uri": "https://localhost:8080/",
          "height": 154,
          "referenced_widgets": [
            "7a4ead1e487940f2902db44550bbe10b",
            "bc0c6a7bfa3b4c6fa2889902bbc3acc8",
            "c94c96c5e00a484ab2d5e298c6329003",
            "e12b0e23925341f29f6d28a0dceea663",
            "341b3c95bdaa471ca036d02e7dfba90b",
            "10d0d8e49db148939d43df4a052692ae",
            "e3788a6cb81949bea882988ed72077b1",
            "8e2cead17a6441358e701c657ca413ac",
            "f8de30eee0b04c8f82b7354f207ecd10",
            "6954f2eaec904c2db138909e6343234e",
            "84f80c9002574d81961386b35a4952c7",
            "1299defdccea448aae61efc4eeafed56",
            "8928a6df18b647fc9228e0da32b0a6b4",
            "a79d48257eef474199595921e8f67642",
            "f6866b84ba8f457cbb4174fdbf76c925",
            "580a99cc3d9b4af4a0066821ec8a2044",
            "cbe17ec04e9d41d29b3804683f4fc2a3",
            "5381740a5a0b4576b1c982e45dc6c742",
            "87b288d2a15043fb91cb76539a50229c",
            "5459bdb8a92e4d45b0101212da947d5a",
            "4e2dd083a4524491b90d567edb530b0d",
            "c4b74a65d11442028d600f39429725a3",
            "e9487f87a2004e4297c0def24a126ea6",
            "fca74d9ba0ce4ac0ae028d76d92396bd",
            "14e6f7e7bc3a4cd786e95e582de2b157",
            "8ecbf9d92e0d4b21a6eb958551328a57",
            "bdcc3250845941b2833de02c7061cc63",
            "83e140b710a34d94bd14d14e33d95a0e",
            "cb2f4eee0bd8492b87086d9f7d3fcfe9",
            "0ebce73fec0045cd8163ef564c115d46",
            "01edd09d45644717987f474bf339c646",
            "d569e3e50a854dd39c7bfb8709799d8e",
            "a0f5717ca4904c13b7cfc3302e5f1908",
            "6b03d69522954a69853dfe04b55a24ca",
            "33126d14bd6b47a4bb037d313af45103",
            "a169db6530b64cbfa6be24242bacc0b7",
            "a46729d3d7194e3f8285bfdb3c4b5abf",
            "36d2029873564de088680c11cedaf7ef",
            "4632494128be4ddfab10c4d22d152827",
            "b2cde5d560134755892ac354186bb181",
            "91604e3117324f2ea5ed381b68d57efc",
            "f8f2caf3b2024234ac98a978f58fd9e8",
            "ac522c8bf5d3484ca13514d732a43c55",
            "956742e16d9d405cb7ca0a2bbb274251",
            "11dfbfcda4a546e390fa1000dfaadbb2",
            "bc1d9de021cc42f38a2e99b3e2385f02",
            "5374a937b7344df78d94572eeff5d9f3",
            "0f3b7f5e67714e34b6c402264d2c83b3",
            "149d78bd9bcd40f7a88248d15f6c534b",
            "a08033a03a294e7f8a2d73e7d2da66d8",
            "332a1ec17a3442d4b251760816e87ffb",
            "405949a565024d27bd96b3bc0b6b3514",
            "77d24ae896354fa28345bb5dc20f653c",
            "d0247b3dd4f44cc1b07f73e2a898068e",
            "e664b8d2058046468b5b7dc76a6d53c7"
          ]
        },
        "id": "pQnEIvwkck-n",
        "outputId": "916ca742-847d-46aa-d6c9-e3fe8d3f02b7"
      },
      "execution_count": 44,
      "outputs": [
        {
          "output_type": "stream",
          "name": "stderr",
          "text": [
            "WARNING:datasets.builder:Using custom data configuration default-language=de\n"
          ]
        },
        {
          "output_type": "stream",
          "name": "stdout",
          "text": [
            "Downloading and preparing dataset swiss_judgment_prediction/default to /root/.cache/huggingface/datasets/swiss_judgment_prediction/default-language=de/2.0.0/f5085addd5983c34508f8eadfccca6542995eddea38acf13fbccb06952988155...\n"
          ]
        },
        {
          "output_type": "display_data",
          "data": {
            "text/plain": [
              "Downloading data files:   0%|          | 0/4 [00:00<?, ?it/s]"
            ],
            "application/vnd.jupyter.widget-view+json": {
              "version_major": 2,
              "version_minor": 0,
              "model_id": "7a4ead1e487940f2902db44550bbe10b"
            }
          },
          "metadata": {}
        },
        {
          "output_type": "display_data",
          "data": {
            "text/plain": [
              "Generating train split: 0 examples [00:00, ? examples/s]"
            ],
            "application/vnd.jupyter.widget-view+json": {
              "version_major": 2,
              "version_minor": 0,
              "model_id": "1299defdccea448aae61efc4eeafed56"
            }
          },
          "metadata": {}
        },
        {
          "output_type": "display_data",
          "data": {
            "text/plain": [
              "Generating validation split: 0 examples [00:00, ? examples/s]"
            ],
            "application/vnd.jupyter.widget-view+json": {
              "version_major": 2,
              "version_minor": 0,
              "model_id": "e9487f87a2004e4297c0def24a126ea6"
            }
          },
          "metadata": {}
        },
        {
          "output_type": "display_data",
          "data": {
            "text/plain": [
              "Generating test split: 0 examples [00:00, ? examples/s]"
            ],
            "application/vnd.jupyter.widget-view+json": {
              "version_major": 2,
              "version_minor": 0,
              "model_id": "6b03d69522954a69853dfe04b55a24ca"
            }
          },
          "metadata": {}
        },
        {
          "output_type": "stream",
          "name": "stdout",
          "text": [
            "Dataset swiss_judgment_prediction downloaded and prepared to /root/.cache/huggingface/datasets/swiss_judgment_prediction/default-language=de/2.0.0/f5085addd5983c34508f8eadfccca6542995eddea38acf13fbccb06952988155. Subsequent calls will reuse this data.\n"
          ]
        },
        {
          "output_type": "display_data",
          "data": {
            "text/plain": [
              "  0%|          | 0/3 [00:00<?, ?it/s]"
            ],
            "application/vnd.jupyter.widget-view+json": {
              "version_major": 2,
              "version_minor": 0,
              "model_id": "11dfbfcda4a546e390fa1000dfaadbb2"
            }
          },
          "metadata": {}
        }
      ]
    },
    {
      "cell_type": "markdown",
      "source": [
        "# preprocessing SICK and STS Benchmark"
      ],
      "metadata": {
        "id": "s1dpaaHoWX6j"
      }
    },
    {
      "cell_type": "code",
      "source": [
        "!pip install datasets\n",
        "import seaborn as sns\n",
        "from datasets import load_dataset\n",
        "dataset = load_dataset(\"sick\")"
      ],
      "metadata": {
        "id": "9qWn4H8MWXbs"
      },
      "execution_count": null,
      "outputs": []
    },
    {
      "cell_type": "code",
      "source": [
        "sick =dataset"
      ],
      "metadata": {
        "id": "cwvjyJydWiSu"
      },
      "execution_count": 3,
      "outputs": []
    },
    {
      "cell_type": "code",
      "source": [
        "import pandas as pd \n",
        "import numpy as np\n",
        "sick = pd.DataFrame(sick['train'])"
      ],
      "metadata": {
        "id": "7NmBbQhcWvGG"
      },
      "execution_count": 11,
      "outputs": []
    },
    {
      "cell_type": "code",
      "source": [
        "sick.head()"
      ],
      "metadata": {
        "id": "sCaMFyzOXBq3"
      },
      "execution_count": null,
      "outputs": []
    },
    {
      "cell_type": "code",
      "source": [
        "sick_sent = sick['sentence_A']\n",
        "sick['length'] = sick_sent.str.len()"
      ],
      "metadata": {
        "id": "Og76lmc3Xaef"
      },
      "execution_count": 13,
      "outputs": []
    },
    {
      "cell_type": "code",
      "source": [
        "from datasets import load_dataset\n",
        "dataset = load_dataset(\"mteb/stsbenchmark-sts\")"
      ],
      "metadata": {
        "colab": {
          "base_uri": "https://localhost:8080/",
          "height": 105,
          "referenced_widgets": [
            "c9601ec6e55d4496b749cbca805d3de6",
            "52dd033d24714543817fd4dd69ac89a2",
            "f01f2bfd17af4fcab511f1595f835202",
            "bf0b986c563d4ed1b80c2a532f9cacdd",
            "08d8f61c829f4c9990e32e3b750afcb2",
            "4b216f3b0d1c43f5b58a4c4e61666021",
            "b3342019a92b4e1ab31a1fa2ca0dac34",
            "9d4f2092da92447e85cfc5c1b0753a8a",
            "ac8813bb4f7547f5962b6a8848dd0477",
            "d4e5e023670c4c47ac90cfb789ba5872",
            "88cd5583e87e4844b677dd4cf0d06c75"
          ]
        },
        "id": "YVlLSzVXXijY",
        "outputId": "431f22c8-9d05-4ec4-b76e-b6ea807bcb4c"
      },
      "execution_count": 70,
      "outputs": [
        {
          "output_type": "stream",
          "name": "stderr",
          "text": [
            "WARNING:datasets.builder:Using custom data configuration mteb--stsbenchmark-sts-386233b75400089c\n",
            "WARNING:datasets.builder:Found cached dataset json (/root/.cache/huggingface/datasets/mteb___json/mteb--stsbenchmark-sts-386233b75400089c/0.0.0/e6070c77f18f01a5ad4551a8b7edfba20b8438b7cad4d94e6ad9378022ce4aab)\n"
          ]
        },
        {
          "output_type": "display_data",
          "data": {
            "text/plain": [
              "  0%|          | 0/3 [00:00<?, ?it/s]"
            ],
            "application/vnd.jupyter.widget-view+json": {
              "version_major": 2,
              "version_minor": 0,
              "model_id": "c9601ec6e55d4496b749cbca805d3de6"
            }
          },
          "metadata": {}
        }
      ]
    },
    {
      "cell_type": "code",
      "source": [
        "sts = pd.DataFrame(dataset['train'])\n",
        "sts_sent = sts['sentence1']\n",
        "sts['length'] = sts_sent.str.len()"
      ],
      "metadata": {
        "id": "xhhzANlLYDUy"
      },
      "execution_count": 71,
      "outputs": []
    },
    {
      "cell_type": "code",
      "source": [
        "from datasets import load_dataset\n",
        "dataset = load_dataset(\"ecthr_cases\")"
      ],
      "metadata": {
        "colab": {
          "base_uri": "https://localhost:8080/",
          "height": 105,
          "referenced_widgets": [
            "8849d0a83ea444bf883c8569d4b0ec65",
            "50699946607c45c5af9866874407438b",
            "028e116adb8348e8839c12f7d5e817d5",
            "62bcf7daf3e84cd2b34767e12f7468ff",
            "a3006c37e0f84dce82c57a6e6b722377",
            "5c58bdb247c54f54a1508239017a9f92",
            "23f46e5facbf4b06a2e3e4eb132c61b6",
            "5cfc4773cbc54906977e308a1a8f573b",
            "f1169a88946a4ba1af50cc2945583ff7",
            "c0eeff9a81e649a4ba5b57c8c7253787",
            "dfc8d8a6adff4a80bc15566c4c0eab8f"
          ]
        },
        "id": "dBlFW4pSdJFF",
        "outputId": "4ddf8180-3966-4d48-a0d0-83753c56523b"
      },
      "execution_count": 75,
      "outputs": [
        {
          "output_type": "stream",
          "name": "stderr",
          "text": [
            "WARNING:datasets.builder:No config specified, defaulting to: ecthr_cases/alleged-violation-prediction\n",
            "WARNING:datasets.builder:Found cached dataset ecthr_cases (/root/.cache/huggingface/datasets/ecthr_cases/alleged-violation-prediction/1.1.0/8922a012792758e64921d4a66d42adf759e42838aae54a6a8871607f6399aecf)\n"
          ]
        },
        {
          "output_type": "display_data",
          "data": {
            "text/plain": [
              "  0%|          | 0/3 [00:00<?, ?it/s]"
            ],
            "application/vnd.jupyter.widget-view+json": {
              "version_major": 2,
              "version_minor": 0,
              "model_id": "8849d0a83ea444bf883c8569d4b0ec65"
            }
          },
          "metadata": {}
        }
      ]
    },
    {
      "cell_type": "code",
      "source": [
        "ecthr = pd.DataFrame(dataset['train'])"
      ],
      "metadata": {
        "id": "MrmI_646fLya"
      },
      "execution_count": 76,
      "outputs": []
    },
    {
      "cell_type": "code",
      "source": [
        "ecthr['facts'][1]"
      ],
      "metadata": {
        "colab": {
          "base_uri": "https://localhost:8080/"
        },
        "id": "Nwk2u7LFfQB5",
        "outputId": "55c68165-9343-479e-bcbb-5211d6a1f4bd"
      },
      "execution_count": 79,
      "outputs": [
        {
          "output_type": "execute_result",
          "data": {
            "text/plain": [
              "['9.  The applicant is the monarch of Liechtenstein, born in 1945 and living in Vaduz (Liechtenstein).',\n",
              " '10.  The applicant’s late father, the former monarch of Liechtenstein, had been the owner of the painting Szene an einem römischen Kalkofen (alias Der große Kalkofen) of Pieter van Laer, which had formed part of his family’s art collection since at least 1767. Until the end of the Second World War the painting had been in one of the family’s castles on the territory of the now Czech Republic.',\n",
              " '11.  In 1946 the former Czechoslovakia confiscated the property of the applicant’s father which was situated in its territory, including the painting in question, under Decree no. 12 on the “confiscation and accelerated allocation of agricultural property of German and Hungarian persons and of those having committed treason and acted as enemies of the Czech and Slovak people” (dekretu prezidenta republiky č. 12/1945 Sb. o konfiskaci a urychleném rozdělení majetku Němců, Mad’arů, zrádců a nepřátel), issued by the President of the former Czechoslovakia on 21 June 1945 (“the Beneš Decrees” – “Benešovy dekrety”).',\n",
              " '12.  On 21 November 1951 the Bratislava Administrative Court (správní soud) dismissed the appeal lodged by the applicant’s father. \\nIn its reasoning on the merits of the case, the Administrative Court stated that the defendant office had come to the conclusion that the appellant was a person of German nationality within the meaning of the provision in Article 1 § 1 (a) of the decree, on the basis of a finding that this was and had been generally known. It noted that the defence of the complaint directed against this finding was restricted to the representation that this finding was not supported in the files and that, due to this shortcoming, it had not been necessary to deal with the finding in greater detail. The Administrative Court considered that this approach was mistaken as, under the relevant provision of the administrative regulations, no evidence was required for facts which were generally known and, therefore, it was not necessary for evidence to be contained in the administrative files; however, counter-evidence against an official finding that a certain fact was generally known would have been admitted. \\nThe Administrative Court concluded that, as the appellant had failed to raise the objection that the issue was not a fact of general knowledge and to contend that he was in a position to bring counter-evidence, the finding of the defendant office had remained uncontested.',\n",
              " '13.  In 1991 the municipality of Cologne obtained the painting as a temporary loan from the Brno Historical Monuments Office in the Czech Republic.',\n",
              " '14.  On 11 November 1991 the Cologne Regional Court (Landgericht) granted the applicant’s request for an interim injunction ordering the municipality of Cologne to hand over the painting to a bailiff at the end of the exhibition. The painting was sequestrated on 17 December 1991.',\n",
              " '15.  At the beginning of 1992 the applicant instituted proceedings before the Cologne Regional Court against the municipality of Cologne, requesting that the defendant consent to the delivery of the painting to him by the bailiff. He argued that, as his late father’s heir, he was the owner of the painting. He submitted that the painting had not been subject to expropriation measures in the former Czechoslovakia and that in any event such measures were invalid or irrelevant on account of violation of the ordre public of the Federal Republic of Germany.',\n",
              " '16.  The Brno Historical Monuments Office intervened in these proceedings in support of the defendant. It submitted that the applicant’s father had lost his ownership of the painting as a result of the confiscation in 1946 and that the lawfulness of this confiscation had been confirmed by the Bratislava Administrative Court in its decision of 21 November 1951.',\n",
              " '17.  On 10 October 1995 the Cologne Regional Court, following a hearing, declared the applicant’s action inadmissible. In the court’s view, Chapter 6, Article 3, of the Convention on the Settlement of Matters Arising out of the War and the Occupation (Vertrag zur Regelung aus Krieg und Besatzung entstandener Fragen – “the Settlement Convention”) of 23 October 1954 between the United States of America, the United Kingdom of Great Britain and Northern Ireland, the French Republic and the Federal Republic of Germany excluded German jurisdiction over the applicant’s case. \\nIn its reasoning, the Regional Court noted that, under the terms of that Article’s paragraph 3 taken in conjunction with paragraph 1, claims or actions against persons having acquired or transferred title to property on the basis of measures carried out with regard to German external assets or other property, seized for the purpose of reparation or restitution, or as a result of the state of war, or on the basis of specific agreements, were not admissible. These particular provisions had been confirmed upon German unification.\\nAccording to the Regional Court, Chapter 6, Article 3 § 3, of the Settlement Convention applied, mutatis mutandis, to the applicant’s claims against the defendant, which had obtained the painting on loan and had not acquired property, because any review of the aforementioned measures should be excluded.\\nThe Regional Court found that the confiscation of the applicant’s father’s property under Decree no. 12 on the “confiscation and accelerated allocation of agricultural property of German and Hungarian persons and of those having committed treason and acted as enemies of the Czech and Slovak people”, issued by the President of the former Czechoslovakia on 21 June 1945, constituted a measure within the meaning of Chapter 6, Article 3 § 3. \\nThe Regional Court rejected, in particular, the applicant’s argument that this provision did not apply as it only concerned measures carried out with regard to German external assets or other property and his father had never been a German citizen. In this respect, the court, referring to case-law of the Federal Court of Justice (Bundesgerichtshof), stated that the view of the confiscating State was decisive. The aim and purpose of this provision, namely to sanction, without any further examination, confiscation measures implemented abroad could only be achieved by excluding such measures from judicial review in Germany.\\nMoreover, the Regional Court found that the confiscation measure in question pursued one of the purposes mentioned in Chapter 6, Article 3 § 3. Having regard to German case-law regarding other “Beneš Decrees”, especially Decree no. 108 on the “confiscation of enemy property and the national reform fund”, it considered that Decree no. 12, while also pursuing economic aims, was intended to expropriate the property of German and Hungarian nationals, that is, “enemy property”.\\nThe Regional Court further noted that the applicant’s father’s painting had been expropriated under Decree no. 12. The competent Czechoslovakian authorities had interpreted its provisions as applying to the applicant’s father, regarding him as a “person of German nationality”.  The applicant’s father had unsuccessfully appealed against this decision which had been confirmed by the Bratislava Administrative Court in 1951. The German courts were not in a position to review the lawfulness of the confiscation at issue.\\nFinally, the Regional Court considered that the painting at issue, as part of the inventory of the agricultural property, had been included in the confiscation measure. \\nThe Regional Court dismissed the applicant’s request to suspend the proceedings in order to await the outcome of proceedings to be instituted under the German Equalisation of Burdens Act (Lastenausgleichsgesetz) concerning compensation for damage and losses due to, inter alia, expulsion and destruction during the Second World War and the post-war period in the then Soviet-occupied zone of Germany and of Berlin. The Regional Court considered that the question underlying the litigation before it would not be clarified in such proceedings. Irrespective of the question of whether the plaintiff was of German origin, he had no equalisation claims under the said legislation, which only applied to persons who resided in the Federal Republic of Germany or West Berlin on 31 December 1952. In any event, there was no right to compensation for the loss of works of art (Kunstgegenstände).',\n",
              " '18.  On 9 July 1996 the Cologne Court of Appeal (Oberlandesgericht) dismissed the applicant’s appeal. The Court of Appeal confirmed that the applicant’s action was inadmissible as German jurisdiction in respect of his claim was excluded under Chapter 6, Article 3 § 1, in conjunction with paragraph 3, of the Settlement Convention.\\nThe Court of Appeal considered that the notion of German jurisdiction included the competence, derived from State sovereignty and generally vested by the State in the courts, to administer justice. German jurisdiction was delimited by international agreements, customary international law and the generally recognised rules of international law. Chapter 6, Article 3 § 3, taken in conjunction with paragraph 1, of the Settlements Convention excluded German jurisdiction in respect of claims and actions against persons, who, as a consequence of reparation measures, had directly or indirectly acquired title to German property confiscated abroad.\\nThe Court of Appeal confirmed that the provisions in question continued to be in force under the Treaty of 12 September 1990 on the Final Settlement with respect to Germany. Article 7 of this Treaty, which provided for the termination of the operation of quadripartite rights and responsibilities with respect to Berlin and Germany as a whole, was amended by the Agreement of 27 and 28 September 1990 according to which the Settlement Convention was suspended and later terminated with the exception of the provisions specified in paragraph 3 of that Agreement, inter alia, Chapter 6, Article 3 §§ 1 and 3. That Agreement was valid under public international law and under German constitutional law.\\nThe Court of Appeal further considered that Chapter 6, Article 3 § 3, of the Settlement Convention applied in the applicant’s case. In the court’s view, this provision was the procedural consequence of the notion that the legal relations resulting from the liquidation of German property abroad by foreign powers for the purpose of reparation were “final and unchallengeable” (Endgültigkeit und Unanfechtbarkeit) for the Federal Republic of Germany and the private persons concerned. \\nAccording to the Court of Appeal, the applicant’s constitutional rights, in particular his right to property, his right of access to a court and his right to a decision by the legally competent court (gesetzlicher Richter), had not been infringed. Basic rights protected individuals against acts of domestic public authorities and not against the exercise of public authority by a foreign State abroad. The domestic legislator was therefore not prevented from limiting domestic legal protection against violations of basic rights by a foreign State if this was necessary to attain more important goals.\\nWhen applying Chapter 6, Article 3 § 3, of the Settlement Convention, the domestic law of the expropriating State concerning the concrete confiscation measure had to be taken into account, as this provision was aimed at excluding litigation in Germany regarding confiscation measures based on legislation concerning enemy property. \\nAs regards the applicant’s objections against the lawfulness, in particular under public international law, of the confiscation and expropriation of his father’s property, the Court of Appeal found that by virtue of Chapter 6, Article 3 § 3 of the Settlement Convention, German courts had no jurisdiction. Likewise, this provision did not allow recourse to be had to general rules of public international law or to German ordre public when examining the admissibility of the action. The applicant’s argument that the provisions of the Settlement Convention and their application to him as a national and head of a neutral State violated the law of peace was accordingly rejected.\\nAccording to the Court of Appeal, the painting at issue constituted external assets within the meaning of Chapter 6, Article 3 § 1, of the Settlement Convention, referred to in paragraph 3 of Article 3. The Court of Appeal noted that the applicant’s father had indisputably never had German nationality. However, following the case-law of the Federal Court of Justice, it considered that the notion of “German external assets” had to be interpreted in the light of the law of the expropriating State. The confiscation in dispute had been found to be in compliance with the legislation of the expropriating State: the competent Czechoslovakian administrative authorities as well as the Bratislava Administrative Court had found that Presidential Decree no. 12 of 21 June 1945 applied to the applicant’s father’s confiscated property. Article 1 § 1 (a) of this decree provided for the confiscation of agricultural properties of “all persons of German or Hungarian nationality” irrespective of their citizenship. The notions of “German nationality”, or of “German origin” (“deutsche Volkszugehörigkeit”), likewise used at that time, comprised as relevant elements a person’s citizenship and nationality, the latter depending on the mother tongue. At the relevant time, the Czechoslovakian authorities indisputably regarded the applicant’s father as of German origin in that broader sense.\\nThe Court of Appeal also found that the painting at issue, as part of the confiscated agricultural property, had been subject to the expropriation measure. There were no doubts as to the effectiveness of the expropriation, as it was sufficient under the relevant case-law that such expropriations had been implemented and that the previous owners had been deprived of their factual power of disposition. Furthermore, the painting had been confiscated for the purpose of reparation within the meaning of Chapter 6, Article 3 §§ 1 and 3, of the Settlement Agreement. The limitation of the confiscation measures to persons belonging to enemy States in itself justified such a conclusion. The assets of the persons concerned were confiscated as enemy assets.  \\nFinally, the Court of Appeal considered that both the defendant and the intervener belonged to the group of persons protected by Chapter 6, Article 3 § 3, of the Settlement Agreement. German jurisdiction was excluded whenever the plaintiff intended to challenge measures within the meaning of Chapter 6, Article 3 § 1.',\n",
              " '19.  On 25 September 1997 the Federal Court of Justice refused to entertain the applicant’s appeal on points of law, as the case was of no fundamental importance and, in any event, had no prospect of success.',\n",
              " '20.  On 28 January 1998 the Third Section of the Second Division (3. Kammer des zweiten Senats) of the Federal Constitutional Court (Bundesverfassungsgericht) refused to entertain the applicant’s constitutional complaint (Verfassungsbeschwerde), as it offered no prospect of success. \\nThe Federal Constitutional Court considered in particular that, for the purposes of the civil court decisions, questions as to the existence or non-existence of certain rules of customary international law on the confiscation of neutral assets or on the determination of citizenship were irrelevant as they concerned the issue of the lawfulness of the expropriation by the former Czechoslovakia. The German civil courts had not decided this issue and, under public international law, they had not been obliged to do so. Moreover, to the extent that the civil courts had regarded the expropriation as a measure within the meaning of Chapter 6, Article 3 § 1, of the Settlement Convention, they had expressly refrained from qualifying the applicant’s father’s nationality. Their interpretation of the terms “measures with regard to German external assets” as comprising any measures which, in the intention of the expropriating State, were directed against German assets, could not be objected to under constitutional law. The bar on litigation did not constitute an agreement to the detriment of Liechtenstein, as only the Federal Republic of Germany and its courts were under this treaty obligation.\\nThe Federal Constitutional Court further recalled that the exclusion of jurisdiction did not amount to a violation of the right of property as these clauses and the Settlement Convention as a whole served to settle matters dating back to a time before the entry into force of the German Basic Law (Grundgesetz) on 23 May 1949.\\nFinally, there was no indication of arbitrariness or of a violation of other constitutional rights. The Federal Constitutional Court confirmed that Chapter 6, Article 3 §§ 1 and 3, of the Settlement Convention had not been set aside by the Treaty on the Final Settlement with respect to Germany: while Germany obtained full sovereignty, its obligations under treaties with the Three Powers were not affected. This had also been the legal opinion of the Federal Republic of Germany and the Three Powers, which otherwise would not have settled the suspension and termination of parts of the Settlement Convention in a separate agreement.\\nThe decision was served on 2 February 1998.',\n",
              " '21.  On 9 June 1998 the Cologne Regional Court discharged its interim injunction of 11 November 1991. The bailiff thereupon handed the painting over to the Cologne municipality, which had it returned to the Czech Republic.']"
            ]
          },
          "metadata": {},
          "execution_count": 79
        }
      ]
    },
    {
      "cell_type": "code",
      "source": [
        "ecthr = pd.DataFrame(dataset['train'])\n",
        "ecthr_sent = ecthr['facts']\n",
        "ecthr['length'] = ecthr_sent.str.len()"
      ],
      "metadata": {
        "id": "qvX6AoHDdSAt"
      },
      "execution_count": 88,
      "outputs": []
    },
    {
      "cell_type": "code",
      "source": [
        "ecthr['length']"
      ],
      "metadata": {
        "colab": {
          "base_uri": "https://localhost:8080/"
        },
        "id": "3Ry0L_Mtdk-t",
        "outputId": "d3fe273e-8b83-4821-b28a-76108eabd729"
      },
      "execution_count": 89,
      "outputs": [
        {
          "output_type": "execute_result",
          "data": {
            "text/plain": [
              "0        83\n",
              "1        13\n",
              "2        12\n",
              "3        34\n",
              "4         5\n",
              "       ... \n",
              "8995     33\n",
              "8996     10\n",
              "8997    102\n",
              "8998      7\n",
              "8999      9\n",
              "Name: length, Length: 9000, dtype: int64"
            ]
          },
          "metadata": {},
          "execution_count": 89
        }
      ]
    },
    {
      "cell_type": "code",
      "source": [
        "plt.figure(figsize=(8,6))\n",
        "plt.hist([sick['length'], sts['length'], it_train['length'], fr_train['length'], de_train['length']],\n",
        "         bins = 50, label=['SICK', 'STS-Benchmark','swiss-judgement-it', \"swiss-judgement-fr\", \"swiss-judgement-de\"])\n",
        "plt.legend(loc='upper right')\n",
        "plt.xlim(0, 11000)\n",
        "plt.xlabel(\"Length of the Sentences in the Input\")\n",
        "plt.ylabel(\"Frequency of the length of the Input\")\n",
        "plt.savefig(\"dataset_length.jpg\")"
      ],
      "metadata": {
        "colab": {
          "base_uri": "https://localhost:8080/",
          "height": 479
        },
        "id": "iAJJA6SraDKZ",
        "outputId": "2a2852c6-788c-4afa-edcf-e01efa4df910"
      },
      "execution_count": 92,
      "outputs": [
        {
          "output_type": "stream",
          "name": "stderr",
          "text": [
            "/usr/local/lib/python3.7/dist-packages/numpy/core/fromnumeric.py:3208: VisibleDeprecationWarning: Creating an ndarray from ragged nested sequences (which is a list-or-tuple of lists-or-tuples-or ndarrays with different lengths or shapes) is deprecated. If you meant to do this, you must specify 'dtype=object' when creating the ndarray.\n",
            "  return asarray(a).size\n",
            "/usr/local/lib/python3.7/dist-packages/matplotlib/cbook/__init__.py:1376: VisibleDeprecationWarning: Creating an ndarray from ragged nested sequences (which is a list-or-tuple of lists-or-tuples-or ndarrays with different lengths or shapes) is deprecated. If you meant to do this, you must specify 'dtype=object' when creating the ndarray.\n",
            "  X = np.atleast_1d(X.T if isinstance(X, np.ndarray) else np.asarray(X))\n"
          ]
        },
        {
          "output_type": "display_data",
          "data": {
            "text/plain": [
              "<Figure size 576x432 with 1 Axes>"
            ],
            "image/png": "[encoded data removed]"
          },
          "metadata": {
            "needs_background": "light"
          }
        }
      ]
    }
  ]
}