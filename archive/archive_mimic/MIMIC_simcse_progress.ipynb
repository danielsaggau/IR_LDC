{
  "cells": [
    {
      "cell_type": "markdown",
      "metadata": {
        "colab_type": "text",
        "id": "view-in-github"
      },
      "source": [
        "<a href=\"https://colab.research.google.com/github/danielsaggau/IR_LDC/blob/main/model/MIMIC/MIMIC_simcse_progress.ipynb\" target=\"_parent\"><img src=\"https://colab.research.google.com/assets/colab-badge.svg\" alt=\"Open In Colab\"/></a>"
      ]
    },
    {
      "cell_type": "code",
      "execution_count": 2,
      "metadata": {
        "colab": {
          "base_uri": "https://localhost:8080/"
        },
        "id": "1t-yCziDJmc6",
        "outputId": "644dff1a-3e12-464b-dcd1-de98d8d93547"
      },
      "outputs": [
        {
          "name": "stdout",
          "output_type": "stream",
          "text": [
            "fatal: destination path 'IR_LDC' already exists and is not an empty directory.\n"
          ]
        }
      ],
      "source": [
        "!git clone https://github.com/danielsaggau/IR_LDC.git"
      ]
    },
    {
      "cell_type": "code",
      "execution_count": null,
      "metadata": {
        "id": "7S-RrH1fJL2z"
      },
      "outputs": [],
      "source": [
        "from google.colab import drive\n",
        "drive.mount('/content/drive')"
      ]
    },
    {
      "cell_type": "code",
      "execution_count": 9,
      "metadata": {
        "colab": {
          "base_uri": "https://localhost:8080/"
        },
        "id": "8YSn6IXqJob7",
        "outputId": "bca8a15a-a98b-46eb-a9a3-8747fa27df64"
      },
      "outputs": [
        {
          "name": "stdout",
          "output_type": "stream",
          "text": [
            "/content/IR_LDC\n"
          ]
        }
      ],
      "source": [
        "%cd IR_LDC"
      ]
    },
    {
      "cell_type": "code",
      "execution_count": null,
      "metadata": {
        "id": "uY5AQdi6JqXD"
      },
      "outputs": [],
      "source": [
        "!pip install -r requirements.txt"
      ]
    },
    {
      "cell_type": "code",
      "execution_count": 6,
      "metadata": {
        "id": "sbK_e2VeJJiT"
      },
      "outputs": [],
      "source": [
        "from datasets import load_dataset\n",
        "from torch.utils.data import DataLoader\n",
        "import math\n",
        "from sentence_transformers import models, losses\n",
        "from sentence_transformers import LoggingHandler, SentenceTransformer, InputExample\n",
        "import logging\n",
        "from datetime import datetime\n",
        "import gzip\n",
        "import sys\n",
        "import tqdm\n",
        "import json"
      ]
    },
    {
      "cell_type": "code",
      "execution_count": null,
      "metadata": {
        "id": "W3Gcs_-Mq-kt"
      },
      "outputs": [],
      "source": [
        "!unzip /content/drive/MyDrive/mimic.jsonl.zip -d content\n",
        "with open('content/mimic.jsonl') as f:\n",
        "    data = [json.loads(line) for line in f]"
      ]
    },
    {
      "cell_type": "code",
      "execution_count": null,
      "metadata": {
        "colab": {
          "base_uri": "https://localhost:8080/",
          "height": 105,
          "referenced_widgets": [
            "2d55062c2db34dab9a629f084d949476",
            "8dbc35bda59d48ca984e70ab885f85b2",
            "3e557f7861d3437cb683b4190470d456",
            "ddc764c214a34d9bbff0ce91897877ff",
            "e912ab8a7a5a461a881a8270144aebdd",
            "8e1f1f6587cb40afa3d4a4768506912e",
            "c26dd960cf5f41319a72cc2376678172",
            "00989f717fc34a4b9a0dc91dae328f35",
            "020fc0146f694e6f867e52376bf53ce9",
            "f7b695b9c3c04a1c8ba1a6f03786c846",
            "41ae92ec1752403b89cf172b78924bee"
          ]
        },
        "id": "Hkb3l02ehIDD",
        "outputId": "f3ddfcfd-a658-42b2-e70f-4007068a6d98"
      },
      "outputs": [],
      "source": [
        "dataset = load_dataset(\"json\", data_files=\"/content/IR_LDC/content/mimic.jsonl\")"
      ]
    },
    {
      "cell_type": "markdown",
      "metadata": {
        "id": "_Ma7K8V9qpOd"
      },
      "source": [
        "Todo: learn how to work with mimic script\n",
        "``python /content/IR_LDC/model/MIMIC/mimic.py``"
      ]
    },
    {
      "cell_type": "code",
      "execution_count": 8,
      "metadata": {
        "id": "TkANswL2nL32"
      },
      "outputs": [],
      "source": [
        "dataset_train_test = dataset['train'].train_test_split(test_size=0.1)\n",
        "dataset_test = dataset_train_test['test']\n",
        "dataset_sp = dataset_train_test['train'].train_test_split(test_size=0.1/0.9)\n",
        "dataset_train = dataset_sp['train']\n",
        "dataset_validation = dataset_sp['test']"
      ]
    },
    {
      "cell_type": "code",
      "execution_count": 13,
      "metadata": {
        "colab": {
          "base_uri": "https://localhost:8080/"
        },
        "id": "VDYtD0BevyRY",
        "outputId": "ed233738-c52d-4267-dad3-a258c2c886c3"
      },
      "outputs": [
        {
          "data": {
            "text/plain": [
              "DatasetDict({\n",
              "    train: Dataset({\n",
              "        features: ['summary_id', 'concepts', 'text', 'sections', 'level_1', 'level_2', 'level_3', 'data_type'],\n",
              "        num_rows: 45000\n",
              "    })\n",
              "    test: Dataset({\n",
              "        features: ['summary_id', 'concepts', 'text', 'sections', 'level_1', 'level_2', 'level_3', 'data_type'],\n",
              "        num_rows: 5000\n",
              "    })\n",
              "})"
            ]
          },
          "execution_count": 13,
          "metadata": {},
          "output_type": "execute_result"
        }
      ],
      "source": [
        "dataset_train_test"
      ]
    },
    {
      "cell_type": "code",
      "execution_count": 9,
      "metadata": {
        "colab": {
          "base_uri": "https://localhost:8080/",
          "height": 250
        },
        "id": "J2thuZHIvaDO",
        "outputId": "92cf9f98-d26d-4869-a35c-ca08f60b388d"
      },
      "outputs": [
        {
          "data": {
            "application/vnd.google.colaboratory.intrinsic+json": {
              "type": "string"
            },
            "text/plain": [
              "\"Admission Date:  [**2142-8-17**]              Discharge Date:   [**2142-9-21**]\\n\\nDate of Birth:  [**2089-7-6**]             Sex:   F\\n\\nService: MEDICINE\\n\\nAllergies:\\nTape\\n\\nAttending:[**First Name3 (LF) 297**]\\nChief Complaint:\\nInfected lower extremity ulcer\\n\\nMajor Surgical or Invasive Procedure:\\nPercutaneous tracheostomy placement\\n\\n\\nHistory of Present Illness:\\nCC: Respiratory failure\\n.\\nHPI: The patient was initially admitted to OSH for treatment of\\nRLE ulcers from venous stasis/arterial insufficiency. The\\npatient was intended to have fem-[**Doctor Last Name **] bypass, but the ulcers\\nbecame infected with MRSA and the patient was taken to the OR at\\nthe OSH for debridement. The patient was then stabilized and\\ntransferred to rehab on a regimen of vanc/zosyn/cipro. An MRI\\nshowed no evidence of osteo, but MRA showed minimal inflow to\\nRLE with SFA occlusion. At the rehab center, the patient\\nexperienced increasing pain and erythema at the RLE site, and\\nwas then transferred to [**Hospital1 18**] for further vascular workup. The\\npatient was being monitored and worked up by vascular surgery\\nwhen urine output began to drop and creatinine bumped from 1.4\\n--> 2.2, coincident with a fever to 103.3. The patient had no\\nhypotensive episodes. A renal consult was obtained, which\\nsuggested ATN vs AIN as a diagnosis, possibly precipitated by\\nsepsis or worsening CHF. The patient was noted to be in fluid\\noverload by the renal team. They finally settled on the\\ndiagnosis of non-oliguric ATN. A goal of [**2-4**] L diuresis per day\\nwas set, and easily met using lasix. Unfortunately, the patient\\nthen became oversedated on her opiates, with some resolution\\nwith narcan, then transferred to the SICU for BiPAP and\\nobservation of respiratory status. When her respiratory status\\nhad improved sufficiently, she was transferred to the medical\\nfloor for further care.\\n.\\nPt then became unarousable on the evening of [**8-24**] pt became\\nunarousable, partially responded to Narcan. Pt was transferred\\nto MICU for decreased respiratory drive and unarousability. Pt\\nwas placed briefly on a Narcan drip, then weaned off with good\\nrespiratory drive. Pt initially had a Cr bump with this episode,\\nCr has been fluctuating since. Have been trying to get patient\\nin net negative fluid balance with Lasix, but has been\\ndifficult, and Cr has stayed above the level of 3.1, which was\\nher Cr when she came out of the SICU.\\n.\\nThis AM the patient is resting comfortably and breathing with\\ngood O2 sats on only 2L by NC, which is a vast improvement over\\nearlier in her hospital course. No complaints, though she notes\\nthat her pain level is higher than before, she understands our\\nreticence to use narcotics to treat it. No F/C, no N/V, no CP,\\nmild SOB.\\n.\\nAt 5 am on [**8-27**], the patient became acutely hypoxic and had\\nrespiratiory failure with diffuse wheezing and poor air\\nmovement, with evidence of extreme respiratory fatigue prompting\\na MICU evaluation and subsequent call for anesthesia to intubate\\nstat in on the floor before transfer. A Stat cxr was obtained\\nwhich showed acute exacerbation of heart failure. She was given\\n120 mg of Lasix, and was intubated and put on assist control\\nventilation. An ECG was obtained which showed diffuse low\\nvoltages, a leftward axis, late R wave progression, normal\\nintervals and no evidence of ischemia. Cardiac markers were sent\\nas well as a sputum sample for gram stain and culture.\\n\\n\\nPast Medical History:\\nIDDM\\nCAD s/p MI [**4-6**]\\nHTN\\nHyperlipidemia\\nCVA - residual R facial weakness\\nCHF - unknown EF\\nPVD\\n\\n\\nSocial History:\\noccasional EtOH, 40 pack-year tobacco history, quit 1 year ago.\\nNo history of illicits.\\n.\\n\\n\\nFamily History:\\nFamily Hx: mother with DM, PVD.\\n\\nPhysical Exam:\\nExam:\\n.\\n96.8 (rectal) 88 146/80 30 98 sat on NRB\\nAcutely dyspneic and in respiratory distress with audible\\nexpiratory wheezing, laborious breathing with accessory muscle\\nuse\\nUnable to assess JVP 2/2 habitus\\nPoor air movement and diffuse expiratory wheezes with a\\nprolonged expiratory phase.\\nRRR, [**3-11**] hsm, no rubs\\nAbdomen obese, soft, non-tender\\n1+ peripheral edema, venous stasis changes.\\n\\n\\nPertinent Results:\\n[**8-19**] wound swab: Stenotrophomonas\\n[**8-20**] Urine cx: yeast\\nPICC line removed, tip culture ngtd.\\nR IJ Enterococcus\\nBld cx ([**9-16**]) Vanc/Ampicillin R enterococcus sensitive to\\nlinezolid\\n\\nBrief Hospital Course:\\n53F with severe PVD and infected RLE ulcer transferred from\\nOSH/rehab for vascular eval. Complicated ICU course complicated\\nby non-oliguric ARF and respiratory depression [**3-7**] narcotics -\\ntransferred to floor for further management of her infected foot\\nulcers found to be in acute respiratory failure intubated and\\nsedated and transferred back to the unit.\\n.\\n1. Hypercarbic Respiratory failure - In unit pt extubated but\\nrequired re-intubation c respiratory failure believed due to CHF\\nexacerbation. Pt then difficult to wean from vent. Multiple\\nfactors believed to be involved including large pleural\\neffusions that were noted on CT, respiratory muscle weakness\\n(NIF of approx -20), pulmonary edema, and obstruction [**3-7**] large\\nbody habitus. Multiple attempts made to diurese pt c approx 1L\\ntaken off everyday for one week. The aggressiveness of diuresis\\nhad to be slowed last week as pt became hypotensive and\\nintermitently febrile. During this time internentional pulmonary\\nservice gave pt a percutaneous tracheostomy. Once hypotension\\nrelieved pt noted to have large pleural effusuions bilat on CT.\\nInterventional pulmonary service tapped one of the L effusion\\nand removed approx 600cc of transudative fluid. Pt's respiratory\\nstatus improved significantly after this tap and c signif\\ndiuresis of nearly 1-2L per day via lasix drip this week. Able\\nto wean pt from AC to PS and pt tolerated trial of 5/0 this am\\nfor appox 4 hours. Pt then tolerated trach mask.  Speech\\nfollowing pt and she tolerated a passy muir valve yesterday am x\\n30 mins.\\n\\n2. Sepsis: Pt c intermitent fevers, hypotension c SBPs in 90s\\nlast week. Bld cx initially grew out staph and pt treated c\\nvancomycin. This stopped when believed [**3-7**] contamination as\\nstaph speciated as coag negative. Pt received TTE and TEE that\\nshowed no signs of infective endocarditis. Vascular surgery\\nevaluated her RLE wound and felt there were no signs of\\ncellulitis or anything contributing to a more systemic process.\\nA line pulled and grew coag negative staph, pt then placed on\\nvancomycin. Pt continued to spike low grade fevers and remained\\nhypotensive c SBPs in low 100s. R IJ then pulled and grew\\nEnterococcus, bld cx from same day grew VRE and so pt placed on\\nlinezolid 4 days ago. Once pt placed on linezolid fevers\\nresolved and no episodes of hypotension.\\n\\n3. RLE wound: vascular surgery followed. No evidence of\\nosteomyelitis/fasciitis on previous MRI. Wound culture growing\\nstenotrophomonas. This is sensitive to Bactrim, have started and\\nvascular indicates abx should be continued until wound improves.\\nThey are wary to perform angiography on the leg given pt's\\nkindey function. Once this improves they plan to image the leg\\nand determine vascular supply to area.  In meantime, they\\nrecommend continuing wet-to-dry dressing changes [**Hospital1 **].\\n\\n.\\n4. ARF: Pt developed ARF amid fevers, no clear evidence of\\nhypotensive episode. Renal service followed the patient and\\nindicated they suspect ATN. With aggressive fluids initially in\\nthe hospital stay pt's creatinine trended downward. It now it\\n1.3 down from 2.6 on admission. During diuresis have been\\nfollowing Cr closely. Cr currently 3.3. Holding her ACEI.\\n.\\n5. IDDM: Pt on SSI for now. Will monitor sugars closely. Pt's BS\\nelevated over last week due to multiple changes in diet.\\nIncreased NPH after pt started taking TFs. Again recently\\nincreased NPH dose and SSI to accomodate pt's increased BS since\\nstarted on TFs and now eating snacks.\\n.\\n5. Hyperlipidemia: continued lipitor throughout hospital stay\\n.\\n6. FEN: Pt initially NPO. Dubhoff then placed but d/c'd by pt\\nmultiple times. During most recent placement of Dubhoff\\ninterventional radiology unable to pass tube past pylorus, so it\\ncurrently resides proximal to pylor. Pt been given TFs according\\nto nutrition reccs. Seen by Speech and received swallow study\\nand FEEs that showed pt could tolerate pureed solids and liquids\\nwhen upright c cuff deflated and passy muir valve in place.\\n.\\n7. PPX: Pt received SQH and PPI as well as pneumoboots for\\nprophylaxis throughout hospital stay. She also was seen by OT/PT\\nfor exercises.\\n.\\n8. FULL CODE\\n\\n\\nMedications on Admission:\\n.\\n\\nDischarge Medications:\\n1. Miconazole Nitrate 2 % Cream Sig: One (1) Appl Topical  twice\\na day as needed for rash.\\n2. Ipratropium Bromide 18 mcg/Actuation Aerosol Sig: Two (2)\\nPuff Inhalation QID (4 times a day).\\n3. Albuterol 90 mcg/Actuation Aerosol Sig: 1-2 Puffs Inhalation\\nQ6H (every 6 hours) as needed.\\n4. Lansoprazole 30 mg Susp,Delayed Release for Recon Sig: One\\n(1)  PO DAILY (Daily).\\n5. Atorvastatin Calcium 40 mg Tablet Sig: One (1) Tablet PO\\nDAILY (Daily).\\n6. Hydralazine 10 mg Tablet Sig: One (1) Tablet PO Q6H (every 6\\nhours): Hold for SBPs<120 or MAPs<75.\\n7. Acetaminophen 325 mg Tablet Sig: 1-2 Tablets PO Q4-6H (every\\n4 to 6 hours) as needed.\\n8. Aspirin 325 mg Tablet Sig: One (1) Tablet PO DAILY (Daily).\\n9. Metoprolol Tartrate 25 mg Tablet Sig: One (1) Tablet PO BID\\n(2 times a day).\\n10. Lasix 20 mg Tablet Sig: One (1) Tablet PO twice a day: Hold\\nfor sBPs<120.\\n11. Trimethoprim-Sulfamethoxazole 160-800 mg Tablet Sig: One (1)\\nTablet PO BID (2 times a day).\\n12. Linezolid 600 mg/300 mL Parenteral Solution Sig: One (1)\\nIntravenous  Q12H (every 12 hours) for 10 days.\\n\\n\\nDischarge Disposition:\\nExtended Care\\n\\nFacility:\\n[**Hospital1 700**] - [**Location (un) 701**]\\n\\nDischarge Diagnosis:\\nSepsis; Respiratory failure due to pulmonary edema, effusions,\\nobstruction and respiratory muscle weaknesss; Congestive Heart\\nFailure; Infected Right Lower Extremity Ucler; Hypertension;\\nType 2 Diabetes; Hyperlipidemia\\n\\n\\nDischarge Condition:\\nStable\\n\\n\\nDischarge Instructions:\\nPlease return to the ED or see your primary doctor as soon as\\npossible if you become short of breath, weak, unable to do your\\ndaily activities, or develop chest pain, abdominal pain,\\nincreasing mucous secretions, fever>101, or worsening of any of\\nyour symptoms.\\n\\nFollowup Instructions:\\nFollow up with your primary care doctor this week and vascular\\nsurgery\\n\\n\\n\\n\""
            ]
          },
          "execution_count": 9,
          "metadata": {},
          "output_type": "execute_result"
        }
      ],
      "source": [
        "dataset_train_test['test']['text'][9]"
      ]
    },
    {
      "cell_type": "code",
      "execution_count": 14,
      "metadata": {
        "id": "VyP4Yq99rKCl"
      },
      "outputs": [],
      "source": [
        "with open('your_file.txt', 'w') as f:\n",
        "    for line in dataset_train_test['test']['text']:\n",
        "        f.write(f\"{line}\\n\")"
      ]
    },
    {
      "cell_type": "code",
      "execution_count": null,
      "metadata": {
        "id": "zYXut72dJIxi"
      },
      "outputs": [],
      "source": [
        "#### Just some code to print debug information to stdout\n",
        "logging.basicConfig(format='%(asctime)s - %(message)s',\n",
        "                    datefmt='%Y-%m-%d %H:%M:%S',\n",
        "                    level=logging.INFO,\n",
        "                    handlers=[LoggingHandler()])\n",
        "#### /print debug information to stdout\n",
        "\n",
        "# Training parameters\n",
        "#access=\"XXXX\"\n",
        "model_name = \"bionlp/bluebert_pubmed_mimic_uncased_L-12_H-768_A-12\"\n",
        "train_batch_size = 6\n",
        "max_seq_length = 4096\n",
        "num_epochs = 1\n",
        "\n",
        "#Input file path (a text file, each line a sentence)\n",
        "if len(sys.argv) < 2:\n",
        "    print(\"Run this script with: python {} path/to/sentences.txt\".format(sys.argv[0]))\n",
        "    exit()\n",
        "\n",
        "#filepath = sys.argv[1]\n",
        "\n",
        "\n",
        "# Save path to store our model\n",
        "output_name = ''\n",
        "if len(sys.argv) >= 3:\n",
        "    output_name = \"-\"+sys.argv[2].replace(\" \", \"_\").replace(\"/\", \"_\").replace(\"\\\\\", \"_\")\n",
        "\n",
        "model_output_path = '/content/drive/MyDrive/output/train_simcse{}-{}'.format(output_name, datetime.now().strftime(\"%Y-%m-%d_%H-%M-%S\"))\n",
        "\n",
        "# Use Huggingface/transformers model (like BERT, RoBERTa, XLNet, XLM-R) for mapping tokens to embeddings\n",
        "model = SentenceTransformer(model_name)\n"
      ]
    },
    {
      "cell_type": "code",
      "execution_count": null,
      "metadata": {
        "colab": {
          "base_uri": "https://localhost:8080/",
          "height": 99,
          "referenced_widgets": [
            "1bb98f6ecb5c4cfb8def8f1870627bd9",
            "de09a77d291a4de4bd2d210f5a1701d6",
            "0888d26a4dbc46ee97f3618bdfab93aa",
            "cad51384be6f4755bb10fcab6b840866",
            "05a9c41dde084d669c4d09926f8740d3",
            "0df6b2f55fac4023be10d7ad95dafc73",
            "15aae0e448924ba0b8d15b8cb53fdd45",
            "17609a11e03b4e77b4f5db50b8546be5",
            "3d2635316f9244f09473bb04b53cca73",
            "88324f6ded744930a4e7f2d10759d484",
            "29f0c132465f407097bd85e1ba61ac72",
            "103c6a2cb36e41b28850970034a39d8e",
            "e764a99c53ce40d0a0828c99da143887",
            "df678ee2f89c4ccab20cad69b6ccd2a8",
            "fd09d938b3c14194b8c8a94a16a26144",
            "748a3656d9dd4a12bb7154baf5f7b703",
            "91ada914397a404095bac665e094090d",
            "c27c9115c95a4b5bb6756f49b5456595",
            "9c2b06331cf742a28dd877ce1d1556e7",
            "6c87db306f4f4c9098b4fc11a8fd840b",
            "bb1cc2d1c5164db6b904adcdc3f84aea",
            "492cee822f064efda0dc35c0d5b6c52a"
          ]
        },
        "id": "wHTBCW8VsBg2",
        "outputId": "2e187750-3742-413b-b58d-71006c517372"
      },
      "outputs": [
        {
          "name": "stderr",
          "output_type": "stream",
          "text": [
            "Read file: 1385355it [00:04, 278866.79it/s]\n"
          ]
        },
        {
          "data": {
            "application/vnd.jupyter.widget-view+json": {
              "model_id": "1bb98f6ecb5c4cfb8def8f1870627bd9",
              "version_major": 2,
              "version_minor": 0
            },
            "text/plain": [
              "Epoch:   0%|          | 0/1 [00:00<?, ?it/s]"
            ]
          },
          "metadata": {},
          "output_type": "display_data"
        },
        {
          "data": {
            "application/vnd.jupyter.widget-view+json": {
              "model_id": "103c6a2cb36e41b28850970034a39d8e",
              "version_major": 2,
              "version_minor": 0
            },
            "text/plain": [
              "Iteration:   0%|          | 0/180139 [00:00<?, ?it/s]"
            ]
          },
          "metadata": {},
          "output_type": "display_data"
        }
      ],
      "source": [
        "################# Read the train corpus  #################\n",
        "filepath = \"your_file.txt\"\n",
        "train_samples = []\n",
        "with gzip.open(filepath, 'rt', encoding='utf8') if filepath.endswith('.gz') else open(filepath, encoding='utf8') as fIn:\n",
        "    for line in tqdm.tqdm(fIn, desc='Read file'):\n",
        "        line = line.strip()\n",
        "        if len(line) >= 10:\n",
        "            train_samples.append(InputExample(texts=[line, line]))\n",
        "\n",
        "logging.info(\"Train sentences: {}\".format(len(train_samples)))\n",
        "\n",
        "# We train our model using the MultipleNegativesRankingLoss\n",
        "train_dataloader = DataLoader(train_samples, shuffle=True, batch_size=train_batch_size, drop_last=True)\n",
        "train_loss = losses.MultipleNegativesRankingLoss(model)\n",
        "warmup_steps = math.ceil(len(train_dataloader) * num_epochs * 0.1)  # 10% of train data for warm-up\n",
        "logging.info(\"Warmup-steps: {}\".format(warmup_steps))\n",
        "\n",
        "# Train the model\n",
        "model.fit(train_objectives=[(train_dataloader, train_loss)],\n",
        "          epochs=num_epochs,\n",
        "          warmup_steps=warmup_steps,\n",
        "          optimizer_params={'lr': 3e-5},\n",
        "          checkpoint_path=model_output_path,\n",
        "          show_progress_bar=True,\n",
        "          use_amp=True  # Set to True, if your GPU supports FP16 cores\n",
        "          )"
      ]
    }
  ],
  "metadata": {
    "accelerator": "GPU",
    "colab": {
      "authorship_tag": "ABX9TyMYzBJ2VYn5xkhP6W+doG8s",
      "include_colab_link": true,
      "provenance": []
    },
    "gpuClass": "standard",
    "kernelspec": {
      "display_name": "Python 3",
      "name": "python3"
    },
    "language_info": {
      "name": "python"
    },
    "widgets": {
      "application/vnd.jupyter.widget-state+json": {
        "00989f717fc34a4b9a0dc91dae328f35": {
          "model_module": "@jupyter-widgets/base",
          "model_module_version": "1.2.0",
          "model_name": "LayoutModel",
          "state": {
            "_model_module": "@jupyter-widgets/base",
            "_model_module_version": "1.2.0",
            "_model_name": "LayoutModel",
            "_view_count": null,
            "_view_module": "@jupyter-widgets/base",
            "_view_module_version": "1.2.0",
            "_view_name": "LayoutView",
            "align_content": null,
            "align_items": null,
            "align_self": null,
            "border": null,
            "bottom": null,
            "display": null,
            "flex": null,
            "flex_flow": null,
            "grid_area": null,
            "grid_auto_columns": null,
            "grid_auto_flow": null,
            "grid_auto_rows": null,
            "grid_column": null,
            "grid_gap": null,
            "grid_row": null,
            "grid_template_areas": null,
            "grid_template_columns": null,
            "grid_template_rows": null,
            "height": null,
            "justify_content": null,
            "justify_items": null,
            "left": null,
            "margin": null,
            "max_height": null,
            "max_width": null,
            "min_height": null,
            "min_width": null,
            "object_fit": null,
            "object_position": null,
            "order": null,
            "overflow": null,
            "overflow_x": null,
            "overflow_y": null,
            "padding": null,
            "right": null,
            "top": null,
            "visibility": null,
            "width": null
          }
        },
        "020fc0146f694e6f867e52376bf53ce9": {
          "model_module": "@jupyter-widgets/controls",
          "model_module_version": "1.5.0",
          "model_name": "ProgressStyleModel",
          "state": {
            "_model_module": "@jupyter-widgets/controls",
            "_model_module_version": "1.5.0",
            "_model_name": "ProgressStyleModel",
            "_view_count": null,
            "_view_module": "@jupyter-widgets/base",
            "_view_module_version": "1.2.0",
            "_view_name": "StyleView",
            "bar_color": null,
            "description_width": ""
          }
        },
        "05a9c41dde084d669c4d09926f8740d3": {
          "model_module": "@jupyter-widgets/base",
          "model_module_version": "1.2.0",
          "model_name": "LayoutModel",
          "state": {
            "_model_module": "@jupyter-widgets/base",
            "_model_module_version": "1.2.0",
            "_model_name": "LayoutModel",
            "_view_count": null,
            "_view_module": "@jupyter-widgets/base",
            "_view_module_version": "1.2.0",
            "_view_name": "LayoutView",
            "align_content": null,
            "align_items": null,
            "align_self": null,
            "border": null,
            "bottom": null,
            "display": null,
            "flex": null,
            "flex_flow": null,
            "grid_area": null,
            "grid_auto_columns": null,
            "grid_auto_flow": null,
            "grid_auto_rows": null,
            "grid_column": null,
            "grid_gap": null,
            "grid_row": null,
            "grid_template_areas": null,
            "grid_template_columns": null,
            "grid_template_rows": null,
            "height": null,
            "justify_content": null,
            "justify_items": null,
            "left": null,
            "margin": null,
            "max_height": null,
            "max_width": null,
            "min_height": null,
            "min_width": null,
            "object_fit": null,
            "object_position": null,
            "order": null,
            "overflow": null,
            "overflow_x": null,
            "overflow_y": null,
            "padding": null,
            "right": null,
            "top": null,
            "visibility": null,
            "width": null
          }
        },
        "0888d26a4dbc46ee97f3618bdfab93aa": {
          "model_module": "@jupyter-widgets/controls",
          "model_module_version": "1.5.0",
          "model_name": "FloatProgressModel",
          "state": {
            "_dom_classes": [],
            "_model_module": "@jupyter-widgets/controls",
            "_model_module_version": "1.5.0",
            "_model_name": "FloatProgressModel",
            "_view_count": null,
            "_view_module": "@jupyter-widgets/controls",
            "_view_module_version": "1.5.0",
            "_view_name": "ProgressView",
            "bar_style": "",
            "description": "",
            "description_tooltip": null,
            "layout": "IPY_MODEL_17609a11e03b4e77b4f5db50b8546be5",
            "max": 1,
            "min": 0,
            "orientation": "horizontal",
            "style": "IPY_MODEL_3d2635316f9244f09473bb04b53cca73",
            "value": 0
          }
        },
        "0df6b2f55fac4023be10d7ad95dafc73": {
          "model_module": "@jupyter-widgets/base",
          "model_module_version": "1.2.0",
          "model_name": "LayoutModel",
          "state": {
            "_model_module": "@jupyter-widgets/base",
            "_model_module_version": "1.2.0",
            "_model_name": "LayoutModel",
            "_view_count": null,
            "_view_module": "@jupyter-widgets/base",
            "_view_module_version": "1.2.0",
            "_view_name": "LayoutView",
            "align_content": null,
            "align_items": null,
            "align_self": null,
            "border": null,
            "bottom": null,
            "display": null,
            "flex": null,
            "flex_flow": null,
            "grid_area": null,
            "grid_auto_columns": null,
            "grid_auto_flow": null,
            "grid_auto_rows": null,
            "grid_column": null,
            "grid_gap": null,
            "grid_row": null,
            "grid_template_areas": null,
            "grid_template_columns": null,
            "grid_template_rows": null,
            "height": null,
            "justify_content": null,
            "justify_items": null,
            "left": null,
            "margin": null,
            "max_height": null,
            "max_width": null,
            "min_height": null,
            "min_width": null,
            "object_fit": null,
            "object_position": null,
            "order": null,
            "overflow": null,
            "overflow_x": null,
            "overflow_y": null,
            "padding": null,
            "right": null,
            "top": null,
            "visibility": null,
            "width": null
          }
        },
        "103c6a2cb36e41b28850970034a39d8e": {
          "model_module": "@jupyter-widgets/controls",
          "model_module_version": "1.5.0",
          "model_name": "HBoxModel",
          "state": {
            "_dom_classes": [],
            "_model_module": "@jupyter-widgets/controls",
            "_model_module_version": "1.5.0",
            "_model_name": "HBoxModel",
            "_view_count": null,
            "_view_module": "@jupyter-widgets/controls",
            "_view_module_version": "1.5.0",
            "_view_name": "HBoxView",
            "box_style": "",
            "children": [
              "IPY_MODEL_e764a99c53ce40d0a0828c99da143887",
              "IPY_MODEL_df678ee2f89c4ccab20cad69b6ccd2a8",
              "IPY_MODEL_fd09d938b3c14194b8c8a94a16a26144"
            ],
            "layout": "IPY_MODEL_748a3656d9dd4a12bb7154baf5f7b703"
          }
        },
        "15aae0e448924ba0b8d15b8cb53fdd45": {
          "model_module": "@jupyter-widgets/controls",
          "model_module_version": "1.5.0",
          "model_name": "DescriptionStyleModel",
          "state": {
            "_model_module": "@jupyter-widgets/controls",
            "_model_module_version": "1.5.0",
            "_model_name": "DescriptionStyleModel",
            "_view_count": null,
            "_view_module": "@jupyter-widgets/base",
            "_view_module_version": "1.2.0",
            "_view_name": "StyleView",
            "description_width": ""
          }
        },
        "17609a11e03b4e77b4f5db50b8546be5": {
          "model_module": "@jupyter-widgets/base",
          "model_module_version": "1.2.0",
          "model_name": "LayoutModel",
          "state": {
            "_model_module": "@jupyter-widgets/base",
            "_model_module_version": "1.2.0",
            "_model_name": "LayoutModel",
            "_view_count": null,
            "_view_module": "@jupyter-widgets/base",
            "_view_module_version": "1.2.0",
            "_view_name": "LayoutView",
            "align_content": null,
            "align_items": null,
            "align_self": null,
            "border": null,
            "bottom": null,
            "display": null,
            "flex": null,
            "flex_flow": null,
            "grid_area": null,
            "grid_auto_columns": null,
            "grid_auto_flow": null,
            "grid_auto_rows": null,
            "grid_column": null,
            "grid_gap": null,
            "grid_row": null,
            "grid_template_areas": null,
            "grid_template_columns": null,
            "grid_template_rows": null,
            "height": null,
            "justify_content": null,
            "justify_items": null,
            "left": null,
            "margin": null,
            "max_height": null,
            "max_width": null,
            "min_height": null,
            "min_width": null,
            "object_fit": null,
            "object_position": null,
            "order": null,
            "overflow": null,
            "overflow_x": null,
            "overflow_y": null,
            "padding": null,
            "right": null,
            "top": null,
            "visibility": null,
            "width": null
          }
        },
        "1bb98f6ecb5c4cfb8def8f1870627bd9": {
          "model_module": "@jupyter-widgets/controls",
          "model_module_version": "1.5.0",
          "model_name": "HBoxModel",
          "state": {
            "_dom_classes": [],
            "_model_module": "@jupyter-widgets/controls",
            "_model_module_version": "1.5.0",
            "_model_name": "HBoxModel",
            "_view_count": null,
            "_view_module": "@jupyter-widgets/controls",
            "_view_module_version": "1.5.0",
            "_view_name": "HBoxView",
            "box_style": "",
            "children": [
              "IPY_MODEL_de09a77d291a4de4bd2d210f5a1701d6",
              "IPY_MODEL_0888d26a4dbc46ee97f3618bdfab93aa",
              "IPY_MODEL_cad51384be6f4755bb10fcab6b840866"
            ],
            "layout": "IPY_MODEL_05a9c41dde084d669c4d09926f8740d3"
          }
        },
        "29f0c132465f407097bd85e1ba61ac72": {
          "model_module": "@jupyter-widgets/controls",
          "model_module_version": "1.5.0",
          "model_name": "DescriptionStyleModel",
          "state": {
            "_model_module": "@jupyter-widgets/controls",
            "_model_module_version": "1.5.0",
            "_model_name": "DescriptionStyleModel",
            "_view_count": null,
            "_view_module": "@jupyter-widgets/base",
            "_view_module_version": "1.2.0",
            "_view_name": "StyleView",
            "description_width": ""
          }
        },
        "2d55062c2db34dab9a629f084d949476": {
          "model_module": "@jupyter-widgets/controls",
          "model_module_version": "1.5.0",
          "model_name": "HBoxModel",
          "state": {
            "_dom_classes": [],
            "_model_module": "@jupyter-widgets/controls",
            "_model_module_version": "1.5.0",
            "_model_name": "HBoxModel",
            "_view_count": null,
            "_view_module": "@jupyter-widgets/controls",
            "_view_module_version": "1.5.0",
            "_view_name": "HBoxView",
            "box_style": "",
            "children": [
              "IPY_MODEL_8dbc35bda59d48ca984e70ab885f85b2",
              "IPY_MODEL_3e557f7861d3437cb683b4190470d456",
              "IPY_MODEL_ddc764c214a34d9bbff0ce91897877ff"
            ],
            "layout": "IPY_MODEL_e912ab8a7a5a461a881a8270144aebdd"
          }
        },
        "3d2635316f9244f09473bb04b53cca73": {
          "model_module": "@jupyter-widgets/controls",
          "model_module_version": "1.5.0",
          "model_name": "ProgressStyleModel",
          "state": {
            "_model_module": "@jupyter-widgets/controls",
            "_model_module_version": "1.5.0",
            "_model_name": "ProgressStyleModel",
            "_view_count": null,
            "_view_module": "@jupyter-widgets/base",
            "_view_module_version": "1.2.0",
            "_view_name": "StyleView",
            "bar_color": null,
            "description_width": ""
          }
        },
        "3e557f7861d3437cb683b4190470d456": {
          "model_module": "@jupyter-widgets/controls",
          "model_module_version": "1.5.0",
          "model_name": "FloatProgressModel",
          "state": {
            "_dom_classes": [],
            "_model_module": "@jupyter-widgets/controls",
            "_model_module_version": "1.5.0",
            "_model_name": "FloatProgressModel",
            "_view_count": null,
            "_view_module": "@jupyter-widgets/controls",
            "_view_module_version": "1.5.0",
            "_view_name": "ProgressView",
            "bar_style": "success",
            "description": "",
            "description_tooltip": null,
            "layout": "IPY_MODEL_00989f717fc34a4b9a0dc91dae328f35",
            "max": 1,
            "min": 0,
            "orientation": "horizontal",
            "style": "IPY_MODEL_020fc0146f694e6f867e52376bf53ce9",
            "value": 1
          }
        },
        "41ae92ec1752403b89cf172b78924bee": {
          "model_module": "@jupyter-widgets/controls",
          "model_module_version": "1.5.0",
          "model_name": "DescriptionStyleModel",
          "state": {
            "_model_module": "@jupyter-widgets/controls",
            "_model_module_version": "1.5.0",
            "_model_name": "DescriptionStyleModel",
            "_view_count": null,
            "_view_module": "@jupyter-widgets/base",
            "_view_module_version": "1.2.0",
            "_view_name": "StyleView",
            "description_width": ""
          }
        },
        "492cee822f064efda0dc35c0d5b6c52a": {
          "model_module": "@jupyter-widgets/controls",
          "model_module_version": "1.5.0",
          "model_name": "DescriptionStyleModel",
          "state": {
            "_model_module": "@jupyter-widgets/controls",
            "_model_module_version": "1.5.0",
            "_model_name": "DescriptionStyleModel",
            "_view_count": null,
            "_view_module": "@jupyter-widgets/base",
            "_view_module_version": "1.2.0",
            "_view_name": "StyleView",
            "description_width": ""
          }
        },
        "6c87db306f4f4c9098b4fc11a8fd840b": {
          "model_module": "@jupyter-widgets/controls",
          "model_module_version": "1.5.0",
          "model_name": "ProgressStyleModel",
          "state": {
            "_model_module": "@jupyter-widgets/controls",
            "_model_module_version": "1.5.0",
            "_model_name": "ProgressStyleModel",
            "_view_count": null,
            "_view_module": "@jupyter-widgets/base",
            "_view_module_version": "1.2.0",
            "_view_name": "StyleView",
            "bar_color": null,
            "description_width": ""
          }
        },
        "748a3656d9dd4a12bb7154baf5f7b703": {
          "model_module": "@jupyter-widgets/base",
          "model_module_version": "1.2.0",
          "model_name": "LayoutModel",
          "state": {
            "_model_module": "@jupyter-widgets/base",
            "_model_module_version": "1.2.0",
            "_model_name": "LayoutModel",
            "_view_count": null,
            "_view_module": "@jupyter-widgets/base",
            "_view_module_version": "1.2.0",
            "_view_name": "LayoutView",
            "align_content": null,
            "align_items": null,
            "align_self": null,
            "border": null,
            "bottom": null,
            "display": null,
            "flex": null,
            "flex_flow": null,
            "grid_area": null,
            "grid_auto_columns": null,
            "grid_auto_flow": null,
            "grid_auto_rows": null,
            "grid_column": null,
            "grid_gap": null,
            "grid_row": null,
            "grid_template_areas": null,
            "grid_template_columns": null,
            "grid_template_rows": null,
            "height": null,
            "justify_content": null,
            "justify_items": null,
            "left": null,
            "margin": null,
            "max_height": null,
            "max_width": null,
            "min_height": null,
            "min_width": null,
            "object_fit": null,
            "object_position": null,
            "order": null,
            "overflow": null,
            "overflow_x": null,
            "overflow_y": null,
            "padding": null,
            "right": null,
            "top": null,
            "visibility": null,
            "width": null
          }
        },
        "88324f6ded744930a4e7f2d10759d484": {
          "model_module": "@jupyter-widgets/base",
          "model_module_version": "1.2.0",
          "model_name": "LayoutModel",
          "state": {
            "_model_module": "@jupyter-widgets/base",
            "_model_module_version": "1.2.0",
            "_model_name": "LayoutModel",
            "_view_count": null,
            "_view_module": "@jupyter-widgets/base",
            "_view_module_version": "1.2.0",
            "_view_name": "LayoutView",
            "align_content": null,
            "align_items": null,
            "align_self": null,
            "border": null,
            "bottom": null,
            "display": null,
            "flex": null,
            "flex_flow": null,
            "grid_area": null,
            "grid_auto_columns": null,
            "grid_auto_flow": null,
            "grid_auto_rows": null,
            "grid_column": null,
            "grid_gap": null,
            "grid_row": null,
            "grid_template_areas": null,
            "grid_template_columns": null,
            "grid_template_rows": null,
            "height": null,
            "justify_content": null,
            "justify_items": null,
            "left": null,
            "margin": null,
            "max_height": null,
            "max_width": null,
            "min_height": null,
            "min_width": null,
            "object_fit": null,
            "object_position": null,
            "order": null,
            "overflow": null,
            "overflow_x": null,
            "overflow_y": null,
            "padding": null,
            "right": null,
            "top": null,
            "visibility": null,
            "width": null
          }
        },
        "8dbc35bda59d48ca984e70ab885f85b2": {
          "model_module": "@jupyter-widgets/controls",
          "model_module_version": "1.5.0",
          "model_name": "HTMLModel",
          "state": {
            "_dom_classes": [],
            "_model_module": "@jupyter-widgets/controls",
            "_model_module_version": "1.5.0",
            "_model_name": "HTMLModel",
            "_view_count": null,
            "_view_module": "@jupyter-widgets/controls",
            "_view_module_version": "1.5.0",
            "_view_name": "HTMLView",
            "description": "",
            "description_tooltip": null,
            "layout": "IPY_MODEL_8e1f1f6587cb40afa3d4a4768506912e",
            "placeholder": "​",
            "style": "IPY_MODEL_c26dd960cf5f41319a72cc2376678172",
            "value": "100%"
          }
        },
        "8e1f1f6587cb40afa3d4a4768506912e": {
          "model_module": "@jupyter-widgets/base",
          "model_module_version": "1.2.0",
          "model_name": "LayoutModel",
          "state": {
            "_model_module": "@jupyter-widgets/base",
            "_model_module_version": "1.2.0",
            "_model_name": "LayoutModel",
            "_view_count": null,
            "_view_module": "@jupyter-widgets/base",
            "_view_module_version": "1.2.0",
            "_view_name": "LayoutView",
            "align_content": null,
            "align_items": null,
            "align_self": null,
            "border": null,
            "bottom": null,
            "display": null,
            "flex": null,
            "flex_flow": null,
            "grid_area": null,
            "grid_auto_columns": null,
            "grid_auto_flow": null,
            "grid_auto_rows": null,
            "grid_column": null,
            "grid_gap": null,
            "grid_row": null,
            "grid_template_areas": null,
            "grid_template_columns": null,
            "grid_template_rows": null,
            "height": null,
            "justify_content": null,
            "justify_items": null,
            "left": null,
            "margin": null,
            "max_height": null,
            "max_width": null,
            "min_height": null,
            "min_width": null,
            "object_fit": null,
            "object_position": null,
            "order": null,
            "overflow": null,
            "overflow_x": null,
            "overflow_y": null,
            "padding": null,
            "right": null,
            "top": null,
            "visibility": null,
            "width": null
          }
        },
        "91ada914397a404095bac665e094090d": {
          "model_module": "@jupyter-widgets/base",
          "model_module_version": "1.2.0",
          "model_name": "LayoutModel",
          "state": {
            "_model_module": "@jupyter-widgets/base",
            "_model_module_version": "1.2.0",
            "_model_name": "LayoutModel",
            "_view_count": null,
            "_view_module": "@jupyter-widgets/base",
            "_view_module_version": "1.2.0",
            "_view_name": "LayoutView",
            "align_content": null,
            "align_items": null,
            "align_self": null,
            "border": null,
            "bottom": null,
            "display": null,
            "flex": null,
            "flex_flow": null,
            "grid_area": null,
            "grid_auto_columns": null,
            "grid_auto_flow": null,
            "grid_auto_rows": null,
            "grid_column": null,
            "grid_gap": null,
            "grid_row": null,
            "grid_template_areas": null,
            "grid_template_columns": null,
            "grid_template_rows": null,
            "height": null,
            "justify_content": null,
            "justify_items": null,
            "left": null,
            "margin": null,
            "max_height": null,
            "max_width": null,
            "min_height": null,
            "min_width": null,
            "object_fit": null,
            "object_position": null,
            "order": null,
            "overflow": null,
            "overflow_x": null,
            "overflow_y": null,
            "padding": null,
            "right": null,
            "top": null,
            "visibility": null,
            "width": null
          }
        },
        "9c2b06331cf742a28dd877ce1d1556e7": {
          "model_module": "@jupyter-widgets/base",
          "model_module_version": "1.2.0",
          "model_name": "LayoutModel",
          "state": {
            "_model_module": "@jupyter-widgets/base",
            "_model_module_version": "1.2.0",
            "_model_name": "LayoutModel",
            "_view_count": null,
            "_view_module": "@jupyter-widgets/base",
            "_view_module_version": "1.2.0",
            "_view_name": "LayoutView",
            "align_content": null,
            "align_items": null,
            "align_self": null,
            "border": null,
            "bottom": null,
            "display": null,
            "flex": null,
            "flex_flow": null,
            "grid_area": null,
            "grid_auto_columns": null,
            "grid_auto_flow": null,
            "grid_auto_rows": null,
            "grid_column": null,
            "grid_gap": null,
            "grid_row": null,
            "grid_template_areas": null,
            "grid_template_columns": null,
            "grid_template_rows": null,
            "height": null,
            "justify_content": null,
            "justify_items": null,
            "left": null,
            "margin": null,
            "max_height": null,
            "max_width": null,
            "min_height": null,
            "min_width": null,
            "object_fit": null,
            "object_position": null,
            "order": null,
            "overflow": null,
            "overflow_x": null,
            "overflow_y": null,
            "padding": null,
            "right": null,
            "top": null,
            "visibility": null,
            "width": null
          }
        },
        "bb1cc2d1c5164db6b904adcdc3f84aea": {
          "model_module": "@jupyter-widgets/base",
          "model_module_version": "1.2.0",
          "model_name": "LayoutModel",
          "state": {
            "_model_module": "@jupyter-widgets/base",
            "_model_module_version": "1.2.0",
            "_model_name": "LayoutModel",
            "_view_count": null,
            "_view_module": "@jupyter-widgets/base",
            "_view_module_version": "1.2.0",
            "_view_name": "LayoutView",
            "align_content": null,
            "align_items": null,
            "align_self": null,
            "border": null,
            "bottom": null,
            "display": null,
            "flex": null,
            "flex_flow": null,
            "grid_area": null,
            "grid_auto_columns": null,
            "grid_auto_flow": null,
            "grid_auto_rows": null,
            "grid_column": null,
            "grid_gap": null,
            "grid_row": null,
            "grid_template_areas": null,
            "grid_template_columns": null,
            "grid_template_rows": null,
            "height": null,
            "justify_content": null,
            "justify_items": null,
            "left": null,
            "margin": null,
            "max_height": null,
            "max_width": null,
            "min_height": null,
            "min_width": null,
            "object_fit": null,
            "object_position": null,
            "order": null,
            "overflow": null,
            "overflow_x": null,
            "overflow_y": null,
            "padding": null,
            "right": null,
            "top": null,
            "visibility": null,
            "width": null
          }
        },
        "c26dd960cf5f41319a72cc2376678172": {
          "model_module": "@jupyter-widgets/controls",
          "model_module_version": "1.5.0",
          "model_name": "DescriptionStyleModel",
          "state": {
            "_model_module": "@jupyter-widgets/controls",
            "_model_module_version": "1.5.0",
            "_model_name": "DescriptionStyleModel",
            "_view_count": null,
            "_view_module": "@jupyter-widgets/base",
            "_view_module_version": "1.2.0",
            "_view_name": "StyleView",
            "description_width": ""
          }
        },
        "c27c9115c95a4b5bb6756f49b5456595": {
          "model_module": "@jupyter-widgets/controls",
          "model_module_version": "1.5.0",
          "model_name": "DescriptionStyleModel",
          "state": {
            "_model_module": "@jupyter-widgets/controls",
            "_model_module_version": "1.5.0",
            "_model_name": "DescriptionStyleModel",
            "_view_count": null,
            "_view_module": "@jupyter-widgets/base",
            "_view_module_version": "1.2.0",
            "_view_name": "StyleView",
            "description_width": ""
          }
        },
        "cad51384be6f4755bb10fcab6b840866": {
          "model_module": "@jupyter-widgets/controls",
          "model_module_version": "1.5.0",
          "model_name": "HTMLModel",
          "state": {
            "_dom_classes": [],
            "_model_module": "@jupyter-widgets/controls",
            "_model_module_version": "1.5.0",
            "_model_name": "HTMLModel",
            "_view_count": null,
            "_view_module": "@jupyter-widgets/controls",
            "_view_module_version": "1.5.0",
            "_view_name": "HTMLView",
            "description": "",
            "description_tooltip": null,
            "layout": "IPY_MODEL_88324f6ded744930a4e7f2d10759d484",
            "placeholder": "​",
            "style": "IPY_MODEL_29f0c132465f407097bd85e1ba61ac72",
            "value": " 0/1 [00:00&lt;?, ?it/s]"
          }
        },
        "ddc764c214a34d9bbff0ce91897877ff": {
          "model_module": "@jupyter-widgets/controls",
          "model_module_version": "1.5.0",
          "model_name": "HTMLModel",
          "state": {
            "_dom_classes": [],
            "_model_module": "@jupyter-widgets/controls",
            "_model_module_version": "1.5.0",
            "_model_name": "HTMLModel",
            "_view_count": null,
            "_view_module": "@jupyter-widgets/controls",
            "_view_module_version": "1.5.0",
            "_view_name": "HTMLView",
            "description": "",
            "description_tooltip": null,
            "layout": "IPY_MODEL_f7b695b9c3c04a1c8ba1a6f03786c846",
            "placeholder": "​",
            "style": "IPY_MODEL_41ae92ec1752403b89cf172b78924bee",
            "value": " 1/1 [00:01&lt;00:00,  1.43s/it]"
          }
        },
        "de09a77d291a4de4bd2d210f5a1701d6": {
          "model_module": "@jupyter-widgets/controls",
          "model_module_version": "1.5.0",
          "model_name": "HTMLModel",
          "state": {
            "_dom_classes": [],
            "_model_module": "@jupyter-widgets/controls",
            "_model_module_version": "1.5.0",
            "_model_name": "HTMLModel",
            "_view_count": null,
            "_view_module": "@jupyter-widgets/controls",
            "_view_module_version": "1.5.0",
            "_view_name": "HTMLView",
            "description": "",
            "description_tooltip": null,
            "layout": "IPY_MODEL_0df6b2f55fac4023be10d7ad95dafc73",
            "placeholder": "​",
            "style": "IPY_MODEL_15aae0e448924ba0b8d15b8cb53fdd45",
            "value": "Epoch:   0%"
          }
        },
        "df678ee2f89c4ccab20cad69b6ccd2a8": {
          "model_module": "@jupyter-widgets/controls",
          "model_module_version": "1.5.0",
          "model_name": "FloatProgressModel",
          "state": {
            "_dom_classes": [],
            "_model_module": "@jupyter-widgets/controls",
            "_model_module_version": "1.5.0",
            "_model_name": "FloatProgressModel",
            "_view_count": null,
            "_view_module": "@jupyter-widgets/controls",
            "_view_module_version": "1.5.0",
            "_view_name": "ProgressView",
            "bar_style": "",
            "description": "",
            "description_tooltip": null,
            "layout": "IPY_MODEL_9c2b06331cf742a28dd877ce1d1556e7",
            "max": 180139,
            "min": 0,
            "orientation": "horizontal",
            "style": "IPY_MODEL_6c87db306f4f4c9098b4fc11a8fd840b",
            "value": 76366
          }
        },
        "e764a99c53ce40d0a0828c99da143887": {
          "model_module": "@jupyter-widgets/controls",
          "model_module_version": "1.5.0",
          "model_name": "HTMLModel",
          "state": {
            "_dom_classes": [],
            "_model_module": "@jupyter-widgets/controls",
            "_model_module_version": "1.5.0",
            "_model_name": "HTMLModel",
            "_view_count": null,
            "_view_module": "@jupyter-widgets/controls",
            "_view_module_version": "1.5.0",
            "_view_name": "HTMLView",
            "description": "",
            "description_tooltip": null,
            "layout": "IPY_MODEL_91ada914397a404095bac665e094090d",
            "placeholder": "​",
            "style": "IPY_MODEL_c27c9115c95a4b5bb6756f49b5456595",
            "value": "Iteration:  42%"
          }
        },
        "e912ab8a7a5a461a881a8270144aebdd": {
          "model_module": "@jupyter-widgets/base",
          "model_module_version": "1.2.0",
          "model_name": "LayoutModel",
          "state": {
            "_model_module": "@jupyter-widgets/base",
            "_model_module_version": "1.2.0",
            "_model_name": "LayoutModel",
            "_view_count": null,
            "_view_module": "@jupyter-widgets/base",
            "_view_module_version": "1.2.0",
            "_view_name": "LayoutView",
            "align_content": null,
            "align_items": null,
            "align_self": null,
            "border": null,
            "bottom": null,
            "display": null,
            "flex": null,
            "flex_flow": null,
            "grid_area": null,
            "grid_auto_columns": null,
            "grid_auto_flow": null,
            "grid_auto_rows": null,
            "grid_column": null,
            "grid_gap": null,
            "grid_row": null,
            "grid_template_areas": null,
            "grid_template_columns": null,
            "grid_template_rows": null,
            "height": null,
            "justify_content": null,
            "justify_items": null,
            "left": null,
            "margin": null,
            "max_height": null,
            "max_width": null,
            "min_height": null,
            "min_width": null,
            "object_fit": null,
            "object_position": null,
            "order": null,
            "overflow": null,
            "overflow_x": null,
            "overflow_y": null,
            "padding": null,
            "right": null,
            "top": null,
            "visibility": null,
            "width": null
          }
        },
        "f7b695b9c3c04a1c8ba1a6f03786c846": {
          "model_module": "@jupyter-widgets/base",
          "model_module_version": "1.2.0",
          "model_name": "LayoutModel",
          "state": {
            "_model_module": "@jupyter-widgets/base",
            "_model_module_version": "1.2.0",
            "_model_name": "LayoutModel",
            "_view_count": null,
            "_view_module": "@jupyter-widgets/base",
            "_view_module_version": "1.2.0",
            "_view_name": "LayoutView",
            "align_content": null,
            "align_items": null,
            "align_self": null,
            "border": null,
            "bottom": null,
            "display": null,
            "flex": null,
            "flex_flow": null,
            "grid_area": null,
            "grid_auto_columns": null,
            "grid_auto_flow": null,
            "grid_auto_rows": null,
            "grid_column": null,
            "grid_gap": null,
            "grid_row": null,
            "grid_template_areas": null,
            "grid_template_columns": null,
            "grid_template_rows": null,
            "height": null,
            "justify_content": null,
            "justify_items": null,
            "left": null,
            "margin": null,
            "max_height": null,
            "max_width": null,
            "min_height": null,
            "min_width": null,
            "object_fit": null,
            "object_position": null,
            "order": null,
            "overflow": null,
            "overflow_x": null,
            "overflow_y": null,
            "padding": null,
            "right": null,
            "top": null,
            "visibility": null,
            "width": null
          }
        },
        "fd09d938b3c14194b8c8a94a16a26144": {
          "model_module": "@jupyter-widgets/controls",
          "model_module_version": "1.5.0",
          "model_name": "HTMLModel",
          "state": {
            "_dom_classes": [],
            "_model_module": "@jupyter-widgets/controls",
            "_model_module_version": "1.5.0",
            "_model_name": "HTMLModel",
            "_view_count": null,
            "_view_module": "@jupyter-widgets/controls",
            "_view_module_version": "1.5.0",
            "_view_name": "HTMLView",
            "description": "",
            "description_tooltip": null,
            "layout": "IPY_MODEL_bb1cc2d1c5164db6b904adcdc3f84aea",
            "placeholder": "​",
            "style": "IPY_MODEL_492cee822f064efda0dc35c0d5b6c52a",
            "value": " 76366/180139 [3:12:23&lt;4:19:52,  6.66it/s]"
          }
        }
      }
    }
  },
  "nbformat": 4,
  "nbformat_minor": 0
}
