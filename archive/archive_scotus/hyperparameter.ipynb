{
  "cells": [
    {
      "cell_type": "markdown",
      "metadata": {
        "colab_type": "text",
        "id": "view-in-github"
      },
      "source": [
        "<a href=\"https://colab.research.google.com/github/danielsaggau/IR_LDC/blob/main/hyperparameter.ipynb\" target=\"_parent\"><img src=\"https://colab.research.google.com/assets/colab-badge.svg\" alt=\"Open In Colab\"/></a>"
      ]
    },
    {
      "cell_type": "code",
      "execution_count": null,
      "metadata": {
        "id": "4mvHfSQGEnKj"
      },
      "outputs": [],
      "source": [
        "#hyperparameters search \n",
        "!pip install ray"
      ]
    },
    {
      "cell_type": "code",
      "execution_count": null,
      "metadata": {
        "id": "9HVRFc_YRGL7"
      },
      "outputs": [],
      "source": [
        "import ray\n",
        "from ray import tune"
      ]
    },
    {
      "cell_type": "code",
      "execution_count": null,
      "metadata": {
        "id": "26l5FxLHQpCE"
      },
      "outputs": [],
      "source": [
        "from ray.tune.suggest.hyperopt import HyperOptSearch\n",
        "from ray.tune.schedulers import ASHAScheduler"
      ]
    },
    {
      "cell_type": "code",
      "execution_count": null,
      "metadata": {
        "id": "TfMN-A9LUpfv"
      },
      "outputs": [],
      "source": [
        "train_dataset = dataset[\"train\"].shard(index=1, num_shards=10)"
      ]
    },
    {
      "cell_type": "code",
      "execution_count": null,
      "metadata": {
        "id": "U8dgtp9EPEoa"
      },
      "outputs": [],
      "source": [
        "   config = {\n",
        "       \"learning_rate\": tune.choice([3e-5,3e-4,3e-3]),\n",
        "       \"per_device_train_batch_size\": tune.choice([6,8,12,16,24]),\n",
        "       \"per_device_test_batch_size\": tune.choice([6,8,12,16,24]),\n",
        "       \"num_train_epochs\": tune.choice([6,12,18,24]),\n",
        "       \"weight_decay\": tune.choice([0.1,0.15,0.2,0.25,0.3]),\n",
        "       \"gradient_accumulation_steps\": tune.choice([1,2,3,4,5,6]),\n",
        "          \"wandb\":{\n",
        "            \"project\": \"IR_LDC\",\n",
        "            \"api_key\": 'XXX'\n",
        "        }\n",
        "}"
      ]
    },
    {
      "cell_type": "code",
      "execution_count": null,
      "metadata": {
        "colab": {
          "base_uri": "https://localhost:8080/"
        },
        "id": "H-_pRQUMPPSI",
        "outputId": "8e6e6041-b314-4a9e-c701-61b7ceb3c201"
      },
      "outputs": [
        {
          "name": "stdout",
          "output_type": "stream",
          "text": [
            "Cloning into 'IR_LDC'...\n",
            "remote: Enumerating objects: 1730, done.\u001b[K\n",
            "remote: Counting objects: 100% (37/37), done.\u001b[K\n",
            "remote: Compressing objects: 100% (37/37), done.\u001b[K\n",
            "remote: Total 1730 (delta 21), reused 0 (delta 0), pack-reused 1693\u001b[K\n",
            "Receiving objects: 100% (1730/1730), 3.91 MiB | 12.93 MiB/s, done.\n",
            "Resolving deltas: 100% (1094/1094), done.\n",
            "/content/IR_LDC\n"
          ]
        }
      ],
      "source": [
        "!git clone https://github.com/danielsaggau/IR_LDC.git\n",
        "%cd IR_LDC"
      ]
    },
    {
      "cell_type": "code",
      "execution_count": null,
      "metadata": {
        "id": "B6AR7bhQRi20"
      },
      "outputs": [],
      "source": [
        "!pip install -r requirements.txt"
      ]
    },
    {
      "cell_type": "code",
      "execution_count": null,
      "metadata": {
        "id": "cgiBp140RLrb"
      },
      "outputs": [],
      "source": [
        "!python /content/IR_LDC/model/SCOTUS/scotus_clean.py \\\n",
        "    --output_dir logs/output_1 \\\n",
        "    --model_type 'max' \\\n",
        "    --load_best_model_at_end \\\n",
        "    --overwrite_output_dir \\\n",
        "    --evaluation_strategy epoch \\\n",
        "    --save_strategy epoch \\\n",
        "    --gradient_accumulation_steps 1 \\\n",
        "    --metric_for_best_model \"f1-micro\" \\\n",
        "    --greater_is_better 1 \\\n",
        "    --report_to 'wandb'"
      ]
    },
    {
      "cell_type": "code",
      "execution_count": null,
      "metadata": {
        "colab": {
          "base_uri": "https://localhost:8080/",
          "height": 241
        },
        "id": "bB7SscoiUTsn",
        "outputId": "86610cfb-d03b-4e5a-88ed-336e2cafca3e"
      },
      "outputs": [
        {
          "ename": "NameError",
          "evalue": "ignored",
          "output_type": "error",
          "traceback": [
            "\u001b[0;31m---------------------------------------------------------------------------\u001b[0m",
            "\u001b[0;31mNameError\u001b[0m                                 Traceback (most recent call last)",
            "\u001b[0;32m<ipython-input-20-135c797a23ca>\u001b[0m in \u001b[0;36m<module>\u001b[0;34m\u001b[0m\n\u001b[0;32m----> 1\u001b[0;31m trainer = Trainer(\n\u001b[0m\u001b[1;32m      2\u001b[0m     \u001b[0mmodel\u001b[0m\u001b[0;34m=\u001b[0m\u001b[0mmodel\u001b[0m\u001b[0;34m,\u001b[0m\u001b[0;34m\u001b[0m\u001b[0;34m\u001b[0m\u001b[0m\n\u001b[1;32m      3\u001b[0m     \u001b[0mcompute_metrics\u001b[0m\u001b[0;34m=\u001b[0m\u001b[0mcompute_metrics\u001b[0m\u001b[0;34m,\u001b[0m\u001b[0;34m\u001b[0m\u001b[0;34m\u001b[0m\u001b[0m\n\u001b[1;32m      4\u001b[0m     \u001b[0margs\u001b[0m\u001b[0;34m=\u001b[0m\u001b[0mtraining_args\u001b[0m\u001b[0;34m,\u001b[0m\u001b[0;34m\u001b[0m\u001b[0;34m\u001b[0m\u001b[0m\n\u001b[1;32m      5\u001b[0m     \u001b[0meval_dataset\u001b[0m\u001b[0;34m=\u001b[0m\u001b[0mtokenized_data\u001b[0m\u001b[0;34m[\u001b[0m\u001b[0;34m'test'\u001b[0m\u001b[0;34m]\u001b[0m\u001b[0;34m,\u001b[0m\u001b[0;34m\u001b[0m\u001b[0;34m\u001b[0m\u001b[0m\n",
            "\u001b[0;31mNameError\u001b[0m: name 'Trainer' is not defined"
          ]
        }
      ],
      "source": [
        "trainer = Trainer(\n",
        "    model=model,\n",
        "    compute_metrics=compute_metrics,\n",
        "    args=training_args,\n",
        "    eval_dataset=tokenized_data['test'],\n",
        "    train_dataset=tokenized_data[\"train\"],\n",
        "    tokenizer=tokenizer,\n",
        "    data_collator=data_collator,    \n",
        "    callbacks = [EarlyStoppingCallback(early_stopping_patience=5)]\n",
        "      )"
      ]
    },
    {
      "cell_type": "code",
      "execution_count": null,
      "metadata": {
        "colab": {
          "base_uri": "https://localhost:8080/",
          "height": 223
        },
        "id": "Ng16ACy2N2B7",
        "outputId": "badfab89-b08c-4c71-b906-4947ed3c8a24"
      },
      "outputs": [
        {
          "ename": "NameError",
          "evalue": "ignored",
          "output_type": "error",
          "traceback": [
            "\u001b[0;31m---------------------------------------------------------------------------\u001b[0m",
            "\u001b[0;31mNameError\u001b[0m                                 Traceback (most recent call last)",
            "\u001b[0;32m<ipython-input-19-5e4465d624f9>\u001b[0m in \u001b[0;36m<module>\u001b[0;34m\u001b[0m\n\u001b[1;32m      4\u001b[0m \u001b[0;32mfrom\u001b[0m \u001b[0mray\u001b[0m \u001b[0;32mimport\u001b[0m \u001b[0mtune\u001b[0m\u001b[0;34m\u001b[0m\u001b[0;34m\u001b[0m\u001b[0m\n\u001b[1;32m      5\u001b[0m tune.run(\n\u001b[0;32m----> 6\u001b[0;31m     \u001b[0mtrainer\u001b[0m\u001b[0;34m,\u001b[0m\u001b[0;34m\u001b[0m\u001b[0;34m\u001b[0m\u001b[0m\n\u001b[0m\u001b[1;32m      7\u001b[0m     config=config)\n",
            "\u001b[0;31mNameError\u001b[0m: name 'trainer' is not defined"
          ]
        }
      ],
      "source": [
        "from ray.tune.suggest.hyperopt import HyperOptSearch\n",
        "from ray.tune.schedulers import ASHAScheduler\n",
        "\n",
        "from ray import tune\n",
        "tune.run(\n",
        "    trainer,\n",
        "    config=config)"
      ]
    },
    {
      "cell_type": "code",
      "execution_count": null,
      "metadata": {
        "id": "rbo0fzFNTUWC"
      },
      "outputs": [],
      "source": [
        "scheduler = PopulationBasedTraining(\n",
        "        time_attr=\"training_iteration\",\n",
        "        metric=\"eval_acc\",\n",
        "        mode=\"max\",\n",
        "        perturbation_interval=1,\n",
        "        hyperparam_mutations={\n",
        "            \"weight_decay\": tune.uniform(0.0, 0.3),\n",
        "            \"learning_rate\": tune.uniform(1e-3, 5e-5),\n",
        "            \"per_device_train_batch_size\": [6, 12,18, 24],\n",
        "        },\n",
        "        \"wandb\":{\n",
        "            \"project\": \"IR_LDC\",\n",
        "            \"api_key\": 'fd6f7deb3126d40be9abf77ee753bf45f00e2a9a'\n",
        "        }\n",
        "    )\n",
        "\n",
        "reporter = CLIReporter(\n",
        "        parameter_columns={\n",
        "            \"weight_decay\": \"w_decay\",\n",
        "            \"learning_rate\": \"lr\",\n",
        "            \"per_device_train_batch_size\": \"train_bs/gpu\",\n",
        "            \"num_train_epochs\": \"num_epochs\",\n",
        "        },\n",
        "        metric_columns=[ ,\"eval_loss\", \"epoch\", \"training_iteration\"],\n",
        "    )\n",
        "\n",
        "trainer.hyperparameter_search(\n",
        "        hp_space=lambda _: tune_config,\n",
        "        backend=\"ray\",\n",
        "        n_trials=2\n",
        "        ,\n",
        "        resources_per_trial={\"cpu\": 1, \"gpu\": gpus_per_trial},\n",
        "        scheduler=scheduler,\n",
        "        keep_checkpoints_num=1,\n",
        "        checkpoint_score_attr=\"training_iteration\",\n",
        "        stop={\"training_iteration\": 1} if smoke_test else None,\n",
        "        progress_reporter=reporter,\n",
        "        local_dir=\"~/ray_results/\",\n",
        "        name=\"tune_transformer_pbt\",\n",
        "        log_to_file=True,\n",
        "    )"
      ]
    }
  ],
  "metadata": {
    "colab": {
      "authorship_tag": "ABX9TyO0/5L6g4rYZzMkKjFN0ng8",
      "include_colab_link": true,
      "provenance": []
    },
    "kernelspec": {
      "display_name": "Python 3",
      "name": "python3"
    },
    "language_info": {
      "name": "python"
    }
  },
  "nbformat": 4,
  "nbformat_minor": 0
}
