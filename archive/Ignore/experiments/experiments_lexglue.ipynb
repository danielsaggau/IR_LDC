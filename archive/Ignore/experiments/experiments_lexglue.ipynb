{
  "nbformat": 4,
  "nbformat_minor": 0,
  "metadata": {
    "colab": {
      "name": "experiments_lexglue.ipynb",
      "provenance": [],
      "authorship_tag": "ABX9TyMOopOwbpu07BrX29R8+fC2",
      "include_colab_link": true
    },
    "kernelspec": {
      "name": "python3",
      "display_name": "Python 3"
    },
    "language_info": {
      "name": "python"
    },
    "accelerator": "GPU"
  },
  "cells": [
    {
      "cell_type": "markdown",
      "metadata": {
        "id": "view-in-github",
        "colab_type": "text"
      },
      "source": [
        "<a href=\"https://colab.research.google.com/github/danielsaggau/IR_LDC/blob/main/experiments_lexglue.ipynb\" target=\"_parent\"><img src=\"https://colab.research.google.com/assets/colab-badge.svg\" alt=\"Open In Colab\"/></a>"
      ]
    },
    {
      "cell_type": "code",
      "execution_count": 1,
      "metadata": {
        "id": "-JE4bEFS3FPa",
        "colab": {
          "base_uri": "https://localhost:8080/"
        },
        "outputId": "e2b6a935-f690-4776-aaaf-329881a7811d"
      },
      "outputs": [
        {
          "output_type": "stream",
          "name": "stdout",
          "text": [
            "Cloning into 'lex-glue'...\n",
            "remote: Enumerating objects: 185, done.\u001b[K\n",
            "remote: Counting objects: 100% (25/25), done.\u001b[K\n",
            "remote: Compressing objects: 100% (18/18), done.\u001b[K\n",
            "remote: Total 185 (delta 17), reused 7 (delta 7), pack-reused 160\u001b[K\n",
            "Receiving objects: 100% (185/185), 84.24 KiB | 1.96 MiB/s, done.\n",
            "Resolving deltas: 100% (101/101), done.\n"
          ]
        }
      ],
      "source": [
        "!git clone https://github.com/coastalcph/lex-glue.git"
      ]
    },
    {
      "cell_type": "code",
      "source": [
        ""
      ],
      "metadata": {
        "id": "c_gTsCy1kJJO"
      },
      "execution_count": null,
      "outputs": []
    },
    {
      "cell_type": "code",
      "source": [
        "!pip install -r /content/lex-glue/requirements.txt"
      ],
      "metadata": {
        "id": "hg4kd_58httC"
      },
      "execution_count": null,
      "outputs": []
    },
    {
      "cell_type": "code",
      "source": [
        "!pip install datasets\n",
        "from datasets import load_dataset \n",
        "dataset = load_dataset(\"lex_glue\", \"ecthr_a\")"
      ],
      "metadata": {
        "id": "MWNsZozv3KGz"
      },
      "execution_count": null,
      "outputs": []
    },
    {
      "cell_type": "code",
      "source": [
        "dataset['train'][80:100]"
      ],
      "metadata": {
        "id": "f2553wDJ3s1Z"
      },
      "execution_count": null,
      "outputs": []
    },
    {
      "cell_type": "code",
      "source": [
        "%cd /content/lex-glue\n",
        "!sudo apt install nano"
      ],
      "metadata": {
        "id": "6xv3yMPp4yns"
      },
      "execution_count": null,
      "outputs": []
    },
    {
      "cell_type": "code",
      "source": [
        "!python3 /content/lex-glue/models/hierbert.py\n"
      ],
      "metadata": {
        "id": "j_o707Abin5L"
      },
      "execution_count": 21,
      "outputs": []
    },
    {
      "cell_type": "code",
      "source": [
        "!python3 /content/lex-glue/models/deberta.py"
      ],
      "metadata": {
        "id": "o2IUcsJxj6s_"
      },
      "execution_count": 22,
      "outputs": []
    },
    {
      "cell_type": "code",
      "source": [
        "!python3 /content/lex-glue/models/tfidf_svm.py"
      ],
      "metadata": {
        "id": "gK1lcWzIj7vX"
      },
      "execution_count": null,
      "outputs": []
    },
    {
      "cell_type": "code",
      "source": [
        "!nano /content/lex-glue/scripts/run_ecthr.sh"
      ],
      "metadata": {
        "colab": {
          "base_uri": "https://localhost:8080/"
        },
        "id": "XWNA8he7434d",
        "outputId": "e381b5c5-a591-4d0f-c8d5-5e4f9316b713"
      },
      "execution_count": null,
      "outputs": [
        {
          "metadata": {
            "tags": null
          },
          "name": "stdout",
          "output_type": "stream",
          "text": [
            "\u001b[10A"
          ]
        }
      ]
    },
    {
      "cell_type": "code",
      "source": [
        ""
      ],
      "metadata": {
        "id": "gl0spL3b7rIG"
      },
      "execution_count": null,
      "outputs": []
    }
  ]
}