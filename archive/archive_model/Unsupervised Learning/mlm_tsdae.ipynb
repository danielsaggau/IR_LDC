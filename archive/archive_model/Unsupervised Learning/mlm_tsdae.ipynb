{
  "cells": [
    {
      "cell_type": "markdown",
      "metadata": {
        "colab_type": "text",
        "id": "view-in-github"
      },
      "source": [
        "<a href=\"https://colab.research.google.com/github/danielsaggau/IR_LDC/blob/main/model/Unsupervised%20Learning/mlm_tsdae.ipynb\" target=\"_parent\"><img src=\"https://colab.research.google.com/assets/colab-badge.svg\" alt=\"Open In Colab\"/></a>"
      ]
    },
    {
      "cell_type": "code",
      "execution_count": null,
      "metadata": {
        "id": "eoxhsJQXkifp"
      },
      "outputs": [],
      "source": [
        "!pip install sentence-transformers datasets"
      ]
    },
    {
      "cell_type": "code",
      "execution_count": null,
      "metadata": {
        "id": "SWwD6axOvc4I"
      },
      "outputs": [],
      "source": [
        "!pip install huggingface_hub"
      ]
    },
    {
      "cell_type": "code",
      "execution_count": null,
      "metadata": {
        "colab": {
          "base_uri": "https://localhost:8080/",
          "height": 327,
          "referenced_widgets": [
            "d84c77999da7481297292725cbb98235",
            "7abea7a93abc4d0dac7674e21b22b6c0",
            "43b56261eeac47a29936247952bf092a",
            "2d0693a4fd72423c9b8beba09a637ab9",
            "49ed5b66d8884fc9bb86ec033116b1c6",
            "2360334144624d5d9f833a3ba5f8aa6a",
            "ea0692449b50419e9f0a33c6fd783b98",
            "e229296964f54c02b54e0a645605d360",
            "c0f013cd19cf44fa8760972101cb2237",
            "a7493ab06d4347c8ae316be60566bfa6",
            "f97f0c72ee4d4d2c974304e355d25ed6",
            "fad17e034d064f42980580c3c3767904",
            "3c6d43ec16aa4efe9da55a715153efa3",
            "815bcd3f9cd445918497fb3dea997468"
          ]
        },
        "id": "la4rP5ZUvnh4",
        "outputId": "b82d1603-b55b-4426-e67c-baa3456c33d3"
      },
      "outputs": [
        {
          "name": "stdout",
          "output_type": "stream",
          "text": [
            "Login successful\n",
            "Your token has been saved to /root/.huggingface/token\n"
          ]
        }
      ],
      "source": [
        "from huggingface_hub import notebook_login\n",
        "notebook_login()"
      ]
    },
    {
      "cell_type": "code",
      "execution_count": null,
      "metadata": {
        "id": "iKaEZs4pkwoa"
      },
      "outputs": [],
      "source": [
        "!pip install datasets\n",
        "from datasets import load_dataset\n",
        "dataset = load_dataset(\"ecthr_cases\")"
      ]
    },
    {
      "cell_type": "code",
      "execution_count": null,
      "metadata": {
        "id": "4dHWlAmxspaD"
      },
      "outputs": [],
      "source": [
        "dataset = load_dataset(\"lex_glue\", \"scotus\")\n",
        "# you can use any of the following config names as a second argument: \"case_hold\", \"ecthr_a\", \"ecthr_b\", \"eurlex\", \"ledgar\", \"scotus\", \"unfair_tos\""
      ]
    },
    {
      "cell_type": "code",
      "execution_count": null,
      "metadata": {
        "id": "slYeorB3lBjy"
      },
      "outputs": [],
      "source": [
        "with open('your_file.txt', 'w') as f:\n",
        "    for line in dataset['train']['text']:\n",
        "        f.write(f\"{line}\\n\")"
      ]
    },
    {
      "cell_type": "code",
      "execution_count": null,
      "metadata": {
        "id": "U9v6fw53lFma"
      },
      "outputs": [],
      "source": [
        "!git clone https://github.com/UKPLab/sentence-transformers.git"
      ]
    },
    {
      "cell_type": "code",
      "execution_count": null,
      "metadata": {
        "id": "gueZb6o6lJBy"
      },
      "outputs": [],
      "source": [
        "%cd /content/sentence-transformers"
      ]
    },
    {
      "cell_type": "code",
      "execution_count": null,
      "metadata": {
        "id": "GcFJU5b6x816"
      },
      "outputs": [],
      "source": []
    },
    {
      "cell_type": "code",
      "execution_count": null,
      "metadata": {
        "colab": {
          "base_uri": "https://localhost:8080/"
        },
        "id": "J38plXrllZJq",
        "outputId": "e5aea053-7c07-4ac0-b98d-3e0c85e31645"
      },
      "outputs": [
        {
          "name": "stdout",
          "output_type": "stream",
          "text": [
            "Save checkpoints to: output/distilbert-base-uncased-2022-10-20_09-44-11\n",
            "Train sentences: 375683\n",
            "Dev sentences: 0\n",
            "Save tokenizer to: output/distilbert-base-uncased-2022-10-20_09-44-11\n",
            "tokenizer config file saved in output/distilbert-base-uncased-2022-10-20_09-44-11/tokenizer_config.json\n",
            "Special tokens file saved in output/distilbert-base-uncased-2022-10-20_09-44-11/special_tokens_map.json\n",
            "/usr/local/lib/python3.7/dist-packages/transformers/optimization.py:310: FutureWarning: This implementation of AdamW is deprecated and will be removed in a future version. Use the PyTorch implementation torch.optim.AdamW instead, or set `no_deprecation_warning=True` to disable this warning\n",
            "  FutureWarning,\n",
            "***** Running training *****\n",
            "  Num examples = 375683\n",
            "  Num Epochs = 3\n",
            "  Instantaneous batch size per device = 64\n",
            "  Total train batch size (w. parallel, distributed & accumulation) = 64\n",
            "  Gradient Accumulation steps = 1\n",
            "  Total optimization steps = 17613\n",
            "{'loss': 2.4588, 'learning_rate': 4.716118775904162e-05, 'epoch': 0.17}\n",
            "  6% 1000/17613 [12:34<3:33:16,  1.30it/s]Saving model checkpoint to output/distilbert-base-uncased-2022-10-20_09-44-11/checkpoint-1000\n",
            "Configuration saved in output/distilbert-base-uncased-2022-10-20_09-44-11/checkpoint-1000/config.json\n",
            "Model weights saved in output/distilbert-base-uncased-2022-10-20_09-44-11/checkpoint-1000/pytorch_model.bin\n",
            "{'loss': 2.2549, 'learning_rate': 4.4322375518083236e-05, 'epoch': 0.34}\n",
            " 11% 2000/17613 [25:28<3:21:36,  1.29it/s]Saving model checkpoint to output/distilbert-base-uncased-2022-10-20_09-44-11/checkpoint-2000\n",
            "Configuration saved in output/distilbert-base-uncased-2022-10-20_09-44-11/checkpoint-2000/config.json\n",
            "Model weights saved in output/distilbert-base-uncased-2022-10-20_09-44-11/checkpoint-2000/pytorch_model.bin\n",
            "Deleting older checkpoint [output/distilbert-base-uncased-2022-10-20_09-44-11/checkpoint-1000] due to args.save_total_limit\n",
            "{'loss': 2.1731, 'learning_rate': 4.1483563277124856e-05, 'epoch': 0.51}\n",
            " 17% 3000/17613 [38:23<3:08:18,  1.29it/s]Saving model checkpoint to output/distilbert-base-uncased-2022-10-20_09-44-11/checkpoint-3000\n",
            "Configuration saved in output/distilbert-base-uncased-2022-10-20_09-44-11/checkpoint-3000/config.json\n",
            "Model weights saved in output/distilbert-base-uncased-2022-10-20_09-44-11/checkpoint-3000/pytorch_model.bin\n",
            "Deleting older checkpoint [output/distilbert-base-uncased-2022-10-20_09-44-11/checkpoint-2000] due to args.save_total_limit\n",
            "{'loss': 2.1087, 'learning_rate': 3.864475103616647e-05, 'epoch': 0.68}\n",
            " 23% 4000/17613 [51:16<2:54:37,  1.30it/s]Saving model checkpoint to output/distilbert-base-uncased-2022-10-20_09-44-11/checkpoint-4000\n",
            "Configuration saved in output/distilbert-base-uncased-2022-10-20_09-44-11/checkpoint-4000/config.json\n",
            "Model weights saved in output/distilbert-base-uncased-2022-10-20_09-44-11/checkpoint-4000/pytorch_model.bin\n",
            "Deleting older checkpoint [output/distilbert-base-uncased-2022-10-20_09-44-11/checkpoint-3000] due to args.save_total_limit\n",
            "{'loss': 2.0645, 'learning_rate': 3.580593879520809e-05, 'epoch': 0.85}\n",
            " 28% 5000/17613 [1:04:11<2:42:04,  1.30it/s]Saving model checkpoint to output/distilbert-base-uncased-2022-10-20_09-44-11/checkpoint-5000\n",
            "Configuration saved in output/distilbert-base-uncased-2022-10-20_09-44-11/checkpoint-5000/config.json\n",
            "Model weights saved in output/distilbert-base-uncased-2022-10-20_09-44-11/checkpoint-5000/pytorch_model.bin\n",
            "Deleting older checkpoint [output/distilbert-base-uncased-2022-10-20_09-44-11/checkpoint-4000] due to args.save_total_limit\n",
            "{'loss': 2.0248, 'learning_rate': 3.29671265542497e-05, 'epoch': 1.02}\n",
            " 34% 6000/17613 [1:17:06<2:28:53,  1.30it/s]Saving model checkpoint to output/distilbert-base-uncased-2022-10-20_09-44-11/checkpoint-6000\n",
            "Configuration saved in output/distilbert-base-uncased-2022-10-20_09-44-11/checkpoint-6000/config.json\n",
            "Model weights saved in output/distilbert-base-uncased-2022-10-20_09-44-11/checkpoint-6000/pytorch_model.bin\n",
            "Deleting older checkpoint [output/distilbert-base-uncased-2022-10-20_09-44-11/checkpoint-5000] due to args.save_total_limit\n",
            "{'loss': 1.9793, 'learning_rate': 3.0128314313291323e-05, 'epoch': 1.19}\n",
            " 40% 7000/17613 [1:30:00<2:16:31,  1.30it/s]Saving model checkpoint to output/distilbert-base-uncased-2022-10-20_09-44-11/checkpoint-7000\n",
            "Configuration saved in output/distilbert-base-uncased-2022-10-20_09-44-11/checkpoint-7000/config.json\n",
            "Model weights saved in output/distilbert-base-uncased-2022-10-20_09-44-11/checkpoint-7000/pytorch_model.bin\n",
            "Deleting older checkpoint [output/distilbert-base-uncased-2022-10-20_09-44-11/checkpoint-6000] due to args.save_total_limit\n",
            "{'loss': 1.9598, 'learning_rate': 2.728950207233294e-05, 'epoch': 1.36}\n",
            " 45% 8000/17613 [1:42:54<2:03:55,  1.29it/s]Saving model checkpoint to output/distilbert-base-uncased-2022-10-20_09-44-11/checkpoint-8000\n",
            "Configuration saved in output/distilbert-base-uncased-2022-10-20_09-44-11/checkpoint-8000/config.json\n",
            "Model weights saved in output/distilbert-base-uncased-2022-10-20_09-44-11/checkpoint-8000/pytorch_model.bin\n",
            "Deleting older checkpoint [output/distilbert-base-uncased-2022-10-20_09-44-11/checkpoint-7000] due to args.save_total_limit\n",
            "{'loss': 1.9331, 'learning_rate': 2.4450689831374553e-05, 'epoch': 1.53}\n",
            " 51% 9000/17613 [1:55:48<1:50:50,  1.30it/s]Saving model checkpoint to output/distilbert-base-uncased-2022-10-20_09-44-11/checkpoint-9000\n",
            "Configuration saved in output/distilbert-base-uncased-2022-10-20_09-44-11/checkpoint-9000/config.json\n",
            "Model weights saved in output/distilbert-base-uncased-2022-10-20_09-44-11/checkpoint-9000/pytorch_model.bin\n",
            "Deleting older checkpoint [output/distilbert-base-uncased-2022-10-20_09-44-11/checkpoint-8000] due to args.save_total_limit\n",
            " 55% 9630/17613 [2:03:56<1:42:37,  1.30it/s]"
          ]
        }
      ],
      "source": [
        "!python /content/sentence-transformers/examples/unsupervised_learning/MLM/train_mlm.py distilbert-base-uncased /content/your_file.txt"
      ]
    },
    {
      "cell_type": "code",
      "execution_count": null,
      "metadata": {
        "id": "QCaLVcNpxjwN"
      },
      "outputs": [],
      "source": [
        "model.save_to_hub(\"danielsaggau/distil_mlm_scotus\")"
      ]
    },
    {
      "cell_type": "code",
      "execution_count": null,
      "metadata": {
        "id": "NyzS812VxiZz"
      },
      "outputs": [],
      "source": []
    },
    {
      "cell_type": "code",
      "execution_count": null,
      "metadata": {
        "id": "8yyjHyhZsCI5"
      },
      "outputs": [],
      "source": [
        "import nltk\n",
        "nltk.download('punkt')"
      ]
    },
    {
      "cell_type": "code",
      "execution_count": null,
      "metadata": {
        "colab": {
          "base_uri": "https://localhost:8080/"
        },
        "id": "DQ77CqhzlXLq",
        "outputId": "e04e396a-26f1-4b74-9b84-9c9500784d02"
      },
      "outputs": [
        {
          "name": "stdout",
          "output_type": "stream",
          "text": [
            "Read file: 1217088it [00:01, 996563.56it/s] \n",
            "2022-10-20 09:38:34 - 375683 train sentences\n",
            "Some weights of the model checkpoint at google/bigbird-roberta-base were not used when initializing BigBirdModel: ['cls.seq_relationship.weight', 'cls.predictions.transform.dense.bias', 'cls.seq_relationship.bias', 'cls.predictions.transform.dense.weight', 'cls.predictions.transform.LayerNorm.weight', 'cls.predictions.decoder.weight', 'cls.predictions.decoder.bias', 'cls.predictions.bias', 'cls.predictions.transform.LayerNorm.bias']\n",
            "- This IS expected if you are initializing BigBirdModel from the checkpoint of a model trained on another task or with another architecture (e.g. initializing a BertForSequenceClassification model from a BertForPreTraining model).\n",
            "- This IS NOT expected if you are initializing BigBirdModel from the checkpoint of a model that you expect to be exactly identical (initializing a BertForSequenceClassification model from a BertForSequenceClassification model).\n",
            "2022-10-20 09:38:37 - Use pytorch device: cuda\n",
            "2022-10-20 09:38:37 - When tie_encoder_decoder=True, the decoder_name_or_path will be invalid.\n",
            "When using `BigBirdForCausalLM` as decoder, then `attention_type` must be `original_full`. Setting `attention_type=original_full`\n",
            "Some weights of the model checkpoint at google/bigbird-roberta-base were not used when initializing BigBirdForCausalLM: ['cls.seq_relationship.weight', 'cls.seq_relationship.bias']\n",
            "- This IS expected if you are initializing BigBirdForCausalLM from the checkpoint of a model trained on another task or with another architecture (e.g. initializing a BertForSequenceClassification model from a BertForPreTraining model).\n",
            "- This IS NOT expected if you are initializing BigBirdForCausalLM from the checkpoint of a model that you expect to be exactly identical (initializing a BertForSequenceClassification model from a BertForSequenceClassification model).\n",
            "Some weights of BigBirdForCausalLM were not initialized from the model checkpoint at google/bigbird-roberta-base and are newly initialized: ['bert.encoder.layer.1.crossattention.output.dense.weight', 'bert.encoder.layer.5.crossattention.self.key.weight', 'bert.encoder.layer.4.crossattention.output.LayerNorm.weight', 'bert.encoder.layer.8.crossattention.output.LayerNorm.bias', 'bert.encoder.layer.0.crossattention.output.LayerNorm.bias', 'bert.encoder.layer.0.crossattention.self.query.bias', 'bert.encoder.layer.10.crossattention.self.value.bias', 'bert.encoder.layer.5.crossattention.self.value.bias', 'bert.encoder.layer.6.crossattention.output.dense.bias', 'bert.encoder.layer.1.crossattention.self.query.bias', 'bert.encoder.layer.7.crossattention.output.dense.weight', 'bert.encoder.layer.11.crossattention.output.LayerNorm.weight', 'bert.encoder.layer.4.crossattention.self.key.bias', 'bert.encoder.layer.10.crossattention.output.dense.weight', 'bert.encoder.layer.7.crossattention.output.LayerNorm.bias', 'bert.encoder.layer.9.crossattention.self.query.weight', 'bert.encoder.layer.0.crossattention.self.key.bias', 'bert.encoder.layer.11.crossattention.self.query.bias', 'bert.encoder.layer.8.crossattention.output.LayerNorm.weight', 'bert.encoder.layer.6.crossattention.self.key.bias', 'bert.encoder.layer.10.crossattention.output.LayerNorm.weight', 'bert.encoder.layer.3.crossattention.self.query.weight', 'bert.encoder.layer.5.crossattention.self.query.weight', 'bert.encoder.layer.2.crossattention.self.value.weight', 'bert.encoder.layer.3.crossattention.self.query.bias', 'bert.encoder.layer.1.crossattention.self.key.bias', 'bert.encoder.layer.4.crossattention.self.value.bias', 'bert.encoder.layer.8.crossattention.output.dense.weight', 'bert.encoder.layer.0.crossattention.self.value.bias', 'bert.encoder.layer.4.crossattention.output.dense.bias', 'bert.encoder.layer.8.crossattention.self.key.weight', 'bert.encoder.layer.10.crossattention.self.key.weight', 'bert.encoder.layer.7.crossattention.self.query.weight', 'bert.encoder.layer.2.crossattention.self.query.weight', 'bert.encoder.layer.1.crossattention.output.LayerNorm.bias', 'bert.encoder.layer.4.crossattention.self.key.weight', 'bert.encoder.layer.2.crossattention.output.dense.bias', 'bert.encoder.layer.2.crossattention.self.key.bias', 'bert.encoder.layer.5.crossattention.self.value.weight', 'bert.encoder.layer.3.crossattention.self.value.weight', 'bert.encoder.layer.5.crossattention.output.LayerNorm.weight', 'bert.encoder.layer.11.crossattention.output.dense.bias', 'bert.encoder.layer.8.crossattention.output.dense.bias', 'bert.encoder.layer.11.crossattention.output.dense.weight', 'bert.encoder.layer.7.crossattention.self.value.weight', 'bert.encoder.layer.3.crossattention.self.key.bias', 'bert.encoder.layer.3.crossattention.output.LayerNorm.weight', 'bert.encoder.layer.4.crossattention.output.LayerNorm.bias', 'bert.encoder.layer.10.crossattention.output.dense.bias', 'bert.encoder.layer.6.crossattention.self.query.bias', 'bert.encoder.layer.1.crossattention.self.value.bias', 'bert.encoder.layer.2.crossattention.output.LayerNorm.bias', 'bert.encoder.layer.11.crossattention.self.value.weight', 'bert.encoder.layer.5.crossattention.self.key.bias', 'bert.encoder.layer.3.crossattention.output.LayerNorm.bias', 'bert.encoder.layer.2.crossattention.self.key.weight', 'bert.encoder.layer.9.crossattention.self.key.weight', 'bert.encoder.layer.4.crossattention.self.value.weight', 'bert.encoder.layer.1.crossattention.self.key.weight', 'bert.encoder.layer.0.crossattention.output.dense.weight', 'bert.encoder.layer.6.crossattention.output.dense.weight', 'bert.encoder.layer.9.crossattention.output.LayerNorm.bias', 'bert.encoder.layer.9.crossattention.self.key.bias', 'bert.encoder.layer.9.crossattention.output.dense.bias', 'bert.encoder.layer.8.crossattention.self.key.bias', 'bert.encoder.layer.5.crossattention.self.query.bias', 'bert.encoder.layer.4.crossattention.output.dense.weight', 'bert.encoder.layer.6.crossattention.self.value.weight', 'bert.encoder.layer.8.crossattention.self.value.bias', 'bert.encoder.layer.9.crossattention.self.value.weight', 'bert.encoder.layer.3.crossattention.output.dense.weight', 'bert.encoder.layer.7.crossattention.output.LayerNorm.weight', 'bert.encoder.layer.7.crossattention.self.key.weight', 'bert.encoder.layer.5.crossattention.output.dense.weight', 'bert.encoder.layer.10.crossattention.self.query.bias', 'bert.encoder.layer.2.crossattention.output.LayerNorm.weight', 'bert.encoder.layer.6.crossattention.output.LayerNorm.bias', 'bert.encoder.layer.4.crossattention.self.query.bias', 'bert.encoder.layer.0.crossattention.output.LayerNorm.weight', 'bert.encoder.layer.0.crossattention.output.dense.bias', 'bert.encoder.layer.1.crossattention.self.query.weight', 'bert.encoder.layer.10.crossattention.self.key.bias', 'bert.encoder.layer.9.crossattention.output.LayerNorm.weight', 'bert.encoder.layer.3.crossattention.self.value.bias', 'bert.encoder.layer.6.crossattention.self.value.bias', 'bert.encoder.layer.6.crossattention.self.key.weight', 'bert.encoder.layer.1.crossattention.self.value.weight', 'bert.encoder.layer.0.crossattention.self.value.weight', 'bert.encoder.layer.6.crossattention.self.query.weight', 'bert.encoder.layer.8.crossattention.self.query.weight', 'bert.encoder.layer.11.crossattention.output.LayerNorm.bias', 'bert.encoder.layer.7.crossattention.self.key.bias', 'bert.encoder.layer.1.crossattention.output.dense.bias', 'bert.encoder.layer.8.crossattention.self.query.bias', 'bert.encoder.layer.4.crossattention.self.query.weight', 'bert.encoder.layer.6.crossattention.output.LayerNorm.weight', 'bert.encoder.layer.8.crossattention.self.value.weight', 'bert.encoder.layer.11.crossattention.self.value.bias', 'bert.encoder.layer.0.crossattention.self.key.weight', 'bert.encoder.layer.9.crossattention.output.dense.weight', 'bert.encoder.layer.10.crossattention.self.value.weight', 'bert.encoder.layer.5.crossattention.output.LayerNorm.bias', 'bert.encoder.layer.3.crossattention.output.dense.bias', 'bert.encoder.layer.10.crossattention.output.LayerNorm.bias', 'bert.encoder.layer.9.crossattention.self.value.bias', 'bert.encoder.layer.3.crossattention.self.key.weight', 'bert.encoder.layer.7.crossattention.self.query.bias', 'bert.encoder.layer.2.crossattention.self.value.bias', 'bert.encoder.layer.5.crossattention.output.dense.bias', 'bert.encoder.layer.7.crossattention.self.value.bias', 'bert.encoder.layer.11.crossattention.self.key.bias', 'bert.encoder.layer.0.crossattention.self.query.weight', 'bert.encoder.layer.11.crossattention.self.query.weight', 'bert.encoder.layer.7.crossattention.output.dense.bias', 'bert.encoder.layer.2.crossattention.output.dense.weight', 'bert.encoder.layer.2.crossattention.self.query.bias', 'bert.encoder.layer.1.crossattention.output.LayerNorm.weight', 'bert.encoder.layer.11.crossattention.self.key.weight', 'bert.encoder.layer.9.crossattention.self.query.bias', 'bert.encoder.layer.10.crossattention.self.query.weight']\n",
            "You should probably TRAIN this model on a down-stream task to be able to use it for predictions and inference.\n",
            "2022-10-20 09:38:41 - Start training\n",
            "Traceback (most recent call last):\n",
            "  File \"examples/unsupervised_learning/TSDAE/train_tsdae_from_file.py\", line 80, in <module>\n",
            "    use_amp=False                #Set to True, if your GPU supports FP16 cores\n",
            "TypeError: fit() got an unexpected keyword argument 'save_to_hub'\n"
          ]
        }
      ],
      "source": [
        "!python examples/unsupervised_learning/TSDAE/train_tsdae_from_file.py /content/your_file.txt"
      ]
    },
    {
      "cell_type": "code",
      "execution_count": null,
      "metadata": {
        "id": "6X2G8ppBu_od"
      },
      "outputs": [],
      "source": [
        "#push_to_hub=True"
      ]
    }
  ],
  "metadata": {
    "accelerator": "GPU",
    "colab": {
      "authorship_tag": "ABX9TyP9uBr9SX26RRTGGgPW05Bx",
      "include_colab_link": true,
      "machine_shape": "hm",
      "provenance": []
    },
    "kernelspec": {
      "display_name": "Python 3",
      "name": "python3"
    },
    "language_info": {
      "name": "python"
    },
    "widgets": {
      "application/vnd.jupyter.widget-state+json": {
        "2360334144624d5d9f833a3ba5f8aa6a": {
          "model_module": "@jupyter-widgets/base",
          "model_module_version": "1.2.0",
          "model_name": "LayoutModel",
          "state": {
            "_model_module": "@jupyter-widgets/base",
            "_model_module_version": "1.2.0",
            "_model_name": "LayoutModel",
            "_view_count": null,
            "_view_module": "@jupyter-widgets/base",
            "_view_module_version": "1.2.0",
            "_view_name": "LayoutView",
            "align_content": null,
            "align_items": "center",
            "align_self": null,
            "border": null,
            "bottom": null,
            "display": "flex",
            "flex": null,
            "flex_flow": "column",
            "grid_area": null,
            "grid_auto_columns": null,
            "grid_auto_flow": null,
            "grid_auto_rows": null,
            "grid_column": null,
            "grid_gap": null,
            "grid_row": null,
            "grid_template_areas": null,
            "grid_template_columns": null,
            "grid_template_rows": null,
            "height": null,
            "justify_content": null,
            "justify_items": null,
            "left": null,
            "margin": null,
            "max_height": null,
            "max_width": null,
            "min_height": null,
            "min_width": null,
            "object_fit": null,
            "object_position": null,
            "order": null,
            "overflow": null,
            "overflow_x": null,
            "overflow_y": null,
            "padding": null,
            "right": null,
            "top": null,
            "visibility": null,
            "width": "50%"
          }
        },
        "2d0693a4fd72423c9b8beba09a637ab9": {
          "model_module": "@jupyter-widgets/controls",
          "model_module_version": "1.5.0",
          "model_name": "ButtonModel",
          "state": {
            "_dom_classes": [],
            "_model_module": "@jupyter-widgets/controls",
            "_model_module_version": "1.5.0",
            "_model_name": "ButtonModel",
            "_view_count": null,
            "_view_module": "@jupyter-widgets/controls",
            "_view_module_version": "1.5.0",
            "_view_name": "ButtonView",
            "button_style": "",
            "description": "Login",
            "disabled": false,
            "icon": "",
            "layout": "IPY_MODEL_f97f0c72ee4d4d2c974304e355d25ed6",
            "style": "IPY_MODEL_fad17e034d064f42980580c3c3767904",
            "tooltip": ""
          }
        },
        "3c6d43ec16aa4efe9da55a715153efa3": {
          "model_module": "@jupyter-widgets/base",
          "model_module_version": "1.2.0",
          "model_name": "LayoutModel",
          "state": {
            "_model_module": "@jupyter-widgets/base",
            "_model_module_version": "1.2.0",
            "_model_name": "LayoutModel",
            "_view_count": null,
            "_view_module": "@jupyter-widgets/base",
            "_view_module_version": "1.2.0",
            "_view_name": "LayoutView",
            "align_content": null,
            "align_items": null,
            "align_self": null,
            "border": null,
            "bottom": null,
            "display": null,
            "flex": null,
            "flex_flow": null,
            "grid_area": null,
            "grid_auto_columns": null,
            "grid_auto_flow": null,
            "grid_auto_rows": null,
            "grid_column": null,
            "grid_gap": null,
            "grid_row": null,
            "grid_template_areas": null,
            "grid_template_columns": null,
            "grid_template_rows": null,
            "height": null,
            "justify_content": null,
            "justify_items": null,
            "left": null,
            "margin": null,
            "max_height": null,
            "max_width": null,
            "min_height": null,
            "min_width": null,
            "object_fit": null,
            "object_position": null,
            "order": null,
            "overflow": null,
            "overflow_x": null,
            "overflow_y": null,
            "padding": null,
            "right": null,
            "top": null,
            "visibility": null,
            "width": null
          }
        },
        "43b56261eeac47a29936247952bf092a": {
          "model_module": "@jupyter-widgets/controls",
          "model_module_version": "1.5.0",
          "model_name": "PasswordModel",
          "state": {
            "_dom_classes": [],
            "_model_module": "@jupyter-widgets/controls",
            "_model_module_version": "1.5.0",
            "_model_name": "PasswordModel",
            "_view_count": null,
            "_view_module": "@jupyter-widgets/controls",
            "_view_module_version": "1.5.0",
            "_view_name": "PasswordView",
            "continuous_update": true,
            "description": "Token:",
            "description_tooltip": null,
            "disabled": false,
            "layout": "IPY_MODEL_c0f013cd19cf44fa8760972101cb2237",
            "placeholder": "​",
            "style": "IPY_MODEL_a7493ab06d4347c8ae316be60566bfa6",
            "value": ""
          }
        },
        "49ed5b66d8884fc9bb86ec033116b1c6": {
          "model_module": "@jupyter-widgets/controls",
          "model_module_version": "1.5.0",
          "model_name": "HTMLModel",
          "state": {
            "_dom_classes": [],
            "_model_module": "@jupyter-widgets/controls",
            "_model_module_version": "1.5.0",
            "_model_name": "HTMLModel",
            "_view_count": null,
            "_view_module": "@jupyter-widgets/controls",
            "_view_module_version": "1.5.0",
            "_view_name": "HTMLView",
            "description": "",
            "description_tooltip": null,
            "layout": "IPY_MODEL_3c6d43ec16aa4efe9da55a715153efa3",
            "placeholder": "​",
            "style": "IPY_MODEL_815bcd3f9cd445918497fb3dea997468",
            "value": "\n<b>Pro Tip:</b> If you don't already have one, you can create a dedicated\n'notebooks' token with 'write' access, that you can then easily reuse for all\nnotebooks. </center>"
          }
        },
        "7abea7a93abc4d0dac7674e21b22b6c0": {
          "model_module": "@jupyter-widgets/controls",
          "model_module_version": "1.5.0",
          "model_name": "HTMLModel",
          "state": {
            "_dom_classes": [],
            "_model_module": "@jupyter-widgets/controls",
            "_model_module_version": "1.5.0",
            "_model_name": "HTMLModel",
            "_view_count": null,
            "_view_module": "@jupyter-widgets/controls",
            "_view_module_version": "1.5.0",
            "_view_name": "HTMLView",
            "description": "",
            "description_tooltip": null,
            "layout": "IPY_MODEL_ea0692449b50419e9f0a33c6fd783b98",
            "placeholder": "​",
            "style": "IPY_MODEL_e229296964f54c02b54e0a645605d360",
            "value": "<center> <img\nsrc=https://huggingface.co/front/assets/huggingface_logo-noborder.svg\nalt='Hugging Face'> <br> Copy a token from <a\nhref=\"https://huggingface.co/settings/tokens\" target=\"_blank\">your Hugging Face\ntokens page</a> and paste it below. <br> Immediately click login after copying\nyour token or it might be stored in plain text in this notebook file. </center>"
          }
        },
        "815bcd3f9cd445918497fb3dea997468": {
          "model_module": "@jupyter-widgets/controls",
          "model_module_version": "1.5.0",
          "model_name": "DescriptionStyleModel",
          "state": {
            "_model_module": "@jupyter-widgets/controls",
            "_model_module_version": "1.5.0",
            "_model_name": "DescriptionStyleModel",
            "_view_count": null,
            "_view_module": "@jupyter-widgets/base",
            "_view_module_version": "1.2.0",
            "_view_name": "StyleView",
            "description_width": ""
          }
        },
        "a7493ab06d4347c8ae316be60566bfa6": {
          "model_module": "@jupyter-widgets/controls",
          "model_module_version": "1.5.0",
          "model_name": "DescriptionStyleModel",
          "state": {
            "_model_module": "@jupyter-widgets/controls",
            "_model_module_version": "1.5.0",
            "_model_name": "DescriptionStyleModel",
            "_view_count": null,
            "_view_module": "@jupyter-widgets/base",
            "_view_module_version": "1.2.0",
            "_view_name": "StyleView",
            "description_width": ""
          }
        },
        "c0f013cd19cf44fa8760972101cb2237": {
          "model_module": "@jupyter-widgets/base",
          "model_module_version": "1.2.0",
          "model_name": "LayoutModel",
          "state": {
            "_model_module": "@jupyter-widgets/base",
            "_model_module_version": "1.2.0",
            "_model_name": "LayoutModel",
            "_view_count": null,
            "_view_module": "@jupyter-widgets/base",
            "_view_module_version": "1.2.0",
            "_view_name": "LayoutView",
            "align_content": null,
            "align_items": null,
            "align_self": null,
            "border": null,
            "bottom": null,
            "display": null,
            "flex": null,
            "flex_flow": null,
            "grid_area": null,
            "grid_auto_columns": null,
            "grid_auto_flow": null,
            "grid_auto_rows": null,
            "grid_column": null,
            "grid_gap": null,
            "grid_row": null,
            "grid_template_areas": null,
            "grid_template_columns": null,
            "grid_template_rows": null,
            "height": null,
            "justify_content": null,
            "justify_items": null,
            "left": null,
            "margin": null,
            "max_height": null,
            "max_width": null,
            "min_height": null,
            "min_width": null,
            "object_fit": null,
            "object_position": null,
            "order": null,
            "overflow": null,
            "overflow_x": null,
            "overflow_y": null,
            "padding": null,
            "right": null,
            "top": null,
            "visibility": null,
            "width": null
          }
        },
        "d84c77999da7481297292725cbb98235": {
          "model_module": "@jupyter-widgets/controls",
          "model_module_version": "1.5.0",
          "model_name": "VBoxModel",
          "state": {
            "_dom_classes": [],
            "_model_module": "@jupyter-widgets/controls",
            "_model_module_version": "1.5.0",
            "_model_name": "VBoxModel",
            "_view_count": null,
            "_view_module": "@jupyter-widgets/controls",
            "_view_module_version": "1.5.0",
            "_view_name": "VBoxView",
            "box_style": "",
            "children": [
              "IPY_MODEL_7abea7a93abc4d0dac7674e21b22b6c0",
              "IPY_MODEL_43b56261eeac47a29936247952bf092a",
              "IPY_MODEL_2d0693a4fd72423c9b8beba09a637ab9",
              "IPY_MODEL_49ed5b66d8884fc9bb86ec033116b1c6"
            ],
            "layout": "IPY_MODEL_2360334144624d5d9f833a3ba5f8aa6a"
          }
        },
        "e229296964f54c02b54e0a645605d360": {
          "model_module": "@jupyter-widgets/controls",
          "model_module_version": "1.5.0",
          "model_name": "DescriptionStyleModel",
          "state": {
            "_model_module": "@jupyter-widgets/controls",
            "_model_module_version": "1.5.0",
            "_model_name": "DescriptionStyleModel",
            "_view_count": null,
            "_view_module": "@jupyter-widgets/base",
            "_view_module_version": "1.2.0",
            "_view_name": "StyleView",
            "description_width": ""
          }
        },
        "ea0692449b50419e9f0a33c6fd783b98": {
          "model_module": "@jupyter-widgets/base",
          "model_module_version": "1.2.0",
          "model_name": "LayoutModel",
          "state": {
            "_model_module": "@jupyter-widgets/base",
            "_model_module_version": "1.2.0",
            "_model_name": "LayoutModel",
            "_view_count": null,
            "_view_module": "@jupyter-widgets/base",
            "_view_module_version": "1.2.0",
            "_view_name": "LayoutView",
            "align_content": null,
            "align_items": null,
            "align_self": null,
            "border": null,
            "bottom": null,
            "display": null,
            "flex": null,
            "flex_flow": null,
            "grid_area": null,
            "grid_auto_columns": null,
            "grid_auto_flow": null,
            "grid_auto_rows": null,
            "grid_column": null,
            "grid_gap": null,
            "grid_row": null,
            "grid_template_areas": null,
            "grid_template_columns": null,
            "grid_template_rows": null,
            "height": null,
            "justify_content": null,
            "justify_items": null,
            "left": null,
            "margin": null,
            "max_height": null,
            "max_width": null,
            "min_height": null,
            "min_width": null,
            "object_fit": null,
            "object_position": null,
            "order": null,
            "overflow": null,
            "overflow_x": null,
            "overflow_y": null,
            "padding": null,
            "right": null,
            "top": null,
            "visibility": null,
            "width": null
          }
        },
        "f97f0c72ee4d4d2c974304e355d25ed6": {
          "model_module": "@jupyter-widgets/base",
          "model_module_version": "1.2.0",
          "model_name": "LayoutModel",
          "state": {
            "_model_module": "@jupyter-widgets/base",
            "_model_module_version": "1.2.0",
            "_model_name": "LayoutModel",
            "_view_count": null,
            "_view_module": "@jupyter-widgets/base",
            "_view_module_version": "1.2.0",
            "_view_name": "LayoutView",
            "align_content": null,
            "align_items": null,
            "align_self": null,
            "border": null,
            "bottom": null,
            "display": null,
            "flex": null,
            "flex_flow": null,
            "grid_area": null,
            "grid_auto_columns": null,
            "grid_auto_flow": null,
            "grid_auto_rows": null,
            "grid_column": null,
            "grid_gap": null,
            "grid_row": null,
            "grid_template_areas": null,
            "grid_template_columns": null,
            "grid_template_rows": null,
            "height": null,
            "justify_content": null,
            "justify_items": null,
            "left": null,
            "margin": null,
            "max_height": null,
            "max_width": null,
            "min_height": null,
            "min_width": null,
            "object_fit": null,
            "object_position": null,
            "order": null,
            "overflow": null,
            "overflow_x": null,
            "overflow_y": null,
            "padding": null,
            "right": null,
            "top": null,
            "visibility": null,
            "width": null
          }
        },
        "fad17e034d064f42980580c3c3767904": {
          "model_module": "@jupyter-widgets/controls",
          "model_module_version": "1.5.0",
          "model_name": "ButtonStyleModel",
          "state": {
            "_model_module": "@jupyter-widgets/controls",
            "_model_module_version": "1.5.0",
            "_model_name": "ButtonStyleModel",
            "_view_count": null,
            "_view_module": "@jupyter-widgets/base",
            "_view_module_version": "1.2.0",
            "_view_name": "StyleView",
            "button_color": null,
            "font_weight": ""
          }
        }
      }
    }
  },
  "nbformat": 4,
  "nbformat_minor": 0
}
