{
  "cells": [
    {
      "cell_type": "markdown",
      "metadata": {
        "colab_type": "text",
        "id": "view-in-github"
      },
      "source": [
        "<a href=\"https://colab.research.google.com/github/danielsaggau/IR_LDC/blob/main/model/log_regression_scotus.ipynb\" target=\"_parent\"><img src=\"https://colab.research.google.com/assets/colab-badge.svg\" alt=\"Open In Colab\"/></a>"
      ]
    },
    {
      "cell_type": "code",
      "execution_count": 1,
      "metadata": {
        "colab": {
          "base_uri": "https://localhost:8080/"
        },
        "id": "4FyHnPfGNhKy",
        "outputId": "c5ebca9f-3af4-440d-f6ba-b7e67881b24a"
      },
      "outputs": [
        {
          "name": "stdout",
          "output_type": "stream",
          "text": [
            "Successfully installed huggingface-hub-0.10.1 sentence-transformers-2.2.2 sentencepiece-0.1.97 tokenizers-0.13.1 transformers-4.24.0\n"
          ]
        }
      ],
      "source": [
        "!pip install sentence_transformers"
      ]
    },
    {
      "cell_type": "code",
      "execution_count": null,
      "metadata": {
        "id": "Ar6f8wf8O1Y2"
      },
      "outputs": [],
      "source": [
        "!pip install transformers"
      ]
    },
    {
      "cell_type": "code",
      "execution_count": null,
      "metadata": {
        "id": "CCc67DbIOkjO"
      },
      "outputs": [],
      "source": [
        "!pip install datasets \n",
        "from datasets import load_dataset\n",
        "dataset = load_dataset('lex_glue','scotus')"
      ]
    },
    {
      "cell_type": "code",
      "execution_count": null,
      "metadata": {
        "id": "Hlf2X622S-ms"
      },
      "outputs": [],
      "source": [
        "access=\"XXXX\" # add token here \n",
        "model_name = 'danielsaggau/longformer_simcse_scotus'\n",
        "train_batch_size = 6\n",
        "max_seq_length = 4096\n",
        "num_epochs = 1\n",
        "from sentence_transformers import SentenceTransformer\n",
        "model = SentenceTransformer(model_name, use_auth_token=access)"
      ]
    },
    {
      "cell_type": "code",
      "execution_count": 12,
      "metadata": {
        "colab": {
          "base_uri": "https://localhost:8080/"
        },
        "id": "l0DIblGATvKE",
        "outputId": "0f3b33ea-7183-42e3-e544-d6351c3fc72b"
      },
      "outputs": [
        {
          "data": {
            "text/plain": [
              "SentenceTransformer(\n",
              "  (0): Transformer({'max_seq_length': 4096, 'do_lower_case': False}) with Transformer model: LongformerModel \n",
              "  (1): Pooling({'word_embedding_dimension': 512, 'pooling_mode_cls_token': False, 'pooling_mode_mean_tokens': True, 'pooling_mode_max_tokens': False, 'pooling_mode_mean_sqrt_len_tokens': False})\n",
              ")"
            ]
          },
          "execution_count": 12,
          "metadata": {},
          "output_type": "execute_result"
        }
      ],
      "source": [
        "model"
      ]
    },
    {
      "cell_type": "code",
      "execution_count": null,
      "metadata": {
        "id": "8F4R8G2ESy8K"
      },
      "outputs": [],
      "source": [
        "train_loss = losses.MultipleNegativesRankingLoss(model)"
      ]
    },
    {
      "cell_type": "code",
      "execution_count": 25,
      "metadata": {
        "id": "d5fGCNB0OUzw"
      },
      "outputs": [],
      "source": [
        "from sklearn.metrics import accuracy_score, f1_score, precision_score\n",
        "from sklearn.linear_model import LogisticRegression\n",
        "from sentence_transformers import SentenceTransformer, InputExample, losses, models, datasets, evaluation\n",
        "from torch.utils.data import DataLoader\n",
        "\n",
        "from sklearn.manifold import TSNE\n",
        "from matplotlib import pyplot as plt\n",
        "\n",
        "# import warnings filter\n",
        "from warnings import simplefilter\n",
        "# ignore all future warnings\n",
        "simplefilter(action='ignore', category=FutureWarning)\n",
        "\n",
        "import pandas as pd\n",
        "import numpy as np\n",
        "\n",
        "import torch\n",
        "import random\n",
        "import torch\n",
        "\n",
        "def set_seed(seed):\n",
        "  random.seed(seed)\n",
        "  np.random.seed(seed)\n",
        "  torch.manual_seed(seed)"
      ]
    },
    {
      "cell_type": "code",
      "execution_count": null,
      "metadata": {
        "id": "nS9wSnlSP5wC"
      },
      "outputs": [],
      "source": [
        "eval_df"
      ]
    },
    {
      "cell_type": "code",
      "execution_count": 6,
      "metadata": {
        "id": "qLM_ixmGPafu"
      },
      "outputs": [],
      "source": [
        "train_df = dataset['train']\n",
        "eval_df = dataset['validation']\n",
        "text_col=train_df['text'] \n",
        "category_col=train_df['label']\n",
        "x_eval = eval_df['text']\n",
        "y_eval = eval_df['label']"
      ]
    },
    {
      "cell_type": "code",
      "execution_count": null,
      "metadata": {
        "id": "HBtz5N5JQAl5"
      },
      "outputs": [],
      "source": [
        "x_eval[1:10]"
      ]
    },
    {
      "cell_type": "code",
      "execution_count": null,
      "metadata": {
        "id": "anw0xj82QFXB"
      },
      "outputs": [],
      "source": [
        "st_model = 'danielsaggau/legal_long_bert'\n",
        "orig_model = SentenceTransformer(st_model,use_auth_token=access)"
      ]
    },
    {
      "cell_type": "code",
      "execution_count": null,
      "metadata": {
        "id": "pp0g5aFQSSw1"
      },
      "outputs": [],
      "source": [
        "import pandas as pd \n",
        "pd.DataFrame(train_df)"
      ]
    },
    {
      "cell_type": "code",
      "execution_count": 8,
      "metadata": {
        "id": "ovJxLrY4SFdT"
      },
      "outputs": [],
      "source": [
        "train_samples =[]\n",
        "for line in text_col:\n",
        "        line = line.strip()\n",
        "        if len(line) >= 10:\n",
        "            train_samples.append(InputExample(texts=[line, line]))"
      ]
    },
    {
      "cell_type": "code",
      "execution_count": null,
      "metadata": {
        "id": "RM1_cOmiSsrD"
      },
      "outputs": [],
      "source": [
        "len(train_samples)"
      ]
    },
    {
      "cell_type": "code",
      "execution_count": null,
      "metadata": {
        "id": "Pb1Gfv7pRx16"
      },
      "outputs": [],
      "source": [
        "X_train_noFT = orig_model.encode(text_col)\n",
        "X_eval_noFT = orig_model.encode(x_eval)"
      ]
    },
    {
      "cell_type": "code",
      "execution_count": 16,
      "metadata": {
        "id": "VLqWioO_XKhw"
      },
      "outputs": [],
      "source": [
        "sgd =  LogisticRegression(max_iter=5000)\n",
        "sgd.fit(X_train_noFT, category_col)\n",
        "y_pred_eval_sgd = sgd.predict(X_eval_noFT)"
      ]
    },
    {
      "cell_type": "code",
      "execution_count": 33,
      "metadata": {
        "colab": {
          "base_uri": "https://localhost:8080/"
        },
        "id": "68RSqeW3Yij-",
        "outputId": "02f5464b-379e-4697-b49d-df464a2544bc"
      },
      "outputs": [
        {
          "name": "stdout",
          "output_type": "stream",
          "text": [
            "f1 micro No Fit 0.6928571428571428\n",
            "f1 macro No Fit 0.5895014021719693\n"
          ]
        }
      ],
      "source": [
        "print('f1 micro No Fit', f1_score(y_eval, y_pred_eval_sgd, average=\"micro\"))\n",
        "print('f1 macro No Fit', f1_score(y_eval, y_pred_eval_sgd, average=\"macro\"))"
      ]
    },
    {
      "cell_type": "code",
      "execution_count": 35,
      "metadata": {
        "id": "v_3FqHkySAUT"
      },
      "outputs": [],
      "source": [
        "X_train = model.encode(text_col)\n",
        "X_eval = model.encode(x_eval)"
      ]
    },
    {
      "cell_type": "code",
      "execution_count": 42,
      "metadata": {
        "id": "2BDQEI43XONg"
      },
      "outputs": [],
      "source": [
        "sgd =  LogisticRegression(max_iter=20000)\n",
        "sgd.fit(X_train, category_col)\n",
        "y_pred_eval_sgd = sgd.predict(X_eval)"
      ]
    },
    {
      "cell_type": "code",
      "execution_count": 46,
      "metadata": {
        "colab": {
          "base_uri": "https://localhost:8080/"
        },
        "id": "YQ7wcYgIZzZQ",
        "outputId": "e93fc5f2-9ad2-4991-c915-14d2b282d365"
      },
      "outputs": [
        {
          "name": "stdout",
          "output_type": "stream",
          "text": [
            "f1 micro Fit 0.6957142857142857\n",
            "f1 macro Fit 0.6085958331125504\n",
            "Acc. SetFit 0.6957142857142857\n",
            "Precision micro SetFit 0.6957142857142857\n",
            "Precision macro SetFit 0.6487521171168334\n"
          ]
        },
        {
          "name": "stderr",
          "output_type": "stream",
          "text": [
            "/usr/local/lib/python3.7/dist-packages/sklearn/metrics/_classification.py:1318: UndefinedMetricWarning: Precision is ill-defined and being set to 0.0 in labels with no predicted samples. Use `zero_division` parameter to control this behavior.\n",
            "  _warn_prf(average, modifier, msg_start, len(result))\n"
          ]
        }
      ],
      "source": [
        "print('f1 micro Fit', f1_score(y_eval, y_pred_eval_sgd, average=\"micro\"))\n",
        "print('f1 macro Fit', f1_score(y_eval, y_pred_eval_sgd, average=\"macro\"))\n",
        "print('Acc. SetFit', accuracy_score(y_eval, y_pred_eval_sgd))\n",
        "print('Precision micro SetFit', precision_score(y_eval, y_pred_eval_sgd,average=\"micro\"))\n",
        "print('Precision macro SetFit', precision_score(y_eval, y_pred_eval_sgd,average=\"macro\"))"
      ]
    }
  ],
  "metadata": {
    "accelerator": "GPU",
    "colab": {
      "authorship_tag": "ABX9TyMNdsFaxf+gh+NYWgro0dGa",
      "include_colab_link": true,
      "machine_shape": "hm",
      "provenance": []
    },
    "gpuClass": "standard",
    "kernelspec": {
      "display_name": "Python 3",
      "name": "python3"
    },
    "language_info": {
      "name": "python"
    }
  },
  "nbformat": 4,
  "nbformat_minor": 0
}
