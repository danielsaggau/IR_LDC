{
  "nbformat": 4,
  "nbformat_minor": 0,
  "metadata": {
    "colab": {
      "name": "replication_LEXGLUE.ipynb",
      "provenance": [],
      "authorship_tag": "ABX9TyPFBq75Ek4Ryls2w7co4eTe",
      "include_colab_link": true
    },
    "kernelspec": {
      "name": "python3",
      "display_name": "Python 3"
    },
    "language_info": {
      "name": "python"
    }
  },
  "cells": [
    {
      "cell_type": "markdown",
      "metadata": {
        "id": "view-in-github",
        "colab_type": "text"
      },
      "source": [
        "<a href=\"https://colab.research.google.com/github/danielsaggau/IR_LDC/blob/main/replication_LEXGLUE.ipynb\" target=\"_parent\"><img src=\"https://colab.research.google.com/assets/colab-badge.svg\" alt=\"Open In Colab\"/></a>"
      ]
    },
    {
      "cell_type": "code",
      "execution_count": null,
      "metadata": {
        "colab": {
          "base_uri": "https://localhost:8080/"
        },
        "id": "hJBoOS83eZG4",
        "outputId": "fc8c7d24-0785-40a8-f49f-428a98f4be54"
      },
      "outputs": [
        {
          "output_type": "stream",
          "name": "stdout",
          "text": [
            "Cloning into 'lex-glue'...\n",
            "remote: Enumerating objects: 181, done.\u001b[K\n",
            "remote: Counting objects: 100% (181/181), done.\u001b[K\n",
            "remote: Compressing objects: 100% (137/137), done.\u001b[K\n",
            "remote: Total 181 (delta 108), reused 78 (delta 41), pack-reused 0\u001b[K\n",
            "Receiving objects: 100% (181/181), 75.42 KiB | 6.28 MiB/s, done.\n",
            "Resolving deltas: 100% (108/108), done.\n"
          ]
        }
      ],
      "source": [
        "!git clone https://github.com/coastalcph/lex-glue.git"
      ]
    },
    {
      "cell_type": "code",
      "source": [
        "%cd /content/lex-glue\n",
        "!pip install -r requirements.txt"
      ],
      "metadata": {
        "id": "onopdppcef48"
      },
      "execution_count": null,
      "outputs": []
    },
    {
      "cell_type": "code",
      "source": [
        "%cd /content/lex-glue/\n",
        "!sh scripts/run_ecthr.sh"
      ],
      "metadata": {
        "colab": {
          "base_uri": "https://localhost:8080/"
        },
        "id": "vaBThB9re9Gl",
        "outputId": "0504adc6-86b5-449a-f2ba-9a6050a3427f"
      },
      "execution_count": null,
      "outputs": [
        {
          "output_type": "stream",
          "name": "stdout",
          "text": [
            "/content/lex-glue\n",
            "Traceback (most recent call last):\n",
            "  File \"experiments/ecthr.py\", line 38, in <module>\n",
            "    from models.hierbert import HierarchicalBert\n",
            "ModuleNotFoundError: No module named 'models'\n",
            "Traceback (most recent call last):\n",
            "  File \"experiments/ecthr.py\", line 38, in <module>\n",
            "    from models.hierbert import HierarchicalBert\n",
            "ModuleNotFoundError: No module named 'models'\n",
            "Traceback (most recent call last):\n",
            "  File \"experiments/ecthr.py\", line 38, in <module>\n",
            "    from models.hierbert import HierarchicalBert\n",
            "ModuleNotFoundError: No module named 'models'\n",
            "Traceback (most recent call last):\n",
            "  File \"experiments/ecthr.py\", line 38, in <module>\n",
            "    from models.hierbert import HierarchicalBert\n",
            "ModuleNotFoundError: No module named 'models'\n",
            "Traceback (most recent call last):\n",
            "  File \"experiments/ecthr.py\", line 38, in <module>\n",
            "    from models.hierbert import HierarchicalBert\n",
            "ModuleNotFoundError: No module named 'models'\n"
          ]
        }
      ]
    }
  ]
}