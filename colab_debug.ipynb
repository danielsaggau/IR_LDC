{
  "nbformat": 4,
  "nbformat_minor": 0,
  "metadata": {
    "colab": {
      "name": "colab_debug.ipynb",
      "provenance": [],
      "include_colab_link": true
    },
    "kernelspec": {
      "name": "python3",
      "display_name": "Python 3"
    }
  },
  "cells": [
    {
      "cell_type": "markdown",
      "metadata": {
        "id": "view-in-github",
        "colab_type": "text"
      },
      "source": [
        "<a href=\"https://colab.research.google.com/github/danielsaggau/IR_LDC/blob/main/colab_debug.ipynb\" target=\"_parent\"><img src=\"https://colab.research.google.com/assets/colab-badge.svg\" alt=\"Open In Colab\"/></a>"
      ]
    },
    {
      "cell_type": "markdown",
      "metadata": {
        "id": "mWDZUKixkLFb"
      },
      "source": [
        "**Detail Blog Post**: https://medium.com/@purba0101/how-to-clone-private-github-repo-in-google-colab-using-ssh-77384cfef18f"
      ]
    },
    {
      "cell_type": "markdown",
      "metadata": {
        "id": "ELXCc6sqczz7"
      },
      "source": [
        "\n",
        "## **Step 1: Generate a new SSH key**\n",
        "\n"
      ]
    },
    {
      "cell_type": "code",
      "metadata": {
        "id": "6ryFWs31Zk-4",
        "colab": {
          "base_uri": "https://localhost:8080/"
        },
        "outputId": "dccfdf0d-9195-4624-cea4-6e7a8745ba17"
      },
      "source": [
        "!ssh-keygen -t rsa -b 4096"
      ],
      "execution_count": 2,
      "outputs": [
        {
          "output_type": "stream",
          "name": "stdout",
          "text": [
            "Generating public/private rsa key pair.\n",
            "Enter file in which to save the key (/root/.ssh/id_rsa): \n",
            "Enter passphrase (empty for no passphrase): \n",
            "Enter same passphrase again: \n",
            "Your identification has been saved in /root/.ssh/id_rsa.\n",
            "Your public key has been saved in /root/.ssh/id_rsa.pub.\n",
            "The key fingerprint is:\n",
            "SHA256:Y7pVFFO+lq4l7Mt01Dt3Dyap5RGyRk4str+Gw2u3cJA root@4a8ddb84d16e\n",
            "The key's randomart image is:\n",
            "+---[RSA 4096]----+\n",
            "|          o..    |\n",
            "|           +     |\n",
            "|          . .    |\n",
            "|         +   +   |\n",
            "|        E * * .  |\n",
            "|       + @ * o . |\n",
            "|      ..+.O O = o|\n",
            "|       o=OoO + +o|\n",
            "|      ...=X+.   .|\n",
            "+----[SHA256]-----+\n"
          ]
        }
      ]
    },
    {
      "cell_type": "markdown",
      "metadata": {
        "id": "AUFNH5I6dS6o"
      },
      "source": [
        "## **Step 2: Add SSH key fingerprints**"
      ]
    },
    {
      "cell_type": "code",
      "metadata": {
        "id": "rlDieMPTq7Sz",
        "colab": {
          "base_uri": "https://localhost:8080/"
        },
        "outputId": "b0a8a7cd-0438-4c18-ffc1-39beed032173"
      },
      "source": [
        "!ssh-keyscan -t rsa github.com >> ~/.ssh/known_hosts"
      ],
      "execution_count": 3,
      "outputs": [
        {
          "output_type": "stream",
          "name": "stdout",
          "text": [
            "\n",
            "# github.com:22 SSH-2.0-babeld-7f91b4d6\n"
          ]
        }
      ]
    },
    {
      "cell_type": "markdown",
      "metadata": {
        "id": "lcufJyiueB1N"
      },
      "source": [
        "## **Step 3: Get the SSH key, copy it and add the key to Github following [this documentation ](https://docs.github.com/en/github/authenticating-to-github/adding-a-new-ssh-key-to-your-github-account)**\n",
        "\n",
        "\n"
      ]
    },
    {
      "cell_type": "code",
      "metadata": {
        "id": "S-VtBqoKqv6I",
        "colab": {
          "base_uri": "https://localhost:8080/"
        },
        "outputId": "1622878c-4dc5-4a0a-9a8c-4cf0a54bb8e4"
      },
      "source": [
        "!cat /root/.ssh/id_rsa.pub"
      ],
      "execution_count": 4,
      "outputs": [
        {
          "output_type": "stream",
          "name": "stdout",
          "text": [
            "ssh-rsa AAAAB3NzaC1yc2EAAAADAQABAAACAQC2Fjn2hAXn5N0wocpQNOs0uIb8GxN5Q4IZq5a2NhOAcnwNT6i80LSNTzcXiTEKdJuc57NWYMw02b8FKc0FfVlYkaRnNexkFPlu8oRhz5IgPQHB6Lkxx+oDNGoQcV8qSymHHPir3oAXi49grp/5l4UTSk/bQXzKYsT9RitxCIgJc1Y3xgR43qmgG66tkenQIIzoKqFGQeCKyrYYHDCIuNR7LTyUkPcY6cWkG2K+gxhMbVkl+kkAKZvUW6ukYTaAMzTTYpm5VMoh61GOXX+mqB4Fj1dB3KgXdJAGV6bBjm0qF6KjSWsbIhacBoO0VC/4CqTyLqqG+ZfTtjIIrrUvPicrwDNpnyOiTuP+CXu4XpnDOLNLtCpOFLZcdckK1kCdJwQLBR25QEvY3rEOpauoMSRanW33zkRTjqrT+Ybt9n06CsUp7xinfGQN134n1le7eVZlS57X3oEYKqorjW792T2q7q5ybCGCsf/UIAn6klc+FBr/nyizKd5ZKDUhNuYOVt8oE5Fd0gC3Oek3Inkegllm/hjaV8FGDvvia3fYRFBcngEGaNp0gdqk3+jJCpgisDHIxUQ9/87NN3duI35ToOqnhUs1ur/j0YQj616CWJJG7piFUJHa+cgMAAmon1y9mgds8R/16FK51UCLV8J6kOkTLR9kUF1fBM5dWHvzChxL9Q== root@4a8ddb84d16e\n"
          ]
        }
      ]
    },
    {
      "cell_type": "markdown",
      "metadata": {
        "id": "c-2cz66_e46g"
      },
      "source": [
        "## **Test SSH key**"
      ]
    },
    {
      "cell_type": "code",
      "metadata": {
        "id": "Yz3_U3cVrETx",
        "colab": {
          "base_uri": "https://localhost:8080/"
        },
        "outputId": "d70b54ed-9d44-42d3-c5b1-b007e46a322a"
      },
      "source": [
        "!ssh -T git@github.com"
      ],
      "execution_count": 6,
      "outputs": [
        {
          "output_type": "stream",
          "name": "stdout",
          "text": [
            "Warning: Permanently added the RSA host key for IP address '192.30.255.112' to the list of known hosts.\r\n",
            "Hi danielsaggau! You've successfully authenticated, but GitHub does not provide shell access.\n"
          ]
        }
      ]
    },
    {
      "cell_type": "markdown",
      "metadata": {
        "id": "9RRd_Gh1fE_t"
      },
      "source": [
        "## **Step 4: Specify Git configuration settings**"
      ]
    },
    {
      "cell_type": "code",
      "metadata": {
        "id": "wnuznrITr9HV"
      },
      "source": [
        "!git config --global user.email \"daniel.saggau@googlemail.com\"\n",
        "!git config --global user.name \"danielsaggau\""
      ],
      "execution_count": 7,
      "outputs": []
    },
    {
      "cell_type": "markdown",
      "metadata": {
        "id": "xDSTlWPGfj44"
      },
      "source": [
        "## **Clone a private repository from Github**"
      ]
    },
    {
      "cell_type": "code",
      "metadata": {
        "id": "PdzI_WiFrf3c",
        "colab": {
          "base_uri": "https://localhost:8080/"
        },
        "outputId": "fc261ed6-49fb-4b0b-8f0f-29a03d942398"
      },
      "source": [
        "!git clone git@github.com:danielsaggau/IR_LDC.git"
      ],
      "execution_count": 8,
      "outputs": [
        {
          "output_type": "stream",
          "name": "stdout",
          "text": [
            "Cloning into 'IR_LDC'...\n",
            "remote: Enumerating objects: 311, done.\u001b[K\n",
            "remote: Counting objects: 100% (167/167), done.\u001b[K\n",
            "remote: Compressing objects: 100% (134/134), done.\u001b[K\n",
            "remote: Total 311 (delta 74), reused 62 (delta 20), pack-reused 144\u001b[K\n",
            "Receiving objects: 100% (311/311), 1.45 MiB | 2.64 MiB/s, done.\n",
            "Resolving deltas: 100% (133/133), done.\n"
          ]
        }
      ]
    },
    {
      "cell_type": "code",
      "metadata": {
        "id": "A6qzd0fCrj8X",
        "colab": {
          "base_uri": "https://localhost:8080/"
        },
        "outputId": "ee722171-046a-44b5-cd29-4ab9ed432ad3"
      },
      "source": [
        "%cd '/content/IR_LDC'"
      ],
      "execution_count": 9,
      "outputs": [
        {
          "output_type": "stream",
          "name": "stdout",
          "text": [
            "/content/IR_LDC\n"
          ]
        }
      ]
    },
    {
      "cell_type": "code",
      "source": [
        "!pip install nano\n",
        "!pip install datasets\n",
        "!pip install transformers"
      ],
      "metadata": {
        "id": "kNS6IK96ld3q"
      },
      "execution_count": null,
      "outputs": []
    },
    {
      "cell_type": "code",
      "source": [
        "import nano"
      ],
      "metadata": {
        "id": "AS8_-_jxkGfT"
      },
      "execution_count": null,
      "outputs": []
    },
    {
      "cell_type": "code",
      "source": [
        "%cd /content/IR_LDC/Longformer"
      ],
      "metadata": {
        "colab": {
          "base_uri": "https://localhost:8080/"
        },
        "id": "h1Z_jJJ6rKk_",
        "outputId": "2cb85605-d412-491f-db22-dbcd1b7b5b01"
      },
      "execution_count": 13,
      "outputs": [
        {
          "output_type": "stream",
          "name": "stdout",
          "text": [
            "/content/IR_LDC/Longformer\n"
          ]
        }
      ]
    },
    {
      "cell_type": "code",
      "metadata": {
        "id": "8L5ZrGwSsQdk",
        "colab": {
          "base_uri": "https://localhost:8080/"
        },
        "outputId": "e2dc9d2e-7730-4bff-9834-8402bcce0077"
      },
      "source": [
        "!sh /content/IR_LDC/Longformer/train_ecthr_longformer.sh"
      ],
      "execution_count": 17,
      "outputs": [
        {
          "output_type": "stream",
          "name": "stdout",
          "text": [
            "\n",
            "07/07/2022 12:45:37 - WARNING - __main__ - Process rank: -1, device: cpu, n_gpu: 0distributed training: False, 16-bits training: False\n",
            "07/07/2022 12:45:37 - INFO - __main__ - Training/evaluation parameters TrainingArguments(\n",
            "_n_gpu=0,\n",
            "adafactor=False,\n",
            "adam_beta1=0.9,\n",
            "adam_beta2=0.999,\n",
            "adam_epsilon=1e-08,\n",
            "auto_find_batch_size=False,\n",
            "bf16=False,\n",
            "bf16_full_eval=False,\n",
            "data_seed=None,\n",
            "dataloader_drop_last=False,\n",
            "dataloader_num_workers=0,\n",
            "dataloader_pin_memory=True,\n",
            "ddp_bucket_cap_mb=None,\n",
            "ddp_find_unused_parameters=None,\n",
            "debug=[],\n",
            "deepspeed=None,\n",
            "disable_tqdm=False,\n",
            "do_eval=True,\n",
            "do_predict=True,\n",
            "do_train=True,\n",
            "eval_accumulation_steps=None,\n",
            "eval_delay=0,\n",
            "eval_steps=None,\n",
            "evaluation_strategy=IntervalStrategy.EPOCH,\n",
            "fp16=False,\n",
            "fp16_backend=auto,\n",
            "fp16_full_eval=False,\n",
            "fp16_opt_level=O1,\n",
            "fsdp=[],\n",
            "fsdp_min_num_params=0,\n",
            "full_determinism=False,\n",
            "gradient_accumulation_steps=1,\n",
            "gradient_checkpointing=False,\n",
            "greater_is_better=True,\n",
            "group_by_length=False,\n",
            "half_precision_backend=auto,\n",
            "hub_model_id=None,\n",
            "hub_private_repo=False,\n",
            "hub_strategy=HubStrategy.EVERY_SAVE,\n",
            "hub_token=<HUB_TOKEN>,\n",
            "ignore_data_skip=False,\n",
            "include_inputs_for_metrics=False,\n",
            "jit_mode_eval=False,\n",
            "label_names=None,\n",
            "label_smoothing_factor=0.0,\n",
            "learning_rate=3e-05,\n",
            "length_column_name=length,\n",
            "load_best_model_at_end=True,\n",
            "local_rank=-1,\n",
            "log_level=-1,\n",
            "log_level_replica=-1,\n",
            "log_on_each_node=True,\n",
            "logging_dir=logs//content/IR_LDC/Longformer/models-ecthr/runs/Jul07_12-45-37_4a8ddb84d16e,\n",
            "logging_first_step=False,\n",
            "logging_nan_inf_filter=True,\n",
            "logging_steps=500,\n",
            "logging_strategy=IntervalStrategy.STEPS,\n",
            "lr_scheduler_type=SchedulerType.LINEAR,\n",
            "max_grad_norm=1.0,\n",
            "max_steps=-1,\n",
            "metric_for_best_model=micro-f1,\n",
            "mp_parameters=,\n",
            "no_cuda=False,\n",
            "num_train_epochs=20.0,\n",
            "optim=OptimizerNames.ADAMW_HF,\n",
            "output_dir=logs//content/IR_LDC/Longformer/models-ecthr,\n",
            "overwrite_output_dir=True,\n",
            "past_index=-1,\n",
            "per_device_eval_batch_size=6,\n",
            "per_device_train_batch_size=6,\n",
            "prediction_loss_only=False,\n",
            "push_to_hub=False,\n",
            "push_to_hub_model_id=None,\n",
            "push_to_hub_organization=None,\n",
            "push_to_hub_token=<PUSH_TO_HUB_TOKEN>,\n",
            "ray_scope=last,\n",
            "remove_unused_columns=True,\n",
            "report_to=['tensorboard'],\n",
            "resume_from_checkpoint=None,\n",
            "run_name=logs//content/IR_LDC/Longformer/models-ecthr,\n",
            "save_on_each_node=False,\n",
            "save_steps=500,\n",
            "save_strategy=IntervalStrategy.EPOCH,\n",
            "save_total_limit=5,\n",
            "seed=42,\n",
            "sharded_ddp=[],\n",
            "skip_memory_metrics=True,\n",
            "tf32=None,\n",
            "torchdynamo=None,\n",
            "tpu_metrics_debug=False,\n",
            "tpu_num_cores=None,\n",
            "use_ipex=False,\n",
            "use_legacy_prediction_loop=False,\n",
            "warmup_ratio=0.0,\n",
            "warmup_steps=0,\n",
            "weight_decay=0.0,\n",
            "xpu_backend=None,\n",
            ")\n",
            "07/07/2022 12:45:38 - INFO - datasets.info - Loading Dataset Infos from /root/.cache/huggingface/modules/datasets_modules/datasets/lex_glue/c3c0bd7433b636dc39ae49a84dc401190c73156617efc415b04e9835a93a7043\n",
            "07/07/2022 12:45:38 - INFO - datasets.builder - Overwrite dataset info from restored data version.\n",
            "07/07/2022 12:45:38 - INFO - datasets.info - Loading Dataset info from /root/.cache/huggingface/datasets/lex_glue/ecthr_a/1.0.0/c3c0bd7433b636dc39ae49a84dc401190c73156617efc415b04e9835a93a7043\n",
            "07/07/2022 12:45:38 - WARNING - datasets.builder - Reusing dataset lex_glue (/root/.cache/huggingface/datasets/lex_glue/ecthr_a/1.0.0/c3c0bd7433b636dc39ae49a84dc401190c73156617efc415b04e9835a93a7043)\n",
            "07/07/2022 12:45:38 - INFO - datasets.info - Loading Dataset info from /root/.cache/huggingface/datasets/lex_glue/ecthr_a/1.0.0/c3c0bd7433b636dc39ae49a84dc401190c73156617efc415b04e9835a93a7043\n",
            "07/07/2022 12:45:39 - INFO - datasets.info - Loading Dataset Infos from /root/.cache/huggingface/modules/datasets_modules/datasets/lex_glue/c3c0bd7433b636dc39ae49a84dc401190c73156617efc415b04e9835a93a7043\n",
            "07/07/2022 12:45:39 - INFO - datasets.builder - Overwrite dataset info from restored data version.\n",
            "07/07/2022 12:45:39 - INFO - datasets.info - Loading Dataset info from /root/.cache/huggingface/datasets/lex_glue/ecthr_a/1.0.0/c3c0bd7433b636dc39ae49a84dc401190c73156617efc415b04e9835a93a7043\n",
            "07/07/2022 12:45:39 - WARNING - datasets.builder - Reusing dataset lex_glue (/root/.cache/huggingface/datasets/lex_glue/ecthr_a/1.0.0/c3c0bd7433b636dc39ae49a84dc401190c73156617efc415b04e9835a93a7043)\n",
            "07/07/2022 12:45:39 - INFO - datasets.info - Loading Dataset info from /root/.cache/huggingface/datasets/lex_glue/ecthr_a/1.0.0/c3c0bd7433b636dc39ae49a84dc401190c73156617efc415b04e9835a93a7043\n",
            "07/07/2022 12:45:40 - INFO - datasets.info - Loading Dataset Infos from /root/.cache/huggingface/modules/datasets_modules/datasets/lex_glue/c3c0bd7433b636dc39ae49a84dc401190c73156617efc415b04e9835a93a7043\n",
            "07/07/2022 12:45:40 - INFO - datasets.builder - Overwrite dataset info from restored data version.\n",
            "07/07/2022 12:45:40 - INFO - datasets.info - Loading Dataset info from /root/.cache/huggingface/datasets/lex_glue/ecthr_a/1.0.0/c3c0bd7433b636dc39ae49a84dc401190c73156617efc415b04e9835a93a7043\n",
            "07/07/2022 12:45:40 - WARNING - datasets.builder - Reusing dataset lex_glue (/root/.cache/huggingface/datasets/lex_glue/ecthr_a/1.0.0/c3c0bd7433b636dc39ae49a84dc401190c73156617efc415b04e9835a93a7043)\n",
            "07/07/2022 12:45:40 - INFO - datasets.info - Loading Dataset info from /root/.cache/huggingface/datasets/lex_glue/ecthr_a/1.0.0/c3c0bd7433b636dc39ae49a84dc401190c73156617efc415b04e9835a93a7043\n",
            "Traceback (most recent call last):\n",
            "  File \"/usr/local/lib/python3.7/dist-packages/transformers/configuration_utils.py\", line 609, in _get_config_dict\n",
            "    user_agent=user_agent,\n",
            "  File \"/usr/local/lib/python3.7/dist-packages/transformers/utils/hub.py\", line 299, in cached_path\n",
            "    raise EnvironmentError(f\"file {url_or_filename} not found\")\n",
            "OSError: file /content/IR_LDC/Longformer/models/config.json not found\n",
            "\n",
            "During handling of the above exception, another exception occurred:\n",
            "\n",
            "Traceback (most recent call last):\n",
            "  File \"/content/IR_LDC/Longformer/lexglue_longformer.py\", line 448, in <module>\n",
            "    main()\n",
            "  File \"/content/IR_LDC/Longformer/lexglue_longformer.py\", line 259, in main\n",
            "    use_auth_token=True if model_args.use_auth_token else None,\n",
            "  File \"/usr/local/lib/python3.7/dist-packages/transformers/models/auto/configuration_auto.py\", line 705, in from_pretrained\n",
            "    config_dict, _ = PretrainedConfig.get_config_dict(pretrained_model_name_or_path, **kwargs)\n",
            "  File \"/usr/local/lib/python3.7/dist-packages/transformers/configuration_utils.py\", line 553, in get_config_dict\n",
            "    config_dict, kwargs = cls._get_config_dict(pretrained_model_name_or_path, **kwargs)\n",
            "  File \"/usr/local/lib/python3.7/dist-packages/transformers/configuration_utils.py\", line 642, in _get_config_dict\n",
            "    f\"Can't load config for '{pretrained_model_name_or_path}'. If you were trying to load it from \"\n",
            "OSError: Can't load config for '/content/IR_LDC/Longformer/models'. If you were trying to load it from 'https://huggingface.co/models', make sure you don't have a local directory with the same name. Otherwise, make sure '/content/IR_LDC/Longformer/models' is the correct path to a directory containing a config.json file\n"
          ]
        }
      ]
    },
    {
      "cell_type": "code",
      "source": [
        "!git lfs install"
      ],
      "metadata": {
        "id": "0_na5mT-m1Bx",
        "outputId": "f44bf632-4110-4a44-be30-55fca5884f3b",
        "colab": {
          "base_uri": "https://localhost:8080/"
        }
      },
      "execution_count": null,
      "outputs": [
        {
          "output_type": "stream",
          "name": "stdout",
          "text": [
            "Error: Failed to call git rev-parse --git-dir --show-toplevel: \"fatal: not a git repository (or any of the parent directories): .git\\n\"\n",
            "Git LFS initialized.\n"
          ]
        }
      ]
    },
    {
      "cell_type": "code",
      "source": [
        "!pip install git-lfs"
      ],
      "metadata": {
        "id": "D6MHjkHcm69G",
        "outputId": "3a560610-ea7f-4145-ee96-b5dd1b72e65f",
        "colab": {
          "base_uri": "https://localhost:8080/"
        }
      },
      "execution_count": null,
      "outputs": [
        {
          "output_type": "stream",
          "name": "stdout",
          "text": [
            "Looking in indexes: https://pypi.org/simple, https://us-python.pkg.dev/colab-wheels/public/simple/\n",
            "Collecting git-lfs\n",
            "  Downloading git_lfs-1.6-py2.py3-none-any.whl (5.6 kB)\n",
            "Installing collected packages: git-lfs\n",
            "Successfully installed git-lfs-1.6\n"
          ]
        }
      ]
    }
  ]
}