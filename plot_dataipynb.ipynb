{
  "nbformat": 4,
  "nbformat_minor": 0,
  "metadata": {
    "colab": {
      "provenance": [],
      "authorship_tag": "ABX9TyM2YcLvTPTTN9IPiGdXdwY0",
      "include_colab_link": true
    },
    "kernelspec": {
      "name": "python3",
      "display_name": "Python 3"
    },
    "language_info": {
      "name": "python"
    }
  },
  "cells": [
    {
      "cell_type": "markdown",
      "metadata": {
        "id": "view-in-github",
        "colab_type": "text"
      },
      "source": [
        "<a href=\"https://colab.research.google.com/github/danielsaggau/IR_LDC/blob/main/plot_dataipynb.ipynb\" target=\"_parent\"><img src=\"https://colab.research.google.com/assets/colab-badge.svg\" alt=\"Open In Colab\"/></a>"
      ]
    },
    {
      "cell_type": "markdown",
      "source": [
        "# Plot by document length\n"
      ],
      "metadata": {
        "id": "8yttqyV-XaQZ"
      }
    },
    {
      "cell_type": "code",
      "execution_count": null,
      "metadata": {
        "id": "AKHGvgzzXZtZ"
      },
      "outputs": [],
      "source": [
        "!pip install datasets\n",
        "from datasets import load_dataset\n",
        "import matplotlib.pyplot as plt\n",
        "import pandas as pd\n",
        "dataset_de = load_dataset(\"swiss_judgment_prediction\", language= \"de\")\n",
        "dataset_it = load_dataset(\"swiss_judgment_prediction\", language= \"it\")"
      ]
    },
    {
      "cell_type": "code",
      "source": [
        "import matplotlib.pyplot as plt\n",
        "import pandas as pd\n",
        "import seaborn as sns"
      ],
      "metadata": {
        "id": "UIfPD2Rqw89y"
      },
      "execution_count": 85,
      "outputs": []
    },
    {
      "cell_type": "code",
      "source": [
        "italy_train = pd.DataFrame(dataset_it['train'])\n",
        "italy_test = pd.DataFrame(dataset_it['test'])\n",
        "italy_validation = pd.DataFrame(dataset_it['validation'])"
      ],
      "metadata": {
        "id": "T6VYmeEeatz1"
      },
      "execution_count": 67,
      "outputs": []
    },
    {
      "cell_type": "code",
      "source": [
        "de_train = pd.DataFrame(dataset_de['train'])\n",
        "de_test = pd.DataFrame(dataset_de['test'])\n",
        "de_validation = pd.DataFrame(dataset_de['validation'])"
      ],
      "metadata": {
        "id": "IFv08Rz0M5LW"
      },
      "execution_count": 138,
      "outputs": []
    },
    {
      "cell_type": "code",
      "source": [
        "de_validation['type'] = \"validation\"\n",
        "de_train['type'] = \"train\"\n",
        "de_test['type'] = \"test\""
      ],
      "metadata": {
        "id": "IN8uV-vjNBBg"
      },
      "execution_count": 139,
      "outputs": []
    },
    {
      "cell_type": "code",
      "source": [
        "de_train.head()\n",
        "text = de_train['text']\n",
        "de_train['length'] = text.str.len()\n",
        "text_test = de_test['text']\n",
        "de_test['length'] = text_test.str.len()\n",
        "text_validation = de_validation['text']\n",
        "de_validation['length'] = text_validation.str.len()"
      ],
      "metadata": {
        "id": "D4NK37CFNFUG"
      },
      "execution_count": 141,
      "outputs": []
    },
    {
      "cell_type": "code",
      "source": [
        "de = pd.concat([de_validation, de_train])\n",
        "de = pd.concat([de, de_test])\n",
        "de['length']"
      ],
      "metadata": {
        "id": "rZFbRhCENTZe"
      },
      "execution_count": null,
      "outputs": []
    },
    {
      "cell_type": "code",
      "source": [
        "de= de[~de.index.duplicated()]"
      ],
      "metadata": {
        "id": "xuo8ns9ENr5o"
      },
      "execution_count": 151,
      "outputs": []
    },
    {
      "cell_type": "code",
      "source": [
        "plt.figure(figsize=(8,6))\n",
        "sns.histplot(x= \"length\",data = de_train).set(title='Distribution of Swiss Legal Judgement Dataset: German language')\n",
        "sns.histplot(x= \"length\",data = de_test, color = \"green\")\n",
        "sns.histplot(x= \"length\",data = de_validation, color = \"orange\")\n",
        "plt.savefig(\"swiss_de_histplot.jpg\")"
      ],
      "metadata": {
        "id": "OX0g39X-Na02",
        "outputId": "076b01c4-4e77-4c8f-d66e-0992d5b54496",
        "colab": {
          "base_uri": "https://localhost:8080/",
          "height": 404
        }
      },
      "execution_count": 144,
      "outputs": [
        {
          "output_type": "display_data",
          "data": {
            "text/plain": [
              "<Figure size 576x432 with 1 Axes>"
            ],
            "image/png": "[encoded data removed]"
          },
          "metadata": {
            "needs_background": "light"
          }
        }
      ]
    },
    {
      "cell_type": "code",
      "source": [
        "plt.figure(figsize=(8,6))\n",
        "sns.histplot(x= \"length\",data = de,hue =\"type\").set(title='Distribution of Swiss Legal Judgement Dataset: German language')\n",
        "plt.savefig(\"swiss_de_histplot.jpg\")"
      ],
      "metadata": {
        "id": "VLKTWyN2NmtO",
        "outputId": "17aba65e-f6ab-41f9-c873-3ca85b935c33",
        "colab": {
          "base_uri": "https://localhost:8080/",
          "height": 404
        }
      },
      "execution_count": 152,
      "outputs": [
        {
          "output_type": "display_data",
          "data": {
            "text/plain": [
              "<Figure size 576x432 with 1 Axes>"
            ],
            "image/png": "[encoded data removed]"
          },
          "metadata": {
            "needs_background": "light"
          }
        }
      ]
    },
    {
      "cell_type": "code",
      "source": [
        "italy_train.head()\n",
        "text = italy_train['text']\n",
        "italy_train['length'] = text.str.len()\n",
        "text_test = italy_test['text']\n",
        "italy_test['length'] = text_test.str.len()\n",
        "text_validation = italy_validation['text']\n",
        "italy_validation['length'] = text_validation.str.len()"
      ],
      "metadata": {
        "id": "fiDkvFSIXrsU"
      },
      "execution_count": 68,
      "outputs": []
    },
    {
      "cell_type": "code",
      "source": [
        "italy = pd.concat([italy_validation, italy_train, italy_test])\n",
        "italy['length']"
      ],
      "metadata": {
        "id": "rrQCUXrtB3C-"
      },
      "execution_count": null,
      "outputs": []
    },
    {
      "cell_type": "code",
      "source": [
        "italy_validation['type'] = \"validation\"\n",
        "italy_train['type'] = \"train\"\n",
        "italy_test['type'] = \"test\"\n",
        "italy = pd.concat([italy_validation, italy_train, italy_test])\n",
        "italy['length']"
      ],
      "metadata": {
        "id": "GiAjHIqLKq5t"
      },
      "execution_count": null,
      "outputs": []
    },
    {
      "cell_type": "code",
      "source": [
        "ital = italy[~italy.index.duplicated()]"
      ],
      "metadata": {
        "id": "GtX-k8WOHelz"
      },
      "execution_count": 126,
      "outputs": []
    },
    {
      "cell_type": "code",
      "source": [
        "plt.figure(figsize=(8,6))\n",
        "sns.histplot(x= \"length\",data = italy_train).set(title='Distribution of Swiss Legal Judgement Dataset: Italian language')\n",
        "sns.histplot(x= \"length\",data = italy_test, color = \"green\")\n",
        "sns.histplot(x= \"length\",data = italy_validation, color = \"orange\")\n",
        "plt.savefig(\"Basic_Histogram_with_Seaborn_histplot.jpg\")"
      ],
      "metadata": {
        "id": "vjAttPvLHjyK",
        "outputId": "358dbce8-4396-4f3f-92ef-132903c4a37c",
        "colab": {
          "base_uri": "https://localhost:8080/",
          "height": 404
        }
      },
      "execution_count": 137,
      "outputs": [
        {
          "output_type": "display_data",
          "data": {
            "text/plain": [
              "<Figure size 576x432 with 1 Axes>"
            ],
            "image/png": "[encoded data removed]"
          },
          "metadata": {
            "needs_background": "light"
          }
        }
      ]
    },
    {
      "cell_type": "code",
      "source": [
        "plt.figure(figsize=(8,6))\n",
        "sns.histplot(x= \"length\",data = ital)\n",
        "plt.savefig(\"Basic_Histogram_with_Seaborn_histplot.jpg\")"
      ],
      "metadata": {
        "id": "deLqJTfCGGni"
      },
      "execution_count": null,
      "outputs": []
    },
    {
      "cell_type": "code",
      "source": [
        "plt.figure(figsize=(8,6))\n",
        "sns.histplot(x= \"length\",data=italy_train,bins=30).set(title='Distribution of Swiss Legal Judgement Italy Dataset')\n",
        "sns.histplot(x= \"length\",data=italy_test,bins=30, color = 'aquamarine')\n",
        "sns.histplot(x= \"length\",data=italy_validation ,bins=30, color = 'darkcyan')\n",
        "plt.savefig(\"Basic_Histogram_with_Seaborn_histplot.jpg\")"
      ],
      "metadata": {
        "id": "orCfMK3eI-A8"
      },
      "execution_count": null,
      "outputs": []
    },
    {
      "cell_type": "code",
      "source": [
        "#plt.figure(figsize=(8,6))\n",
        "fig, axs = plt.subplots(1, 3, figsize=(7, 7))\n",
        "sns.histplot(x= \"length\",data=italy_train,bins=30,ax=axs[ 0]).set(title='Distribution of Swiss Legal Judgement Italy Dataset')\n",
        "sns.histplot(x= \"length\",data=italy_test,bins=30, color = 'aquamarine',ax=axs[1])\n",
        "sns.histplot(x= \"length\",data=italy_validation ,bins=30, color = 'darkcyan',ax=axs[ 2])\n",
        "plt.savefig(\"Basic_Histogram_with_Seaborn_histplot.jpg\")\n"
      ],
      "metadata": {
        "id": "DUhO0Ax79n0q",
        "outputId": "78e4b241-3bd1-424c-c7aa-08b0f1789301",
        "colab": {
          "base_uri": "https://localhost:8080/",
          "height": 458
        }
      },
      "execution_count": 82,
      "outputs": [
        {
          "output_type": "display_data",
          "data": {
            "text/plain": [
              "<Figure size 504x504 with 3 Axes>"
            ],
            "image/png": "[encoded data removed]"
          },
          "metadata": {
            "needs_background": "light"
          }
        }
      ]
    },
    {
      "cell_type": "code",
      "source": [
        "from datasets import load_dataset\n",
        "dataset = load_dataset(\"ecthr_cases\")"
      ],
      "metadata": {
        "id": "04O8vEf5_oOf"
      },
      "execution_count": null,
      "outputs": []
    },
    {
      "cell_type": "code",
      "source": [
        "text_test = dataset['train']\n",
        "df_pandas = pd.DataFrame(text_test)"
      ],
      "metadata": {
        "id": "lUNkc40nAc_U"
      },
      "execution_count": 38,
      "outputs": []
    },
    {
      "cell_type": "code",
      "source": [
        "df_pandas"
      ],
      "metadata": {
        "id": "U9iR3JuqBLIF"
      },
      "execution_count": null,
      "outputs": []
    },
    {
      "cell_type": "code",
      "source": [
        "text = df_pandas['facts']\n",
        "df_pandas['length'] = text.str.len()\n",
        "plt.hist(df_pandas['length'], color = 'yellow', bins = 500)\n",
        "plt.title('Distribution of Document Word Counts', fontdict=dict(size=14))\n",
        "plt.gca().set(xlim=(0, 20000),ylim=(0,1200), ylabel='Number of Obs', xlabel='Document Word Count')\n",
        "plt.show()"
      ],
      "metadata": {
        "id": "3qVTJnMDAaHM"
      },
      "execution_count": null,
      "outputs": []
    },
    {
      "cell_type": "code",
      "source": [
        "text_train = dataset['train']['text']\n",
        "line_length = []\n",
        "for text in text_train:\n",
        "  c = len(text)\n",
        "  line_length.append(c)\n",
        "\n",
        "text_test = dataset['test']['text']\n",
        "line_length = []\n",
        "for text in text_test:\n",
        "  c = len(text)\n",
        "  line_length.append(c)"
      ],
      "metadata": {
        "id": "yxSFJwZRcNzB"
      },
      "execution_count": null,
      "outputs": []
    },
    {
      "cell_type": "code",
      "source": [
        "import pandas as pd\n",
        "df_pandas = pd.DataFrame(text_train)\n",
        "text_test = dataset['test']['text']\n",
        "df_pandas2 = pd.DataFrame(text_test)\n",
        "text_dev = dataset['validation']['text']\n",
        "df_pandas3 = pd.DataFrame(text_dev)"
      ],
      "metadata": {
        "id": "sRaoS8digAK6"
      },
      "execution_count": null,
      "outputs": []
    },
    {
      "cell_type": "code",
      "source": [
        "text = df_pandas[0]\n",
        "df_pandas['length'] = text.str.len()\n",
        "\n",
        "text = df_pandas2[0]\n",
        "df_pandas2['length'] = text.str.len()\n",
        "text = df_pandas3[0]\n",
        "df_pandas3['length'] = text.str.len()"
      ],
      "metadata": {
        "id": "BqtGdM4bhKh4"
      },
      "execution_count": null,
      "outputs": []
    },
    {
      "cell_type": "code",
      "source": [],
      "metadata": {
        "id": "AfAHip55hmFP"
      },
      "execution_count": null,
      "outputs": []
    },
    {
      "cell_type": "code",
      "source": [
        "plt.hist(df_pandas['length'], color = 'blue', bins = 500)\n",
        "plt.hist(df_pandas2['length'], color = 'red', bins = 500)\n",
        "plt.hist(df_pandas3['length'], color = 'yellow', bins = 500)\n",
        "plt.title('Distribution of Document Word Counts', fontdict=dict(size=14))\n",
        "plt.gca().set(xlim=(0, 20000),ylim=(0,1200), ylabel='Number of Obs', xlabel='Document Word Count')\n",
        "plt.show()"
      ],
      "metadata": {
        "colab": {
          "base_uri": "https://localhost:8080/",
          "height": 296
        },
        "id": "DlkPnS31iAP8",
        "outputId": "9653f3ca-e7e0-4b50-81e2-0010d99a186c"
      },
      "execution_count": null,
      "outputs": [
        {
          "output_type": "display_data",
          "data": {
            "text/plain": [
              "<Figure size 432x288 with 1 Axes>"
            ],
            "image/png": "[encoded data removed]"
          },
          "metadata": {
            "needs_background": "light"
          }
        }
      ]
    },
    {
      "cell_type": "code",
      "source": [
        "from datasets import load_dataset\n",
        "dataset = load_dataset(\"ecthr_cases\")"
      ],
      "metadata": {
        "id": "cqcjAJ-okR9d"
      },
      "execution_count": null,
      "outputs": []
    },
    {
      "cell_type": "code",
      "source": [
        "text_test = dataset['train']['facts']\n",
        "df_pandas = pd.DataFrame(text_train)\n",
        "text_test = dataset['test']['facts']\n",
        "df_pandas2 = pd.DataFrame(text_test)\n",
        "text_dev = dataset['validation']['facts']\n",
        "df_pandas3 = pd.DataFrame(text_dev)"
      ],
      "metadata": {
        "id": "L3iA0tJnkgWf"
      },
      "execution_count": null,
      "outputs": []
    },
    {
      "cell_type": "code",
      "source": [
        "text = df_pandas[0]\n",
        "df_pandas['length'] = text.str.len()\n",
        "text = df_pandas2[0]\n",
        "df_pandas2['length'] = text.str.len()\n",
        "text = df_pandas3[0]\n",
        "df_pandas3['length'] = text.str.len()"
      ],
      "metadata": {
        "id": "_CiZD-iYktgp"
      },
      "execution_count": null,
      "outputs": []
    },
    {
      "cell_type": "code",
      "source": [
        "df_pandas"
      ],
      "metadata": {
        "colab": {
          "base_uri": "https://localhost:8080/",
          "height": 419
        },
        "id": "QVXXUMPUk5jM",
        "outputId": "3e8c8070-70ab-4184-eed0-1477579efafe"
      },
      "execution_count": null,
      "outputs": [
        {
          "output_type": "execute_result",
          "data": {
            "text/plain": [
              "                                                       0  length\n",
              "0      A.- Der 1955 geborene V._ war seit 1. Septembe...    3961\n",
              "1      Ansprüche nach OHG, hat sich ergeben: A.- X._ ...    3348\n",
              "2      Art. 4 aBV (Strafverfahren wegen falschen Zeug...    2133\n",
              "3      Art. 5 Ziff. 1 EMRK (Haftentlassung), hat sich...    2542\n",
              "4      Mietvertrag, hat sich ergeben: A.- Die CT Cond...    1680\n",
              "...                                                  ...     ...\n",
              "35453  Sachverhalt: A. Mit Einspracheentscheid vom 3....    1545\n",
              "35454  Sachverhalt: A. X._ wird vorgeworfen, sich am ...    1059\n",
              "35455  Sachverhalt: A. X._ stellte in seinem Wohnhaus...    1140\n",
              "35456  Sachverhalt: A. In den Monaten Dezember 2008 b...    1644\n",
              "35457  Sachverhalt: A. X._ fuhr am 25. Juli 2012 bei ...     772\n",
              "\n",
              "[35458 rows x 2 columns]"
            ],
            "text/html": [
              "\n",
              "  <div id=\"df-7fcdf248-64d0-4474-91a8-a8c548a203ca\">\n",
              "    <div class=\"colab-df-container\">\n",
              "      <div>\n",
              "<style scoped>\n",
              "    .dataframe tbody tr th:only-of-type {\n",
              "        vertical-align: middle;\n",
              "    }\n",
              "\n",
              "    .dataframe tbody tr th {\n",
              "        vertical-align: top;\n",
              "    }\n",
              "\n",
              "    .dataframe thead th {\n",
              "        text-align: right;\n",
              "    }\n",
              "</style>\n",
              "<table border=\"1\" class=\"dataframe\">\n",
              "  <thead>\n",
              "    <tr style=\"text-align: right;\">\n",
              "      <th></th>\n",
              "      <th>0</th>\n",
              "      <th>length</th>\n",
              "    </tr>\n",
              "  </thead>\n",
              "  <tbody>\n",
              "    <tr>\n",
              "      <th>0</th>\n",
              "      <td>A.- Der 1955 geborene V._ war seit 1. Septembe...</td>\n",
              "      <td>3961</td>\n",
              "    </tr>\n",
              "    <tr>\n",
              "      <th>1</th>\n",
              "      <td>Ansprüche nach OHG, hat sich ergeben: A.- X._ ...</td>\n",
              "      <td>3348</td>\n",
              "    </tr>\n",
              "    <tr>\n",
              "      <th>2</th>\n",
              "      <td>Art. 4 aBV (Strafverfahren wegen falschen Zeug...</td>\n",
              "      <td>2133</td>\n",
              "    </tr>\n",
              "    <tr>\n",
              "      <th>3</th>\n",
              "      <td>Art. 5 Ziff. 1 EMRK (Haftentlassung), hat sich...</td>\n",
              "      <td>2542</td>\n",
              "    </tr>\n",
              "    <tr>\n",
              "      <th>4</th>\n",
              "      <td>Mietvertrag, hat sich ergeben: A.- Die CT Cond...</td>\n",
              "      <td>1680</td>\n",
              "    </tr>\n",
              "    <tr>\n",
              "      <th>...</th>\n",
              "      <td>...</td>\n",
              "      <td>...</td>\n",
              "    </tr>\n",
              "    <tr>\n",
              "      <th>35453</th>\n",
              "      <td>Sachverhalt: A. Mit Einspracheentscheid vom 3....</td>\n",
              "      <td>1545</td>\n",
              "    </tr>\n",
              "    <tr>\n",
              "      <th>35454</th>\n",
              "      <td>Sachverhalt: A. X._ wird vorgeworfen, sich am ...</td>\n",
              "      <td>1059</td>\n",
              "    </tr>\n",
              "    <tr>\n",
              "      <th>35455</th>\n",
              "      <td>Sachverhalt: A. X._ stellte in seinem Wohnhaus...</td>\n",
              "      <td>1140</td>\n",
              "    </tr>\n",
              "    <tr>\n",
              "      <th>35456</th>\n",
              "      <td>Sachverhalt: A. In den Monaten Dezember 2008 b...</td>\n",
              "      <td>1644</td>\n",
              "    </tr>\n",
              "    <tr>\n",
              "      <th>35457</th>\n",
              "      <td>Sachverhalt: A. X._ fuhr am 25. Juli 2012 bei ...</td>\n",
              "      <td>772</td>\n",
              "    </tr>\n",
              "  </tbody>\n",
              "</table>\n",
              "<p>35458 rows × 2 columns</p>\n",
              "</div>\n",
              "      <button class=\"colab-df-convert\" onclick=\"convertToInteractive('df-7fcdf248-64d0-4474-91a8-a8c548a203ca')\"\n",
              "              title=\"Convert this dataframe to an interactive table.\"\n",
              "              style=\"display:none;\">\n",
              "        \n",
              "  <svg xmlns=\"http://www.w3.org/2000/svg\" height=\"24px\"viewBox=\"0 0 24 24\"\n",
              "       width=\"24px\">\n",
              "    <path d=\"M0 0h24v24H0V0z\" fill=\"none\"/>\n",
              "    <path d=\"M18.56 5.44l.94 2.06.94-2.06 2.06-.94-2.06-.94-.94-2.06-.94 2.06-2.06.94zm-11 1L8.5 8.5l.94-2.06 2.06-.94-2.06-.94L8.5 2.5l-.94 2.06-2.06.94zm10 10l.94 2.06.94-2.06 2.06-.94-2.06-.94-.94-2.06-.94 2.06-2.06.94z\"/><path d=\"M17.41 7.96l-1.37-1.37c-.4-.4-.92-.59-1.43-.59-.52 0-1.04.2-1.43.59L10.3 9.45l-7.72 7.72c-.78.78-.78 2.05 0 2.83L4 21.41c.39.39.9.59 1.41.59.51 0 1.02-.2 1.41-.59l7.78-7.78 2.81-2.81c.8-.78.8-2.07 0-2.86zM5.41 20L4 18.59l7.72-7.72 1.47 1.35L5.41 20z\"/>\n",
              "  </svg>\n",
              "      </button>\n",
              "      \n",
              "  <style>\n",
              "    .colab-df-container {\n",
              "      display:flex;\n",
              "      flex-wrap:wrap;\n",
              "      gap: 12px;\n",
              "    }\n",
              "\n",
              "    .colab-df-convert {\n",
              "      background-color: #E8F0FE;\n",
              "      border: none;\n",
              "      border-radius: 50%;\n",
              "      cursor: pointer;\n",
              "      display: none;\n",
              "      fill: #1967D2;\n",
              "      height: 32px;\n",
              "      padding: 0 0 0 0;\n",
              "      width: 32px;\n",
              "    }\n",
              "\n",
              "    .colab-df-convert:hover {\n",
              "      background-color: #E2EBFA;\n",
              "      box-shadow: 0px 1px 2px rgba(60, 64, 67, 0.3), 0px 1px 3px 1px rgba(60, 64, 67, 0.15);\n",
              "      fill: #174EA6;\n",
              "    }\n",
              "\n",
              "    [theme=dark] .colab-df-convert {\n",
              "      background-color: #3B4455;\n",
              "      fill: #D2E3FC;\n",
              "    }\n",
              "\n",
              "    [theme=dark] .colab-df-convert:hover {\n",
              "      background-color: #434B5C;\n",
              "      box-shadow: 0px 1px 3px 1px rgba(0, 0, 0, 0.15);\n",
              "      filter: drop-shadow(0px 1px 2px rgba(0, 0, 0, 0.3));\n",
              "      fill: #FFFFFF;\n",
              "    }\n",
              "  </style>\n",
              "\n",
              "      <script>\n",
              "        const buttonEl =\n",
              "          document.querySelector('#df-7fcdf248-64d0-4474-91a8-a8c548a203ca button.colab-df-convert');\n",
              "        buttonEl.style.display =\n",
              "          google.colab.kernel.accessAllowed ? 'block' : 'none';\n",
              "\n",
              "        async function convertToInteractive(key) {\n",
              "          const element = document.querySelector('#df-7fcdf248-64d0-4474-91a8-a8c548a203ca');\n",
              "          const dataTable =\n",
              "            await google.colab.kernel.invokeFunction('convertToInteractive',\n",
              "                                                     [key], {});\n",
              "          if (!dataTable) return;\n",
              "\n",
              "          const docLinkHtml = 'Like what you see? Visit the ' +\n",
              "            '<a target=\"_blank\" href=https://colab.research.google.com/notebooks/data_table.ipynb>data table notebook</a>'\n",
              "            + ' to learn more about interactive tables.';\n",
              "          element.innerHTML = '';\n",
              "          dataTable['output_type'] = 'display_data';\n",
              "          await google.colab.output.renderOutput(dataTable, element);\n",
              "          const docLink = document.createElement('div');\n",
              "          docLink.innerHTML = docLinkHtml;\n",
              "          element.appendChild(docLink);\n",
              "        }\n",
              "      </script>\n",
              "    </div>\n",
              "  </div>\n",
              "  "
            ]
          },
          "metadata": {},
          "execution_count": 84
        }
      ]
    },
    {
      "cell_type": "code",
      "source": [
        "plt.hist(df_pandas['length'], color = 'blue', bins = 390)\n",
        "plt.hist(df_pandas2['length'], color = 'orange', bins = 5)\n",
        "plt.hist(df_pandas3['length'], color = 'yellow', bins = 50)\n",
        "plt.title('Distribution of Document Word Counts', fontdict=dict(size=14))\n",
        "plt.gca().set(xlim=(0, 8000),ylim=(0,1500), ylabel='Number of Obs', xlabel='Document Word Count')\n",
        "plt.show()"
      ],
      "metadata": {
        "colab": {
          "base_uri": "https://localhost:8080/",
          "height": 296
        },
        "id": "pQnovU9Lkvvh",
        "outputId": "e61034b1-643a-4353-bb93-31ce6257eca3"
      },
      "execution_count": null,
      "outputs": [
        {
          "output_type": "display_data",
          "data": {
            "text/plain": [
              "<Figure size 432x288 with 1 Axes>"
            ],
            "image/png": "[encoded data removed]"
          },
          "metadata": {
            "needs_background": "light"
          }
        }
      ]
    }
  ]
}