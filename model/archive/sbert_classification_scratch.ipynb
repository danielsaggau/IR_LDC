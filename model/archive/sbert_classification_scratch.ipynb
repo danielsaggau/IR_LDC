{
  "nbformat": 4,
  "nbformat_minor": 0,
  "metadata": {
    "colab": {
      "provenance": [],
      "authorship_tag": "ABX9TyO/se93YGY2YXvKG8mXEzEt",
      "include_colab_link": true
    },
    "kernelspec": {
      "name": "python3",
      "display_name": "Python 3"
    },
    "language_info": {
      "name": "python"
    }
  },
  "cells": [
    {
      "cell_type": "markdown",
      "metadata": {
        "id": "view-in-github",
        "colab_type": "text"
      },
      "source": [
        "<a href=\"https://colab.research.google.com/github/danielsaggau/IR_LDC/blob/main/sbert_classification_scratch.ipynb\" target=\"_parent\"><img src=\"https://colab.research.google.com/assets/colab-badge.svg\" alt=\"Open In Colab\"/></a>"
      ]
    },
    {
      "cell_type": "code",
      "execution_count": null,
      "metadata": {
        "id": "teLEbYvXsC3N"
      },
      "outputs": [],
      "source": [
        "!pip install transformers datasets"
      ]
    },
    {
      "cell_type": "code",
      "source": [
        "from sklearn.metrics import f1_score\n",
        "from transformers import EvalPrediction"
      ],
      "metadata": {
        "id": "zww_YYSQ0_kV"
      },
      "execution_count": 13,
      "outputs": []
    },
    {
      "cell_type": "code",
      "source": [
        "import torch\n",
        "import random\n",
        "from transformers.file_utils import is_tf_available, is_torch_available, is_torch_tpu_available\n",
        "from transformers import AutoTokenizer, AutoModelForSequenceClassification, Trainer, TrainingArguments, DataCollatorWithPadding\n",
        "from datasets import load_metric, load_dataset\n",
        "import pandas as pd\n",
        "import numpy as np"
      ],
      "metadata": {
        "id": "D-L6XExhuC_a"
      },
      "execution_count": 11,
      "outputs": []
    },
    {
      "cell_type": "code",
      "source": [
        "# load data\n",
        "dataset = load_dataset(\"swiss_judgment_prediction\", \"de\")"
      ],
      "metadata": {
        "id": "eahH0VxCu4ZB"
      },
      "execution_count": null,
      "outputs": []
    },
    {
      "cell_type": "code",
      "source": [
        "tokenizer = AutoTokenizer.from_pretrained(\"nlpaueb/legal-bert-base-uncased\")\n",
        "def tokenize_function(examples):\n",
        "    return tokenizer(examples[\"text\"], truncation=True)\n",
        "\n",
        "tokenized_datasets = dataset.map(tokenize_function, batched=True)\n",
        "train_dataset = tokenized_datasets[\"train\"].shuffle(seed=42)\n",
        "eval_dataset = tokenized_datasets[\"validation\"].shuffle(seed=42)\n",
        "data_collator = DataCollatorWithPadding(tokenizer=tokenizer)"
      ],
      "metadata": {
        "id": "VY0j9AUVvRQZ"
      },
      "execution_count": null,
      "outputs": []
    },
    {
      "cell_type": "code",
      "source": [
        "def costum_model_run(metric_name: str, model_name : str,num_labels:int ):\n",
        "  '''\n",
        "  costum function to define metrics and training arguments \n",
        "  Inputs:: metric_name: examples: \"f1\"\n",
        "  '''\n",
        " \n",
        " metric = load_metric(metrics_name) \n",
        "def compute_metrics(p: EvalPrediction):\n",
        "        logits = p.predictions[0] if isinstance(p.predictions, tuple) else p.predictions\n",
        "        preds = np.argmax(logits, axis=1)\n",
        "        macro_f1 = f1_score(y_true=p.label_ids, y_pred=preds, average='macro', zero_division=0)\n",
        "        micro_f1 = f1_score(y_true=p.label_ids, y_pred=preds, average='micro', zero_division=0)\n",
        "        return {'macro-f1': macro_f1, 'micro-f1': micro_f1}\n",
        "\n",
        "   # Specifiy the arguments for the trainer  \n",
        "  training_args = TrainingArguments(\n",
        "      output_dir='./results',          # output directory\n",
        "      num_train_epochs=num_epochs,     # total number of training epochs\n",
        "      per_device_train_batch_size=8,   # batch size per device during training\n",
        "      per_device_eval_batch_size=20,   # batch size for evaluation\n",
        "      warmup_steps=500,                # number of warmup steps for learning rate scheduler\n",
        "      weight_decay=0.01,               # strength of weight decay\n",
        "      logging_dir='./logs',            # directory for storing logs\n",
        "      load_best_model_at_end=True,     # load the best model when finished training (default metric is loss)\n",
        "      metric_for_best_model = metrics_name,    # select the base metrics\n",
        "      logging_steps=200,               # log & save weights each logging_steps\n",
        "      save_steps=200,\n",
        "      evaluation_strategy=\"steps\",     # evaluate each `logging_steps`\n",
        "  ) \n",
        "\n",
        "  # Call the Trainer\n",
        "  trainer = Trainer(\n",
        "      model=model,                         # the instantiated Transformers model to be trained\n",
        "      args=training_args,                  # training arguments, defined above\n",
        "      train_dataset=train_dataset,         # training dataset\n",
        "      eval_dataset=valid_dataset,          # evaluation dataset\n",
        "      compute_metrics=compute_metrics,     # the callback that computes metrics of interest\n",
        "  )\n",
        "\n",
        " model = AutoModelForSequenceClassification.from_pretrained(model_name, num_labels=num_labels)"
      ],
      "metadata": {
        "id": "aaFL9Eh7xERb"
      },
      "execution_count": null,
      "outputs": []
    },
    {
      "cell_type": "code",
      "source": [
        "model = AutoModelForSequenceClassification.from_pretrained(\"nlpaueb/legal-bert-base-uncased\", num_labels=2)"
      ],
      "metadata": {
        "id": "IBn6hJ47vz1q"
      },
      "execution_count": null,
      "outputs": []
    }
  ]
}