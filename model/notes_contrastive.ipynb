{
  "nbformat": 4,
  "nbformat_minor": 0,
  "metadata": {
    "colab": {
      "provenance": [],
      "authorship_tag": "ABX9TyMi2U8VBM1P+azE1op851MS",
      "include_colab_link": true
    },
    "kernelspec": {
      "name": "python3",
      "display_name": "Python 3"
    },
    "language_info": {
      "name": "python"
    }
  },
  "cells": [
    {
      "cell_type": "markdown",
      "metadata": {
        "id": "view-in-github",
        "colab_type": "text"
      },
      "source": [
        "<a href=\"https://colab.research.google.com/github/danielsaggau/IR_LDC/blob/main/notes_contrastive.ipynb\" target=\"_parent\"><img src=\"https://colab.research.google.com/assets/colab-badge.svg\" alt=\"Open In Colab\"/></a>"
      ]
    },
    {
      "cell_type": "code",
      "source": [
        "class ContrastiveLoss(nn.Module):"
      ],
      "metadata": {
        "id": "bk8GqLpmXTrq"
      },
      "execution_count": null,
      "outputs": []
    },
    {
      "cell_type": "code",
      "source": [],
      "metadata": {
        "id": "DJL87jkEZLth"
      },
      "execution_count": null,
      "outputs": []
    },
    {
      "cell_type": "code",
      "execution_count": null,
      "metadata": {
        "id": "7bHVoOkT1Y9x"
      },
      "outputs": [],
      "source": [
        "class BregmanLoss(nn.Module):\n",
        "    def __init__(self, batch_size, temperature, sigma):\n",
        "        super(BregmanLoss, self).__init__()\n",
        "        self.batch_size = batch_size\n",
        "        self.temperature = temperature\n",
        "        self.sigma = sigma\n",
        "\n",
        "        self.mask = self.mask_correlated_samples(batch_size)\n",
        "        self.criterion = nn.CrossEntropyLoss(reduction=\"sum\")\n",
        "        \n",
        "        #self.similarity_f = nn.CosineSimilarity(dim=2)\n",
        "\n",
        "    def mask_correlated_samples(self, batch_size):\n",
        "        N = 2 * batch_size\n",
        "        mask = torch.ones((N, N), dtype=bool)\n",
        "        mask = mask.fill_diagonal_(0)\n",
        "        for i in range(batch_size):\n",
        "            mask[i, batch_size + i] = 0\n",
        "            mask[batch_size + i, i] = 0\n",
        "        return mask\n",
        "    \n",
        "    def b_sim(self, features):\n",
        "        mm = torch.max(features, dim=1)\n",
        "        indx_max_features = mm[1]\n",
        "        max_features = mm[0].reshape(-1, 1)\n",
        "        \n",
        "        # Compute the number of active subnets in one batch\n",
        "        eye = torch.eye(features.shape[1])\n",
        "        one = eye[indx_max_features]\n",
        "        num_max = torch.sum(one, dim=0)\n",
        "        \n",
        "        dist_matrix = max_features - features[:, indx_max_features]\n",
        "        \n",
        "        case = 2\n",
        "        if case == 0:\n",
        "            m2 = torch.divide(dist_matrix, torch.max(dist_matrix))\n",
        "            sim_matrix = torch.divide(torch.tensor([1]).to(features.device), m2 + 1)\n",
        "            \n",
        "        if case == 1:\n",
        "            gamma = torch.tensor([1]).to(features.device)\n",
        "            sim_matrix = torch.exp(torch.mul(-dist_matrix, gamma))\n",
        "            \n",
        "        if case == 2:\n",
        "            sigma = torch.tensor([self.sigma]).to(features.device)\n",
        "            sig2 = 2 * torch.pow(sigma, 2)\n",
        "            sim_matrix = torch.exp(torch.div(-dist_matrix, sig2))\n",
        "        \n",
        "        if case == 3:\n",
        "            sim_matrix = 1 - dist_matrix\n",
        "            \n",
        "        return sim_matrix, num_max\n",
        "\n",
        "    def forward(self, out_a, out_b):\n",
        "        \n",
        "        N = 2 * self.batch_size\n",
        "\n",
        "        features = torch.cat((out_a, out_b), dim=0)\n",
        "        \n",
        "        ###################################################\n",
        "        ### Computing Similarity Matrix ###################\n",
        "        sim_matrix, num_max = self.b_sim(features)\n",
        "        sim_matrix = sim_matrix / self.temperature\n",
        "        ###################################################\n",
        "        #sim_matrix = self.similarity_f(out.unsqueeze(1), out.unsqueeze(0)) / self.temperature\n",
        "\n",
        "        pos_ab = torch.diag(sim_matrix, self.batch_size)\n",
        "        pos_ba = torch.diag(sim_matrix, -self.batch_size)\n",
        "\n",
        "        positives = torch.cat((pos_ab, pos_ba), dim=0).reshape(N, 1)\n",
        "        negatives = sim_matrix[self.mask].reshape(N, -1)\n",
        "\n",
        "        labels = torch.zeros(N, dtype=torch.long).to(features.device)\n",
        "        logits = torch.cat((positives, negatives), dim=1)\n",
        "        loss = self.criterion(logits, labels)\n",
        "        loss /= N\n",
        "        return loss, num_max"
      ]
    },
    {
      "cell_type": "code",
      "source": [
        "def trainer(self, dataloader, epoch): \n",
        "  self.model.train()\n",
        "  batch_size = dataloader.batch_size\n",
        "  bloss = "
      ],
      "metadata": {
        "id": "i2nqsUrVQ_Pc"
      },
      "execution_count": null,
      "outputs": []
    },
    {
      "cell_type": "code",
      "source": [
        "class Model(nn.Module):\n",
        "\n",
        "  def __init__(self,\n",
        "               base_model = \n",
        "               fc_dim,\n",
        "               k_subs,\n",
        "               layer_sizes = \n",
        "               user_bn =False,\n",
        "               dr_rate=):\n",
        "    super(Model, self).__init__()\n",
        "\n",
        "\n",
        "# k- subnets for bregman \n",
        "    self.subnets == nn.ModuleList()\n",
        "\n",
        "#\n",
        "\n",
        "\n",
        "# k subnetworks\n",
        "    for k_idx in range(k_subs):\n",
        "      fc = nn.Sequential()"
      ],
      "metadata": {
        "id": "Dkf3oE2xZhsx"
      },
      "execution_count": null,
      "outputs": []
    }
  ]
}