{
  "cells": [
    {
      "cell_type": "markdown",
      "metadata": {
        "colab_type": "text",
        "id": "view-in-github"
      },
      "source": [
        "<a href=\"https://colab.research.google.com/github/danielsaggau/IR_LDC/blob/main/model/MIMIC/MIMIC_simcse.ipynb\" target=\"_parent\"><img src=\"https://colab.research.google.com/assets/colab-badge.svg\" alt=\"Open In Colab\"/></a>"
      ]
    },
    {
      "cell_type": "code",
      "execution_count": 1,
      "metadata": {
        "colab": {
          "base_uri": "https://localhost:8080/"
        },
        "id": "1t-yCziDJmc6",
        "outputId": "392ddb94-974e-434e-a6eb-0236cbc31a4c"
      },
      "outputs": [
        {
          "name": "stdout",
          "output_type": "stream",
          "text": [
            "Cloning into 'IR_LDC'...\n",
            "remote: Enumerating objects: 2705, done.\u001b[K\n",
            "remote: Counting objects: 100% (1012/1012), done.\u001b[K\n",
            "remote: Compressing objects: 100% (413/413), done.\u001b[K\n",
            "remote: Total 2705 (delta 689), reused 863 (delta 592), pack-reused 1693\u001b[K\n",
            "Receiving objects: 100% (2705/2705), 27.51 MiB | 15.15 MiB/s, done.\n",
            "Resolving deltas: 100% (1762/1762), done.\n"
          ]
        }
      ],
      "source": [
        "!git clone https://github.com/danielsaggau/IR_LDC.git"
      ]
    },
    {
      "cell_type": "code",
      "execution_count": null,
      "metadata": {
        "id": "7S-RrH1fJL2z"
      },
      "outputs": [],
      "source": [
        "from google.colab import drive\n",
        "drive.mount('/content/drive')"
      ]
    },
    {
      "cell_type": "code",
      "execution_count": null,
      "metadata": {
        "id": "8YSn6IXqJob7"
      },
      "outputs": [],
      "source": [
        "%cd IR_LDC"
      ]
    },
    {
      "cell_type": "code",
      "execution_count": null,
      "metadata": {
        "id": "uY5AQdi6JqXD"
      },
      "outputs": [],
      "source": [
        "!pip install -r requirements.txt"
      ]
    },
    {
      "cell_type": "code",
      "execution_count": 6,
      "metadata": {
        "id": "sbK_e2VeJJiT"
      },
      "outputs": [],
      "source": [
        "from datasets import load_dataset\n",
        "from torch.utils.data import DataLoader\n",
        "import math\n",
        "from sentence_transformers import models, losses\n",
        "from sentence_transformers import LoggingHandler, SentenceTransformer, InputExample\n",
        "import logging\n",
        "from datetime import datetime\n",
        "import gzip\n",
        "import sys\n",
        "import tqdm\n",
        "import json"
      ]
    },
    {
      "cell_type": "code",
      "execution_count": null,
      "metadata": {
        "id": "W3Gcs_-Mq-kt"
      },
      "outputs": [],
      "source": [
        "#!unzip /content/drive/MyDrive/mimic.jsonl.zip -d content\n",
        "#with open('/content/drive/MyDrive/mimic.jsonl(1)/mimic.jsonl') as f:\n",
        "#    data = [json.loads(line) for line in f]"
      ]
    },
    {
      "cell_type": "code",
      "execution_count": null,
      "metadata": {
        "id": "cUar2-w6LUYS"
      },
      "outputs": [],
      "source": [
        "import shutil\n",
        "shutil.copy(\"/content/drive/MyDrive/mimic.jsonl\", \"/content/IR_LDC/model/MIMIC\")\n",
        "dataset = load_dataset(\"/content/IR_LDC/model/MIMIC/mimic-dataset.py\")"
      ]
    },
    {
      "cell_type": "code",
      "execution_count": 12,
      "metadata": {
        "id": "TkANswL2nL32"
      },
      "outputs": [],
      "source": [
        "dataset_train_test = dataset['train'].train_test_split(test_size=0.1)\n",
        "dataset_test = dataset_train_test['test']\n",
        "dataset_sp = dataset_train_test['train'].train_test_split(test_size=0.1/0.9)\n",
        "dataset_train = dataset_sp['train']\n",
        "dataset_validation = dataset_sp['test']"
      ]
    },
    {
      "cell_type": "code",
      "execution_count": 13,
      "metadata": {
        "id": "VyP4Yq99rKCl"
      },
      "outputs": [],
      "source": [
        "with open('your_file.txt', 'w') as f:\n",
        "    for line in dataset['train']['text']:\n",
        "        f.write(f\"{line}\\n\")"
      ]
    },
    {
      "cell_type": "code",
      "execution_count": null,
      "metadata": {
        "id": "XDa_eSmKYMdI"
      },
      "outputs": [],
      "source": [
        "!python /content/IR_LDC/model/Longformer/Longformer/biobert_to_longformer.py"
      ]
    },
    {
      "cell_type": "code",
      "execution_count": null,
      "metadata": {
        "id": "zYXut72dJIxi"
      },
      "outputs": [],
      "source": [
        "# Training parameters\n",
        "#access=\"XXXX\"\n",
        "model_name = \"/content/IR_LDC/models/bio-longformer\"\n",
        "#train_batch_size = 6\n",
        "max_seq_length = 4096\n",
        "num_epochs = 1\n",
        "\n",
        "\n",
        "# Save path to store our model\n",
        "output_name = ''\n",
        "if len(sys.argv) >= 3:\n",
        "    output_name = \"-\"+sys.argv[2].replace(\" \", \"_\").replace(\"/\", \"_\").replace(\"\\\\\", \"_\")\n",
        "\n",
        "model_output_path = 'output/train_simcse{}-{}'.format(output_name, datetime.now().strftime(\"%Y-%m-%d_%H-%M-%S\"))\n",
        "\n",
        "# Use Huggingface/transformers model (like BERT, RoBERTa, XLNet, XLM-R) for mapping tokens to embeddings\n",
        "model = SentenceTransformer(model_name)"
      ]
    },
    {
      "cell_type": "code",
      "execution_count": 18,
      "metadata": {
        "colab": {
          "base_uri": "https://localhost:8080/"
        },
        "id": "qePsiqmHZUKI",
        "outputId": "0b92eefe-f82f-4d55-b541-cc513a0181e9"
      },
      "outputs": [
        {
          "data": {
            "text/plain": [
              "133497600"
            ]
          },
          "execution_count": 18,
          "metadata": {},
          "output_type": "execute_result"
        }
      ],
      "source": [
        "sum(p.numel() for p in model.parameters())"
      ]
    },
    {
      "cell_type": "code",
      "execution_count": 19,
      "metadata": {
        "id": "dkZQSXCtOyfh"
      },
      "outputs": [],
      "source": [
        "train_batch_size = 6"
      ]
    },
    {
      "cell_type": "code",
      "execution_count": null,
      "metadata": {
        "id": "wHTBCW8VsBg2"
      },
      "outputs": [],
      "source": [
        "################# Read the train corpus  #################\n",
        "filepath = \"your_file.txt\"\n",
        "train_samples = []\n",
        "with gzip.open(filepath, 'rt', encoding='utf8') if filepath.endswith('.gz') else open(filepath, encoding='utf8') as fIn:\n",
        "    for line in tqdm.tqdm(fIn, desc='Read file'):\n",
        "        line = line.strip()\n",
        "        if len(line) >= 10:\n",
        "            train_samples.append(InputExample(texts=[line, line]))\n",
        "\n",
        "logging.info(\"Train sentences: {}\".format(len(train_samples)))\n",
        "\n",
        "# We train our model using the MultipleNegativesRankingLoss\n",
        "train_dataloader = DataLoader(train_samples, shuffle=True, batch_size=train_batch_size, drop_last=True)"
      ]
    },
    {
      "cell_type": "code",
      "execution_count": 23,
      "metadata": {
        "id": "JpCzr3zNX6Yl"
      },
      "outputs": [],
      "source": [
        "import torch \n",
        "from enum import Enum\n",
        "from typing import Iterable, Dict\n",
        "import torch.nn.functional as F\n",
        "from torch import nn, Tensor\n",
        "from sentence_transformers import SentenceTransformer, LoggingHandler, losses, InputExample,  models\n",
        "from torch.utils.data import DataLoader\n",
        "from model.loss.cos_sim import cos_sim\n",
        "\n",
        "class AddProjection(nn.Module):\n",
        "   def __init__(self, model: SentenceTransformer, mlp_dim=512,embedding_size=5120): #removed sentence_embedding_dimension\n",
        "       super(AddProjection, self).__init__()\n",
        "       self.model = SentenceTransformer('/content/IR_LDC/models/bio-longformer') #bionlp/bluebert_pubmed_mimic_uncased_L-12_H-768_A-12\n",
        "       embedding_size = embedding_size\n",
        "       mlp_dim =  self.model.get_sentence_embedding_dimension() \n",
        "       #self.model.fc = nn.Identity()\n",
        "       self.projection = nn.Sequential(\n",
        "           nn.Linear(in_features=mlp_dim, out_features=mlp_dim),\n",
        "           nn.BatchNorm1d(mlp_dim),\n",
        "           nn.ReLU(),\n",
        "           nn.Linear(in_features=mlp_dim, out_features=embedding_size),\n",
        "           nn.BatchNorm1d(embedding_size),\n",
        "       )\n",
        "\n",
        "   def forward(self, a: Tensor):\n",
        "       if not isinstance(a, torch.Tensor):\n",
        "          a = torch.tensor(a)\n",
        "       if len(a.shape) == 1:\n",
        "          a = a.unsqueeze(0)\n",
        "       a = self.projection(a)\n",
        "       return a\n",
        "\n",
        "class BregmanRankingLoss(nn.Module):\n",
        "  '''\n",
        "\n",
        "  '''\n",
        "  def __init__(self, model: SentenceTransformer, sigma, temperature, batch_size, lambda1, lambda2 ,feat_dim=512, scale: float = 20.0, similarity_fct = cos_sim):\n",
        "        \"\"\"\n",
        "        :param model: SentenceTransformer model\n",
        "        :param scale: Output of similarity function is multiplied by scale value\n",
        "        :param similarity_fct: similarity function between sentence embeddings. By default, cos_sim. Can also be set to dot product (and then set scale to 1)\n",
        "        \"\"\"\n",
        "        super(BregmanRankingLoss, self).__init__()\n",
        "        self.model = model\n",
        "        self.projection = AddProjection(self,model)\n",
        "        self.sigma = sigma\n",
        "        self.temperature = temperature\n",
        "        self.batch_size = batch_size\n",
        "        self.mask = self.mask_correlated_samples(batch_size)\n",
        "        self.lambda1=lambda1\n",
        "        self.lambda2=lambda2\n",
        "        self.scale = scale\n",
        "        self.similarity_fct = similarity_fct\n",
        "        self.cross_entropy_loss = nn.CrossEntropyLoss()\n",
        "        self.criterion = nn.CrossEntropyLoss(reduction=\"sum\")\n",
        "\n",
        "\n",
        "  def mask_correlated_samples(self, batch_size):\n",
        "        N = 2 * batch_size\n",
        "        mask = torch.ones((N, N), dtype=torch.long)#, dtype=bool)\n",
        "        mask = mask.fill_diagonal_(0)\n",
        "        for i in range(batch_size):\n",
        "            mask[i, batch_size + i] = 0\n",
        "            mask[batch_size + i, i] = 0\n",
        "        return mask\n",
        "\n",
        "  def b_sim(self, features):\n",
        "        mm = torch.max(features, dim=1)\n",
        "        indx_max_features = mm[1]\n",
        "        max_features = mm[0].reshape(-1, 1)\n",
        "        # Compute the number of active subnets in one batch\n",
        "        eye = torch.eye(features.shape[1]).to(device)\n",
        "        one = eye[indx_max_features].to(device)\n",
        "        num_max = torch.sum(one, dim=0)\n",
        "        dist_matrix = max_features - features[:, indx_max_features]\n",
        "        sigma = torch.tensor([self.sigma]).to(device)\n",
        "        sig2 = 2 * torch.pow(sigma, 2)\n",
        "        sim_matrix = torch.exp(torch.div(-dist_matrix, sig2))\n",
        "\n",
        "        return sim_matrix, num_max\n",
        "\n",
        "  def forward(self, sentence_features: Iterable[Dict[str, Tensor]], labels: Tensor):\n",
        "\n",
        "        reps = [self.model(sentence_feature)['sentence_embedding'] for sentence_feature in sentence_features] # get output main model\n",
        "        embeddings_a = reps[0] \n",
        "        embeddings_b = torch.cat(reps[1:])\n",
        "\n",
        "        scores = self.similarity_fct(embeddings_a, embeddings_b) * self.scale\n",
        "        labels = torch.tensor(range(len(scores)), dtype=torch.long, device=scores.device)  # Example a[i] should match with b[i]\n",
        "        rloss = self.cross_entropy_loss(scores, labels)\n",
        "        \n",
        "        # bregman part \n",
        "\n",
        "        N = 2 * self.batch_size\n",
        "        z1 = self.projection(embeddings_a)\n",
        "        z2 = self.projection(embeddings_b)\n",
        "        features = torch.cat((z1, z2), dim=0)\n",
        "\n",
        "        ###################################################\n",
        "        ### Computing Similarity Matrix ###################\n",
        "        sim_matrix, num_max = self.b_sim(features)\n",
        "        sim_matrix = sim_matrix / self.temperature\n",
        "        ###################################################\n",
        "        #sim_matrix = self.similarity_f(out.unsqueeze(1), out.unsqueeze(0)) / self.temperature\n",
        "\n",
        "        pos_ab = torch.diag(sim_matrix, self.batch_size)\n",
        "        pos_ba = torch.diag(sim_matrix, -self.batch_size)\n",
        "\n",
        "        positives = torch.cat((pos_ab, pos_ba), dim=0).reshape(N, 1)\n",
        "        negatives = sim_matrix[self.mask].reshape(N, -1)\n",
        "\n",
        "        blabel = torch.zeros(N, dtype=torch.long).to(device)\n",
        "        bscores = torch.cat((positives, negatives), dim=1)\n",
        "        bloss = self.criterion(bscores, blabel).to(device)\n",
        "        bloss /= N\n",
        "        loss = self.lambda1* bloss + self.lambda2 * rloss \n",
        "        loss = loss.to(device)\n",
        "        return loss\n"
      ]
    },
    {
      "cell_type": "code",
      "execution_count": null,
      "metadata": {
        "id": "-ukbYkvsPAPk"
      },
      "outputs": [],
      "source": [
        "train_loss = BregmanRankingLoss(model=model, batch_size=6,temperature=0.1, sigma=2 ,lambda1=1, lambda2=2) "
      ]
    },
    {
      "cell_type": "code",
      "execution_count": null,
      "metadata": {
        "id": "S0wkeBDOiiXF"
      },
      "outputs": [],
      "source": [
        "model"
      ]
    },
    {
      "cell_type": "code",
      "execution_count": 27,
      "metadata": {
        "colab": {
          "base_uri": "https://localhost:8080/",
          "height": 81,
          "referenced_widgets": [
            "55693c47cecf4c34adf63587a9a4137c",
            "e74a73dea2b94d54a3032953b25e2151",
            "7fc419902ffc41c8a492f07d86934567",
            "a676bbe2b5b44e81b3c73941dd13dab2",
            "779a8cb2cd514185ab2bbe04cc8734d6",
            "0002d06f40d24258a3f2b00a87256ae0",
            "22c760320a8443cb90323315eec45fb7",
            "c2f9936be7bf471cac1e7c32a7064ccc",
            "5c6ee634a070477da6ceacd3ce022851",
            "aec4b35d4ab04f49ae1e20820c1183b9",
            "a5df6772a7a04c689c60df4d5d3ebbcf",
            "0926f0e91beb433196d5eb308879912d",
            "bb69d18a38404bbd81c6c86d2725851b",
            "fe4451161cb140f6b3791a295b03550c",
            "22e9718e67b24498b8ff85f74080af69",
            "9c677d6fa1a04a3598e7655a4d1fa7bf",
            "5d121594d7fe4d5297199d0cf642761f",
            "cd557d1d2ef34281a71a63e040f754ed",
            "a37a803228a04101af3e72bb09796dd7",
            "6bdbdaeb78b44aedaa9d6412b8463ab8",
            "8ad6de4234634b70aaca3188fe60dd29",
            "18f95dd5ce5646579b08a029fa289829"
          ]
        },
        "id": "pkaHH4QxX5bf",
        "outputId": "33ca44d6-31d8-4739-b9ea-ed166d1b40fd"
      },
      "outputs": [
        {
          "data": {
            "application/vnd.jupyter.widget-view+json": {
              "model_id": "55693c47cecf4c34adf63587a9a4137c",
              "version_major": 2,
              "version_minor": 0
            },
            "text/plain": [
              "Epoch:   0%|          | 0/1 [00:00<?, ?it/s]"
            ]
          },
          "metadata": {},
          "output_type": "display_data"
        },
        {
          "data": {
            "application/vnd.jupyter.widget-view+json": {
              "model_id": "0926f0e91beb433196d5eb308879912d",
              "version_major": 2,
              "version_minor": 0
            },
            "text/plain": [
              "Iteration:   0%|          | 0/40000 [00:00<?, ?it/s]"
            ]
          },
          "metadata": {},
          "output_type": "display_data"
        }
      ],
      "source": [
        "warmup_steps = math.ceil(len(train_dataloader) * num_epochs * 0.1)  # 10% of train data for warm-up\n",
        "logging.info(\"Warmup-steps: {}\".format(warmup_steps))\n",
        "\n",
        "# Train the model\n",
        "device = \"cuda:0\" if torch.cuda.is_available() else \"cpu\"\n",
        "# Train the model\n",
        "model.fit(train_objectives=[(train_dataloader, train_loss)],\n",
        "          epochs=num_epochs,\n",
        "          warmup_steps=warmup_steps,\n",
        "          callback=\"epoch\",\n",
        "          output_path='/content/drive/MyDrive/bregman_mimic_biobert_long',\n",
        "          optimizer_params={'lr': 3e-5},\n",
        "          checkpoint_path='/content/drive/MyDrive/bregman_mimic_biobert_long',\n",
        "          show_progress_bar=True,\n",
        "          steps_per_epoch=40000,\n",
        "          checkpoint_save_steps=10000,\n",
        "          save_best_model=True,\n",
        "          use_amp=True  # Set to True, if your GPU supports FP16 cores\n",
        "          )"
      ]
    },
    {
      "cell_type": "code",
      "execution_count": 30,
      "metadata": {
        "colab": {
          "base_uri": "https://localhost:8080/"
        },
        "id": "yBXR3g7wOIfN",
        "outputId": "03a01ef2-198f-49b4-9de8-c64c465ee8aa"
      },
      "outputs": [
        {
          "data": {
            "text/plain": [
              "133497600"
            ]
          },
          "execution_count": 30,
          "metadata": {},
          "output_type": "execute_result"
        }
      ],
      "source": [
        "sum(p.numel() for p in model.parameters())"
      ]
    }
  ],
  "metadata": {
    "accelerator": "GPU",
    "colab": {
      "include_colab_link": true,
      "provenance": []
    },
    "gpuClass": "standard",
    "kernelspec": {
      "display_name": "Python 3",
      "name": "python3"
    },
    "language_info": {
      "name": "python"
    },
    "widgets": {
      "application/vnd.jupyter.widget-state+json": {
        "0002d06f40d24258a3f2b00a87256ae0": {
          "model_module": "@jupyter-widgets/base",
          "model_module_version": "1.2.0",
          "model_name": "LayoutModel",
          "state": {
            "_model_module": "@jupyter-widgets/base",
            "_model_module_version": "1.2.0",
            "_model_name": "LayoutModel",
            "_view_count": null,
            "_view_module": "@jupyter-widgets/base",
            "_view_module_version": "1.2.0",
            "_view_name": "LayoutView",
            "align_content": null,
            "align_items": null,
            "align_self": null,
            "border": null,
            "bottom": null,
            "display": null,
            "flex": null,
            "flex_flow": null,
            "grid_area": null,
            "grid_auto_columns": null,
            "grid_auto_flow": null,
            "grid_auto_rows": null,
            "grid_column": null,
            "grid_gap": null,
            "grid_row": null,
            "grid_template_areas": null,
            "grid_template_columns": null,
            "grid_template_rows": null,
            "height": null,
            "justify_content": null,
            "justify_items": null,
            "left": null,
            "margin": null,
            "max_height": null,
            "max_width": null,
            "min_height": null,
            "min_width": null,
            "object_fit": null,
            "object_position": null,
            "order": null,
            "overflow": null,
            "overflow_x": null,
            "overflow_y": null,
            "padding": null,
            "right": null,
            "top": null,
            "visibility": null,
            "width": null
          }
        },
        "0926f0e91beb433196d5eb308879912d": {
          "model_module": "@jupyter-widgets/controls",
          "model_module_version": "1.5.0",
          "model_name": "HBoxModel",
          "state": {
            "_dom_classes": [],
            "_model_module": "@jupyter-widgets/controls",
            "_model_module_version": "1.5.0",
            "_model_name": "HBoxModel",
            "_view_count": null,
            "_view_module": "@jupyter-widgets/controls",
            "_view_module_version": "1.5.0",
            "_view_name": "HBoxView",
            "box_style": "",
            "children": [
              "IPY_MODEL_bb69d18a38404bbd81c6c86d2725851b",
              "IPY_MODEL_fe4451161cb140f6b3791a295b03550c",
              "IPY_MODEL_22e9718e67b24498b8ff85f74080af69"
            ],
            "layout": "IPY_MODEL_9c677d6fa1a04a3598e7655a4d1fa7bf"
          }
        },
        "18f95dd5ce5646579b08a029fa289829": {
          "model_module": "@jupyter-widgets/controls",
          "model_module_version": "1.5.0",
          "model_name": "DescriptionStyleModel",
          "state": {
            "_model_module": "@jupyter-widgets/controls",
            "_model_module_version": "1.5.0",
            "_model_name": "DescriptionStyleModel",
            "_view_count": null,
            "_view_module": "@jupyter-widgets/base",
            "_view_module_version": "1.2.0",
            "_view_name": "StyleView",
            "description_width": ""
          }
        },
        "22c760320a8443cb90323315eec45fb7": {
          "model_module": "@jupyter-widgets/controls",
          "model_module_version": "1.5.0",
          "model_name": "DescriptionStyleModel",
          "state": {
            "_model_module": "@jupyter-widgets/controls",
            "_model_module_version": "1.5.0",
            "_model_name": "DescriptionStyleModel",
            "_view_count": null,
            "_view_module": "@jupyter-widgets/base",
            "_view_module_version": "1.2.0",
            "_view_name": "StyleView",
            "description_width": ""
          }
        },
        "22e9718e67b24498b8ff85f74080af69": {
          "model_module": "@jupyter-widgets/controls",
          "model_module_version": "1.5.0",
          "model_name": "HTMLModel",
          "state": {
            "_dom_classes": [],
            "_model_module": "@jupyter-widgets/controls",
            "_model_module_version": "1.5.0",
            "_model_name": "HTMLModel",
            "_view_count": null,
            "_view_module": "@jupyter-widgets/controls",
            "_view_module_version": "1.5.0",
            "_view_name": "HTMLView",
            "description": "",
            "description_tooltip": null,
            "layout": "IPY_MODEL_8ad6de4234634b70aaca3188fe60dd29",
            "placeholder": "​",
            "style": "IPY_MODEL_18f95dd5ce5646579b08a029fa289829",
            "value": " 40000/40000 [3:09:08&lt;00:00,  2.61it/s]"
          }
        },
        "55693c47cecf4c34adf63587a9a4137c": {
          "model_module": "@jupyter-widgets/controls",
          "model_module_version": "1.5.0",
          "model_name": "HBoxModel",
          "state": {
            "_dom_classes": [],
            "_model_module": "@jupyter-widgets/controls",
            "_model_module_version": "1.5.0",
            "_model_name": "HBoxModel",
            "_view_count": null,
            "_view_module": "@jupyter-widgets/controls",
            "_view_module_version": "1.5.0",
            "_view_name": "HBoxView",
            "box_style": "",
            "children": [
              "IPY_MODEL_e74a73dea2b94d54a3032953b25e2151",
              "IPY_MODEL_7fc419902ffc41c8a492f07d86934567",
              "IPY_MODEL_a676bbe2b5b44e81b3c73941dd13dab2"
            ],
            "layout": "IPY_MODEL_779a8cb2cd514185ab2bbe04cc8734d6"
          }
        },
        "5c6ee634a070477da6ceacd3ce022851": {
          "model_module": "@jupyter-widgets/controls",
          "model_module_version": "1.5.0",
          "model_name": "ProgressStyleModel",
          "state": {
            "_model_module": "@jupyter-widgets/controls",
            "_model_module_version": "1.5.0",
            "_model_name": "ProgressStyleModel",
            "_view_count": null,
            "_view_module": "@jupyter-widgets/base",
            "_view_module_version": "1.2.0",
            "_view_name": "StyleView",
            "bar_color": null,
            "description_width": ""
          }
        },
        "5d121594d7fe4d5297199d0cf642761f": {
          "model_module": "@jupyter-widgets/base",
          "model_module_version": "1.2.0",
          "model_name": "LayoutModel",
          "state": {
            "_model_module": "@jupyter-widgets/base",
            "_model_module_version": "1.2.0",
            "_model_name": "LayoutModel",
            "_view_count": null,
            "_view_module": "@jupyter-widgets/base",
            "_view_module_version": "1.2.0",
            "_view_name": "LayoutView",
            "align_content": null,
            "align_items": null,
            "align_self": null,
            "border": null,
            "bottom": null,
            "display": null,
            "flex": null,
            "flex_flow": null,
            "grid_area": null,
            "grid_auto_columns": null,
            "grid_auto_flow": null,
            "grid_auto_rows": null,
            "grid_column": null,
            "grid_gap": null,
            "grid_row": null,
            "grid_template_areas": null,
            "grid_template_columns": null,
            "grid_template_rows": null,
            "height": null,
            "justify_content": null,
            "justify_items": null,
            "left": null,
            "margin": null,
            "max_height": null,
            "max_width": null,
            "min_height": null,
            "min_width": null,
            "object_fit": null,
            "object_position": null,
            "order": null,
            "overflow": null,
            "overflow_x": null,
            "overflow_y": null,
            "padding": null,
            "right": null,
            "top": null,
            "visibility": null,
            "width": null
          }
        },
        "6bdbdaeb78b44aedaa9d6412b8463ab8": {
          "model_module": "@jupyter-widgets/controls",
          "model_module_version": "1.5.0",
          "model_name": "ProgressStyleModel",
          "state": {
            "_model_module": "@jupyter-widgets/controls",
            "_model_module_version": "1.5.0",
            "_model_name": "ProgressStyleModel",
            "_view_count": null,
            "_view_module": "@jupyter-widgets/base",
            "_view_module_version": "1.2.0",
            "_view_name": "StyleView",
            "bar_color": null,
            "description_width": ""
          }
        },
        "779a8cb2cd514185ab2bbe04cc8734d6": {
          "model_module": "@jupyter-widgets/base",
          "model_module_version": "1.2.0",
          "model_name": "LayoutModel",
          "state": {
            "_model_module": "@jupyter-widgets/base",
            "_model_module_version": "1.2.0",
            "_model_name": "LayoutModel",
            "_view_count": null,
            "_view_module": "@jupyter-widgets/base",
            "_view_module_version": "1.2.0",
            "_view_name": "LayoutView",
            "align_content": null,
            "align_items": null,
            "align_self": null,
            "border": null,
            "bottom": null,
            "display": null,
            "flex": null,
            "flex_flow": null,
            "grid_area": null,
            "grid_auto_columns": null,
            "grid_auto_flow": null,
            "grid_auto_rows": null,
            "grid_column": null,
            "grid_gap": null,
            "grid_row": null,
            "grid_template_areas": null,
            "grid_template_columns": null,
            "grid_template_rows": null,
            "height": null,
            "justify_content": null,
            "justify_items": null,
            "left": null,
            "margin": null,
            "max_height": null,
            "max_width": null,
            "min_height": null,
            "min_width": null,
            "object_fit": null,
            "object_position": null,
            "order": null,
            "overflow": null,
            "overflow_x": null,
            "overflow_y": null,
            "padding": null,
            "right": null,
            "top": null,
            "visibility": null,
            "width": null
          }
        },
        "7fc419902ffc41c8a492f07d86934567": {
          "model_module": "@jupyter-widgets/controls",
          "model_module_version": "1.5.0",
          "model_name": "FloatProgressModel",
          "state": {
            "_dom_classes": [],
            "_model_module": "@jupyter-widgets/controls",
            "_model_module_version": "1.5.0",
            "_model_name": "FloatProgressModel",
            "_view_count": null,
            "_view_module": "@jupyter-widgets/controls",
            "_view_module_version": "1.5.0",
            "_view_name": "ProgressView",
            "bar_style": "success",
            "description": "",
            "description_tooltip": null,
            "layout": "IPY_MODEL_c2f9936be7bf471cac1e7c32a7064ccc",
            "max": 1,
            "min": 0,
            "orientation": "horizontal",
            "style": "IPY_MODEL_5c6ee634a070477da6ceacd3ce022851",
            "value": 1
          }
        },
        "8ad6de4234634b70aaca3188fe60dd29": {
          "model_module": "@jupyter-widgets/base",
          "model_module_version": "1.2.0",
          "model_name": "LayoutModel",
          "state": {
            "_model_module": "@jupyter-widgets/base",
            "_model_module_version": "1.2.0",
            "_model_name": "LayoutModel",
            "_view_count": null,
            "_view_module": "@jupyter-widgets/base",
            "_view_module_version": "1.2.0",
            "_view_name": "LayoutView",
            "align_content": null,
            "align_items": null,
            "align_self": null,
            "border": null,
            "bottom": null,
            "display": null,
            "flex": null,
            "flex_flow": null,
            "grid_area": null,
            "grid_auto_columns": null,
            "grid_auto_flow": null,
            "grid_auto_rows": null,
            "grid_column": null,
            "grid_gap": null,
            "grid_row": null,
            "grid_template_areas": null,
            "grid_template_columns": null,
            "grid_template_rows": null,
            "height": null,
            "justify_content": null,
            "justify_items": null,
            "left": null,
            "margin": null,
            "max_height": null,
            "max_width": null,
            "min_height": null,
            "min_width": null,
            "object_fit": null,
            "object_position": null,
            "order": null,
            "overflow": null,
            "overflow_x": null,
            "overflow_y": null,
            "padding": null,
            "right": null,
            "top": null,
            "visibility": null,
            "width": null
          }
        },
        "9c677d6fa1a04a3598e7655a4d1fa7bf": {
          "model_module": "@jupyter-widgets/base",
          "model_module_version": "1.2.0",
          "model_name": "LayoutModel",
          "state": {
            "_model_module": "@jupyter-widgets/base",
            "_model_module_version": "1.2.0",
            "_model_name": "LayoutModel",
            "_view_count": null,
            "_view_module": "@jupyter-widgets/base",
            "_view_module_version": "1.2.0",
            "_view_name": "LayoutView",
            "align_content": null,
            "align_items": null,
            "align_self": null,
            "border": null,
            "bottom": null,
            "display": null,
            "flex": null,
            "flex_flow": null,
            "grid_area": null,
            "grid_auto_columns": null,
            "grid_auto_flow": null,
            "grid_auto_rows": null,
            "grid_column": null,
            "grid_gap": null,
            "grid_row": null,
            "grid_template_areas": null,
            "grid_template_columns": null,
            "grid_template_rows": null,
            "height": null,
            "justify_content": null,
            "justify_items": null,
            "left": null,
            "margin": null,
            "max_height": null,
            "max_width": null,
            "min_height": null,
            "min_width": null,
            "object_fit": null,
            "object_position": null,
            "order": null,
            "overflow": null,
            "overflow_x": null,
            "overflow_y": null,
            "padding": null,
            "right": null,
            "top": null,
            "visibility": null,
            "width": null
          }
        },
        "a37a803228a04101af3e72bb09796dd7": {
          "model_module": "@jupyter-widgets/base",
          "model_module_version": "1.2.0",
          "model_name": "LayoutModel",
          "state": {
            "_model_module": "@jupyter-widgets/base",
            "_model_module_version": "1.2.0",
            "_model_name": "LayoutModel",
            "_view_count": null,
            "_view_module": "@jupyter-widgets/base",
            "_view_module_version": "1.2.0",
            "_view_name": "LayoutView",
            "align_content": null,
            "align_items": null,
            "align_self": null,
            "border": null,
            "bottom": null,
            "display": null,
            "flex": null,
            "flex_flow": null,
            "grid_area": null,
            "grid_auto_columns": null,
            "grid_auto_flow": null,
            "grid_auto_rows": null,
            "grid_column": null,
            "grid_gap": null,
            "grid_row": null,
            "grid_template_areas": null,
            "grid_template_columns": null,
            "grid_template_rows": null,
            "height": null,
            "justify_content": null,
            "justify_items": null,
            "left": null,
            "margin": null,
            "max_height": null,
            "max_width": null,
            "min_height": null,
            "min_width": null,
            "object_fit": null,
            "object_position": null,
            "order": null,
            "overflow": null,
            "overflow_x": null,
            "overflow_y": null,
            "padding": null,
            "right": null,
            "top": null,
            "visibility": null,
            "width": null
          }
        },
        "a5df6772a7a04c689c60df4d5d3ebbcf": {
          "model_module": "@jupyter-widgets/controls",
          "model_module_version": "1.5.0",
          "model_name": "DescriptionStyleModel",
          "state": {
            "_model_module": "@jupyter-widgets/controls",
            "_model_module_version": "1.5.0",
            "_model_name": "DescriptionStyleModel",
            "_view_count": null,
            "_view_module": "@jupyter-widgets/base",
            "_view_module_version": "1.2.0",
            "_view_name": "StyleView",
            "description_width": ""
          }
        },
        "a676bbe2b5b44e81b3c73941dd13dab2": {
          "model_module": "@jupyter-widgets/controls",
          "model_module_version": "1.5.0",
          "model_name": "HTMLModel",
          "state": {
            "_dom_classes": [],
            "_model_module": "@jupyter-widgets/controls",
            "_model_module_version": "1.5.0",
            "_model_name": "HTMLModel",
            "_view_count": null,
            "_view_module": "@jupyter-widgets/controls",
            "_view_module_version": "1.5.0",
            "_view_name": "HTMLView",
            "description": "",
            "description_tooltip": null,
            "layout": "IPY_MODEL_aec4b35d4ab04f49ae1e20820c1183b9",
            "placeholder": "​",
            "style": "IPY_MODEL_a5df6772a7a04c689c60df4d5d3ebbcf",
            "value": " 1/1 [3:09:08&lt;00:00, 11348.09s/it]"
          }
        },
        "aec4b35d4ab04f49ae1e20820c1183b9": {
          "model_module": "@jupyter-widgets/base",
          "model_module_version": "1.2.0",
          "model_name": "LayoutModel",
          "state": {
            "_model_module": "@jupyter-widgets/base",
            "_model_module_version": "1.2.0",
            "_model_name": "LayoutModel",
            "_view_count": null,
            "_view_module": "@jupyter-widgets/base",
            "_view_module_version": "1.2.0",
            "_view_name": "LayoutView",
            "align_content": null,
            "align_items": null,
            "align_self": null,
            "border": null,
            "bottom": null,
            "display": null,
            "flex": null,
            "flex_flow": null,
            "grid_area": null,
            "grid_auto_columns": null,
            "grid_auto_flow": null,
            "grid_auto_rows": null,
            "grid_column": null,
            "grid_gap": null,
            "grid_row": null,
            "grid_template_areas": null,
            "grid_template_columns": null,
            "grid_template_rows": null,
            "height": null,
            "justify_content": null,
            "justify_items": null,
            "left": null,
            "margin": null,
            "max_height": null,
            "max_width": null,
            "min_height": null,
            "min_width": null,
            "object_fit": null,
            "object_position": null,
            "order": null,
            "overflow": null,
            "overflow_x": null,
            "overflow_y": null,
            "padding": null,
            "right": null,
            "top": null,
            "visibility": null,
            "width": null
          }
        },
        "bb69d18a38404bbd81c6c86d2725851b": {
          "model_module": "@jupyter-widgets/controls",
          "model_module_version": "1.5.0",
          "model_name": "HTMLModel",
          "state": {
            "_dom_classes": [],
            "_model_module": "@jupyter-widgets/controls",
            "_model_module_version": "1.5.0",
            "_model_name": "HTMLModel",
            "_view_count": null,
            "_view_module": "@jupyter-widgets/controls",
            "_view_module_version": "1.5.0",
            "_view_name": "HTMLView",
            "description": "",
            "description_tooltip": null,
            "layout": "IPY_MODEL_5d121594d7fe4d5297199d0cf642761f",
            "placeholder": "​",
            "style": "IPY_MODEL_cd557d1d2ef34281a71a63e040f754ed",
            "value": "Iteration: 100%"
          }
        },
        "c2f9936be7bf471cac1e7c32a7064ccc": {
          "model_module": "@jupyter-widgets/base",
          "model_module_version": "1.2.0",
          "model_name": "LayoutModel",
          "state": {
            "_model_module": "@jupyter-widgets/base",
            "_model_module_version": "1.2.0",
            "_model_name": "LayoutModel",
            "_view_count": null,
            "_view_module": "@jupyter-widgets/base",
            "_view_module_version": "1.2.0",
            "_view_name": "LayoutView",
            "align_content": null,
            "align_items": null,
            "align_self": null,
            "border": null,
            "bottom": null,
            "display": null,
            "flex": null,
            "flex_flow": null,
            "grid_area": null,
            "grid_auto_columns": null,
            "grid_auto_flow": null,
            "grid_auto_rows": null,
            "grid_column": null,
            "grid_gap": null,
            "grid_row": null,
            "grid_template_areas": null,
            "grid_template_columns": null,
            "grid_template_rows": null,
            "height": null,
            "justify_content": null,
            "justify_items": null,
            "left": null,
            "margin": null,
            "max_height": null,
            "max_width": null,
            "min_height": null,
            "min_width": null,
            "object_fit": null,
            "object_position": null,
            "order": null,
            "overflow": null,
            "overflow_x": null,
            "overflow_y": null,
            "padding": null,
            "right": null,
            "top": null,
            "visibility": null,
            "width": null
          }
        },
        "cd557d1d2ef34281a71a63e040f754ed": {
          "model_module": "@jupyter-widgets/controls",
          "model_module_version": "1.5.0",
          "model_name": "DescriptionStyleModel",
          "state": {
            "_model_module": "@jupyter-widgets/controls",
            "_model_module_version": "1.5.0",
            "_model_name": "DescriptionStyleModel",
            "_view_count": null,
            "_view_module": "@jupyter-widgets/base",
            "_view_module_version": "1.2.0",
            "_view_name": "StyleView",
            "description_width": ""
          }
        },
        "e74a73dea2b94d54a3032953b25e2151": {
          "model_module": "@jupyter-widgets/controls",
          "model_module_version": "1.5.0",
          "model_name": "HTMLModel",
          "state": {
            "_dom_classes": [],
            "_model_module": "@jupyter-widgets/controls",
            "_model_module_version": "1.5.0",
            "_model_name": "HTMLModel",
            "_view_count": null,
            "_view_module": "@jupyter-widgets/controls",
            "_view_module_version": "1.5.0",
            "_view_name": "HTMLView",
            "description": "",
            "description_tooltip": null,
            "layout": "IPY_MODEL_0002d06f40d24258a3f2b00a87256ae0",
            "placeholder": "​",
            "style": "IPY_MODEL_22c760320a8443cb90323315eec45fb7",
            "value": "Epoch: 100%"
          }
        },
        "fe4451161cb140f6b3791a295b03550c": {
          "model_module": "@jupyter-widgets/controls",
          "model_module_version": "1.5.0",
          "model_name": "FloatProgressModel",
          "state": {
            "_dom_classes": [],
            "_model_module": "@jupyter-widgets/controls",
            "_model_module_version": "1.5.0",
            "_model_name": "FloatProgressModel",
            "_view_count": null,
            "_view_module": "@jupyter-widgets/controls",
            "_view_module_version": "1.5.0",
            "_view_name": "ProgressView",
            "bar_style": "success",
            "description": "",
            "description_tooltip": null,
            "layout": "IPY_MODEL_a37a803228a04101af3e72bb09796dd7",
            "max": 40000,
            "min": 0,
            "orientation": "horizontal",
            "style": "IPY_MODEL_6bdbdaeb78b44aedaa9d6412b8463ab8",
            "value": 40000
          }
        }
      }
    }
  },
  "nbformat": 4,
  "nbformat_minor": 0
}
