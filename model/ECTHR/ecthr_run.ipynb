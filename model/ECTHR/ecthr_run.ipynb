{
  "cells": [
    {
      "cell_type": "markdown",
      "metadata": {
        "colab_type": "text",
        "id": "view-in-github"
      },
      "source": [
        "<a href=\"https://colab.research.google.com/github/danielsaggau/IR_LDC/blob/main/model/ECTHR/ECHTR_run.ipynb\" target=\"_parent\"><img src=\"https://colab.research.google.com/assets/colab-badge.svg\" alt=\"Open In Colab\"/></a>"
      ]
    },
    {
      "cell_type": "code",
      "execution_count": 6,
      "metadata": {
        "colab": {
          "base_uri": "https://localhost:8080/"
        },
        "id": "naqIWr56jSUf",
        "outputId": "b0c0f064-e424-49b1-f811-32234a65676f"
      },
      "outputs": [
        {
          "name": "stdout",
          "output_type": "stream",
          "text": [
            "Cloning into 'IR_LDC'...\n",
            "remote: Enumerating objects: 2526, done.\u001b[K\n",
            "remote: Counting objects: 100% (833/833), done.\u001b[K\n",
            "remote: Compressing objects: 100% (378/378), done.\u001b[K\n",
            "remote: Total 2526 (delta 581), reused 633 (delta 452), pack-reused 1693\u001b[K\n",
            "Receiving objects: 100% (2526/2526), 27.12 MiB | 16.00 MiB/s, done.\n",
            "Resolving deltas: 100% (1654/1654), done.\n"
          ]
        }
      ],
      "source": [
        "!git clone https://github.com/danielsaggau/IR_LDC.git"
      ]
    },
    {
      "cell_type": "code",
      "execution_count": 2,
      "metadata": {
        "colab": {
          "base_uri": "https://localhost:8080/"
        },
        "id": "-rw6QC9ojY5t",
        "outputId": "62db2db6-bbd4-4c8e-f813-60b31af84f5a"
      },
      "outputs": [
        {
          "name": "stdout",
          "output_type": "stream",
          "text": [
            "[Errno 2] No such file or directory: 'IR_LDC'\n",
            "/content\n"
          ]
        }
      ],
      "source": [
        "%cd IR_LDC"
      ]
    },
    {
      "cell_type": "code",
      "execution_count": 3,
      "metadata": {
        "colab": {
          "base_uri": "https://localhost:8080/"
        },
        "id": "ipRGPbTR45u1",
        "outputId": "1a6b842f-6c6a-4643-8e57-427edfd1dd54"
      },
      "outputs": [
        {
          "name": "stdout",
          "output_type": "stream",
          "text": [
            "\u001b[31mERROR: Could not open requirements file: [Errno 2] No such file or directory: 'requirements.txt'\u001b[0m\n"
          ]
        }
      ],
      "source": [
        "!pip install -r requirements.txt"
      ]
    },
    {
      "cell_type": "code",
      "execution_count": null,
      "metadata": {
        "colab": {
          "base_uri": "https://localhost:8080/"
        },
        "id": "XOCuFbIKgDss",
        "outputId": "9b659679-78f2-4b4c-b9c8-e09e6caf1f21"
      },
      "outputs": [],
      "source": [
        "!pip install wandb\n",
        "#!wandb login XXXX\n",
        "%env WANDB_PROJECT=IR_LDC"
      ]
    },
    {
      "cell_type": "code",
      "execution_count": 5,
      "metadata": {
        "colab": {
          "base_uri": "https://localhost:8080/"
        },
        "id": "MQYL6fodppBA",
        "outputId": "d0e3a26c-7cce-464e-d2cf-2c698d7c1962"
      },
      "outputs": [
        {
          "name": "stdout",
          "output_type": "stream",
          "text": [
            "python3: can't open file '/content/IR_LDC/model/ECTHR/bregman_ecthr.py': [Errno 2] No such file or directory\n"
          ]
        }
      ],
      "source": [
        "!python /content/IR_LDC/model/ECTHR/bregman_ecthr.py \\\n",
        "    --output_dir logs/output_1 \\\n",
        "    --model_name 'danielsaggau/bregman_ecthrb_k_10_ep1' \\\n",
        "    --load_best_model_at_end \\\n",
        "    --model_type 'mean' \\\n",
        "    --overwrite_output_dir \\\n",
        "    --evaluation_strategy epoch \\\n",
        "    --save_strategy epoch \\\n",
        "    --learning_rate 3e-5 \\\n",
        "    --per_device_train_batch_size 6 \\\n",
        "    --per_device_eval_batch_size 6 \\\n",
        "    --weight_decay 0.01 \\\n",
        "    --push_to_hub \\\n",
        "    --fp16 \\\n",
        "    --num_train_epochs 10 \\\n",
        "    --gradient_accumulation_steps 1 \\\n",
        "    --metric_for_best_model \"micro-f1\" \\\n",
        "    --greater_is_better 1 \\\n",
        "    --report_to 'wandb' \\\n",
        "    --model_type 'ecthr_breg_test'"
      ]
    }
  ],
  "metadata": {
    "accelerator": "GPU",
    "colab": {
      "authorship_tag": "ABX9TyPpsmyWT2KJy6fa1f6yH/DH",
      "include_colab_link": true,
      "machine_shape": "hm",
      "provenance": []
    },
    "gpuClass": "standard",
    "kernelspec": {
      "display_name": "Python 3",
      "name": "python3"
    },
    "language_info": {
      "name": "python"
    }
  },
  "nbformat": 4,
  "nbformat_minor": 0
}
