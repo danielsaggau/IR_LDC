{
  "nbformat": 4,
  "nbformat_minor": 0,
  "metadata": {
    "colab": {
      "provenance": [],
      "authorship_tag": "ABX9TyPn69OGFrVoBHbDB7iDLjSO",
      "include_colab_link": true
    },
    "kernelspec": {
      "name": "python3",
      "display_name": "Python 3"
    },
    "language_info": {
      "name": "python"
    }
  },
  "cells": [
    {
      "cell_type": "markdown",
      "metadata": {
        "id": "view-in-github",
        "colab_type": "text"
      },
      "source": [
        "<a href=\"https://colab.research.google.com/github/danielsaggau/IR_LDC/blob/main/kubrac_relevant_parts.ipynb\" target=\"_parent\"><img src=\"https://colab.research.google.com/assets/colab-badge.svg\" alt=\"Open In Colab\"/></a>"
      ]
    },
    {
      "cell_type": "code",
      "execution_count": 1,
      "metadata": {
        "colab": {
          "base_uri": "https://localhost:8080/"
        },
        "id": "fnJYIJ-x3ofD",
        "outputId": "eda32c13-b252-4a07-d959-40252db94414"
      },
      "outputs": [
        {
          "output_type": "stream",
          "name": "stderr",
          "text": [
            "WARNING:tensorflow:From /usr/local/lib/python3.7/dist-packages/tensorflow/python/compat/v2_compat.py:107: disable_resource_variables (from tensorflow.python.ops.variable_scope) is deprecated and will be removed in a future version.\n",
            "Instructions for updating:\n",
            "non-resource variables are not supported in the long term\n"
          ]
        }
      ],
      "source": [
        "from __future__ import absolute_import\n",
        "from __future__ import division\n",
        "from __future__ import print_function\n",
        "\n",
        "import time\n",
        "import os\n",
        "import math\n",
        "import csv\n",
        "\n",
        "import tensorflow as tf\n",
        "import tensorflow.compat.v1 as tf\n",
        "tf.disable_v2_behavior()\n",
        "import tensorflow_datasets as tfds\n",
        "import numpy as np\n",
        "\n",
        "from sklearn.neighbors import KNeighborsClassifier\n",
        "from sklearn.model_selection import train_test_split\n",
        "#from sklearn.metrics import confusion_matrix\n",
        "from sklearn.metrics import accuracy_score, average_precision_score, roc_auc_score\n",
        "\n",
        "from hyperopt import fmin, tpe, hp, STATUS_OK, Trials\n",
        "import tqdm\n",
        "from ipywidgets import IntProgress\n",
        "\n"
      ]
    },
    {
      "cell_type": "code",
      "source": [
        "class Arguments(object):\n",
        "    dataset = # possible data sets to try: 'mnist', 'svhn_cropped', 'cifar10', 'cifar100',\n",
        "    lossChoice = # 'all_triplet', 'hard_triplet', 'semihard_triplet', 'contrastive'\n",
        "    save_path = # enter a path to save\n",
        "    excel_path = ''\n",
        "    runBreg = # True      \n",
        "    trial_index = # enter an id for the experiment\n",
        "    \n",
        "    def add_args(self, args_dict):\n",
        "        [setattr(self, key, args_dict[key]) for key in args_dict]\n",
        "        \n",
        "    def get_args(self):\n",
        "        arg_list = {var: getattr(self, var) for var in dir(self)\n",
        "                    if not callable(getattr(self, var))\n",
        "                    and not var.startswith(\"__\")}\n",
        "        return arg_list\n",
        "    def print_args(self):\n",
        "        arg_dict = self.get_args()\n",
        "        print_str = ''\n",
        "        for arg in arg_dict:\n",
        "            print_str += arg + ' = ' + str(arg_dict[arg]) + '\\n'\n",
        "        return print_str\n",
        "    \n",
        "    @classmethod\n",
        "    def init_csv(self, name):\n",
        "        if not os.path.exists(self.save_path):\n",
        "            os.makedirs(self.save_path)\n",
        "        path = os.path.join(self.save_path, self.dataset + '_' + name + '.csv')\n",
        "        print(path)\n",
        "        headers = ['model_number', 'lossChoice',  \n",
        "                   'test_acc_breg', 'test_auc_breg',\n",
        "                  'test_avp_breg', 'test_acc_euc',\n",
        "                  'test_auc_euc', 'test_avp_euc'] + list(self.get_args(self).keys()) \n",
        "        with open(path, 'w') as csv_file:\n",
        "            csv_writer = csv.writer(csv_file, delimiter=',')\n",
        "            csv_writer.writerow(headers)\n",
        "        self.excel_path = path\n",
        "        return path\n",
        "\n",
        "    def init_excel(self, name):\n",
        "        if not os.path.isfile(self.save_path + name):\n",
        "            wb = Workbook()\n",
        "            sheet1 = wb.add_sheet('Sheet 1')\n",
        "            for i, h in enumerate(self.headers):\n",
        "                sheet1.write(i, 0, self.headers)\n",
        "            wb.save(self.save_path + name)\n",
        "            self.excel_path = self.save_path + name\n",
        "            return self.excel_path\n",
        "            \n",
        "    def addrow_to_excel(self, val_list):\n",
        "        #with open(excel_path) as f:\n",
        "        #    reader = csv.reader(f)\n",
        "        data = [self.trial_index, self.lossChoice] + val_list + list(self.get_args().values())  #, '%.3f'%(knn_train), \n",
        "        with open(self.excel_path, 'a') as f:\n",
        "            writer = csv.writer(f)\n",
        "            writer.writerow(data)\n",
        "\n",
        "arguments = Arguments()\n",
        "excel_path = Arguments.init_csv('results')\n",
        "print(excel_path)"
      ],
      "metadata": {
        "id": "ndIrL0Ll3u4N"
      },
      "execution_count": null,
      "outputs": []
    },
    {
      "cell_type": "code",
      "source": [
        "def _pairwise_divergences(embed):\n",
        "\n",
        "    max_out = tf.math.argmax(embed, 1, output_type=tf.dtypes.int32)\n",
        "    one_to_n = tf.range(tf.shape(embed)[0], dtype=tf.dtypes.int32)\n",
        "    max_indices = tf.transpose(tf.stack([one_to_n, max_out]))\n",
        "    max_values = tf.gather_nd(embed, max_indices)\n",
        "    max_values_repeated = tf.transpose(tf.reshape(tf.tile(max_values, [tf.shape(embed)[0]]), [tf.shape(embed)[0], tf.shape(embed)[0]]))\n",
        "    repeated_max_out = tf.tile(max_out, [tf.shape(embed)[0]])\n",
        "    repeated_one_to_n = tf.tile(one_to_n, [tf.shape(embed)[0]])\n",
        "    mat_rotn = tf.reshape(tf.transpose(tf.reshape(repeated_one_to_n, [tf.shape(embed)[0], tf.shape(embed)[0]])), [-1])\n",
        "    new_max_indices = tf.transpose(tf.stack([mat_rotn, repeated_max_out]))\n",
        "    new_max_values = tf.gather_nd(embed, new_max_indices)\n",
        "    reshaped_new_max_values = tf.reshape(new_max_values, [tf.shape(embed)[0], tf.shape(embed)[0]])\n",
        "    div_matrix = tf.maximum(tf.subtract(max_values_repeated, reshaped_new_max_values), 0.0)  \n",
        "    return div_matrix"
      ],
      "metadata": {
        "id": "MHoUK8Qw4aPd"
      },
      "execution_count": 4,
      "outputs": []
    },
    {
      "cell_type": "code",
      "source": [
        "_pairwise_divergences"
      ],
      "metadata": {
        "colab": {
          "base_uri": "https://localhost:8080/"
        },
        "id": "rvhEkd006Nms",
        "outputId": "89460108-e23c-4c39-84b1-d5c0cadb3607"
      },
      "execution_count": 5,
      "outputs": [
        {
          "output_type": "execute_result",
          "data": {
            "text/plain": [
              "<function __main__._pairwise_divergences(embed)>"
            ]
          },
          "metadata": {},
          "execution_count": 5
        }
      ]
    },
    {
      "cell_type": "code",
      "source": [],
      "metadata": {
        "id": "n5vqnb7mnlLR"
      },
      "execution_count": null,
      "outputs": []
    },
    {
      "cell_type": "code",
      "source": [
        "def _get_anchor_positive_triplet_mask(labels):\n",
        "\n",
        "    indices_equal = tf.cast(tf.eye(tf.shape(labels)[0]), tf.bool)\n",
        "    indices_not_equal = tf.logical_not(indices_equal)\n",
        "    labels_equal = tf.equal(tf.expand_dims(labels, 0), tf.expand_dims(labels, 1))\n",
        "    mask = tf.logical_and(indices_not_equal, labels_equal)\n",
        "    return mask"
      ],
      "metadata": {
        "id": "CxQ76HoA4d-L"
      },
      "execution_count": 6,
      "outputs": []
    },
    {
      "cell_type": "code",
      "source": [
        "def _get_anchor_negative_triplet_mask(labels):\n",
        "\n",
        "    labels_equal = tf.equal(tf.expand_dims(labels, 0), tf.expand_dims(labels, 1))\n",
        "    mask = tf.logical_not(labels_equal)\n",
        "    return mask\n",
        "\n",
        "def _get_triplet_mask(labels):\n",
        "\n",
        "    indices_equal = tf.cast(tf.eye(tf.shape(labels)[0]), tf.bool)\n",
        "    indices_not_equal = tf.logical_not(indices_equal)\n",
        "    i_not_equal_j = tf.expand_dims(indices_not_equal, 2)\n",
        "    i_not_equal_k = tf.expand_dims(indices_not_equal, 1)\n",
        "    j_not_equal_k = tf.expand_dims(indices_not_equal, 0)\n",
        "    distinct_indices = tf.logical_and(tf.logical_and(i_not_equal_j, i_not_equal_k), j_not_equal_k)\n",
        "    label_equal = tf.equal(tf.expand_dims(labels, 0), tf.expand_dims(labels, 1))\n",
        "    i_equal_j = tf.expand_dims(label_equal, 2)\n",
        "    i_equal_k = tf.expand_dims(label_equal, 1)\n",
        "    valid_labels = tf.logical_and(i_equal_j, tf.logical_not(i_equal_k))\n",
        "    mask = tf.logical_and(distinct_indices, valid_labels)\n",
        "    return mask"
      ],
      "metadata": {
        "id": "oHiXPlp04k7Z"
      },
      "execution_count": 7,
      "outputs": []
    },
    {
      "cell_type": "code",
      "source": [
        "def batch_all_triplet_loss(labels, embeddings, margin, squared=False, breg=False):\n",
        "\n",
        "    pairwise_dist = _pairwise_divergences(embeddings)\n",
        "    anchor_positive_dist = tf.expand_dims(pairwise_dist, 2)\n",
        "    assert anchor_positive_dist.shape[2] == 1, \"{}\".format(anchor_positive_dist.shape)\n",
        "    anchor_negative_dist = tf.expand_dims(pairwise_dist, 1)\n",
        "    assert anchor_negative_dist.shape[1] == 1, \"{}\".format(anchor_negative_dist.shape)\n",
        "    \n",
        "    triplet_loss = anchor_positive_dist - anchor_negative_dist + margin\n",
        "    mask = _get_triplet_mask(labels)\n",
        "    mask = tf.to_float(mask)\n",
        "    triplet_loss = tf.multiply(mask, triplet_loss)\n",
        "\n",
        "    triplet_loss = tf.maximum(triplet_loss, 0.0)\n",
        "    valid_triplets = tf.to_float(tf.greater(triplet_loss, 1e-16))\n",
        "    num_positive_triplets = tf.reduce_sum(valid_triplets)\n",
        "    num_valid_triplets = tf.reduce_sum(mask)\n",
        "    fraction_positive_triplets = num_positive_triplets / (num_valid_triplets + 1e-16)\n",
        "    triplet_loss = tf.reduce_sum(triplet_loss) / (num_positive_triplets + 1e-16)\n",
        "\n",
        "    return triplet_loss, fraction_positive_triplets"
      ],
      "metadata": {
        "id": "ygRSRSZj4ozQ"
      },
      "execution_count": 17,
      "outputs": []
    },
    {
      "cell_type": "markdown",
      "source": [
        "# only batch all triplet loss"
      ],
      "metadata": {
        "id": "O5GJ8Fv66Frk"
      }
    },
    {
      "cell_type": "code",
      "source": [
        "def get_loss(runBreg, margin, pretrain, y, k, out):\n",
        "        loss1 = tf.reduce_mean(tf.nn.softmax_cross_entropy_with_logits(labels=tf.one_hot(y, k, dtype=tf.float32), logits=out))\n",
        "        loss2, fpt = batch_all_triplet_loss(y, out, margin, squared=True, breg=runBreg)\n",
        "        loss = pretrain*loss1 + (1-pretrain)*loss2\n",
        "        return loss1, loss2, loss"
      ],
      "metadata": {
        "id": "2acVlBCe436z"
      },
      "execution_count": 18,
      "outputs": []
    },
    {
      "cell_type": "code",
      "source": [],
      "metadata": {
        "id": "91ZKDp0f5TR1"
      },
      "execution_count": null,
      "outputs": []
    }
  ]
}