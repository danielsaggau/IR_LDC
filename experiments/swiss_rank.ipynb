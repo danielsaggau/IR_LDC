{
  "nbformat": 4,
  "nbformat_minor": 0,
  "metadata": {
    "colab": {
      "name": "swiss_rank.ipynb",
      "provenance": [],
      "authorship_tag": "ABX9TyOW6i1H6d6XUwtkbsS28hcW",
      "include_colab_link": true
    },
    "kernelspec": {
      "name": "python3",
      "display_name": "Python 3"
    },
    "language_info": {
      "name": "python"
    },
    "accelerator": "GPU",
    "widgets": {
      "application/vnd.jupyter.widget-state+json": {
        "20e13160f18d4576bafef1d7f61dae8e": {
          "model_module": "@jupyter-widgets/controls",
          "model_name": "HBoxModel",
          "model_module_version": "1.5.0",
          "state": {
            "_dom_classes": [],
            "_model_module": "@jupyter-widgets/controls",
            "_model_module_version": "1.5.0",
            "_model_name": "HBoxModel",
            "_view_count": null,
            "_view_module": "@jupyter-widgets/controls",
            "_view_module_version": "1.5.0",
            "_view_name": "HBoxView",
            "box_style": "",
            "children": [
              "IPY_MODEL_6a35e3b748b04f979d51874deffb624c",
              "IPY_MODEL_e6f268bc3a394fd594b23b4b15af095e",
              "IPY_MODEL_22e3ce3b160d45cba922ae2e9130af48"
            ],
            "layout": "IPY_MODEL_c191dad0f81047c4bc6606a0b4469073"
          }
        },
        "6a35e3b748b04f979d51874deffb624c": {
          "model_module": "@jupyter-widgets/controls",
          "model_name": "HTMLModel",
          "model_module_version": "1.5.0",
          "state": {
            "_dom_classes": [],
            "_model_module": "@jupyter-widgets/controls",
            "_model_module_version": "1.5.0",
            "_model_name": "HTMLModel",
            "_view_count": null,
            "_view_module": "@jupyter-widgets/controls",
            "_view_module_version": "1.5.0",
            "_view_name": "HTMLView",
            "description": "",
            "description_tooltip": null,
            "layout": "IPY_MODEL_03484cd63c7e411d89710627cfde8083",
            "placeholder": "​",
            "style": "IPY_MODEL_604983354d7a4dccbefde15a39928afc",
            "value": "100%"
          }
        },
        "e6f268bc3a394fd594b23b4b15af095e": {
          "model_module": "@jupyter-widgets/controls",
          "model_name": "FloatProgressModel",
          "model_module_version": "1.5.0",
          "state": {
            "_dom_classes": [],
            "_model_module": "@jupyter-widgets/controls",
            "_model_module_version": "1.5.0",
            "_model_name": "FloatProgressModel",
            "_view_count": null,
            "_view_module": "@jupyter-widgets/controls",
            "_view_module_version": "1.5.0",
            "_view_name": "ProgressView",
            "bar_style": "success",
            "description": "",
            "description_tooltip": null,
            "layout": "IPY_MODEL_528583ad115c4b559d7f66b799857d9b",
            "max": 35458,
            "min": 0,
            "orientation": "horizontal",
            "style": "IPY_MODEL_80d0d0b1f04c420b8caf0ff07821e3ed",
            "value": 35458
          }
        },
        "22e3ce3b160d45cba922ae2e9130af48": {
          "model_module": "@jupyter-widgets/controls",
          "model_name": "HTMLModel",
          "model_module_version": "1.5.0",
          "state": {
            "_dom_classes": [],
            "_model_module": "@jupyter-widgets/controls",
            "_model_module_version": "1.5.0",
            "_model_name": "HTMLModel",
            "_view_count": null,
            "_view_module": "@jupyter-widgets/controls",
            "_view_module_version": "1.5.0",
            "_view_name": "HTMLView",
            "description": "",
            "description_tooltip": null,
            "layout": "IPY_MODEL_e1d28ffd52094f4fbc93d6e97914ffca",
            "placeholder": "​",
            "style": "IPY_MODEL_48dad87ab6b74b61be6a8e0131db2eee",
            "value": " 35458/35458 [00:08&lt;00:00, 4824.98it/s]"
          }
        },
        "c191dad0f81047c4bc6606a0b4469073": {
          "model_module": "@jupyter-widgets/base",
          "model_name": "LayoutModel",
          "model_module_version": "1.2.0",
          "state": {
            "_model_module": "@jupyter-widgets/base",
            "_model_module_version": "1.2.0",
            "_model_name": "LayoutModel",
            "_view_count": null,
            "_view_module": "@jupyter-widgets/base",
            "_view_module_version": "1.2.0",
            "_view_name": "LayoutView",
            "align_content": null,
            "align_items": null,
            "align_self": null,
            "border": null,
            "bottom": null,
            "display": null,
            "flex": null,
            "flex_flow": null,
            "grid_area": null,
            "grid_auto_columns": null,
            "grid_auto_flow": null,
            "grid_auto_rows": null,
            "grid_column": null,
            "grid_gap": null,
            "grid_row": null,
            "grid_template_areas": null,
            "grid_template_columns": null,
            "grid_template_rows": null,
            "height": null,
            "justify_content": null,
            "justify_items": null,
            "left": null,
            "margin": null,
            "max_height": null,
            "max_width": null,
            "min_height": null,
            "min_width": null,
            "object_fit": null,
            "object_position": null,
            "order": null,
            "overflow": null,
            "overflow_x": null,
            "overflow_y": null,
            "padding": null,
            "right": null,
            "top": null,
            "visibility": null,
            "width": null
          }
        },
        "03484cd63c7e411d89710627cfde8083": {
          "model_module": "@jupyter-widgets/base",
          "model_name": "LayoutModel",
          "model_module_version": "1.2.0",
          "state": {
            "_model_module": "@jupyter-widgets/base",
            "_model_module_version": "1.2.0",
            "_model_name": "LayoutModel",
            "_view_count": null,
            "_view_module": "@jupyter-widgets/base",
            "_view_module_version": "1.2.0",
            "_view_name": "LayoutView",
            "align_content": null,
            "align_items": null,
            "align_self": null,
            "border": null,
            "bottom": null,
            "display": null,
            "flex": null,
            "flex_flow": null,
            "grid_area": null,
            "grid_auto_columns": null,
            "grid_auto_flow": null,
            "grid_auto_rows": null,
            "grid_column": null,
            "grid_gap": null,
            "grid_row": null,
            "grid_template_areas": null,
            "grid_template_columns": null,
            "grid_template_rows": null,
            "height": null,
            "justify_content": null,
            "justify_items": null,
            "left": null,
            "margin": null,
            "max_height": null,
            "max_width": null,
            "min_height": null,
            "min_width": null,
            "object_fit": null,
            "object_position": null,
            "order": null,
            "overflow": null,
            "overflow_x": null,
            "overflow_y": null,
            "padding": null,
            "right": null,
            "top": null,
            "visibility": null,
            "width": null
          }
        },
        "604983354d7a4dccbefde15a39928afc": {
          "model_module": "@jupyter-widgets/controls",
          "model_name": "DescriptionStyleModel",
          "model_module_version": "1.5.0",
          "state": {
            "_model_module": "@jupyter-widgets/controls",
            "_model_module_version": "1.5.0",
            "_model_name": "DescriptionStyleModel",
            "_view_count": null,
            "_view_module": "@jupyter-widgets/base",
            "_view_module_version": "1.2.0",
            "_view_name": "StyleView",
            "description_width": ""
          }
        },
        "528583ad115c4b559d7f66b799857d9b": {
          "model_module": "@jupyter-widgets/base",
          "model_name": "LayoutModel",
          "model_module_version": "1.2.0",
          "state": {
            "_model_module": "@jupyter-widgets/base",
            "_model_module_version": "1.2.0",
            "_model_name": "LayoutModel",
            "_view_count": null,
            "_view_module": "@jupyter-widgets/base",
            "_view_module_version": "1.2.0",
            "_view_name": "LayoutView",
            "align_content": null,
            "align_items": null,
            "align_self": null,
            "border": null,
            "bottom": null,
            "display": null,
            "flex": null,
            "flex_flow": null,
            "grid_area": null,
            "grid_auto_columns": null,
            "grid_auto_flow": null,
            "grid_auto_rows": null,
            "grid_column": null,
            "grid_gap": null,
            "grid_row": null,
            "grid_template_areas": null,
            "grid_template_columns": null,
            "grid_template_rows": null,
            "height": null,
            "justify_content": null,
            "justify_items": null,
            "left": null,
            "margin": null,
            "max_height": null,
            "max_width": null,
            "min_height": null,
            "min_width": null,
            "object_fit": null,
            "object_position": null,
            "order": null,
            "overflow": null,
            "overflow_x": null,
            "overflow_y": null,
            "padding": null,
            "right": null,
            "top": null,
            "visibility": null,
            "width": null
          }
        },
        "80d0d0b1f04c420b8caf0ff07821e3ed": {
          "model_module": "@jupyter-widgets/controls",
          "model_name": "ProgressStyleModel",
          "model_module_version": "1.5.0",
          "state": {
            "_model_module": "@jupyter-widgets/controls",
            "_model_module_version": "1.5.0",
            "_model_name": "ProgressStyleModel",
            "_view_count": null,
            "_view_module": "@jupyter-widgets/base",
            "_view_module_version": "1.2.0",
            "_view_name": "StyleView",
            "bar_color": null,
            "description_width": ""
          }
        },
        "e1d28ffd52094f4fbc93d6e97914ffca": {
          "model_module": "@jupyter-widgets/base",
          "model_name": "LayoutModel",
          "model_module_version": "1.2.0",
          "state": {
            "_model_module": "@jupyter-widgets/base",
            "_model_module_version": "1.2.0",
            "_model_name": "LayoutModel",
            "_view_count": null,
            "_view_module": "@jupyter-widgets/base",
            "_view_module_version": "1.2.0",
            "_view_name": "LayoutView",
            "align_content": null,
            "align_items": null,
            "align_self": null,
            "border": null,
            "bottom": null,
            "display": null,
            "flex": null,
            "flex_flow": null,
            "grid_area": null,
            "grid_auto_columns": null,
            "grid_auto_flow": null,
            "grid_auto_rows": null,
            "grid_column": null,
            "grid_gap": null,
            "grid_row": null,
            "grid_template_areas": null,
            "grid_template_columns": null,
            "grid_template_rows": null,
            "height": null,
            "justify_content": null,
            "justify_items": null,
            "left": null,
            "margin": null,
            "max_height": null,
            "max_width": null,
            "min_height": null,
            "min_width": null,
            "object_fit": null,
            "object_position": null,
            "order": null,
            "overflow": null,
            "overflow_x": null,
            "overflow_y": null,
            "padding": null,
            "right": null,
            "top": null,
            "visibility": null,
            "width": null
          }
        },
        "48dad87ab6b74b61be6a8e0131db2eee": {
          "model_module": "@jupyter-widgets/controls",
          "model_name": "DescriptionStyleModel",
          "model_module_version": "1.5.0",
          "state": {
            "_model_module": "@jupyter-widgets/controls",
            "_model_module_version": "1.5.0",
            "_model_name": "DescriptionStyleModel",
            "_view_count": null,
            "_view_module": "@jupyter-widgets/base",
            "_view_module_version": "1.2.0",
            "_view_name": "StyleView",
            "description_width": ""
          }
        }
      }
    }
  },
  "cells": [
    {
      "cell_type": "markdown",
      "metadata": {
        "id": "view-in-github",
        "colab_type": "text"
      },
      "source": [
        "<a href=\"https://colab.research.google.com/github/danielsaggau/IR_LDC/blob/main/swiss_rank.ipynb\" target=\"_parent\"><img src=\"https://colab.research.google.com/assets/colab-badge.svg\" alt=\"Open In Colab\"/></a>"
      ]
    },
    {
      "cell_type": "code",
      "source": [
        "!pip install -U sentence-transformers rank_bm25"
      ],
      "metadata": {
        "id": "KI69HCf0w-ql"
      },
      "execution_count": null,
      "outputs": []
    },
    {
      "cell_type": "code",
      "source": [
        "import json\n",
        "from sentence_transformers import SentenceTransformer, CrossEncoder, util\n",
        "import gzip\n",
        "import os\n",
        "import torch"
      ],
      "metadata": {
        "id": "BDvxyJ15xJiD"
      },
      "execution_count": 3,
      "outputs": []
    },
    {
      "cell_type": "code",
      "source": [
        "if not torch.cuda.is_available():\n",
        "    print(\"Warning: No GPU found. Please add GPU to your notebook\")"
      ],
      "metadata": {
        "id": "y-J91F6kxPfr"
      },
      "execution_count": 4,
      "outputs": []
    },
    {
      "cell_type": "code",
      "execution_count": null,
      "metadata": {
        "id": "dJQkuXmSr9Fv"
      },
      "outputs": [],
      "source": [
        "!pip install datasets\n",
        "from datasets import load_dataset\n",
        "dataset = load_dataset('swiss_judgment_prediction', 'de')"
      ]
    },
    {
      "cell_type": "code",
      "source": [
        "passages = dataset['train']['text']"
      ],
      "metadata": {
        "id": "fcUEkZXKs0dn"
      },
      "execution_count": 6,
      "outputs": []
    },
    {
      "cell_type": "code",
      "source": [
        "passages"
      ],
      "metadata": {
        "id": "JeefApeytRa_"
      },
      "execution_count": null,
      "outputs": []
    },
    {
      "cell_type": "code",
      "source": [
        "print(\"passages:\", len(passages))"
      ],
      "metadata": {
        "colab": {
          "base_uri": "https://localhost:8080/"
        },
        "id": "427zRoMPvbXz",
        "outputId": "0a2c69ed-c7a1-49de-cf0e-ca6823c37b02"
      },
      "execution_count": 8,
      "outputs": [
        {
          "output_type": "stream",
          "name": "stdout",
          "text": [
            "passages: 35458\n"
          ]
        }
      ]
    },
    {
      "cell_type": "code",
      "source": [
        "bi_encoder = SentenceTransformer('multi-qa-MiniLM-L6-cos-v1') # load bi-encoder\n",
        "bi_encoder.max_seq_length = 256     #Truncate long passages to 256 tokens\n",
        "top_k = 32                          #Number of passages we want to retrieve with the bi-encoder"
      ],
      "metadata": {
        "id": "VCdG4_7Xw2uJ"
      },
      "execution_count": null,
      "outputs": []
    },
    {
      "cell_type": "code",
      "source": [
        "cross_encoder = CrossEncoder('cross-encoder/ms-marco-MiniLM-L-6-v2')"
      ],
      "metadata": {
        "id": "y7aiGl-gzO2d"
      },
      "execution_count": null,
      "outputs": []
    },
    {
      "cell_type": "code",
      "source": [
        "# We encode all passages into our vector space. ~5 minutes\n",
        "corpus_embeddings = bi_encoder.encode(passages, convert_to_tensor=True, show_progress_bar=True)"
      ],
      "metadata": {
        "id": "QA-cl2Zg0GGa"
      },
      "execution_count": null,
      "outputs": []
    },
    {
      "cell_type": "code",
      "source": [
        "# We also compare the results to lexical search (keyword search). Here, we use \n",
        "# the BM25 algorithm which is implemented in the rank_bm25 package.\n",
        "from rank_bm25 import BM25Okapi\n",
        "from sklearn.feature_extraction import _stop_words\n",
        "import string\n",
        "from tqdm.autonotebook import tqdm\n",
        "import numpy as np"
      ],
      "metadata": {
        "id": "prJmjqAs0mMN"
      },
      "execution_count": 12,
      "outputs": []
    },
    {
      "cell_type": "code",
      "source": [
        "# We lower case our text and remove stop-words from indexing\n",
        "def bm25_tokenizer(text):\n",
        "    tokenized_doc = []\n",
        "    for token in text.lower().split():\n",
        "        token = token.strip(string.punctuation)\n",
        "\n",
        "        if len(token) > 0 and token not in _stop_words.ENGLISH_STOP_WORDS:\n",
        "            tokenized_doc.append(token)\n",
        "    return tokenized_doc\n",
        "\n",
        "tokenized_corpus = []\n",
        "for passage in tqdm(passages):\n",
        "    tokenized_corpus.append(bm25_tokenizer(passage))\n",
        "\n",
        "bm25 = BM25Okapi(tokenized_corpus)\n"
      ],
      "metadata": {
        "colab": {
          "base_uri": "https://localhost:8080/",
          "height": 49,
          "referenced_widgets": [
            "20e13160f18d4576bafef1d7f61dae8e",
            "6a35e3b748b04f979d51874deffb624c",
            "e6f268bc3a394fd594b23b4b15af095e",
            "22e3ce3b160d45cba922ae2e9130af48",
            "c191dad0f81047c4bc6606a0b4469073",
            "03484cd63c7e411d89710627cfde8083",
            "604983354d7a4dccbefde15a39928afc",
            "528583ad115c4b559d7f66b799857d9b",
            "80d0d0b1f04c420b8caf0ff07821e3ed",
            "e1d28ffd52094f4fbc93d6e97914ffca",
            "48dad87ab6b74b61be6a8e0131db2eee"
          ]
        },
        "id": "LxC4dI_10oCV",
        "outputId": "35b056a5-8287-4cfb-a55c-ed03609802ac"
      },
      "execution_count": 13,
      "outputs": [
        {
          "output_type": "display_data",
          "data": {
            "text/plain": [
              "  0%|          | 0/35458 [00:00<?, ?it/s]"
            ],
            "application/vnd.jupyter.widget-view+json": {
              "version_major": 2,
              "version_minor": 0,
              "model_id": "20e13160f18d4576bafef1d7f61dae8e"
            }
          },
          "metadata": {}
        }
      ]
    },
    {
      "cell_type": "code",
      "source": [
        "# This function will search all wikipedia articles for passages that\n",
        "# answer the query\n",
        "def search(query):\n",
        "    print(\"Input question:\", query)\n",
        "\n",
        "    ##### BM25 search (lexical search) #####\n",
        "    bm25_scores = bm25.get_scores(bm25_tokenizer(query))\n",
        "    top_n = np.argpartition(bm25_scores, -5)[-5:]\n",
        "    bm25_hits = [{'corpus_id': idx, 'score': bm25_scores[idx]} for idx in top_n]\n",
        "    bm25_hits = sorted(bm25_hits, key=lambda x: x['score'], reverse=True)\n",
        "    \n",
        "    print(\"Top-5 lexical search (BM25) hits\")\n",
        "    for hit in bm25_hits[0:5]:\n",
        "        print(\"\\t{:.3f}\\t{}\".format(hit['score'], passages[hit['corpus_id']].replace(\"\\n\", \" \")))\n",
        "\n",
        "    ##### Sematic Search #####\n",
        "    # Encode the query using the bi-encoder and find potentially relevant passages\n",
        "    question_embedding = bi_encoder.encode(query, convert_to_tensor=True)\n",
        "    question_embedding = question_embedding.cuda()\n",
        "    hits = util.semantic_search(question_embedding, corpus_embeddings, top_k=top_k)\n",
        "    hits = hits[0]  # Get the hits for the first query\n",
        "\n",
        "    ##### Re-Ranking #####\n",
        "    # Now, score all retrieved passages with the cross_encoder\n",
        "    cross_inp = [[query, passages[hit['corpus_id']]] for hit in hits]\n",
        "    cross_scores = cross_encoder.predict(cross_inp)\n",
        "\n",
        "    # Sort results by the cross-encoder scores\n",
        "    for idx in range(len(cross_scores)):\n",
        "        hits[idx]['cross-score'] = cross_scores[idx]\n",
        "\n",
        "    # Output of top-5 hits from bi-encoder\n",
        "    print(\"\\n-------------------------\\n\")\n",
        "    print(\"Top-5 Bi-Encoder Retrieval hits\")\n",
        "    hits = sorted(hits, key=lambda x: x['score'], reverse=True)\n",
        "    for hit in hits[0:5]:\n",
        "        print(\"\\t{:.3f}\\t{}\".format(hit['score'], passages[hit['corpus_id']].replace(\"\\n\", \" \")))\n",
        "\n",
        "    # Output of top-5 hits from re-ranker\n",
        "    print(\"\\n-------------------------\\n\")\n",
        "    print(\"Top-5 Cross-Encoder Re-ranker hits\")\n",
        "    hits = sorted(hits, key=lambda x: x['cross-score'], reverse=True)\n",
        "    for hit in hits[0:5]:\n",
        "        print(\"\\t{:.3f}\\t{}\".format(hit['cross-score'], passages[hit['corpus_id']].replace(\"\\n\", \" \")))"
      ],
      "metadata": {
        "id": "d-a5fJKr0vmy"
      },
      "execution_count": 19,
      "outputs": []
    },
    {
      "cell_type": "code",
      "source": [
        "search(query = \" Krankentaggelder, wobei die Leistungen bis am 30. September 2012 auf Grundlage einer Arbeitsunf\\u00e4higkeit von 100% und danach basierend auf einer Arbeitsunf\\u00e4higkeit von 55% erbracht wurden.\")"
      ],
      "metadata": {
        "colab": {
          "base_uri": "https://localhost:8080/"
        },
        "id": "MDzBtp2M00Mz",
        "outputId": "c15aefe7-6117-48b4-eaa8-814bf7bda181"
      },
      "execution_count": 20,
      "outputs": [
        {
          "output_type": "stream",
          "name": "stdout",
          "text": [
            "Input question:  Krankentaggelder, wobei die Leistungen bis am 30. September 2012 auf Grundlage einer Arbeitsunfähigkeit von 100% und danach basierend auf einer Arbeitsunfähigkeit von 55% erbracht wurden.\n",
            "Top-5 lexical search (BM25) hits\n",
            "\t66.288\tSachverhalt: Sachverhalt: A. Die 1955 geborene C._ verletzte sich am 3. Juni 1997 bei der Arbeit als Hausangestellte in der Klinik X._ in Y._ am rechten Arm. Die Abklärungen auf der Handchirurgischen Abteilung des Spitals Z._ führten zur Diagnose einer traumatisierten Daumen-Sattelgelenksarthrose rechts (Bericht vom 25. Februar 1998). Die Zürich Versicherungs-Gesellschaft (nachfolgend: Zürich), bei welcher C._ obligatorisch unfallversichert war, kam für die Heilungskosten auf und richtete bis 30. Mai 2002 Taggelder auf der Grundlage einer Arbeitsunfähigkeit von 100 % aus. Wegen Verlusts der Akten zog die Zürich zur Beurteilung ihrer Leistungspflicht die IV-Akten bei (interner Bericht vom 16. März 2004). Mit Verfügung vom 26. März 2004 stellte sie fest, mangels eines natürlichen und adäquaten Kausalzusammenhangs zwischen dem Unfall vom 3. Juni 1997 und der anhaltenden Gesundheitsstörung mit der Folge einer Arbeits- und Erwerbsunfähigkeit könnten ab 1. Juli 1998 keine weiteren Leistungen mehr erbracht werden. Die über diesen Zeitpunkt hinaus ausgerichteten Taggelder seien nicht geschuldet gewesen. Daran hielt die Zürich mit Einspracheentscheid vom 27. Juli 2004 fest, wobei sie festhielt, die bisher (vom 1. Juli 1998 bis 30. Mai 2002) gewährten Leistungen würden nicht zurückgefordert. A. Die 1955 geborene C._ verletzte sich am 3. Juni 1997 bei der Arbeit als Hausangestellte in der Klinik X._ in Y._ am rechten Arm. Die Abklärungen auf der Handchirurgischen Abteilung des Spitals Z._ führten zur Diagnose einer traumatisierten Daumen-Sattelgelenksarthrose rechts (Bericht vom 25. Februar 1998). Die Zürich Versicherungs-Gesellschaft (nachfolgend: Zürich), bei welcher C._ obligatorisch unfallversichert war, kam für die Heilungskosten auf und richtete bis 30. Mai 2002 Taggelder auf der Grundlage einer Arbeitsunfähigkeit von 100 % aus. Wegen Verlusts der Akten zog die Zürich zur Beurteilung ihrer Leistungspflicht die IV-Akten bei (interner Bericht vom 16. März 2004). Mit Verfügung vom 26. März 2004 stellte sie fest, mangels eines natürlichen und adäquaten Kausalzusammenhangs zwischen dem Unfall vom 3. Juni 1997 und der anhaltenden Gesundheitsstörung mit der Folge einer Arbeits- und Erwerbsunfähigkeit könnten ab 1. Juli 1998 keine weiteren Leistungen mehr erbracht werden. Die über diesen Zeitpunkt hinaus ausgerichteten Taggelder seien nicht geschuldet gewesen. Daran hielt die Zürich mit Einspracheentscheid vom 27. Juli 2004 fest, wobei sie festhielt, die bisher (vom 1. Juli 1998 bis 30. Mai 2002) gewährten Leistungen würden nicht zurückgefordert. B. Die Beschwerde der C._ wies die Sozialversicherungsrechtliche Abteilung des Verwaltungsgerichts des Kantons Bern mit Entscheid vom 1. Dezember 2005 ab. B. Die Beschwerde der C._ wies die Sozialversicherungsrechtliche Abteilung des Verwaltungsgerichts des Kantons Bern mit Entscheid vom 1. Dezember 2005 ab. C. C._ lässt Verwaltungsgerichtsbeschwerde führen mit dem Rechtsbegehren, die Taggeldleistungen seien ab dem 1. Juni 2002 weiterhin auszurichten. Die Zürich lässt die Abweisung der Verwaltungsgerichtsbeschwerde beantragen. Das Bundesamt für Gesundheit verzichtet auf eine Vernehmlassung. \n",
            "\t64.736\tSachverhalt: A. A._ (Versicherte) arbeitete ab Februar 2001 bei der Y._ AG (Arbeitgeberin) und war bei der Versicherung X._ AG (Versicherung) für ihre Tätigkeit im Rahmen einer Kollektiv-Krankentaggeldversicherung nach dem Bundesgesetz über den Versicherungsvertrag (VVG) für ein Taggeld von 80 % bei einer Wartefrist von 5 Tagen versichert. Die Versicherte, die wegen Schwangerschaft und Geburt bis zum 28. März 2005 von der Arbeitspflicht befreit gewesen war, liess für die anschliessende Zeit mit Krankheitsanzeige vom 4. April 2005 eine Arbeitsunfähigkeit von 100 % anmelden. Gemäss dem behandelnden Arzt, Dr. B._, litt die Versicherte an einem lumbovertebralen Syndrom. Die Arbeitgeberin kündigte das Arbeitsverhältnis am 18. April 2005. In der Folge stellte Dr. B._ der Versicherten Arbeitsunfähigkeitszeugnisse bis zum 30. Juni 2005 aus. Danach überwies er sie an den Rheumatologen Dr. med. C._, der sie vom 1. bis 19. Juli 2005 zu 100 % arbeitsunfähig schrieb und annahm, dass ab August 2005 zumindest versuchsweise eine 50%-ige Arbeitsaufnahme möglich sein solle. Nachdem die Versicherte ihre Behandlung bei Dr. C._ abgebrochen hatte, teilte Dr. B._ der Versicherung in seinem Schreiben vom 18. August 2005 mit, er habe die Unterlagen auf Wunsch der Versicherten an das Spital Z._ geschickt und ihr erklärt, er werde ab 2. August 2005 keine weitere Arbeitsunfähigkeit attestieren, bis eine schriftliche Beurteilung des Spitals vorliege. In seiner Aktenbeurteilung vom 24. August 2005 erachtete der beratende Arzt der Versicherung, Dr. D._, die Versicherte ab August 2005 zu 30 %, ab September 2005 zu 50 % und ab Oktober 2005 zu 100 % arbeitsfähig. Die Klinik für Rheumatologie des Spitals Z._ kam in ihrem Bericht vom 26. September 2006 zum Ergebnis, die Versicherte leide an einem chronischen Nacken-/Schulter- und Armsyndrom sowie einem chronischen lumbovertebralen Syndrom, wobei sich ausser Myalgien keine wesentlichen Pathologien feststellen liessen. Es bestehe jedoch eine Fixierung auf die Beschwerden mit Verdacht auf Schmerzverarbeitungsstörung. Allenfalls liege eine latente depressive Entwicklung vor. Aus funktional rheumatologischer Sicht sei die Versicherte voll arbeitsfähig. Die Versicherung stellte ihre Taggeldleistungen per 30. September 2005 ein. Gestützt auf eine Beurteilung vom 17. März 2006 kam Dr. E._ zum Ergebnis, die Versicherte sei aufgrund einer chronischen Schmerzproblematik und einer leichten reaktiven psychischen Begleiterkrankung zu etwa 20 % in ihrer Arbeitsfähigkeit eingeschränkt. Auf Ersuchen der Versicherten erklärte die Versicherung den Verzicht auf die Erhebung der Verjährungseinrede. Dr. med. F._ führte in seinem Schreiben vom 8. Mai 2008 in Beantwortung eines Fragekatalogs des Rechtsvertreters der Versicherten aus, diese leide an einer somatoformen Schmerzstörung (ICD-10 F45.4) sowie an einer Anpassungsstörung (ICD-10 F.43.21). Die Versicherte sei selbst bei der Betreuung ihrer dreijährigen Tochter und in der Haushaltführung auf erhebliche Mithilfe angewiesen, weshalb auch im angestammten Bereich eine volle Arbeitsunfähigkeit bestehe. Unter Berufung auf diesen Bericht ersuchte die Versicherte die Versicherung mit Schreiben vom 14. Mai 2008 um Ausrichtung der Taggeldleistungen rückwirkend ab 4. März 2005 für die seit Jahren andauernde Arbeitsunfähigkeit aufgrund einer somatoformen Schmerzstörung erheblicher Schwere. In seinem Schreiben vom 9. April 2011 gab Dr. F._ ergänzend an, bei der Versicherten finde sich aufgrund der Dauer und Folgen der Grunderkrankung eine intermittierende depressive Symptomatik im Sinne einer Anpassungsstörung. Es handle sich um ein chronifiziertes und fixiertes Geschehen, wobei die therapeutischen Möglichkeiten erschöpft seien. In der Folge bat die Versicherung die Versicherte mehrfach um Unterzeichnung einer Ermächtigung zur Einholung weiterer Daten. Die Versicherte unterzeichnete diese Ermächtigung nicht. B. Am 3. August 2011 klagte die Versicherte beim Sozialversicherungsgericht des Kantons Zürich gegen die Versicherung unter Vorbehalt des Nachklagerechts auf Zahlung von Krankentaggelder in der Höhe von Fr. 40'000.-- zuzüglich Zins von 5 % ab dem 18. April 2005. In ihrer Replik vom 22. Februar 2012 präzisierte die Versicherte, dass sie mit ihrer Teilklage im Sinne von Art. 86 ZPO den Taggeldanspruch nach dem 30. September 2005 für 12,3 Monate geltend mache. Das Sozialversicherungsgericht wies die Klage mit Urteil vom 21. Dezember 2012 ab. C. Die Versicherte (Beschwerdeführerin) erhebt Beschwerde in Zivilsachen mit den Begehren, das Urteil des Sozialversicherungsgerichts vom 21. Dezember 2012 aufzuheben und die Versicherung (Beschwerdegegnerin) anzuweisen, die Taggeldleistungen bis zum (recte: nach dem) 30. September 2005 im Umfang von Fr. 40'000.-- zu bezahlen. Zudem sei der Beschwerdeführerin für das erstinstanzliche Verfahren eine Parteientschädigung zuzusprechen. Eventuell sei die Sache zur Neuabklärung und Einholung eines gerichtlichen Urteils (recte: Gutachtens) an die Vorinstanz zurückzuweisen. Zudem ersuchte die Beschwerdeführerin um Durchführung eines zweiten Schriftenwechsels. Die Vorinstanz verzichtet auf eine Vernehmlassung. Die Beschwerdegegnerin schliesst auf Abweisung der Beschwerde, soweit darauf eingetreten werden könne. Die Beschwerdeführerin hat eine Replik und die Beschwerdegegnerin eine Duplik eingereicht. \n",
            "\t64.071\tA.- Die 1963 geborene Z._ arbeitete seit 1. Januar 1988 als Spitalgehilfin im Spital A._ und war damit bei der Zürich Versicherungs-Gesellschaft (nachfolgend: Zürich oder Versicherungs-Gesellschaft) obligatorisch gegen Unfälle versichert. Am 2. September 1993 erlitt sie als Beifahrerin im Auto ihres Ehemannes ein Schleudertrauma der Halswirbelsäule, als ein Personenwagen von hinten auf das vor einem Fussgängerstreifen wartende Fahrzeug auffuhr. Die Zürich anerkannte ihre Leistungspflicht für diesen Unfall, kam für die Heilungskosten auf und richtete Taggelder aus. Das bis anhin auf der Grundlage voller Arbeitsunfähigkeit ausgerichtete Taggeld setzte sie mit Wirkung ab 1. Juni 1995 auf 50 % herab. Mit Verfügung vom 12. Oktober 1998 stellte sie die bisher gewährten Leistungen rückwirkend auf den 31. Juli 1998 ein, weil keine organischen Beschwerden mehr objektivierbar seien und die psychischen Beschwerden nicht in einem adäquaten Kausalzusammenhang zum Unfallereignis stünden. Daran hielt sie - unter Bestätigung eines auf einer 50 %igen Arbeitsunfähigkeit basierenden Taggeldanspruchs für die Zeit vom 1. Juni 1995 bis 31. Juli 1998 - mit Einspracheentscheid vom 26. April 1999 fest. B.- In teilweiser Gutheissung der von Z._ erhobenen Beschwerde bejahte das Verwaltungsgericht des Kantons Obwalden den natürlichen und adäquaten Kausalzusammenhang zwischen den gesundheitlichen Beeinträchtigungen und dem Unfall vom 2. September 1993 und wies die Zürich in Aufhebung des Einspracheentscheids an, das Taggeld ab 1. Juni 1995 auf Grund einer vollen Arbeitsunfähigkeit zu berechnen und zudem über den Anspruch auf gesetzliche Leistungen (Taggeld, Rente, Integritätsentschädigung) ab 1. August 1998 neu zu verfügen (Entscheid vom 4. August 2000). C.- Mit Verwaltungsgerichtsbeschwerde beantragt die Zürich, der vorinstanzliche Entscheid sei insoweit aufzuheben, als sie verpflichtet werde, ab 1. Juni 1995 von einem Taggeldanspruch basierend auf einer 100 %igen Arbeitsunfähigkeit auszugehen; soweit der Einkommensvergleich einen Arbeitsunfähigkeitsgrad von über 50 % ergeben sollte, sei festzustellen, dass Art. 25 Abs. 3 UVV gesetzwidrig sei und die Taggeldleistungen entsprechend der ermittelten teilweisen Arbeitsunfähigkeit zu kürzen seien. Z._ lässt auf Abweisung der Verwaltungsgerichtsbeschwerde schliessen. Das Bundesamt für Sozialversicherung nimmt zum Eventualantrag der Versicherungs-Gesellschaft Stellung. \n",
            "\t63.334\tSachverhalt: A. Y._ (Arbeitnehmer) war seit Oktober 2008 mit einem Arbeitspensum von 100 % als Telefonist bei der Z._ (Arbeitgeberin) in Genf angestellt. Zwischen ihr und der X._ (Versicherung) besteht seit dem 1. Januar 1996 ein Kollektiv-Krankenversicherungsvertrag. In der ab 1. Januar 2008 gültigen Fassung des Vertrages, der Allgemeine Bedingungen (AB) umfasst, ist für das Personal der Arbeitgeberin ein Krankentaggeld im Umfang von 90 % des versicherten Verdienstes ab einer Wartefrist von 7 Tagen für eine Dauer von 730 Tagen versichert. Am 1. Juni 2009 meldete die Arbeitgeberin der Versicherung die krankheitsbedingte Abwesenheit des Arbeitnehmers seit 26. November 2008. Die Versicherung erbrachte ab 3. Dezember 2008 ein Taggeld basierend auf einer Arbeitsunfähigkeit von 100 %, veranlasste jedoch eine Untersuchung des Arbeitnehmers bei Dr. med. W._ in Genf. Dieser untersuchte den Arbeitnehmer am 30. August 2009. In seinem Gutachten vom 21. September 2009 kam er bezüglich der bisherigen Arbeitstätigkeit zum Ergebnis, die Abhängigkeit von Beruhigungsmitteln sei das Haupthindernis für die Wiederaufnahme der Arbeit. Diese Abhängigkeit des Arbeitnehmers und die vorliegende depressive Episode mittleren Grades beschränke seine Arbeitsfähigkeit zu 50 %. Nach dem Absetzen der Beruhigungsmittel sollte der Arbeitnehmer im Idealfall nach drei Wochen einer gut geführten antidepressiven Behandlung seine volle Arbeitsfähigkeit wiedererlangen (S. 15 Ziff. 8 und 10). Mit vom 18. September 2009 datiertem Schreiben teilte die Versicherung dem Arbeitnehmer mit Bezug auf die ärztliche Untersuchung vom 31. August 2009 mit, gemäss dem Bericht, der im Besitz ihrer medizinischen Abteilung sei, könne er seine Berufstätigkeit ab dem Tag der Unterredung zu 50 % und drei Wochen später zu 100 % ausüben. Folglich werde ab 21. September 2009 ein Taggeld beruhend auf einer Arbeitsfähigkeit von 50 % ausgerichtet. Ab 19. Oktober 2009 sei von einer Arbeitsfähigkeit von 100 % auszugehen. Ab diesem Datum stellte die Versicherung ihre Taggeldzahlungen ein. Am 1. und 2. Oktober 2009 war der Arbeitnehmer in der Kantonalen Psychiatrischen Klinik, Liestal, hospitalisiert. Ab dem 21. Oktober 2009 war er bei Dr. med. V._, Allschwil, in psychiatrischer Behandlung. Dieser kritisierte in seiner Stellungnahme vom 17. November 2009 das Gutachten von Dr. med. W._. Zu dieser Kritik nahmen Dr. med. W._ und Dr. med. U._ im Auftrag der Versicherung mit Schreiben vom 14. Mai 2010 Stellung. Dazu hat sich Dr. med. V._ mit Schreiben vom 22. Juni 2010 geäussert. B. Am 11. November 2010 klagte der Arbeitnehmer (Kläger) beim Sozialversicherungsgericht des Kantons Basel-Stadt gegen die Versicherung (Beklagte) auf Zahlung von Fr. 50 ́633.15 zuzüglich Zins zu 5 % ab 24. April 2010. Zur Begründung führte der Kläger an, er sei gemäss Arztzeugnissen verschiedener ihn behandelnder Ärzte (Dr. med. T._, Dr. med. S._, Dr. R._ und Dr. med. V._) seit 26. November 2008 ganz und ab 1. Mai 2010 zu 75 % arbeitsunfähig, weshalb ihm nach Ablauf der Wartefrist von sieben Tagen, das heisst ab 3. Dezember 2008 bis 30. April 2010 ein Taggeld beruhend auf einer Arbeitsunfähigkeit von 100 % zustehe. Ab. 1. Mai 2010 bis 19. November 2010 sei ein Taggeld basierend auf einer Arbeitsunfähigkeit von 75 % geschuldet. Die Beklagte schloss auf Abweisung der Klage und wendete ein, sie habe dem Kläger für die Periode ab 3. Dezember 2008 bis 20. September 2009 ein um 50 % zu hohes Taggeld ausgerichtet, da er während dieser Zeit nicht 100 %, sondern lediglich 50 % arbeitsunfähig gewesen sei. Für die Zeit vom 21. September 2009 bis 15. November 2009 anerkenne sie eine Arbeitsunfähigkeit von 50 %. Danach hätte der Arbeitnehmer bei Wahrung seiner Schadenminderungspflicht zu 100 % arbeiten können. Mit Urteil vom 9. Dezember 2011 hiess das Sozialversicherungsgericht die Klage gut. C. Die Beklagte (Beschwerdeführerin) erhebt Beschwerde in Zivilsachen mit den Begehren, den Entscheid des Sozialversicherungsgerichts vom 9. Dezember 2011 aufzuheben und die Klage abzuweisen. Zudem stellte die Beschwerdeführerin ein Gesuch um aufschiebende Wirkung, das mit Präsidialverfügung vom 17. Februar 2012 gutgeheissen wurde. Der Kläger (Beschwerdegegner) schliesst auf Abweisung der Beschwerde, eventuell auf Rückweisung der Sache an die Vorinstanz. Die Beschwerdeführerin hat eine Replik und der Beschwerdegegner eine Duplik eingereicht. \n",
            "\t62.395\tSachverhalt: A. Die 1959 geborene C._ zog sich im Jahr 1985 als Autoinsassin bei einer Frontalkollision ein erstes Trauma der Halswirbelsäule (HWS) zu. Sie war danach ab 1988 wieder voll arbeitsfähig und bedurfte keiner Heilbehandlung mehr. Am 22. März 2003 erlitt C._ einen erneuten Verkehrsunfall. Ein nachfolgender VW Scirocco prallte ins Heck des Mercedes 500 SEC, in welchem sie als Beifahrerin vorne sass. Wegen danach aufgetretenen Beschwerden suchte C._ Frau Dr. med. G._, Allgemeine Medizin FMH, auf, welche mit Bericht vom 25. Juni 2003 eine Einschränkung der Beweglichkeit der HWS sowie Ohrensausen und Kopfschmerzen beschrieb, ein HWS-Distorsions- und Kontusionstrauma diagnostizierte und eine Arbeitsunfähigkeit bestätigte. In der Folge traten auch lumbale Beschwerden auf. Mittels bildgebender Untersuchungen wurden Bandscheibenveränderungen im Bereich der HWS und der Lendenwirbelsäule (LWS) festgestellt. C._ war im Zeitpunkt des zweiten Unfalls als Fitnessinstruktorin in der Firma X._ AG tätig und dadurch bei der Schweizerischen National-Versicherungs-Gesellschaft (nachfolgend: National) obligatorisch gegen Unfallfolgen versichert. Die National erbrachte die gesetzlichen Leistungen (Heilbehandlung, Taggeld). Nach Abklärungen zum medizinischen Sachverhalt (unter anderem Einholung des Gutachtens des Dr. med. Z._, Facharzt für Neurochirurgie FMH, vom 6. Juni 2005 mit Ergänzung vom 31. Oktober 2005) eröffnete sie der Versicherten mit Verfügung vom 29. November 2005 die Einstellung der Leistungen rückwirkend ab 1. April 2004. Zur Begründung wurde ausgeführt, seit diesem Zeitpunkt hätten keine Unfallfolgen mehr vorgelegen. Die vom Krankenversicherer der C._ hiegegen vorsorglich eingereichte Einsprache wurde wieder zurückgezogen. Die auf Zusprechung weiterer Leistungen, insbesondere auch einer Invalidenrente und einer Integritätsentschädigung, lautende Einsprache der Versicherten wies die National ab, wobei sie sich bereit erklärte, an das Honorar des von C._ beigezogenen Dr. med. J._, Spezialarzt FMH für Orthopädische Chirurgie, einen Anteil von Fr. 970.80 zu leisten (Einspracheentscheid vom 25. August 2006). B. Die von C._ gegen den Einspracheentscheid erhobene Beschwerde wies das Sozialversicherungsgericht des Kantons Zürich mit Entscheid vom 22. Mai 2007 ab. C. Mit Beschwerde in öffentlich-rechtlichen Angelegenheiten lässt C._ beantragen, der kantonale Gerichtsentscheid sei aufzuheben und es seien Leistungen gemäss UVG, insbesondere eine Rente entsprechend einer Erwerbsunfähigkeit von 55 % sowie eine Integritätsentschädigung auf der Grundlage einer Integritätseinbusse von 15 %, zuzusprechen; eventuell sei ein multidisziplinäres Gutachten in Auftrag zu geben, um die Arbeitsfähigkeit und den Integritätsschaden abzuklären; subeventualiter sei der angefochtene Entscheid aufzuheben und die Sache zur erneuten Beurteilung und Verfügung an die Vorinstanz resp. an die National zurückzuweisen. Die National schliesst auf Abweisung der Beschwerde. Das Bundesamt für Gesundheit verzichtet auf eine Vernehmlassung. D. Mit Eingaben vom 6. resp. 7. Mai 2008 ergänzen die Parteien ihre Vorbringen im Hinblick auf das zwischenzeitlich ergangene Urteil BGE 134 V 109. \n",
            "\n",
            "-------------------------\n",
            "\n",
            "Top-5 Bi-Encoder Retrieval hits\n",
            "\t0.672\tSachverhalt: A. Nebst einer Reihe weiterer Policen besteht zwischen den Parteien seit 1991 eine \"Erwerbsausfallversicherung bei Krankheit\", die letztmals am 5. Dezember 2000 für die Dauer vom 1. Januar 2001 bis 31. Dezember 2002 verlängert und angepasst wurde. Bei dieser Versicherung hat der Kläger bei einer versicherten Jahreslohnsumme von Fr. 100'000.-- nach einer Wartefrist von 30 Tagen Anspruch auf ein Taggeld von 80 % des Tageslohnes während 730 innert 900 Tagen und danach auf eine Invalidenrente von 30 %. Seit 8. Mai 2000 ist der Kläger ganz oder teilweise arbeitsunfähig und die Beklagte erbrachte in der Zeit vom 8. Juni 2000 bis 28. Februar 2002 Taggeldleistungen von insgesamt Fr. 117'568.95 (Angabe des Klägers) bzw. Fr. 118'007.25 (Angabe der Beklagten). Im Rahmen einer Strafuntersuchung gegen den Kläger wegen Brandstiftung, Irreführung der Rechtspflege und mehrfachen Betrugs machte die Beklagte am 2. April 2002 adhäsionsweise eine Forderung von Fr. 150'913.15 geltend (Rückforderung der als Sachversicherer geleisteten Entschädigung von Fr. 7'475.-- für einen vorgetäuschten Einbruchdiebstahl vom 1. Februar 1999; Rückforderung der in Zusammenhang mit dem Brandfall geleisteten Zahlung von Fr. 25'430.90; Rückforderung der Taggeldleistungen von Fr. 118'007.25). Mit Schreiben vom 17. April 2002, bestätigt durch die Schreiben vom 13. Mai und 5. August 2002, erklärte die Beklagte gestützt auf Art. 40 VVG den Rücktritt von sämtlichen Versicherungsverträgen, da sich aufgrund der polizeilichen Untersuchungen ergeben habe, dass mindestens ein Teil der geltend gemachten Forderungen nicht gerechtfertigt gewesen seien; es würden daher keine weiteren Leistungen ausgerichtet und die bereits erbrachten zurückgefordert. Während der Kläger den pauschalen Rücktritt von den anderen Versicherungsverträgen akzeptierte, bestritt er ihn mit Bezug auf die Erwerbsausfallversicherung und ersuchte die Beklagte, die Taggeldzahlungen wieder aufzunehmen. B. Nachdem die Beklagte dieser Forderung nicht nachgekommen war, reichte der Kläger am 29. August 2002 beim Bezirksgericht Unterrheintal (nunmehr Kreisgericht Rheintal) eine Klage ein, mit welcher er die Auszahlung der restlichen Taggelder von insgesamt Fr. 35'809.10 und der Invalidenrente für das erste Quartal von Fr. 7'500.-- verlangte. Mit Entscheid vom 2. Juli 2003 hiess das Kreisgericht Rheintal die Klage vollumfänglich gut. Die dagegen erhobene kantonale Berufung wies das Kantonsgericht St. Gallen, III. Zivilkammer, mit Entscheid vom 20. Oktober 2004 ab. C. Gegen diesen Entscheid hat die Beklagte am 25. November 2004 eidgenössische Berufung eingereicht mit den Begehren um dessen Aufhebung und um Abweisung der Klage, soweit darauf einzutreten sei. In seiner Berufungsantwort vom 31. Januar 2005 hat der Kläger auf Abweisung der Berufung geschlossen. \n",
            "\t0.617\tSachverhalt: A. Die aus ... stammende S._ arbeitete ab 16. Dezember 1996 als Krankenschwester im Alters- und Pflegeheim M._. Vom 27. November bis 12. Dezember 1997 war sie zu 100 % arbeitsunfähig geschrieben. Am 15. Dezember 1997 kündigte ihr die Heimleitung fristlos wegen unbegründeten Fernbleibens vom Arbeitsplatz. Ab 16. Dezember 1997 bezog S._ - nach einer Wartezeit von 30 Tagen - Krankentaggelder aufgrund einer Arbeitsunfähigkeit von 100 % bis 14. März 1998, von 50 % vom 15. bis 30. März 1998 und erneut von 100 % ab 21. August 1998. Ab 9. Februar 1999 unterzog sich S._ einer ambulanten Behandlung in der Psychiatrischen Universitätspoliklinik des Spitals X._. Es folgte ein stationärer Aufenthalt in der Psychiatrischen Klinik Y._ vom 23. März bis 9. April 1999. Im Dezember 1999 meldete sich S._ bei der Invalidenversicherung zum Leistungsbezug an. Nach Abklärungen sprach ihr die IV-Stelle Basel-Stadt mit Verfügungen vom 9. Januar 2003 aufgrund eines Invaliditätsgrades von 81 % ab 1. Dezember 1998 eine ganze Rente, ab 1. Februar 2000 samt einer Zusatzrente für ihren Ehemann zu. S._ war (auch nach ihrer Heirat am 22. Februar 2000) im Rahmen ihrer Tätigkeit als Krankenschwester im Alters- und Pflegeheim M._ bei der Stiftung Z._ berufsvorsorgeversichert gewesen. Diese lehnte ihr Gesuch um Ausrichtung einer Rente der beruflichen Vorsorge mit Schreiben vom 20. November 2003 und 1. Juli 2004 ab. B. Am 12. Mai 2005 liess S._ beim Sozialversicherungsgericht Basel-Stadt Klage gegen die Stiftung Z._ einreichen mit den Rechtsbegehren, die Beklagte sei zu verpflichten, ihr eine Rente in noch zu bestimmender Höhe rückwirkend ab 1. Dezember 1998 auszurichten. Das kantonale Gericht holte die Klageantwort ein, zog die IV-Akten bei, wozu die Parteien Stellung nehmen konnten, und führte einen zweiten Schriftenwechsel durch. Mit Entscheid vom 16. Oktober 2008 hiess es die Klage gut. Es verpflichtete die Beklagte, der Klägerin ab Dezember 1998, allenfalls nach Erschöpfung der Taggeldzahlungen, bis April 2006 eine ganze Rente und ab Mai 2006 eine halbe Rente auszurichten. C. Die Stiftung Z._ führt Beschwerde in öffentlich-rechtlichen Angelegenheiten mit dem Rechtsbegehren, der Entscheid vom 16. Oktober 2008 sei aufzuheben und die Klage abzuweisen, eventualiter die Sache zur Neubeurteilung an das Sozialversicherungsgericht Basel-Stadt zurückzuweisen. S._ lässt die Abweisung der Beschwerde beantragen. Kantonales Gericht und Bundesamt für Sozialversicherungen verzichten auf eine Vernehmlassung. \n",
            "\t0.617\tSachverhalt: A. B._ war mit seiner Familie bei der SWICA Krankenversicherung AG (nachfolgend SWICA) einerseits obligatorisch krankenpflege-, anderseits freiwillig taggeldversichert, wobei er nach KVG ein Taggeld von Fr. 166.- und nach VVG ein solches von Fr. 34.-, beide je zahlbar ab dem 61. Tag der Arbeitsunfähigkeit, vereinbart hatte. Im Zusammenhang mit einem Krankheitsfall ab Oktober 2001 entstanden zwischen ihm und seinem Krankenversicherer Meinungsverschiedenheiten über Höhe und Dauer der den Taggeldzahlungen zu Grunde zu legenden Arbeitsunfähigkeiten, weshalb er sich am 4. Juli 2003 klageweise an das Sozialversicherungsgericht des Kantons Zürich wandte mit dem Rechtsbegehren auf Zusprechung von Taggeldern nach KVG und VVG. Diese Auseinandersetzung nahm B._ zum Anlass, seinerseits die für die verschiedenen Versicherungsarten geschuldeten Prämien nicht mehr zu bezahlen, weshalb die SWICA ihn am 13. Mai 2003 für den Betrag von Fr. 3407.20 (ausstehende KVG-Prämien) betrieb. Mit Verfügung vom 6. Juni 2003 und Einspracheentscheid vom 29. Juli 2003 hob die SWICA den Rechtsvorschlag im Umfange von Fr. 2308.75 auf, wogegen B._ am 27. August 2003 (ebenfalls) beim Sozialversicherungsgericht des Kantons Zürich Beschwerde erhob. B. Im Rahmen einer Referentenaudienz mit Vergleichsverhandlung vom 20. Januar 2005 schlossen die Parteien einen Vergleich, der alle offenen Punkte (Taggeldansprüche gegenüber den beiden Versicherungen; Kostenvergütungen aus der obligatorischen Krankenpflegeversicherung; ausstehende Prämien) ausräumte. Gestützt auf diesen Vergleich schrieb das Sozialversicherungsgericht des Kantons Zürich den Prozess als durch Vergleich erledigt ab (Verfügung vom 20. Januar 2005). C. Das Bundesamt für Gesundheit (BAG) führt Verwaltungsgerichtsbeschwerde mit dem Antrag, es sei die Verfügung vom 20. Januar 2005 aufzuheben \"und im Sinne der nachstehenden Überlegungen neu zu entscheiden\". Auf die einzelnen Vorbringen wird, soweit erforderlich, in den Erwägungen eingegangen. Das kantonale Gericht äussert sich in ablehnendem Sinne zur Verwaltungsgerichtsbeschwerde. B._ beanstandet in seiner Vernehmlassung bestimmte Punkte bezüglich der Formulierung des Vergleichs sowie der Durchführung der Vergleichsverhandlung, während die SWICA auf Abweisung der Verwaltungsgerichtsbeschwerde schliesst. \n",
            "\t0.616\tArbeitsvertrag; Kündigung, hat sich ergeben: A.- a) Der Kläger arbeitete seit 1989 als Product Manager bei der Firma Y._ AG, wo er im Bereich Beschläge und Eisenwaren tätig war. Im August 1995 schloss die Y._ AG mit der X._ Gruppe einen Vertrag, wonach eine neu zu gründende Gesellschaft den Bereich Beschläge und Eisenwaren von der Y._ AG übernehmen sollte. Da die Verhandlungen betreffend Übernahme des Personals scheiterten, wurde dem Kläger am 20. September 1995 von der Y._ AG auf Ende November 1995 gekündigt. In der zweiten Hälfte September 1995 zeigten sich sowohl die Vertreter der X._ Gruppe als auch der damals 62-jährige Kläger an einer Mitarbeit in der noch zu gründenden Beklagten interessiert. b) Am 29. September 1995 richteten B._ und C._ ein Schreiben folgenden Inhalts an den Kläger: \"Monsieur, Pour faire suite à nos différentes rencontres de la semaine précédente dans les locaux de l'hôtel Z._, nous vous adressons comme convenu un courrier notifiant notre désir de vous avoir comme collaborateur pour notre installation en Suisse. Nous vous proposons donc de démarrer vos activités dans le cadre de l'entreprise créée au mois de janvier 1996 et ce dès la cession par Y._ AG de son secteur quincaillerie à X._ SA. Cette promesse s'étale comme nous l'avions prévu jusqu'à votre départ à la retraite en 1998. Les termes contractuels de cette embauche seront ratifiés dès la constitution de la société par un contrat de travail qui définira votre tâche. Votre expérience et votre maîtrise parfaite du marché de la quincaillerie seront essentiels pour une bonne intégration et appréhension du groupe X._ en Suisse.. \" c) Ein entsprechender schriftlicher Arbeitsvertrag, datiert vom 12. Oktober 1995, wurde von B._ namens der X._ Industrie France und vom Kläger am 19. Oktober 1995 unterzeichnet. Die mit \"Anstellungsvertrag\" überschriebene zweisprachige Urkunde hat folgenden Wortlaut (ohne französischen Text): \"Anstellungsvertrag Sehr geehrter Herr Wir nehmen Bezug auf die Besprechung mit unserem Herrn B._ und bestätigen die getroffenen Vereinbarungen wie folgt: Tätigkeit: Marketingleiter Eintrittsdatum: 02.01.1996 Monatsgehalt: 8'455 CHF Probezeit: Keine Ferienanspruch: 30 Alle übrigen arbeitsvertraglichen Bestimmungen finden Sie in der \"Vereinbarung der Schweizer Maschinenindustrie\". Die Firma X._ Industrie France vertritt vorläufig die Stelle von X._ Industrie AG die sich im Gründungsstadium befindet und die diesen Vertrag vollständig bei ihrer Eintragung übernehmen wird. Wir heissen Sie als neuen Mitarbeiter willkommen und bitten Sie, bei Ihrem Einverständnis das beiliegende Vertrags-Doppel unterschrieben an Herrn B._ persönlich zu retournieren. Mit freundlichen Grüssen B._ \" Am 6. Dezember 1995 erfolgte die Gründung der Beklagten. Sie übernahm den Arbeitsvertrag mit dem Kläger. Mit Schreiben vom 20. Dezember 1996 kündigte sie dem Kläger unter Einhaltung einer viermonatigen Kündigungsfrist auf Ende April 1997. B.- Mit Klage vom 20. Oktober 1997 verlangte der Kläger zusammen mit der Arbeitslosenkasse Gewerkschaft Bau & Industrie im Wesentlichen den Lohn bis zur Pensionierung, insgesamt Fr. 121'892.--. Das Bezirksgericht Hinwil sprach ihm mit Urteil vom 25. November 1999 Fr. 40'052. 70 und der Arbeitslosenkasse Gewerkschaft Bau & Industrie Fr. 63'308. 75 zu. Auf kantonale Berufung der Beklagten wies das Obergericht des Kantons Zürich mit Urteil vom 16. November 2000 die Klage vollumfänglich ab. C.- Der Kläger gelangt gegen dieses Urteil mit Berufung an das Bundesgericht. Die Arbeitslosenkasse Gewerkschaft Bau & Industrie hat das obergerichtliche Urteil nicht angefochten. Die Beklagte beantragt die Ablehnung des Rechtsmittels. D.- Eine vom Kläger gegen das obergerichtliche Urteil ebenfalls erhobene kantonale Nichtigkeitsbeschwerde wurde mit Entscheid des Kassationsgerichts des Kantons Zürich vom 5. März 2001 abgewiesen, soweit darauf eingetreten wurde. \n",
            "\t0.606\tA.- P._ arbeitete vom 16. Dezember 1992 bis 30. November 1994 bei K._. Mit Schreiben vom 10. Februar 1995 liess sie beim Arbeitgeber Lohnnachzahlungen von Fr. 20'000. - geltend machen mit der Begründung, sie habe Überstunden geleistet, der gesamtarbeitsvertragliche Mindestlohn sei unterschritten worden und die Abgeltung des 13. Monatslohns mit zusätzlichen vier Wochen Ferien sei nicht zulässig. Am 7. Februar 1996 leitete sie Klage über Fr. 20 000. - beim Kantonalen Schiedsgericht für Arbeitsstreitigkeiten ein. Die Einigungsverhandlung vom 27. Februar 1996 blieb erfolglos. Am 18. Juni 1996 eröffnete das Bezirksgericht Westlich Raron und Leuk auf Grund der Insolvenzerklärung den Konkurs über den Arbeitgeber. Die Konkurseröffnung wurde am 28. Juni 1996 im Schweizerischen Handelsamtsblatt (SHAB) publiziert. Mit Eingabe vom 6. Mai 1997 stellte P._ bei der Öffentlichen Arbeitslosenkasse des Kantons Wallis Antrag auf Insolvenzentschädigung für zusätzlich geltend gemachte Lohnforderungen im Zeitraum 16. Dezember 1992 bis 30. November 1994 im Gesamtbetrag von Fr. 22 196. 05. Dieses Begehren lehnte die Arbeitslosenkasse mit Verfügung vom 18. September 1997 ab, da der Arbeitgeber im November 1994 noch nicht insolvent gewesen sei und es als zweifelhaft erscheine, ob die Versicherte nicht mehr Einfluss auf die Eintreibung ihrer Forderung hätte nehmen können. B.- Die hiegegen erhobene Beschwerde wies die Kantonale Rekurskommission in Sachen Arbeitslosigkeit, Sion, mit Entscheid vom 25. März 1999 wegen verspäteter Geltendmachung des Insolvenzentschädigungsanspruchs ab. C.- P._ lässt Verwaltungsgerichtsbeschwerde führen mit dem Antrag, in Aufhebung des vorinstanzlichen Entscheides sei die Sache zur Neubeurteilung und zur Feststellung des Anspruchs auf Insolvenzentschädigung an die Arbeitslosenkasse zurückzuweisen. Arbeitslosenkasse und Bundesamt für Wirtschaft und Arbeit (seit 1. Juli 1999 Staatssekretariat für Wirtschaft) verzichten auf eine Vernehmlassung. \n",
            "\n",
            "-------------------------\n",
            "\n",
            "Top-5 Cross-Encoder Re-ranker hits\n",
            "\t4.308\tSachverhalt: A. Y._ (Kläger; Beschwerdegegner) schloss als Firmeninhaber der Einzelunternehmung Z._ mit der X._ AG (Beklagte und Beschwerdeführerin) eine kollektive Krankentaggeldversicherung per 1. Juli 2010 ab. Am 1. September 2010 meldete er der Versicherung eine seit diesem Datum bestehende volle Arbeitsunfähigkeit wegen Krankheit. Die Versicherung richtete zunächst Krankentaggelder aus und tätigte Abklärungen. Mit Schreiben vom 24. März 2011 erklärte sie aufgrund einer Meldepflichtverletzung die sofortige Kündigung der Krankentaggeldversicherung und die Einstellung ihrer Leistungen. B. Am 14. September 2011 beantragte der Kläger dem Sozialversicherungsgericht des Kantons Zürich, es sei festzustellen, dass zwischen den Parteien ein in allen Teilen rechtsgültiger Versicherungsvertrag bestehe, und es seien ihm von der Beklagten seit 1. Februar 2011 für maximal 591 verbleibende Tage Krankentaggelder auszurichten, vorerst Fr. 42'967.10 nebst Zins. Diesen Betrag erhöhte er im Verfahren für den Zeitraum bis 31. März 2012 auf Fr. 75'458.75. Zudem sei ihm die Auflösungsgebühr von Fr. 30.-- zurückzuerstatten. Die Beklagte verlangte die Abweisung der Klage und die Rückerstattung der bereits geleisteten Taggelder. Mit Urteil vom 15. Januar 2013 trat das Sozialversicherungsgericht auf das Feststellungsbegehren nicht ein und sprach dem Kläger Fr. 75'458.75 nebst Zins und Fr. 30.-- Auflösungsgebühren zu. C. Mit Beschwerde in Zivilsachen verlangt die Beklagte vor Bundesgericht, das Urteil des Sozialversicherungsgerichts aufzuheben und festzustellen, dass zwischen den Parteien kein Versicherungsvertrag bestehe, eventuell eine Forderung gegenüber der Beklagten zu verneinen. Der Beschwerdegegner beantragt, auf die Beschwerde nicht einzutreten, und eventuell, diese abzuweisen. Das Sozialversicherungsgericht hat auf Vernehmlassung verzichtet. \n",
            "\t3.306\tSachverhalt: A. A._ (Kläger und Beschwerdegegner) war seit 1999 bis zur Geschäftsaufgabe am 31. März 2011 als selbständig erwerbender Schneider mit eigenem Atelier tätig. Er hatte mit der Versicherung X._ AG (Beklagte und Beschwerdeführerin) mit Beginn ab 1. Januar 2010 eine Krankentaggeldversicherung für Kleinunternehmen abgeschlossen. A.a Am 22. September 2010 ging bei der Beklagten ein Arztbericht der Hausärztin des Klägers ein, wonach dieser seit ca. einem Jahr an Schlafstörungen und seit ca. zwei Monaten an zunehmenden Angstzuständen, Antriebslosigkeit etc. beziehungsweise einer depressiven Entwicklung leide. Seit 1. August 2010 wurde ihm bis auf Weiteres eine Arbeitsunfähigkeit von 100 % attestiert. Die Beklagte anerkannte zunächst ihre Leistungspflicht auf der Basis einer Arbeitsunfähigkeit von 100 % beziehungsweise vorübergehend von 50 %. Vom 16. September 2010 bis 24. November 2010 war der Kläger in einer psychiatrischen Privatklinik hospitalisiert. Er meldete sich zum Bezug von Leistungen der Invalidenversicherung an und liess Einwände gegen deren negativen Vorbescheid erheben. A.b Am 9. Juni 2011 erstatteten ein Facharzt für Psychiatrie und Psychotherapie und eine Psychologin im Auftrag der Beklagten ein versicherungspsychiatrisches Gutachten. Gestützt auf dieses und die Einschätzung der beratenden Gesellschaftsärztin kam die Beklagte zum Schluss, im angestammten Beruf als Schneider sei eine uneingeschränkte Arbeitsfähigkeit anzunehmen. Das versicherte Taggeld werde bis maximal 24. Juni 2011 ausgerichtet. Zudem könne aufgrund des Schadensverlaufes die Krankentaggeldversicherung nicht mehr zu den bisherigen Konditionen angeboten werden. Dem Kläger wurde eine Frist angesetzt, um eine höhere Prämie zu akzeptieren, mit der Androhung, ansonsten erlösche die vertragliche Deckung am 31. Dezember 2011. B. Am 20. Januar 2012 reichte der Kläger beim Verwaltungsgericht des Kantons Schwyz Klage ein. Er verlangte im Wesentlichen, ihm sei weiterhin das ganze Krankentaggeld auszurichten und es sei festzustellen, dass die Kündigung des Versicherungsvertrages ungültig sei. Das Gesuch um Gewährung der unentgeltlichen Prozessführung liess das Verwaltungsgericht unbeurteilt, da es in seinem Urteil vom 26. September 2012 keine Kosten erhob und dem Kläger eine Parteientschädigung zusprach. Es hiess dessen Klage in dem Sinne gut, dass die Beklagte über den 25. Juni 2011 hinaus weiterhin leistungspflichtig sei, dass für diesen Zeitpunkt eine Herabsetzung der vereinbarten Taggeldleistungen nicht hinreichend ausgewiesen sei und dass die Kündigung des Versicherungsvertrages für die im Kündigungszeitpunkt diagnostizierten Beeinträchtigungen keine Wirkung entfalte. C. Mit Beschwerde in Zivilsachen beantragt die Beklagte dem Bundesgericht im Wesentlichen, die Klage abzuweisen. Der Beschwerdegegner schliesst auf kostenfällige Abweisung der Beschwerde, soweit darauf einzutreten sei. Er ersucht um Gewährung der unentgeltlichen Rechtspflege für das Verfahren vor Bundesgericht. Das Verwaltungsgericht hat auf Vernehmlassung verzichtet. \n",
            "\t3.218\tSachverhalt: A. Der 1972 geborene L._ war ab 1. Oktober 2007 als Head of Education für die X._ AG tätig. Nachdem er seit 3. Mai 2010 krankheitshalber an der Arbeit verhindert gewesen war, wurde das Arbeitsverhältnis per 31. August 2010 aufgelöst. Gestützt auf das Gutachten des Dr. med. M._, Facharzt für Psychiatrie und Psychotherapie FMH, vom 2. August 2011, wonach L._ in einer adaptierten Tätigkeit sofort zu 20 % arbeitsfähig sei und mit einer weiteren Verbesserung \"im Umfang von mindestens 20-30% pro drei Wochen\" gerechnet werden könne, kürzte die Krankentaggeldversicherung Visana Services AG ihre Leistungen mit Schreiben vom 22. August 2011 nach Massgabe einer Arbeitsunfähigkeit von 80 % ab 29. August 2011, von 50 % ab 19. September 2011 und von 30 % ab 10. Oktober 2011; per 1. November 2011 stellte sie ihre Taggeldleistungen auf der Basis einer 100%igen Arbeitsfähigkeit ein. L._ meldete sich am 1. November 2011 zur Arbeitsvermittlung an und stellte am 9. November 2011 Antrag auf Arbeitslosenentschädigung für die Zeit ab 1. November 2011. Im Antragsformular hatte er angegeben, er sei bereit und in der Lage, vollzeitlich zu arbeiten. Mit Verfügung vom 5. Dezember 2011 verneinte die Arbeitslosenkasse des Kantons Zürich einen Anspruch auf Arbeitslosenentschädigung ab 1. November 2011 mit der Begründung, L._ habe weder die Beitragszeit erfüllt noch liege ein Beitragsbefreiungsgrund vor. Daran hielt sie auf Einsprache hin fest (Einspracheentscheid vom 18. Januar 2012). B. In Gutheissung der dagegen geführten Beschwerde hob das Sozialversicherungsgericht des Kantons Zürich den Einspracheentscheid auf mit der Feststellung, der Befreiungsgrund der überjährigen Krankheit gemäss Art. 14 Abs. 1 lit. b AVIG sei erfüllt und die Sache werde zur Prüfung der weiteren Anspruchsvoraussetzungen an die Arbeitslosenkasse zurückgewiesen (Entscheid vom 29. Mai 2012). C. Die Arbeitslosenkasse reicht Beschwerde in öffentlich-rechtlichen Angelegenheiten ein mit dem Antrag, der Entscheid des kantonalen Gerichts sei aufzuheben. L._ schliesst auf Abweisung der Beschwerde. Das Staatssekretariat für Wirtschaft verzichtet auf eine Vernehmlassung. \n",
            "\t3.155\tA.- L._, geboren 1955, ist über seine Arbeitgeberin bei der SKBH Kranken- und Unfallversicherung unter anderem der Abteilung Taggeldversicherung (Wartefrist: 1 Tag) angeschlossen (Kollektivvertrag). Er war ab 12. September 1995 krankheitsbedingt vollständig arbeitsunfähig. Die SKBH bezahlte ihm ab 13. September 1995 das versicherte Taggeld. Auf 1. Juli 1996 reduzierte sie ihre Leistungen auf ein halbes Taggeld. Am 18. September 1996 nahm L._ die Arbeit zu 50 % wieder auf. Mit Schreiben vom 30. Dezember 1997 teilte die SKBH dem Versicherten, der noch immer zu 50 % krankheitsbedingt arbeitsunfähig war, mit, sie stelle auf 31. Dezember 1997 ihre Leistungen ein. Die vom Gesetz vorgesehene maximale Leistungsdauer sei erreicht. Mit Verfügung vom 8. Juli 1998 bestätigte die SKBH den Inhalt ihres Schreibens vom 30. Dezember 1997. Die vom Versicherten hiegegen erhobene Einsprache wies sie mit Entscheid vom 15. September 1998 ab. B.- Gegen den Einspracheentscheid erhob L._ Beschwerde mit dem Begehren, das versicherte Taggeld sei für die Zeit ab 1. Januar 1998 weiterhin auszurichten, bis der Gegenwert von 720 Taggeldern erreicht bzw. die vollständige Arbeitsfähigkeit wieder erlangt sei. Das Verwaltungsgericht des Kantons Bern wies die Beschwerde mit Entscheid vom 23. September 1999 ab. C.- L._ führt Verwaltungsgerichtsbeschwerde, unter Erneuerung seines vorinstanzlichen Rechtsbegehrens. Die SKBH schliesst auf Abweisung der Verwaltungsgerichtsbeschwerde. Das Bundesamt für Sozialversicherung hat keine Vernehmlassung eingereicht. \n",
            "\t2.796\tSachverhalt: A. A._ (Versicherter, Kläger, Beschwerdegegner) schloss am 10. Juli 2008 mit der X._ AG (Versicherung, Beklagte, Beschwerdeführerin) einen Krankenzusatzversicherungsvertrag für ein Taggeld im Sinne einer Summenversicherung für eine Arbeitsunfähigkeit von mindestens 25 % per 1. Januar 2009 ab. Am 29. Juni 2009 meldete der Versicherte der Versicherung, dass er seit dem 20. Mai 2009 wegen Krankheit vollständig arbeitsunfähig sei. B. Mit Klage vom 7. November 2011 beantragte der Versicherte dem Sozialversicherungsgericht des Kantons Zürich, die Versicherung sei zu verpflichten, ihm einen Betrag von Fr. 55'467.75 zuzüglich Zins zu bezahlen. In seiner Begründung führte er aus, er sei vom 20. Mai 2009 bis zum Ende der Rahmenfrist der Krankentaggeldversicherung am 19. Mai 2011 im Umfang von 100 % arbeitsunfähig gewesen. Da die Versicherung ab dem 1. November 2009 nur noch ein Taggeld für eine Arbeitsunfähigkeit von 50 % ausgerichtet habe, habe sie bis zum 30. November 2010 die Differenz zu bezahlen. Für die Zeit vom 30. November 2010 bis zum 19. Mai 2011 sei ihm ein Taggeld für eine Arbeitsunfähigkeit von 50 % geschuldet. Mit Urteil vom 7. Mai 2013 hiess das Sozialversicherungsgericht des Kantons Zürich die Klage teilweise gut und verpflichtete die Beklagte, dem Kläger einen Betrag von Fr. 52'262.25 zu bezahlen, zuzüglich Zins zu 5 % seit dem 19. Mai 2011. Im Mehrbetrag wies es die Klage ab. Es kam nach Würdigung der medizinischen Befunde zum Schluss, der Kläger sei im Zeitraum vom 1. November 2009 bis 31. Oktober 2010 zu 100 % arbeitsunfähig gewesen, weshalb die Beklagte die Differenz nachzuzahlen habe. Nicht zu beanstanden sei dagegen, dass die Beklagte dem Kläger für die Zeit vom 1. November 2010 bis 19. Januar 2011 ein Taggeld für eine Arbeitsunfähigkeit von 50 % ausgerichtet habe. Darüber hinaus habe vom 20. Januar 2011 bis zum Ablauf der versicherten Leistungsdauer am 19. Mai 2011 ein Anspruch auf ein Taggeld für eine Arbeitsunfähigkeit von 50 % bestanden. C. Mit Beschwerde in Zivilsachen beantragt die Beklagte dem Bundesgericht, die Klage sei abzuweisen. Eventualiter sei das Verfahren zur psychiatrischen Begutachtung des Klägers an die Vorinstanz zurückzuweisen; subeventualiter sei die Beklagte zu verpflichten, dem Kläger Fr. 12'822.-- zuzüglich Zins zu 5 % seit dem 19. Mai 2011 zu bezahlen. Der Beschwerdegegner beantragt die Abweisung der Beschwerde, die Vorinstanz hat sich nicht vernehmen lassen. Die Beschwerdeführerin hat unaufgefordert eine Replik, der Beschwerdegegner eine Duplik eingereicht. D. Mit Präsidialverfügung vom 17. September 2013 wurde der Beschwerde die aufschiebende Wirkung erteilt. \n"
          ]
        }
      ]
    },
    {
      "cell_type": "code",
      "source": [
        ""
      ],
      "metadata": {
        "id": "-8aXG1X61ZJx"
      },
      "execution_count": null,
      "outputs": []
    }
  ]
}