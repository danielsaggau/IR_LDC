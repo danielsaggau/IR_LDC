{
  "nbformat": 4,
  "nbformat_minor": 0,
  "metadata": {
    "colab": {
      "provenance": [],
      "authorship_tag": "ABX9TyPk+yuryfbfT/DJsT2Jtxis",
      "include_colab_link": true
    },
    "kernelspec": {
      "name": "python3",
      "display_name": "Python 3"
    },
    "language_info": {
      "name": "python"
    }
  },
  "cells": [
    {
      "cell_type": "markdown",
      "metadata": {
        "id": "view-in-github",
        "colab_type": "text"
      },
      "source": [
        "<a href=\"https://colab.research.google.com/github/danielsaggau/IR_LDC/blob/main/1001_layers.ipynb\" target=\"_parent\"><img src=\"https://colab.research.google.com/assets/colab-badge.svg\" alt=\"Open In Colab\"/></a>"
      ]
    },
    {
      "cell_type": "code",
      "source": [
        "import torch \n",
        "from torch import nn "
      ],
      "metadata": {
        "id": "98Xn2kkBTCnK"
      },
      "execution_count": null,
      "outputs": []
    },
    {
      "cell_type": "code",
      "execution_count": null,
      "metadata": {
        "id": "Ru_PbpfIS7cT"
      },
      "outputs": [],
      "source": [
        "class MLPLayer(nn.Module):\n",
        "    \"\"\"\n",
        "    Head for getting sentence representations over RoBERTa/BERT's CLS representation.\n",
        "    \"\"\"\n",
        "\n",
        "    def __init__(self, config):\n",
        "        super().__init__()\n",
        "        self.dense = nn.Linear(config.hidden_size, config.hidden_size)\n",
        "        self.activation = nn.Tanh()\n",
        "\n",
        "    def forward(self, features, **kwargs):\n",
        "        x = self.dense(features)\n",
        "        x = self.activation(x)\n",
        "\n",
        "        return x"
      ]
    },
    {
      "cell_type": "code",
      "source": [
        "class BatchNormWrapper(nn.Module):\n",
        "    def __init__(self, m):\n",
        "        super(BatchNormWrapper, self).__init__()\n",
        "        self.m = m\n",
        "        self.m.eval()  # Set the batch norm to eval mode\n",
        "\n",
        "    def forward(self, x):\n",
        "        input_type = x.dtype\n",
        "        x = self.m(x.float())\n",
        "        return x.to(input_type)"
      ],
      "metadata": {
        "id": "mHYii3SbTGUK"
      },
      "execution_count": null,
      "outputs": []
    },
    {
      "cell_type": "code",
      "source": [
        "def cl_init(cls, config):\n",
        "    \"\"\"\n",
        "    Contrastive learning class init function.\n",
        "    \"\"\"\n",
        "    cls.pooler_type = cls.model_args.pooler_type\n",
        "    cls.pooler = Pooler(cls.model_args.pooler_type)\n",
        "    cls.mlp = MLPLayer(config)\n",
        "    cls.sim = Similarity(temp=cls.model_args.temp)\n",
        "   \n",
        "    # SCD - BEGIN: projector\n",
        "    sizes = [cls.config.embedding_dim] + \\\n",
        "        list(map(int, cls.config.projector.split('-')))\n",
        "    layers = []\n",
        "    for i in range(len(sizes) - 2):\n",
        "        if i == 0:\n",
        "            layers.append(nn.Linear(sizes[i], sizes[i + 1], bias=True))\n",
        "        else:\n",
        "            layers.append(nn.Linear(sizes[i], sizes[i + 1], bias=False))\n",
        "        layers.append(nn.BatchNorm1d(sizes[i + 1]))\n",
        "        layers.append(nn.ReLU(inplace=True))\n",
        "    layers.append(nn.Linear(sizes[-2], sizes[-1], bias=False))\n",
        "    cls.projector = nn.Sequential(*layers)\n",
        "    cls.bn = nn.BatchNorm1d(sizes[-1], affine=False)\n",
        "    # SCD - END: projector\n",
        "\n",
        "    cls.init_weights()"
      ],
      "metadata": {
        "id": "CS_8rge6TWPY"
      },
      "execution_count": null,
      "outputs": []
    }
  ]
}