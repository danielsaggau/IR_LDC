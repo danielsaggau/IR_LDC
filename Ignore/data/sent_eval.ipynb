{
  "nbformat": 4,
  "nbformat_minor": 0,
  "metadata": {
    "colab": {
      "provenance": [],
      "authorship_tag": "ABX9TyOWWxBCIMHVQFOg75xkUGbO",
      "include_colab_link": true
    },
    "kernelspec": {
      "name": "python3",
      "display_name": "Python 3"
    },
    "language_info": {
      "name": "python"
    }
  },
  "cells": [
    {
      "cell_type": "markdown",
      "metadata": {
        "id": "view-in-github",
        "colab_type": "text"
      },
      "source": [
        "<a href=\"https://colab.research.google.com/github/danielsaggau/IR_LDC/blob/main/data/sent_eval.ipynb\" target=\"_parent\"><img src=\"https://colab.research.google.com/assets/colab-badge.svg\" alt=\"Open In Colab\"/></a>"
      ]
    },
    {
      "cell_type": "code",
      "execution_count": 4,
      "metadata": {
        "colab": {
          "base_uri": "https://localhost:8080/"
        },
        "id": "wJ4z7UzCDgRT",
        "outputId": "1e3e5f1c-d0c1-4e28-f38e-77b9fc0f4b98"
      },
      "outputs": [
        {
          "output_type": "stream",
          "name": "stdout",
          "text": [
            "Cloning into 'SentEval'...\n",
            "remote: Enumerating objects: 691, done.\u001b[K\n",
            "remote: Counting objects: 100% (2/2), done.\u001b[K\n",
            "remote: Compressing objects: 100% (2/2), done.\u001b[K\n",
            "remote: Total 691 (delta 0), reused 2 (delta 0), pack-reused 689\u001b[K\n",
            "Receiving objects: 100% (691/691), 33.25 MiB | 21.12 MiB/s, done.\n",
            "Resolving deltas: 100% (434/434), done.\n"
          ]
        }
      ],
      "source": [
        "!git clone https://github.com/facebookresearch/SentEval.git"
      ]
    },
    {
      "cell_type": "code",
      "source": [
        "%cd /content/SentEval"
      ],
      "metadata": {
        "colab": {
          "base_uri": "https://localhost:8080/"
        },
        "id": "yXhoO-LpESAl",
        "outputId": "3a7b523b-b6e0-41c0-88d8-f6df79a3e62f"
      },
      "execution_count": 8,
      "outputs": [
        {
          "output_type": "stream",
          "name": "stdout",
          "text": [
            "/content/SentEval\n"
          ]
        }
      ]
    },
    {
      "cell_type": "code",
      "source": [
        "!bash /content/SentEval/data/downstream/get_transfer_data.bash"
      ],
      "metadata": {
        "id": "bNvTlNn8Dvk0"
      },
      "execution_count": null,
      "outputs": []
    },
    {
      "cell_type": "code",
      "source": [],
      "metadata": {
        "id": "nXHT0M_MFvgt"
      },
      "execution_count": null,
      "outputs": []
    }
  ]
}
