{
  "nbformat": 4,
  "nbformat_minor": 0,
  "metadata": {
    "colab": {
      "name": "eyecite.ipynb",
      "provenance": [],
      "collapsed_sections": [],
      "authorship_tag": "ABX9TyPQw7Z3qNMKKhFGPp04P3ph",
      "include_colab_link": true
    },
    "kernelspec": {
      "name": "python3",
      "display_name": "Python 3"
    },
    "language_info": {
      "name": "python"
    }
  },
  "cells": [
    {
      "cell_type": "markdown",
      "metadata": {
        "id": "view-in-github",
        "colab_type": "text"
      },
      "source": [
        "<a href=\"https://colab.research.google.com/github/danielsaggau/thesis/blob/main/eyecite.ipynb\" target=\"_parent\"><img src=\"https://colab.research.google.com/assets/colab-badge.svg\" alt=\"Open In Colab\"/></a>"
      ]
    },
    {
      "cell_type": "code",
      "execution_count": null,
      "metadata": {
        "id": "zHmXa9rkbr8M"
      },
      "outputs": [],
      "source": [
        "!pip install eyecite"
      ]
    },
    {
      "cell_type": "code",
      "source": [
        " import eyecite\n",
        "text_from_opinion = \"\"\"Copyright and patents, the Constitution says,\n",
        "    are to “promote the Progress of Science and useful Arts,\n",
        "    by securing for limited Times to Authors and Inventors the\n",
        "    exclusive Right to their respective Writings and Discoveries.”\n",
        "    Art. I, §8, cl. 8. Copyright statutes and case law have made\n",
        "    clear that copyright has practical objectives. It grants an\n",
        "    author an exclusive right to produce his work (sometimes for\n",
        "    a hundred years or more), not as a special reward, but in order\n",
        "    to encourage the production of works that others might reproduce\n",
        "    more cheaply. At the same time, copyright has negative features.\n",
        "    Protection can raise prices to consumers. It can impose special\n",
        "    costs, such as the cost of contacting owners to obtain reproduction\n",
        "    permission. And the exclusive rights it awards can sometimes stand\n",
        "    in the way of others exercising their own creative powers. See\n",
        "    generally Twentieth Century Music Corp. v. Aiken, 422 U. S. 151,\n",
        "    156 (1975); Mazer v. Stein, 347 U. S. 201, 219 (1954).\"\"\""
      ],
      "metadata": {
        "id": "uR1YCcs5dsoj"
      },
      "execution_count": 2,
      "outputs": []
    },
    {
      "cell_type": "code",
      "source": [
        "citations = eyecite.get_citations(text_from_opinion)\n",
        "len(citations)"
      ],
      "metadata": {
        "colab": {
          "base_uri": "https://localhost:8080/"
        },
        "id": "2BhFAycHdz0s",
        "outputId": "bbf73186-b71b-49ed-e02b-38d96e7bd25d"
      },
      "execution_count": 3,
      "outputs": [
        {
          "output_type": "execute_result",
          "data": {
            "text/plain": [
              "3"
            ]
          },
          "metadata": {},
          "execution_count": 3
        }
      ]
    },
    {
      "cell_type": "code",
      "source": [
        "citations"
      ],
      "metadata": {
        "colab": {
          "base_uri": "https://localhost:8080/"
        },
        "id": "cmP5VW38d2jA",
        "outputId": "12c2e600-6c78-41cc-92c0-c3fbef6155db"
      },
      "execution_count": 13,
      "outputs": [
        {
          "output_type": "execute_result",
          "data": {
            "text/plain": [
              "[NonopinionCitation('§8,', metadata=CitationBase.Metadata(parenthetical=None)),\n",
              " FullCaseCitation('422 U. S. 151', groups={'volume': '422', 'reporter': 'U. S.', 'page': '151'}, metadata=FullCaseCitation.Metadata(parenthetical=None, pin_cite=None, year=None, court='scotus', plaintiff='Corp.', defendant='Aiken', extra=None)),\n",
              " FullCaseCitation('347 U. S. 201', groups={'volume': '347', 'reporter': 'U. S.', 'page': '201'}, metadata=FullCaseCitation.Metadata(parenthetical=None, pin_cite='219', year='1954', court='scotus', plaintiff='Mazer', defendant='Stein', extra=None))]"
            ]
          },
          "metadata": {},
          "execution_count": 13
        }
      ]
    },
    {
      "cell_type": "code",
      "source": [
        "facts_section = \"\"\"Google envisioned an Android platform that was free and\n",
        "    open, such that software developers could use the tools\n",
        "    found there free of charge. Its idea was that more and more\n",
        "    developers using its Android platform would develop ever\n",
        "    more Android-based applications, all of which would make\n",
        "    Google’s Android-based smartphones more attractive to ultimate consumers.\n",
        "    Consumers would then buy and use ever\n",
        "    more of those phones. Oracle America, Inc. v. Google Inc.,\n",
        "    872 F. Supp. 2d 974, 978 (ND Cal. 2012); App. 111, 464.\n",
        "    That vision required attracting a sizeable number of skilled\n",
        "    programmers.\n",
        "    At that time, many software developers understood and\n",
        "    wrote programs using the Java programming language, a\n",
        "    language invented by Sun Microsystems (Oracle’s predecessor). 872 F. Supp. 2d, at 975, 977. About six million programmers had spent considerable time learning, and then\n",
        "    using, the Java language. App. 228. Many of those programmers used Sun’s own popular Java SE platform to develop new programs primarily for use in desktop and laptop\n",
        "    computers. Id., at 151–152, 200. That platform allowed\n",
        "    developers using the Java language to write programs that\n",
        "    were able to run on any desktop or laptop computer, regardless of the underlying hardware (i.e., the programs were in\n",
        "    large part “interoperable”). 872 F. Supp. 2d, at 977. Indeed, one of Sun’s slogans was “‘write once, run anywhere.’”\n",
        "    886 F. 3d, at 1186.\"\"\""
      ],
      "metadata": {
        "id": "dq2TgxPUkOBs"
      },
      "execution_count": 18,
      "outputs": []
    },
    {
      "cell_type": "code",
      "source": [
        "clean_facts_section = eyecite.clean_text(facts_section, [\"all_whitespace\"])"
      ],
      "metadata": {
        "id": "RNyOtRX3kxv-"
      },
      "execution_count": 19,
      "outputs": []
    },
    {
      "cell_type": "code",
      "source": [
        "len(facts_section) - len(clean_facts_section)"
      ],
      "metadata": {
        "colab": {
          "base_uri": "https://localhost:8080/"
        },
        "id": "6mYQnIDyk0nx",
        "outputId": "c5ffaa57-99be-44ba-bc4f-4f3daeccf831"
      },
      "execution_count": 20,
      "outputs": [
        {
          "output_type": "execute_result",
          "data": {
            "text/plain": [
              "76"
            ]
          },
          "metadata": {},
          "execution_count": 20
        }
      ]
    },
    {
      "cell_type": "code",
      "source": [
        "facts_section_citations = eyecite.get_citations(clean_facts_section)\n",
        "len(facts_section_citations)"
      ],
      "metadata": {
        "colab": {
          "base_uri": "https://localhost:8080/"
        },
        "id": "q0rqxl3fk6j_",
        "outputId": "c4d57c2e-ca2d-49b3-d47a-b215775d8920"
      },
      "execution_count": 21,
      "outputs": [
        {
          "output_type": "execute_result",
          "data": {
            "text/plain": [
              "5"
            ]
          },
          "metadata": {},
          "execution_count": 21
        }
      ]
    },
    {
      "cell_type": "code",
      "source": [
        "print(facts_section_citations[1])"
      ],
      "metadata": {
        "colab": {
          "base_uri": "https://localhost:8080/"
        },
        "id": "aprXHgIwk_ef",
        "outputId": "634cac0e-ddae-4a42-d05a-7b70c3bcef99"
      },
      "execution_count": 22,
      "outputs": [
        {
          "output_type": "stream",
          "name": "stdout",
          "text": [
            "ShortCaseCitation('872 F. Supp. 2d, at 975', groups={'volume': '872', 'reporter': 'F. Supp. 2d', 'page': '975'}, metadata=ShortCaseCitation.Metadata(parenthetical=None, pin_cite='975, 977', year=None, court=None, antecedent_guess='.'))\n"
          ]
        }
      ]
    },
    {
      "cell_type": "code",
      "source": [
        "facts_section_citations[1].token"
      ],
      "metadata": {
        "colab": {
          "base_uri": "https://localhost:8080/"
        },
        "id": "YgE_Mng3lDaD",
        "outputId": "c3044b6f-95b5-4e5c-d748-6be01a2653f0"
      },
      "execution_count": 23,
      "outputs": [
        {
          "output_type": "execute_result",
          "data": {
            "text/plain": [
              "CitationToken(data='872 F. Supp. 2d, at 975', start=757, end=780, groups={'volume': '872', 'reporter': 'F. Supp. 2d', 'page': '975'}, exact_editions=(Edition(reporter=Reporter(short_name='F. Supp.', name='Federal Supplement', cite_type='federal', source='reporters', is_scotus=False), short_name='F. Supp. 2d', start=datetime.datetime(1988, 1, 1, 0, 0), end=datetime.datetime(2014, 8, 21, 0, 0)),), variation_editions=(), short=True)"
            ]
          },
          "metadata": {},
          "execution_count": 23
        }
      ]
    },
    {
      "cell_type": "code",
      "source": [
        "facts_section_citations[2]"
      ],
      "metadata": {
        "colab": {
          "base_uri": "https://localhost:8080/"
        },
        "id": "vGKryqBIlICW",
        "outputId": "2d9e1306-a647-4eec-d9db-4a85b4762969"
      },
      "execution_count": 25,
      "outputs": [
        {
          "output_type": "execute_result",
          "data": {
            "text/plain": [
              "IdCitation('Id.,', metadata=IdCitation.Metadata(parenthetical=None, pin_cite=None))"
            ]
          },
          "metadata": {},
          "execution_count": 25
        }
      ]
    },
    {
      "cell_type": "code",
      "source": [
        "discussion_text = eyecite.clean_text(text_from_opinion, [\"all_whitespace\"])\n",
        "discussion_citations = eyecite.get_citations(discussion_text)"
      ],
      "metadata": {
        "id": "kI94DN-alUZz"
      },
      "execution_count": 26,
      "outputs": []
    },
    {
      "cell_type": "code",
      "source": [
        "import re\n",
        "from urllib.parse import urlunparse, ParseResult\n",
        "from eyecite.models import CaseCitation"
      ],
      "metadata": {
        "id": "Fv4Eh4kglbXP"
      },
      "execution_count": 27,
      "outputs": []
    },
    {
      "cell_type": "code",
      "source": [
        "def url_from_citation(cite: CaseCitation) -> str:\n",
        "    \"\"\"Make a URL for linking to an opinion on case.law.\"\"\"\n",
        "    reporter_abbreviations = {\n",
        "        'U.S.': \"us\",\n",
        "        \"F. Supp.\": \"f-supp\"\n",
        "    }\n",
        "    reporter = reporter_abbreviations[cite.canonical_reporter]\n",
        "\n",
        "    if cite.pin_cite:\n",
        "        # Assumes that the first number in the pin_cite field is\n",
        "        # the correct HTML fragment identifier for the URL.\n",
        "        page_number = re.search(r'\\d+', cite.pin_cite).group()\n",
        "        fragment = f\"p{page_number}\"\n",
        "    else:\n",
        "        fragment = \"\"\n",
        "\n",
        "    url_parts = ParseResult(\n",
        "        scheme='https',\n",
        "        netloc='cite.case.law',\n",
        "        path=f'/{reporter}/{cite.volume}/{cite.page}/',\n",
        "        params='',\n",
        "        query='',\n",
        "        fragment=fragment)\n",
        "\n",
        "    return urlunparse(url_parts)"
      ],
      "metadata": {
        "id": "rJxHnLL3lelx"
      },
      "execution_count": 29,
      "outputs": []
    },
    {
      "cell_type": "code",
      "source": [
        "def make_annotations(\n",
        "    citations: list[CaseCitation]) -> list[tuple[tuple[int, int], str, str]]:\n",
        "    result = []\n",
        "    for cite in citations:\n",
        "        if isinstance(cite, CaseCitation):\n",
        "            caselaw_url = url_from_citation(cite)\n",
        "            result.append(\n",
        "                (cite.span(),\n",
        "                f'<a href=\"{caselaw_url}\">',\n",
        "                \"</a>\")\n",
        "            )\n",
        "    return result"
      ],
      "metadata": {
        "colab": {
          "base_uri": "https://localhost:8080/",
          "height": 224
        },
        "id": "LkURRrIdl1Tw",
        "outputId": "2a4b3eb4-9a80-427b-c999-6ae68923d1bc"
      },
      "execution_count": 33,
      "outputs": [
        {
          "output_type": "error",
          "ename": "TypeError",
          "evalue": "ignored",
          "traceback": [
            "\u001b[0;31m---------------------------------------------------------------------------\u001b[0m",
            "\u001b[0;31mTypeError\u001b[0m                                 Traceback (most recent call last)",
            "\u001b[0;32m<ipython-input-33-f0d2daa3ada3>\u001b[0m in \u001b[0;36m<module>\u001b[0;34m()\u001b[0m\n\u001b[1;32m      1\u001b[0m def make_annotations(\n\u001b[0;32m----> 2\u001b[0;31m     citations: list[CaseCitation]) -> list[tuple[tuple[int, int], str, str]]:\n\u001b[0m\u001b[1;32m      3\u001b[0m     \u001b[0mresult\u001b[0m \u001b[0;34m=\u001b[0m \u001b[0;34m[\u001b[0m\u001b[0;34m]\u001b[0m\u001b[0;34m\u001b[0m\u001b[0;34m\u001b[0m\u001b[0m\n\u001b[1;32m      4\u001b[0m     \u001b[0;32mfor\u001b[0m \u001b[0mcite\u001b[0m \u001b[0;32min\u001b[0m \u001b[0mcitations\u001b[0m\u001b[0;34m:\u001b[0m\u001b[0;34m\u001b[0m\u001b[0;34m\u001b[0m\u001b[0m\n\u001b[1;32m      5\u001b[0m         \u001b[0;32mif\u001b[0m \u001b[0misinstance\u001b[0m\u001b[0;34m(\u001b[0m\u001b[0mcite\u001b[0m\u001b[0;34m,\u001b[0m \u001b[0mCaseCitation\u001b[0m\u001b[0;34m)\u001b[0m\u001b[0;34m:\u001b[0m\u001b[0;34m\u001b[0m\u001b[0;34m\u001b[0m\u001b[0m\n",
            "\u001b[0;31mTypeError\u001b[0m: 'type' object is not subscriptable"
          ]
        }
      ]
    },
    {
      "cell_type": "code",
      "source": [
        ""
      ],
      "metadata": {
        "id": "DBkcMt_B4ueU"
      },
      "execution_count": null,
      "outputs": []
    },
    {
      "cell_type": "code",
      "source": [
        "url_from_citation(citations[2])"
      ],
      "metadata": {
        "colab": {
          "base_uri": "https://localhost:8080/",
          "height": 274
        },
        "id": "_eaYP3soli3Z",
        "outputId": "cb056a6d-3ee2-4b5a-cefe-3e838e98f43e"
      },
      "execution_count": 31,
      "outputs": [
        {
          "output_type": "error",
          "ename": "AttributeError",
          "evalue": "ignored",
          "traceback": [
            "\u001b[0;31m---------------------------------------------------------------------------\u001b[0m",
            "\u001b[0;31mAttributeError\u001b[0m                            Traceback (most recent call last)",
            "\u001b[0;32m<ipython-input-31-e14780332a25>\u001b[0m in \u001b[0;36m<module>\u001b[0;34m()\u001b[0m\n\u001b[0;32m----> 1\u001b[0;31m \u001b[0murl_from_citation\u001b[0m\u001b[0;34m(\u001b[0m\u001b[0mcitations\u001b[0m\u001b[0;34m[\u001b[0m\u001b[0;36m2\u001b[0m\u001b[0;34m]\u001b[0m\u001b[0;34m)\u001b[0m\u001b[0;34m\u001b[0m\u001b[0;34m\u001b[0m\u001b[0m\n\u001b[0m",
            "\u001b[0;32m<ipython-input-29-70b3d332f23e>\u001b[0m in \u001b[0;36murl_from_citation\u001b[0;34m(cite)\u001b[0m\n\u001b[1;32m      5\u001b[0m         \u001b[0;34m\"F. Supp.\"\u001b[0m\u001b[0;34m:\u001b[0m \u001b[0;34m\"f-supp\"\u001b[0m\u001b[0;34m\u001b[0m\u001b[0;34m\u001b[0m\u001b[0m\n\u001b[1;32m      6\u001b[0m     }\n\u001b[0;32m----> 7\u001b[0;31m     \u001b[0mreporter\u001b[0m \u001b[0;34m=\u001b[0m \u001b[0mreporter_abbreviations\u001b[0m\u001b[0;34m[\u001b[0m\u001b[0mcite\u001b[0m\u001b[0;34m.\u001b[0m\u001b[0mcanonical_reporter\u001b[0m\u001b[0;34m]\u001b[0m\u001b[0;34m\u001b[0m\u001b[0;34m\u001b[0m\u001b[0m\n\u001b[0m\u001b[1;32m      8\u001b[0m \u001b[0;34m\u001b[0m\u001b[0m\n\u001b[1;32m      9\u001b[0m     \u001b[0;32mif\u001b[0m \u001b[0mcite\u001b[0m\u001b[0;34m.\u001b[0m\u001b[0mpin_cite\u001b[0m\u001b[0;34m:\u001b[0m\u001b[0;34m\u001b[0m\u001b[0;34m\u001b[0m\u001b[0m\n",
            "\u001b[0;31mAttributeError\u001b[0m: 'FullCaseCitation' object has no attribute 'canonical_reporter'"
          ]
        }
      ]
    }
  ]
}