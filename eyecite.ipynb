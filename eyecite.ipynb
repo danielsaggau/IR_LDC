{
  "nbformat": 4,
  "nbformat_minor": 0,
  "metadata": {
    "colab": {
      "name": "eyecite.ipynb",
      "provenance": [],
      "collapsed_sections": [],
      "authorship_tag": "ABX9TyPuOkZpr9Vb4NHyEuX78DwC",
      "include_colab_link": true
    },
    "kernelspec": {
      "name": "python3",
      "display_name": "Python 3"
    },
    "language_info": {
      "name": "python"
    }
  },
  "cells": [
    {
      "cell_type": "markdown",
      "metadata": {
        "id": "view-in-github",
        "colab_type": "text"
      },
      "source": [
        "<a href=\"https://colab.research.google.com/github/danielsaggau/thesis/blob/main/eyecite.ipynb\" target=\"_parent\"><img src=\"https://colab.research.google.com/assets/colab-badge.svg\" alt=\"Open In Colab\"/></a>"
      ]
    },
    {
      "cell_type": "code",
      "execution_count": null,
      "metadata": {
        "id": "zHmXa9rkbr8M"
      },
      "outputs": [],
      "source": [
        "!pip install eyecite\n"
      ]
    },
    {
      "cell_type": "code",
      "source": [
        " import eyecite\n",
        "text_from_opinion = \"\"\"Copyright and patents, the Constitution says,\n",
        "    are to “promote the Progress of Science and useful Arts,\n",
        "    by securing for limited Times to Authors and Inventors the\n",
        "    exclusive Right to their respective Writings and Discoveries.”\n",
        "    Art. I, §8, cl. 8. Copyright statutes and case law have made\n",
        "    clear that copyright has practical objectives. It grants an\n",
        "    author an exclusive right to produce his work (sometimes for\n",
        "    a hundred years or more), not as a special reward, but in order\n",
        "    to encourage the production of works that others might reproduce\n",
        "    more cheaply. At the same time, copyright has negative features.\n",
        "    Protection can raise prices to consumers. It can impose special\n",
        "    costs, such as the cost of contacting owners to obtain reproduction\n",
        "    permission. And the exclusive rights it awards can sometimes stand\n",
        "    in the way of others exercising their own creative powers. See\n",
        "    generally Twentieth Century Music Corp. v. Aiken, 422 U. S. 151,\n",
        "    156 (1975); Mazer v. Stein, 347 U. S. 201, 219 (1954).\"\"\""
      ],
      "metadata": {
        "id": "uR1YCcs5dsoj"
      },
      "execution_count": 2,
      "outputs": []
    },
    {
      "cell_type": "code",
      "source": [
        "citations = eyecite.get_citations(text_from_opinion)\n",
        "len(citations)"
      ],
      "metadata": {
        "colab": {
          "base_uri": "https://localhost:8080/"
        },
        "id": "2BhFAycHdz0s",
        "outputId": "bbf73186-b71b-49ed-e02b-38d96e7bd25d"
      },
      "execution_count": 3,
      "outputs": [
        {
          "output_type": "execute_result",
          "data": {
            "text/plain": [
              "3"
            ]
          },
          "metadata": {},
          "execution_count": 3
        }
      ]
    },
    {
      "cell_type": "code",
      "source": [
        "citations[1]"
      ],
      "metadata": {
        "colab": {
          "base_uri": "https://localhost:8080/"
        },
        "id": "cmP5VW38d2jA",
        "outputId": "363dee47-0657-49d3-9376-b13e6850fb05"
      },
      "execution_count": 5,
      "outputs": [
        {
          "output_type": "execute_result",
          "data": {
            "text/plain": [
              "FullCaseCitation('422 U. S. 151', groups={'volume': '422', 'reporter': 'U. S.', 'page': '151'}, metadata=FullCaseCitation.Metadata(parenthetical=None, pin_cite=None, year=None, court='scotus', plaintiff='Corp.', defendant='Aiken', extra=None))"
            ]
          },
          "metadata": {},
          "execution_count": 5
        }
      ]
    }
  ]
}